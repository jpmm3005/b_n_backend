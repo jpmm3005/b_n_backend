{
 "cells": [
  {
   "cell_type": "markdown",
   "id": "d0ac74ac",
   "metadata": {},
   "source": [
    "## Installation of packages required for visualization"
   ]
  },
  {
   "cell_type": "code",
   "execution_count": 3,
   "id": "f74b832c",
   "metadata": {},
   "outputs": [],
   "source": [
    "import numpy as np\n",
    "import matplotlib.pyplot as plt\n",
    "import plotly.graph_objects as go\n"
   ]
  },
  {
   "cell_type": "markdown",
   "id": "b4c8f173",
   "metadata": {},
   "source": [
    "Display transformation"
   ]
  },
  {
   "cell_type": "code",
   "execution_count": 30,
   "id": "3ae25e5a",
   "metadata": {},
   "outputs": [
    {
     "data": {
      "application/vnd.plotly.v1+json": {
       "config": {
        "plotlyServerURL": "https://plot.ly"
       },
       "data": [
        {
         "marker": {
          "color": "red",
          "size": 5
         },
         "mode": "markers",
         "name": "Grid",
         "type": "scatter",
         "x": {
          "bdata": "AAAAAAAA8L8AAAAAAADwvwAAAAAAAPC/AAAAAAAA8L8AAAAAAADwvwAAAAAAAPC/AAAAAAAA8L8AAAAAAADwvwAAAAAAAPC/AAAAAAAA8L85juM4juPovzmO4ziO4+i/OY7jOI7j6L85juM4juPovzmO4ziO4+i/OY7jOI7j6L85juM4juPovzmO4ziO4+i/OY7jOI7j6L85juM4juPov3Icx3Ecx+G/chzHcRzH4b9yHMdxHMfhv3Icx3Ecx+G/chzHcRzH4b9yHMdxHMfhv3Icx3Ecx+G/chzHcRzH4b9yHMdxHMfhv3Icx3Ecx+G/VlVVVVVV1b9WVVVVVVXVv1ZVVVVVVdW/VlVVVVVV1b9WVVVVVVXVv1ZVVVVVVdW/VlVVVVVV1b9WVVVVVVXVv1ZVVVVVVdW/VlVVVVVV1b8gx3Ecx3G8vyDHcRzHcby/IMdxHMdxvL8gx3Ecx3G8vyDHcRzHcby/IMdxHMdxvL8gx3Ecx3G8vyDHcRzHcby/IMdxHMdxvL8gx3Ecx3G8vyDHcRzHcbw/IMdxHMdxvD8gx3Ecx3G8PyDHcRzHcbw/IMdxHMdxvD8gx3Ecx3G8PyDHcRzHcbw/IMdxHMdxvD8gx3Ecx3G8PyDHcRzHcbw/VFVVVVVV1T9UVVVVVVXVP1RVVVVVVdU/VFVVVVVV1T9UVVVVVVXVP1RVVVVVVdU/VFVVVVVV1T9UVVVVVVXVP1RVVVVVVdU/VFVVVVVV1T9wHMdxHMfhP3Acx3Ecx+E/cBzHcRzH4T9wHMdxHMfhP3Acx3Ecx+E/cBzHcRzH4T9wHMdxHMfhP3Acx3Ecx+E/cBzHcRzH4T9wHMdxHMfhPziO4ziO4+g/OI7jOI7j6D84juM4juPoPziO4ziO4+g/OI7jOI7j6D84juM4juPoPziO4ziO4+g/OI7jOI7j6D84juM4juPoPziO4ziO4+g/AAAAAAAA8D8AAAAAAADwPwAAAAAAAPA/AAAAAAAA8D8AAAAAAADwPwAAAAAAAPA/AAAAAAAA8D8AAAAAAADwPwAAAAAAAPA/AAAAAAAA8D8=",
          "dtype": "f8"
         },
         "y": {
          "bdata": "AAAAAAAA8L85juM4juPov3Icx3Ecx+G/VlVVVVVV1b8gx3Ecx3G8vyDHcRzHcbw/VFVVVVVV1T9wHMdxHMfhPziO4ziO4+g/AAAAAAAA8D8AAAAAAADwvzmO4ziO4+i/chzHcRzH4b9WVVVVVVXVvyDHcRzHcby/IMdxHMdxvD9UVVVVVVXVP3Acx3Ecx+E/OI7jOI7j6D8AAAAAAADwPwAAAAAAAPC/OY7jOI7j6L9yHMdxHMfhv1ZVVVVVVdW/IMdxHMdxvL8gx3Ecx3G8P1RVVVVVVdU/cBzHcRzH4T84juM4juPoPwAAAAAAAPA/AAAAAAAA8L85juM4juPov3Icx3Ecx+G/VlVVVVVV1b8gx3Ecx3G8vyDHcRzHcbw/VFVVVVVV1T9wHMdxHMfhPziO4ziO4+g/AAAAAAAA8D8AAAAAAADwvzmO4ziO4+i/chzHcRzH4b9WVVVVVVXVvyDHcRzHcby/IMdxHMdxvD9UVVVVVVXVP3Acx3Ecx+E/OI7jOI7j6D8AAAAAAADwPwAAAAAAAPC/OY7jOI7j6L9yHMdxHMfhv1ZVVVVVVdW/IMdxHMdxvL8gx3Ecx3G8P1RVVVVVVdU/cBzHcRzH4T84juM4juPoPwAAAAAAAPA/AAAAAAAA8L85juM4juPov3Icx3Ecx+G/VlVVVVVV1b8gx3Ecx3G8vyDHcRzHcbw/VFVVVVVV1T9wHMdxHMfhPziO4ziO4+g/AAAAAAAA8D8AAAAAAADwvzmO4ziO4+i/chzHcRzH4b9WVVVVVVXVvyDHcRzHcby/IMdxHMdxvD9UVVVVVVXVP3Acx3Ecx+E/OI7jOI7j6D8AAAAAAADwPwAAAAAAAPC/OY7jOI7j6L9yHMdxHMfhv1ZVVVVVVdW/IMdxHMdxvL8gx3Ecx3G8P1RVVVVVVdU/cBzHcRzH4T84juM4juPoPwAAAAAAAPA/AAAAAAAA8L85juM4juPov3Icx3Ecx+G/VlVVVVVV1b8gx3Ecx3G8vyDHcRzHcbw/VFVVVVVV1T9wHMdxHMfhPziO4ziO4+g/AAAAAAAA8D8=",
          "dtype": "f8"
         }
        },
        {
         "line": {
          "color": "blue",
          "width": 4
         },
         "marker": {
          "size": 6
         },
         "mode": "lines+markers",
         "name": "Vector",
         "type": "scatter",
         "x": [
          0,
          1
         ],
         "y": [
          0,
          1
         ]
        },
        {
         "line": {
          "color": "black",
          "dash": "dash",
          "width": 3
         },
         "marker": {
          "size": 6
         },
         "mode": "lines+markers",
         "name": "X basis (initial)",
         "type": "scatter",
         "x": [
          0,
          1
         ],
         "y": [
          0,
          0
         ]
        },
        {
         "line": {
          "color": "black",
          "dash": "dash",
          "width": 3
         },
         "marker": {
          "size": 6
         },
         "mode": "lines+markers",
         "name": "Y basis (initial)",
         "type": "scatter",
         "x": [
          0,
          0
         ],
         "y": [
          0,
          1
         ]
        },
        {
         "line": {
          "color": "purple",
          "width": 3
         },
         "marker": {
          "size": 6
         },
         "mode": "lines+markers",
         "name": "Solution",
         "type": "scatter",
         "x": [
          0,
          1
         ],
         "y": [
          0,
          -1
         ]
        }
       ],
       "frames": [
        {
         "data": [
          {
           "marker": {
            "color": "red",
            "size": 5
           },
           "mode": "markers",
           "name": "Grid",
           "type": "scatter",
           "x": {
            "bdata": "AAAAAAAA8L8AAAAAAADwvwAAAAAAAPC/AAAAAAAA8L8AAAAAAADwvwAAAAAAAPC/AAAAAAAA8L8AAAAAAADwvwAAAAAAAPC/AAAAAAAA8L85juM4juPovzmO4ziO4+i/OY7jOI7j6L85juM4juPovzmO4ziO4+i/OY7jOI7j6L85juM4juPovzmO4ziO4+i/OY7jOI7j6L85juM4juPov3Icx3Ecx+G/chzHcRzH4b9yHMdxHMfhv3Icx3Ecx+G/chzHcRzH4b9yHMdxHMfhv3Icx3Ecx+G/chzHcRzH4b9yHMdxHMfhv3Icx3Ecx+G/VlVVVVVV1b9WVVVVVVXVv1ZVVVVVVdW/VlVVVVVV1b9WVVVVVVXVv1ZVVVVVVdW/VlVVVVVV1b9WVVVVVVXVv1ZVVVVVVdW/VlVVVVVV1b8gx3Ecx3G8vyDHcRzHcby/IMdxHMdxvL8gx3Ecx3G8vyDHcRzHcby/IMdxHMdxvL8gx3Ecx3G8vyDHcRzHcby/IMdxHMdxvL8gx3Ecx3G8vyDHcRzHcbw/IMdxHMdxvD8gx3Ecx3G8PyDHcRzHcbw/IMdxHMdxvD8gx3Ecx3G8PyDHcRzHcbw/IMdxHMdxvD8gx3Ecx3G8PyDHcRzHcbw/VFVVVVVV1T9UVVVVVVXVP1RVVVVVVdU/VFVVVVVV1T9UVVVVVVXVP1RVVVVVVdU/VFVVVVVV1T9UVVVVVVXVP1RVVVVVVdU/VFVVVVVV1T9wHMdxHMfhP3Acx3Ecx+E/cBzHcRzH4T9wHMdxHMfhP3Acx3Ecx+E/cBzHcRzH4T9wHMdxHMfhP3Acx3Ecx+E/cBzHcRzH4T9wHMdxHMfhPziO4ziO4+g/OI7jOI7j6D84juM4juPoPziO4ziO4+g/OI7jOI7j6D84juM4juPoPziO4ziO4+g/OI7jOI7j6D84juM4juPoPziO4ziO4+g/AAAAAAAA8D8AAAAAAADwPwAAAAAAAPA/AAAAAAAA8D8AAAAAAADwPwAAAAAAAPA/AAAAAAAA8D8AAAAAAADwPwAAAAAAAPA/AAAAAAAA8D8=",
            "dtype": "f8"
           },
           "y": {
            "bdata": "AAAAAAAA8L85juM4juPov3Icx3Ecx+G/VlVVVVVV1b8gx3Ecx3G8vyDHcRzHcbw/VFVVVVVV1T9wHMdxHMfhPziO4ziO4+g/AAAAAAAA8D8AAAAAAADwvzmO4ziO4+i/chzHcRzH4b9WVVVVVVXVvyDHcRzHcby/IMdxHMdxvD9UVVVVVVXVP3Acx3Ecx+E/OI7jOI7j6D8AAAAAAADwPwAAAAAAAPC/OY7jOI7j6L9yHMdxHMfhv1ZVVVVVVdW/IMdxHMdxvL8gx3Ecx3G8P1RVVVVVVdU/cBzHcRzH4T84juM4juPoPwAAAAAAAPA/AAAAAAAA8L85juM4juPov3Icx3Ecx+G/VlVVVVVV1b8gx3Ecx3G8vyDHcRzHcbw/VFVVVVVV1T9wHMdxHMfhPziO4ziO4+g/AAAAAAAA8D8AAAAAAADwvzmO4ziO4+i/chzHcRzH4b9WVVVVVVXVvyDHcRzHcby/IMdxHMdxvD9UVVVVVVXVP3Acx3Ecx+E/OI7jOI7j6D8AAAAAAADwPwAAAAAAAPC/OY7jOI7j6L9yHMdxHMfhv1ZVVVVVVdW/IMdxHMdxvL8gx3Ecx3G8P1RVVVVVVdU/cBzHcRzH4T84juM4juPoPwAAAAAAAPA/AAAAAAAA8L85juM4juPov3Icx3Ecx+G/VlVVVVVV1b8gx3Ecx3G8vyDHcRzHcbw/VFVVVVVV1T9wHMdxHMfhPziO4ziO4+g/AAAAAAAA8D8AAAAAAADwvzmO4ziO4+i/chzHcRzH4b9WVVVVVVXVvyDHcRzHcby/IMdxHMdxvD9UVVVVVVXVP3Acx3Ecx+E/OI7jOI7j6D8AAAAAAADwPwAAAAAAAPC/OY7jOI7j6L9yHMdxHMfhv1ZVVVVVVdW/IMdxHMdxvL8gx3Ecx3G8P1RVVVVVVdU/cBzHcRzH4T84juM4juPoPwAAAAAAAPA/AAAAAAAA8L85juM4juPov3Icx3Ecx+G/VlVVVVVV1b8gx3Ecx3G8vyDHcRzHcbw/VFVVVVVV1T9wHMdxHMfhPziO4ziO4+g/AAAAAAAA8D8=",
            "dtype": "f8"
           }
          },
          {
           "line": {
            "color": "blue",
            "width": 4
           },
           "marker": {
            "size": 6
           },
           "mode": "lines+markers",
           "name": "Vector",
           "type": "scatter",
           "x": [
            0,
            1
           ],
           "y": [
            0,
            1
           ]
          },
          {
           "line": {
            "color": "black",
            "width": 3
           },
           "marker": {
            "size": 6
           },
           "mode": "lines+markers",
           "name": "X basis (transformed)",
           "type": "scatter",
           "x": [
            0,
            1
           ],
           "y": [
            0,
            0
           ]
          },
          {
           "line": {
            "color": "black",
            "width": 3
           },
           "marker": {
            "size": 6
           },
           "mode": "lines+markers",
           "name": "Y basis (transformed)",
           "type": "scatter",
           "x": [
            0,
            0
           ],
           "y": [
            0,
            1
           ]
          }
         ],
         "name": "frame0.00"
        },
        {
         "data": [
          {
           "marker": {
            "color": "red",
            "size": 5
           },
           "mode": "markers",
           "name": "Grid",
           "type": "scatter",
           "x": {
            "bdata": "AAAAAAAA8L8AAAAAAADwvwAAAAAAAPC/AAAAAAAA8L8AAAAAAADwvwAAAAAAAPC/AAAAAAAA8L8AAAAAAADwvwAAAAAAAPC/AAAAAAAA8L85juM4juPovzmO4ziO4+i/OY7jOI7j6L85juM4juPovzmO4ziO4+i/OY7jOI7j6L85juM4juPovzmO4ziO4+i/OY7jOI7j6L85juM4juPov3Icx3Ecx+G/chzHcRzH4b9yHMdxHMfhv3Icx3Ecx+G/chzHcRzH4b9yHMdxHMfhv3Icx3Ecx+G/chzHcRzH4b9yHMdxHMfhv3Icx3Ecx+G/VlVVVVVV1b9WVVVVVVXVv1ZVVVVVVdW/VlVVVVVV1b9WVVVVVVXVv1ZVVVVVVdW/VlVVVVVV1b9WVVVVVVXVv1ZVVVVVVdW/VlVVVVVV1b8gx3Ecx3G8vyDHcRzHcby/IMdxHMdxvL8gx3Ecx3G8vyDHcRzHcby/IMdxHMdxvL8gx3Ecx3G8vyDHcRzHcby/IMdxHMdxvL8gx3Ecx3G8vyDHcRzHcbw/IMdxHMdxvD8gx3Ecx3G8PyDHcRzHcbw/IMdxHMdxvD8gx3Ecx3G8PyDHcRzHcbw/IMdxHMdxvD8gx3Ecx3G8PyDHcRzHcbw/VFVVVVVV1T9UVVVVVVXVP1RVVVVVVdU/VFVVVVVV1T9UVVVVVVXVP1RVVVVVVdU/VFVVVVVV1T9UVVVVVVXVP1RVVVVVVdU/VFVVVVVV1T9wHMdxHMfhP3Acx3Ecx+E/cBzHcRzH4T9wHMdxHMfhP3Acx3Ecx+E/cBzHcRzH4T9wHMdxHMfhP3Acx3Ecx+E/cBzHcRzH4T9wHMdxHMfhPziO4ziO4+g/OI7jOI7j6D84juM4juPoPziO4ziO4+g/OI7jOI7j6D84juM4juPoPziO4ziO4+g/OI7jOI7j6D84juM4juPoPziO4ziO4+g/AAAAAAAA8D8AAAAAAADwPwAAAAAAAPA/AAAAAAAA8D8AAAAAAADwPwAAAAAAAPA/AAAAAAAA8D8AAAAAAADwPwAAAAAAAPA/AAAAAAAA8D8=",
            "dtype": "f8"
           },
           "y": {
            "bdata": "jrDc0wjL7b82wnJPIyznv93TCMs9jeC/Css9jbDc079luacRlnu6v2W5pxGWe7o/CMs9jbDc0z/b0wjLPY3gPzXCck8jLOc/jrDc0wjL7T+OsNzTCMvtvzbCck8jLOe/3dMIyz2N4L8Kyz2NsNzTv2W5pxGWe7q/ZbmnEZZ7uj8Iyz2NsNzTP9vTCMs9jeA/NcJyTyMs5z+OsNzTCMvtP46w3NMIy+2/NsJyTyMs57/d0wjLPY3gvwrLPY2w3NO/ZbmnEZZ7ur9luacRlnu6PwjLPY2w3NM/29MIyz2N4D81wnJPIyznP46w3NMIy+0/jrDc0wjL7b82wnJPIyznv93TCMs9jeC/Css9jbDc079luacRlnu6v2W5pxGWe7o/CMs9jbDc0z/b0wjLPY3gPzXCck8jLOc/jrDc0wjL7T+OsNzTCMvtvzbCck8jLOe/3dMIyz2N4L8Kyz2NsNzTv2W5pxGWe7q/ZbmnEZZ7uj8Iyz2NsNzTP9vTCMs9jeA/NcJyTyMs5z+OsNzTCMvtP46w3NMIy+2/NsJyTyMs57/d0wjLPY3gvwrLPY2w3NO/ZbmnEZZ7ur9luacRlnu6PwjLPY2w3NM/29MIyz2N4D81wnJPIyznP46w3NMIy+0/jrDc0wjL7b82wnJPIyznv93TCMs9jeC/Css9jbDc079luacRlnu6v2W5pxGWe7o/CMs9jbDc0z/b0wjLPY3gPzXCck8jLOc/jrDc0wjL7T+OsNzTCMvtvzbCck8jLOe/3dMIyz2N4L8Kyz2NsNzTv2W5pxGWe7q/ZbmnEZZ7uj8Iyz2NsNzTP9vTCMs9jeA/NcJyTyMs5z+OsNzTCMvtP46w3NMIy+2/NsJyTyMs57/d0wjLPY3gvwrLPY2w3NO/ZbmnEZZ7ur9luacRlnu6PwjLPY2w3NM/29MIyz2N4D81wnJPIyznP46w3NMIy+0/jrDc0wjL7b82wnJPIyznv93TCMs9jeC/Css9jbDc079luacRlnu6v2W5pxGWe7o/CMs9jbDc0z/b0wjLPY3gPzXCck8jLOc/jrDc0wjL7T8=",
            "dtype": "f8"
           }
          },
          {
           "line": {
            "color": "blue",
            "width": 4
           },
           "marker": {
            "size": 6
           },
           "mode": "lines+markers",
           "name": "Vector",
           "type": "scatter",
           "x": [
            0,
            1
           ],
           "y": [
            0,
            0.9310344827586208
           ]
          },
          {
           "line": {
            "color": "black",
            "width": 3
           },
           "marker": {
            "size": 6
           },
           "mode": "lines+markers",
           "name": "X basis (transformed)",
           "type": "scatter",
           "x": [
            0,
            1
           ],
           "y": [
            0,
            0
           ]
          },
          {
           "line": {
            "color": "black",
            "width": 3
           },
           "marker": {
            "size": 6
           },
           "mode": "lines+markers",
           "name": "Y basis (transformed)",
           "type": "scatter",
           "x": [
            0,
            0
           ],
           "y": [
            0,
            0.9310344827586208
           ]
          }
         ],
         "name": "frame0.03"
        },
        {
         "data": [
          {
           "marker": {
            "color": "red",
            "size": 5
           },
           "mode": "markers",
           "name": "Grid",
           "type": "scatter",
           "x": {
            "bdata": "AAAAAAAA8L8AAAAAAADwvwAAAAAAAPC/AAAAAAAA8L8AAAAAAADwvwAAAAAAAPC/AAAAAAAA8L8AAAAAAADwvwAAAAAAAPC/AAAAAAAA8L85juM4juPovzmO4ziO4+i/OY7jOI7j6L85juM4juPovzmO4ziO4+i/OY7jOI7j6L85juM4juPovzmO4ziO4+i/OY7jOI7j6L85juM4juPov3Icx3Ecx+G/chzHcRzH4b9yHMdxHMfhv3Icx3Ecx+G/chzHcRzH4b9yHMdxHMfhv3Icx3Ecx+G/chzHcRzH4b9yHMdxHMfhv3Icx3Ecx+G/VlVVVVVV1b9WVVVVVVXVv1ZVVVVVVdW/VlVVVVVV1b9WVVVVVVXVv1ZVVVVVVdW/VlVVVVVV1b9WVVVVVVXVv1ZVVVVVVdW/VlVVVVVV1b8gx3Ecx3G8vyDHcRzHcby/IMdxHMdxvL8gx3Ecx3G8vyDHcRzHcby/IMdxHMdxvL8gx3Ecx3G8vyDHcRzHcby/IMdxHMdxvL8gx3Ecx3G8vyDHcRzHcbw/IMdxHMdxvD8gx3Ecx3G8PyDHcRzHcbw/IMdxHMdxvD8gx3Ecx3G8PyDHcRzHcbw/IMdxHMdxvD8gx3Ecx3G8PyDHcRzHcbw/VFVVVVVV1T9UVVVVVVXVP1RVVVVVVdU/VFVVVVVV1T9UVVVVVVXVP1RVVVVVVdU/VFVVVVVV1T9UVVVVVVXVP1RVVVVVVdU/VFVVVVVV1T9wHMdxHMfhP3Acx3Ecx+E/cBzHcRzH4T9wHMdxHMfhP3Acx3Ecx+E/cBzHcRzH4T9wHMdxHMfhP3Acx3Ecx+E/cBzHcRzH4T9wHMdxHMfhPziO4ziO4+g/OI7jOI7j6D84juM4juPoPziO4ziO4+g/OI7jOI7j6D84juM4juPoPziO4ziO4+g/OI7jOI7j6D84juM4juPoPziO4ziO4+g/AAAAAAAA8D8AAAAAAADwPwAAAAAAAPA/AAAAAAAA8D8AAAAAAADwPwAAAAAAAPA/AAAAAAAA8D8AAAAAAADwPwAAAAAAAPA/AAAAAAAA8D8=",
            "dtype": "f8"
           },
           "y": {
            "bdata": "GmG5pxGW678x9gFmuHTlv48WlUi+pt6/vUAmxQtk0r+oq90GZYW4v6ir3QZlhbg/u0AmxQtk0j+MFpVIvqbePzD2AWa4dOU/GmG5pxGW6z8aYbmnEZbrvzH2AWa4dOW/jxaVSL6m3r+9QCbFC2TSv6ir3QZlhbi/qKvdBmWFuD+7QCbFC2TSP4wWlUi+pt4/MPYBZrh05T8aYbmnEZbrPxphuacRluu/MfYBZrh05b+PFpVIvqbev71AJsULZNK/qKvdBmWFuL+oq90GZYW4P7tAJsULZNI/jBaVSL6m3j8w9gFmuHTlPxphuacRlus/GmG5pxGW678x9gFmuHTlv48WlUi+pt6/vUAmxQtk0r+oq90GZYW4v6ir3QZlhbg/u0AmxQtk0j+MFpVIvqbePzD2AWa4dOU/GmG5pxGW6z8aYbmnEZbrvzH2AWa4dOW/jxaVSL6m3r+9QCbFC2TSv6ir3QZlhbi/qKvdBmWFuD+7QCbFC2TSP4wWlUi+pt4/MPYBZrh05T8aYbmnEZbrPxphuacRluu/MfYBZrh05b+PFpVIvqbev71AJsULZNK/qKvdBmWFuL+oq90GZYW4P7tAJsULZNI/jBaVSL6m3j8w9gFmuHTlPxphuacRlus/GmG5pxGW678x9gFmuHTlv48WlUi+pt6/vUAmxQtk0r+oq90GZYW4v6ir3QZlhbg/u0AmxQtk0j+MFpVIvqbePzD2AWa4dOU/GmG5pxGW6z8aYbmnEZbrvzH2AWa4dOW/jxaVSL6m3r+9QCbFC2TSv6ir3QZlhbi/qKvdBmWFuD+7QCbFC2TSP4wWlUi+pt4/MPYBZrh05T8aYbmnEZbrPxphuacRluu/MfYBZrh05b+PFpVIvqbev71AJsULZNK/qKvdBmWFuL+oq90GZYW4P7tAJsULZNI/jBaVSL6m3j8w9gFmuHTlPxphuacRlus/GmG5pxGW678x9gFmuHTlv48WlUi+pt6/vUAmxQtk0r+oq90GZYW4v6ir3QZlhbg/u0AmxQtk0j+MFpVIvqbePzD2AWa4dOU/GmG5pxGW6z8=",
            "dtype": "f8"
           }
          },
          {
           "line": {
            "color": "blue",
            "width": 4
           },
           "marker": {
            "size": 6
           },
           "mode": "lines+markers",
           "name": "Vector",
           "type": "scatter",
           "x": [
            0,
            1
           ],
           "y": [
            0,
            0.8620689655172413
           ]
          },
          {
           "line": {
            "color": "black",
            "width": 3
           },
           "marker": {
            "size": 6
           },
           "mode": "lines+markers",
           "name": "X basis (transformed)",
           "type": "scatter",
           "x": [
            0,
            1
           ],
           "y": [
            0,
            0
           ]
          },
          {
           "line": {
            "color": "black",
            "width": 3
           },
           "marker": {
            "size": 6
           },
           "mode": "lines+markers",
           "name": "Y basis (transformed)",
           "type": "scatter",
           "x": [
            0,
            0
           ],
           "y": [
            0,
            0.8620689655172413
           ]
          }
         ],
         "name": "frame0.07"
        },
        {
         "data": [
          {
           "marker": {
            "color": "red",
            "size": 5
           },
           "mode": "markers",
           "name": "Grid",
           "type": "scatter",
           "x": {
            "bdata": "AAAAAAAA8L8AAAAAAADwvwAAAAAAAPC/AAAAAAAA8L8AAAAAAADwvwAAAAAAAPC/AAAAAAAA8L8AAAAAAADwvwAAAAAAAPC/AAAAAAAA8L85juM4juPovzmO4ziO4+i/OY7jOI7j6L85juM4juPovzmO4ziO4+i/OY7jOI7j6L85juM4juPovzmO4ziO4+i/OY7jOI7j6L85juM4juPov3Icx3Ecx+G/chzHcRzH4b9yHMdxHMfhv3Icx3Ecx+G/chzHcRzH4b9yHMdxHMfhv3Icx3Ecx+G/chzHcRzH4b9yHMdxHMfhv3Icx3Ecx+G/VlVVVVVV1b9WVVVVVVXVv1ZVVVVVVdW/VlVVVVVV1b9WVVVVVVXVv1ZVVVVVVdW/VlVVVVVV1b9WVVVVVVXVv1ZVVVVVVdW/VlVVVVVV1b8gx3Ecx3G8vyDHcRzHcby/IMdxHMdxvL8gx3Ecx3G8vyDHcRzHcby/IMdxHMdxvL8gx3Ecx3G8vyDHcRzHcby/IMdxHMdxvL8gx3Ecx3G8vyDHcRzHcbw/IMdxHMdxvD8gx3Ecx3G8PyDHcRzHcbw/IMdxHMdxvD8gx3Ecx3G8PyDHcRzHcbw/IMdxHMdxvD8gx3Ecx3G8PyDHcRzHcbw/VFVVVVVV1T9UVVVVVVXVP1RVVVVVVdU/VFVVVVVV1T9UVVVVVVXVP1RVVVVVVdU/VFVVVVVV1T9UVVVVVVXVP1RVVVVVVdU/VFVVVVVV1T9wHMdxHMfhP3Acx3Ecx+E/cBzHcRzH4T9wHMdxHMfhP3Acx3Ecx+E/cBzHcRzH4T9wHMdxHMfhP3Acx3Ecx+E/cBzHcRzH4T9wHMdxHMfhPziO4ziO4+g/OI7jOI7j6D84juM4juPoPziO4ziO4+g/OI7jOI7j6D84juM4juPoPziO4ziO4+g/OI7jOI7j6D84juM4juPoPziO4ziO4+g/AAAAAAAA8D8AAAAAAADwPwAAAAAAAPA/AAAAAAAA8D8AAAAAAADwPwAAAAAAAPA/AAAAAAAA8D8AAAAAAADwPwAAAAAAAPA/AAAAAAAA8D8=",
            "dtype": "f8"
           },
           "y": {
            "bdata": "qBGWexph6b8tKpF8Tb3jv2aFGPsAM9y/cbYO/Wbr0L/tnRP8M4+2v+2dE/wzj7Y/b7YO/Wbr0D9jhRj7ADPcPy0qkXxNveM/qBGWexph6T+oEZZ7GmHpvy0qkXxNveO/ZoUY+wAz3L9xtg79ZuvQv+2dE/wzj7a/7Z0T/DOPtj9vtg79ZuvQP2OFGPsAM9w/LSqRfE294z+oEZZ7GmHpP6gRlnsaYem/LSqRfE29479mhRj7ADPcv3G2Dv1m69C/7Z0T/DOPtr/tnRP8M4+2P2+2Dv1m69A/Y4UY+wAz3D8tKpF8Tb3jP6gRlnsaYek/qBGWexph6b8tKpF8Tb3jv2aFGPsAM9y/cbYO/Wbr0L/tnRP8M4+2v+2dE/wzj7Y/b7YO/Wbr0D9jhRj7ADPcPy0qkXxNveM/qBGWexph6T+oEZZ7GmHpvy0qkXxNveO/ZoUY+wAz3L9xtg79ZuvQv+2dE/wzj7a/7Z0T/DOPtj9vtg79ZuvQP2OFGPsAM9w/LSqRfE294z+oEZZ7GmHpP6gRlnsaYem/LSqRfE29479mhRj7ADPcv3G2Dv1m69C/7Z0T/DOPtr/tnRP8M4+2P2+2Dv1m69A/Y4UY+wAz3D8tKpF8Tb3jP6gRlnsaYek/qBGWexph6b8tKpF8Tb3jv2aFGPsAM9y/cbYO/Wbr0L/tnRP8M4+2v+2dE/wzj7Y/b7YO/Wbr0D9jhRj7ADPcPy0qkXxNveM/qBGWexph6T+oEZZ7GmHpvy0qkXxNveO/ZoUY+wAz3L9xtg79ZuvQv+2dE/wzj7a/7Z0T/DOPtj9vtg79ZuvQP2OFGPsAM9w/LSqRfE294z+oEZZ7GmHpP6gRlnsaYem/LSqRfE29479mhRj7ADPcv3G2Dv1m69C/7Z0T/DOPtr/tnRP8M4+2P2+2Dv1m69A/Y4UY+wAz3D8tKpF8Tb3jP6gRlnsaYek/qBGWexph6b8tKpF8Tb3jv2aFGPsAM9y/cbYO/Wbr0L/tnRP8M4+2v+2dE/wzj7Y/b7YO/Wbr0D9jhRj7ADPcPy0qkXxNveM/qBGWexph6T8=",
            "dtype": "f8"
           }
          },
          {
           "line": {
            "color": "blue",
            "width": 4
           },
           "marker": {
            "size": 6
           },
           "mode": "lines+markers",
           "name": "Vector",
           "type": "scatter",
           "x": [
            0,
            1
           ],
           "y": [
            0,
            0.7931034482758621
           ]
          },
          {
           "line": {
            "color": "black",
            "width": 3
           },
           "marker": {
            "size": 6
           },
           "mode": "lines+markers",
           "name": "X basis (transformed)",
           "type": "scatter",
           "x": [
            0,
            1
           ],
           "y": [
            0,
            0
           ]
          },
          {
           "line": {
            "color": "black",
            "width": 3
           },
           "marker": {
            "size": 6
           },
           "mode": "lines+markers",
           "name": "Y basis (transformed)",
           "type": "scatter",
           "x": [
            0,
            0
           ],
           "y": [
            0,
            0.7931034482758621
           ]
          }
         ],
         "name": "frame0.10"
        },
        {
         "data": [
          {
           "marker": {
            "color": "red",
            "size": 5
           },
           "mode": "markers",
           "name": "Grid",
           "type": "scatter",
           "x": {
            "bdata": "AAAAAAAA8L8AAAAAAADwvwAAAAAAAPC/AAAAAAAA8L8AAAAAAADwvwAAAAAAAPC/AAAAAAAA8L8AAAAAAADwvwAAAAAAAPC/AAAAAAAA8L85juM4juPovzmO4ziO4+i/OY7jOI7j6L85juM4juPovzmO4ziO4+i/OY7jOI7j6L85juM4juPovzmO4ziO4+i/OY7jOI7j6L85juM4juPov3Icx3Ecx+G/chzHcRzH4b9yHMdxHMfhv3Icx3Ecx+G/chzHcRzH4b9yHMdxHMfhv3Icx3Ecx+G/chzHcRzH4b9yHMdxHMfhv3Icx3Ecx+G/VlVVVVVV1b9WVVVVVVXVv1ZVVVVVVdW/VlVVVVVV1b9WVVVVVVXVv1ZVVVVVVdW/VlVVVVVV1b9WVVVVVVXVv1ZVVVVVVdW/VlVVVVVV1b8gx3Ecx3G8vyDHcRzHcby/IMdxHMdxvL8gx3Ecx3G8vyDHcRzHcby/IMdxHMdxvL8gx3Ecx3G8vyDHcRzHcby/IMdxHMdxvL8gx3Ecx3G8vyDHcRzHcbw/IMdxHMdxvD8gx3Ecx3G8PyDHcRzHcbw/IMdxHMdxvD8gx3Ecx3G8PyDHcRzHcbw/IMdxHMdxvD8gx3Ecx3G8PyDHcRzHcbw/VFVVVVVV1T9UVVVVVVXVP1RVVVVVVdU/VFVVVVVV1T9UVVVVVVXVP1RVVVVVVdU/VFVVVVVV1T9UVVVVVVXVP1RVVVVVVdU/VFVVVVVV1T9wHMdxHMfhP3Acx3Ecx+E/cBzHcRzH4T9wHMdxHMfhP3Acx3Ecx+E/cBzHcRzH4T9wHMdxHMfhP3Acx3Ecx+E/cBzHcRzH4T9wHMdxHMfhPziO4ziO4+g/OI7jOI7j6D84juM4juPoPziO4ziO4+g/OI7jOI7j6D84juM4juPoPziO4ziO4+g/OI7jOI7j6D84juM4juPoPziO4ziO4+g/AAAAAAAA8D8AAAAAAADwPwAAAAAAAPA/AAAAAAAA8D8AAAAAAADwPwAAAAAAAPA/AAAAAAAA8D8AAAAAAADwPwAAAAAAAPA/AAAAAAAA8D8=",
            "dtype": "f8"
           },
           "y": {
            "bdata": "NMJyTyMs578pXiCT4gXivzr0m61Dv9m/RljuaYTlzr8xkEnxApm0vzGQSfECmbQ/Q1juaYTlzj839JutQ7/ZPyheIJPiBeI/NMJyTyMs5z80wnJPIyznvyleIJPiBeK/OvSbrUO/2b9GWO5phOXOvzGQSfECmbS/MZBJ8QKZtD9DWO5phOXOPzf0m61Dv9k/KF4gk+IF4j80wnJPIyznPzTCck8jLOe/KV4gk+IF4r869JutQ7/Zv0ZY7mmE5c6/MZBJ8QKZtL8xkEnxApm0P0NY7mmE5c4/N/SbrUO/2T8oXiCT4gXiPzTCck8jLOc/NMJyTyMs578pXiCT4gXivzr0m61Dv9m/RljuaYTlzr8xkEnxApm0vzGQSfECmbQ/Q1juaYTlzj839JutQ7/ZPyheIJPiBeI/NMJyTyMs5z80wnJPIyznvyleIJPiBeK/OvSbrUO/2b9GWO5phOXOvzGQSfECmbS/MZBJ8QKZtD9DWO5phOXOPzf0m61Dv9k/KF4gk+IF4j80wnJPIyznPzTCck8jLOe/KV4gk+IF4r869JutQ7/Zv0ZY7mmE5c6/MZBJ8QKZtL8xkEnxApm0P0NY7mmE5c4/N/SbrUO/2T8oXiCT4gXiPzTCck8jLOc/NMJyTyMs578pXiCT4gXivzr0m61Dv9m/RljuaYTlzr8xkEnxApm0vzGQSfECmbQ/Q1juaYTlzj839JutQ7/ZPyheIJPiBeI/NMJyTyMs5z80wnJPIyznvyleIJPiBeK/OvSbrUO/2b9GWO5phOXOvzGQSfECmbS/MZBJ8QKZtD9DWO5phOXOPzf0m61Dv9k/KF4gk+IF4j80wnJPIyznPzTCck8jLOe/KV4gk+IF4r869JutQ7/Zv0ZY7mmE5c6/MZBJ8QKZtL8xkEnxApm0P0NY7mmE5c4/N/SbrUO/2T8oXiCT4gXiPzTCck8jLOc/NMJyTyMs578pXiCT4gXivzr0m61Dv9m/RljuaYTlzr8xkEnxApm0vzGQSfECmbQ/Q1juaYTlzj839JutQ7/ZPyheIJPiBeI/NMJyTyMs5z8=",
            "dtype": "f8"
           }
          },
          {
           "line": {
            "color": "blue",
            "width": 4
           },
           "marker": {
            "size": 6
           },
           "mode": "lines+markers",
           "name": "Vector",
           "type": "scatter",
           "x": [
            0,
            1
           ],
           "y": [
            0,
            0.7241379310344827
           ]
          },
          {
           "line": {
            "color": "black",
            "width": 3
           },
           "marker": {
            "size": 6
           },
           "mode": "lines+markers",
           "name": "X basis (transformed)",
           "type": "scatter",
           "x": [
            0,
            1
           ],
           "y": [
            0,
            0
           ]
          },
          {
           "line": {
            "color": "black",
            "width": 3
           },
           "marker": {
            "size": 6
           },
           "mode": "lines+markers",
           "name": "Y basis (transformed)",
           "type": "scatter",
           "x": [
            0,
            0
           ],
           "y": [
            0,
            0.7241379310344827
           ]
          }
         ],
         "name": "frame0.14"
        },
        {
         "data": [
          {
           "marker": {
            "color": "red",
            "size": 5
           },
           "mode": "markers",
           "name": "Grid",
           "type": "scatter",
           "x": {
            "bdata": "AAAAAAAA8L8AAAAAAADwvwAAAAAAAPC/AAAAAAAA8L8AAAAAAADwvwAAAAAAAPC/AAAAAAAA8L8AAAAAAADwvwAAAAAAAPC/AAAAAAAA8L85juM4juPovzmO4ziO4+i/OY7jOI7j6L85juM4juPovzmO4ziO4+i/OY7jOI7j6L85juM4juPovzmO4ziO4+i/OY7jOI7j6L85juM4juPov3Icx3Ecx+G/chzHcRzH4b9yHMdxHMfhv3Icx3Ecx+G/chzHcRzH4b9yHMdxHMfhv3Icx3Ecx+G/chzHcRzH4b9yHMdxHMfhv3Icx3Ecx+G/VlVVVVVV1b9WVVVVVVXVv1ZVVVVVVdW/VlVVVVVV1b9WVVVVVVXVv1ZVVVVVVdW/VlVVVVVV1b9WVVVVVVXVv1ZVVVVVVdW/VlVVVVVV1b8gx3Ecx3G8vyDHcRzHcby/IMdxHMdxvL8gx3Ecx3G8vyDHcRzHcby/IMdxHMdxvL8gx3Ecx3G8vyDHcRzHcby/IMdxHMdxvL8gx3Ecx3G8vyDHcRzHcbw/IMdxHMdxvD8gx3Ecx3G8PyDHcRzHcbw/IMdxHMdxvD8gx3Ecx3G8PyDHcRzHcbw/IMdxHMdxvD8gx3Ecx3G8PyDHcRzHcbw/VFVVVVVV1T9UVVVVVVXVP1RVVVVVVdU/VFVVVVVV1T9UVVVVVVXVP1RVVVVVVdU/VFVVVVVV1T9UVVVVVVXVP1RVVVVVVdU/VFVVVVVV1T9wHMdxHMfhP3Acx3Ecx+E/cBzHcRzH4T9wHMdxHMfhP3Acx3Ecx+E/cBzHcRzH4T9wHMdxHMfhP3Acx3Ecx+E/cBzHcRzH4T9wHMdxHMfhPziO4ziO4+g/OI7jOI7j6D84juM4juPoPziO4ziO4+g/OI7jOI7j6D84juM4juPoPziO4ziO4+g/OI7jOI7j6D84juM4juPoPziO4ziO4+g/AAAAAAAA8D8AAAAAAADwPwAAAAAAAPA/AAAAAAAA8D8AAAAAAADwPwAAAAAAAPA/AAAAAAAA8D8AAAAAAADwPwAAAAAAAPA/AAAAAAAA8D8=",
            "dtype": "f8"
           },
           "y": {
            "bdata": "wnJPIyz35L8lkq+pd07gvxFjH2CGS9e/rkO/2Tr0y792gn/m0aKyv3aCf+bRorI/rEO/2Tr0yz8OYx9ghkvXPyWSr6l3TuA/wnJPIyz35D/Cck8jLPfkvyWSr6l3TuC/EWMfYIZL17+uQ7/ZOvTLv3aCf+bRorK/doJ/5tGisj+sQ7/ZOvTLPw5jH2CGS9c/JZKvqXdO4D/Cck8jLPfkP8JyTyMs9+S/JZKvqXdO4L8RYx9ghkvXv65Dv9k69Mu/doJ/5tGisr92gn/m0aKyP6xDv9k69Ms/DmMfYIZL1z8lkq+pd07gP8JyTyMs9+Q/wnJPIyz35L8lkq+pd07gvxFjH2CGS9e/rkO/2Tr0y792gn/m0aKyv3aCf+bRorI/rEO/2Tr0yz8OYx9ghkvXPyWSr6l3TuA/wnJPIyz35D/Cck8jLPfkvyWSr6l3TuC/EWMfYIZL17+uQ7/ZOvTLv3aCf+bRorK/doJ/5tGisj+sQ7/ZOvTLPw5jH2CGS9c/JZKvqXdO4D/Cck8jLPfkP8JyTyMs9+S/JZKvqXdO4L8RYx9ghkvXv65Dv9k69Mu/doJ/5tGisr92gn/m0aKyP6xDv9k69Ms/DmMfYIZL1z8lkq+pd07gP8JyTyMs9+Q/wnJPIyz35L8lkq+pd07gvxFjH2CGS9e/rkO/2Tr0y792gn/m0aKyv3aCf+bRorI/rEO/2Tr0yz8OYx9ghkvXPyWSr6l3TuA/wnJPIyz35D/Cck8jLPfkvyWSr6l3TuC/EWMfYIZL17+uQ7/ZOvTLv3aCf+bRorK/doJ/5tGisj+sQ7/ZOvTLPw5jH2CGS9c/JZKvqXdO4D/Cck8jLPfkP8JyTyMs9+S/JZKvqXdO4L8RYx9ghkvXv65Dv9k69Mu/doJ/5tGisr92gn/m0aKyP6xDv9k69Ms/DmMfYIZL1z8lkq+pd07gP8JyTyMs9+Q/wnJPIyz35L8lkq+pd07gvxFjH2CGS9e/rkO/2Tr0y792gn/m0aKyv3aCf+bRorI/rEO/2Tr0yz8OYx9ghkvXPyWSr6l3TuA/wnJPIyz35D8=",
            "dtype": "f8"
           }
          },
          {
           "line": {
            "color": "blue",
            "width": 4
           },
           "marker": {
            "size": 6
           },
           "mode": "lines+markers",
           "name": "Vector",
           "type": "scatter",
           "x": [
            0,
            1
           ],
           "y": [
            0,
            0.6551724137931034
           ]
          },
          {
           "line": {
            "color": "black",
            "width": 3
           },
           "marker": {
            "size": 6
           },
           "mode": "lines+markers",
           "name": "X basis (transformed)",
           "type": "scatter",
           "x": [
            0,
            1
           ],
           "y": [
            0,
            0
           ]
          },
          {
           "line": {
            "color": "black",
            "width": 3
           },
           "marker": {
            "size": 6
           },
           "mode": "lines+markers",
           "name": "Y basis (transformed)",
           "type": "scatter",
           "x": [
            0,
            0
           ],
           "y": [
            0,
            0.6551724137931034
           ]
          }
         ],
         "name": "frame0.17"
        },
        {
         "data": [
          {
           "marker": {
            "color": "red",
            "size": 5
           },
           "mode": "markers",
           "name": "Grid",
           "type": "scatter",
           "x": {
            "bdata": "AAAAAAAA8L8AAAAAAADwvwAAAAAAAPC/AAAAAAAA8L8AAAAAAADwvwAAAAAAAPC/AAAAAAAA8L8AAAAAAADwvwAAAAAAAPC/AAAAAAAA8L85juM4juPovzmO4ziO4+i/OY7jOI7j6L85juM4juPovzmO4ziO4+i/OY7jOI7j6L85juM4juPovzmO4ziO4+i/OY7jOI7j6L85juM4juPov3Icx3Ecx+G/chzHcRzH4b9yHMdxHMfhv3Icx3Ecx+G/chzHcRzH4b9yHMdxHMfhv3Icx3Ecx+G/chzHcRzH4b9yHMdxHMfhv3Icx3Ecx+G/VlVVVVVV1b9WVVVVVVXVv1ZVVVVVVdW/VlVVVVVV1b9WVVVVVVXVv1ZVVVVVVdW/VlVVVVVV1b9WVVVVVVXVv1ZVVVVVVdW/VlVVVVVV1b8gx3Ecx3G8vyDHcRzHcby/IMdxHMdxvL8gx3Ecx3G8vyDHcRzHcby/IMdxHMdxvL8gx3Ecx3G8vyDHcRzHcby/IMdxHMdxvL8gx3Ecx3G8vyDHcRzHcbw/IMdxHMdxvD8gx3Ecx3G8PyDHcRzHcbw/IMdxHMdxvD8gx3Ecx3G8PyDHcRzHcbw/IMdxHMdxvD8gx3Ecx3G8PyDHcRzHcbw/VFVVVVVV1T9UVVVVVVXVP1RVVVVVVdU/VFVVVVVV1T9UVVVVVVXVP1RVVVVVVdU/VFVVVVVV1T9UVVVVVVXVP1RVVVVVVdU/VFVVVVVV1T9wHMdxHMfhP3Acx3Ecx+E/cBzHcRzH4T9wHMdxHMfhP3Acx3Ecx+E/cBzHcRzH4T9wHMdxHMfhP3Acx3Ecx+E/cBzHcRzH4T9wHMdxHMfhPziO4ziO4+g/OI7jOI7j6D84juM4juPoPziO4ziO4+g/OI7jOI7j6D84juM4juPoPziO4ziO4+g/OI7jOI7j6D84juM4juPoPziO4ziO4+g/AAAAAAAA8D8AAAAAAADwPwAAAAAAAPA/AAAAAAAA8D8AAAAAAADwPwAAAAAAAPA/AAAAAAAA8D8AAAAAAADwPwAAAAAAAPA/AAAAAAAA8D8=",
            "dtype": "f8"
           },
           "y": {
            "bdata": "UCMs9zTC4r9EjH2AGS7dv+fRohLJ19S/Fi+QSfECyb+7dLXboKywv7t0tdugrLA/FC+QSfECyT/l0aISydfUP0OMfYAZLt0/UCMs9zTC4j9QIyz3NMLiv0SMfYAZLt2/59GiEsnX1L8WL5BJ8QLJv7t0tdugrLC/u3S126CssD8UL5BJ8QLJP+XRohLJ19Q/Q4x9gBku3T9QIyz3NMLiP1AjLPc0wuK/RIx9gBku3b/n0aISydfUvxYvkEnxAsm/u3S126CssL+7dLXboKywPxQvkEnxAsk/5dGiEsnX1D9DjH2AGS7dP1AjLPc0wuI/UCMs9zTC4r9EjH2AGS7dv+fRohLJ19S/Fi+QSfECyb+7dLXboKywv7t0tdugrLA/FC+QSfECyT/l0aISydfUP0OMfYAZLt0/UCMs9zTC4j9QIyz3NMLiv0SMfYAZLt2/59GiEsnX1L8WL5BJ8QLJv7t0tdugrLC/u3S126CssD8UL5BJ8QLJP+XRohLJ19Q/Q4x9gBku3T9QIyz3NMLiP1AjLPc0wuK/RIx9gBku3b/n0aISydfUvxYvkEnxAsm/u3S126CssL+7dLXboKywPxQvkEnxAsk/5dGiEsnX1D9DjH2AGS7dP1AjLPc0wuI/UCMs9zTC4r9EjH2AGS7dv+fRohLJ19S/Fi+QSfECyb+7dLXboKywv7t0tdugrLA/FC+QSfECyT/l0aISydfUP0OMfYAZLt0/UCMs9zTC4j9QIyz3NMLiv0SMfYAZLt2/59GiEsnX1L8WL5BJ8QLJv7t0tdugrLC/u3S126CssD8UL5BJ8QLJP+XRohLJ19Q/Q4x9gBku3T9QIyz3NMLiP1AjLPc0wuK/RIx9gBku3b/n0aISydfUvxYvkEnxAsm/u3S126CssL+7dLXboKywPxQvkEnxAsk/5dGiEsnX1D9DjH2AGS7dP1AjLPc0wuI/UCMs9zTC4r9EjH2AGS7dv+fRohLJ19S/Fi+QSfECyb+7dLXboKywv7t0tdugrLA/FC+QSfECyT/l0aISydfUP0OMfYAZLt0/UCMs9zTC4j8=",
            "dtype": "f8"
           }
          },
          {
           "line": {
            "color": "blue",
            "width": 4
           },
           "marker": {
            "size": 6
           },
           "mode": "lines+markers",
           "name": "Vector",
           "type": "scatter",
           "x": [
            0,
            1
           ],
           "y": [
            0,
            0.5862068965517242
           ]
          },
          {
           "line": {
            "color": "black",
            "width": 3
           },
           "marker": {
            "size": 6
           },
           "mode": "lines+markers",
           "name": "X basis (transformed)",
           "type": "scatter",
           "x": [
            0,
            1
           ],
           "y": [
            0,
            0
           ]
          },
          {
           "line": {
            "color": "black",
            "width": 3
           },
           "marker": {
            "size": 6
           },
           "mode": "lines+markers",
           "name": "Y basis (transformed)",
           "type": "scatter",
           "x": [
            0,
            0
           ],
           "y": [
            0,
            0.5862068965517242
           ]
          }
         ],
         "name": "frame0.21"
        },
        {
         "data": [
          {
           "marker": {
            "color": "red",
            "size": 5
           },
           "mode": "markers",
           "name": "Grid",
           "type": "scatter",
           "x": {
            "bdata": "AAAAAAAA8L8AAAAAAADwvwAAAAAAAPC/AAAAAAAA8L8AAAAAAADwvwAAAAAAAPC/AAAAAAAA8L8AAAAAAADwvwAAAAAAAPC/AAAAAAAA8L85juM4juPovzmO4ziO4+i/OY7jOI7j6L85juM4juPovzmO4ziO4+i/OY7jOI7j6L85juM4juPovzmO4ziO4+i/OY7jOI7j6L85juM4juPov3Icx3Ecx+G/chzHcRzH4b9yHMdxHMfhv3Icx3Ecx+G/chzHcRzH4b9yHMdxHMfhv3Icx3Ecx+G/chzHcRzH4b9yHMdxHMfhv3Icx3Ecx+G/VlVVVVVV1b9WVVVVVVXVv1ZVVVVVVdW/VlVVVVVV1b9WVVVVVVXVv1ZVVVVVVdW/VlVVVVVV1b9WVVVVVVXVv1ZVVVVVVdW/VlVVVVVV1b8gx3Ecx3G8vyDHcRzHcby/IMdxHMdxvL8gx3Ecx3G8vyDHcRzHcby/IMdxHMdxvL8gx3Ecx3G8vyDHcRzHcby/IMdxHMdxvL8gx3Ecx3G8vyDHcRzHcbw/IMdxHMdxvD8gx3Ecx3G8PyDHcRzHcbw/IMdxHMdxvD8gx3Ecx3G8PyDHcRzHcbw/IMdxHMdxvD8gx3Ecx3G8PyDHcRzHcbw/VFVVVVVV1T9UVVVVVVXVP1RVVVVVVdU/VFVVVVVV1T9UVVVVVVXVP1RVVVVVVdU/VFVVVVVV1T9UVVVVVVXVP1RVVVVVVdU/VFVVVVVV1T9wHMdxHMfhP3Acx3Ecx+E/cBzHcRzH4T9wHMdxHMfhP3Acx3Ecx+E/cBzHcRzH4T9wHMdxHMfhP3Acx3Ecx+E/cBzHcRzH4T9wHMdxHMfhPziO4ziO4+g/OI7jOI7j6D84juM4juPoPziO4ziO4+g/OI7jOI7j6D84juM4juPoPziO4ziO4+g/OI7jOI7j6D84juM4juPoPziO4ziO4+g/AAAAAAAA8D8AAAAAAADwPwAAAAAAAPA/AAAAAAAA8D8AAAAAAADwPwAAAAAAAPA/AAAAAAAA8D8AAAAAAADwPwAAAAAAAPA/AAAAAAAA8D8=",
            "dtype": "f8"
           },
           "y": {
            "bdata": "3NMIyz2N4L869JutQ7/Zv7xAJsULZNK/exphuacRxr/9zdah32ytv/3N1qHfbK0/eRphuacRxj+6QCbFC2TSPzn0m61Dv9k/3NMIyz2N4D/c0wjLPY3gvzr0m61Dv9m/vEAmxQtk0r97GmG5pxHGv/3N1qHfbK2//c3Wod9srT95GmG5pxHGP7pAJsULZNI/OfSbrUO/2T/c0wjLPY3gP9zTCMs9jeC/OvSbrUO/2b+8QCbFC2TSv3saYbmnEca//c3Wod9srb/9zdah32ytP3kaYbmnEcY/ukAmxQtk0j859JutQ7/ZP9zTCMs9jeA/3NMIyz2N4L869JutQ7/Zv7xAJsULZNK/exphuacRxr/9zdah32ytv/3N1qHfbK0/eRphuacRxj+6QCbFC2TSPzn0m61Dv9k/3NMIyz2N4D/c0wjLPY3gvzr0m61Dv9m/vEAmxQtk0r97GmG5pxHGv/3N1qHfbK2//c3Wod9srT95GmG5pxHGP7pAJsULZNI/OfSbrUO/2T/c0wjLPY3gP9zTCMs9jeC/OvSbrUO/2b+8QCbFC2TSv3saYbmnEca//c3Wod9srb/9zdah32ytP3kaYbmnEcY/ukAmxQtk0j859JutQ7/ZP9zTCMs9jeA/3NMIyz2N4L869JutQ7/Zv7xAJsULZNK/exphuacRxr/9zdah32ytv/3N1qHfbK0/eRphuacRxj+6QCbFC2TSPzn0m61Dv9k/3NMIyz2N4D/c0wjLPY3gvzr0m61Dv9m/vEAmxQtk0r97GmG5pxHGv/3N1qHfbK2//c3Wod9srT95GmG5pxHGP7pAJsULZNI/OfSbrUO/2T/c0wjLPY3gP9zTCMs9jeC/OvSbrUO/2b+8QCbFC2TSv3saYbmnEca//c3Wod9srb/9zdah32ytP3kaYbmnEcY/ukAmxQtk0j859JutQ7/ZP9zTCMs9jeA/3NMIyz2N4L869JutQ7/Zv7xAJsULZNK/exphuacRxr/9zdah32ytv/3N1qHfbK0/eRphuacRxj+6QCbFC2TSPzn0m61Dv9k/3NMIyz2N4D8=",
            "dtype": "f8"
           }
          },
          {
           "line": {
            "color": "blue",
            "width": 4
           },
           "marker": {
            "size": 6
           },
           "mode": "lines+markers",
           "name": "Vector",
           "type": "scatter",
           "x": [
            0,
            1
           ],
           "y": [
            0,
            0.5172413793103448
           ]
          },
          {
           "line": {
            "color": "black",
            "width": 3
           },
           "marker": {
            "size": 6
           },
           "mode": "lines+markers",
           "name": "X basis (transformed)",
           "type": "scatter",
           "x": [
            0,
            1
           ],
           "y": [
            0,
            0
           ]
          },
          {
           "line": {
            "color": "black",
            "width": 3
           },
           "marker": {
            "size": 6
           },
           "mode": "lines+markers",
           "name": "Y basis (transformed)",
           "type": "scatter",
           "x": [
            0,
            0
           ],
           "y": [
            0,
            0.5172413793103448
           ]
          }
         ],
         "name": "frame0.24"
        },
        {
         "data": [
          {
           "marker": {
            "color": "red",
            "size": 5
           },
           "mode": "markers",
           "name": "Grid",
           "type": "scatter",
           "x": {
            "bdata": "AAAAAAAA8L8AAAAAAADwvwAAAAAAAPC/AAAAAAAA8L8AAAAAAADwvwAAAAAAAPC/AAAAAAAA8L8AAAAAAADwvwAAAAAAAPC/AAAAAAAA8L85juM4juPovzmO4ziO4+i/OY7jOI7j6L85juM4juPovzmO4ziO4+i/OY7jOI7j6L85juM4juPovzmO4ziO4+i/OY7jOI7j6L85juM4juPov3Icx3Ecx+G/chzHcRzH4b9yHMdxHMfhv3Icx3Ecx+G/chzHcRzH4b9yHMdxHMfhv3Icx3Ecx+G/chzHcRzH4b9yHMdxHMfhv3Icx3Ecx+G/VlVVVVVV1b9WVVVVVVXVv1ZVVVVVVdW/VlVVVVVV1b9WVVVVVVXVv1ZVVVVVVdW/VlVVVVVV1b9WVVVVVVXVv1ZVVVVVVdW/VlVVVVVV1b8gx3Ecx3G8vyDHcRzHcby/IMdxHMdxvL8gx3Ecx3G8vyDHcRzHcby/IMdxHMdxvL8gx3Ecx3G8vyDHcRzHcby/IMdxHMdxvL8gx3Ecx3G8vyDHcRzHcbw/IMdxHMdxvD8gx3Ecx3G8PyDHcRzHcbw/IMdxHMdxvD8gx3Ecx3G8PyDHcRzHcbw/IMdxHMdxvD8gx3Ecx3G8PyDHcRzHcbw/VFVVVVVV1T9UVVVVVVXVP1RVVVVVVdU/VFVVVVVV1T9UVVVVVVXVP1RVVVVVVdU/VFVVVVVV1T9UVVVVVVXVP1RVVVVVVdU/VFVVVVVV1T9wHMdxHMfhP3Acx3Ecx+E/cBzHcRzH4T9wHMdxHMfhP3Acx3Ecx+E/cBzHcRzH4T9wHMdxHMfhP3Acx3Ecx+E/cBzHcRzH4T9wHMdxHMfhPziO4ziO4+g/OI7jOI7j6D84juM4juPoPziO4ziO4+g/OI7jOI7j6D84juM4juPoPziO4ziO4+g/OI7jOI7j6D84juM4juPoPziO4ziO4+g/AAAAAAAA8D8AAAAAAADwPwAAAAAAAPA/AAAAAAAA8D8AAAAAAADwPwAAAAAAAPA/AAAAAAAA8D8AAAAAAADwPwAAAAAAAPA/AAAAAAAA8D8=",
            "dtype": "f8"
           },
           "y": {
            "bdata": "1AjLPY2w3L8zXLrabVDWvyVfU++c4M+/4wUyKV4gw7+HskKMfYCpv4eyQox9gKk/4QUyKV4gwz8hX1PvnODPPzJcutptUNY/1AjLPY2w3D/UCMs9jbDcvzNcutptUNa/JV9T75zgz7/jBTIpXiDDv4eyQox9gKm/h7JCjH2AqT/hBTIpXiDDPyFfU++c4M8/Mly62m1Q1j/UCMs9jbDcP9QIyz2NsNy/M1y62m1Q1r8lX1PvnODPv+MFMileIMO/h7JCjH2Aqb+HskKMfYCpP+EFMileIMM/IV9T75zgzz8yXLrabVDWP9QIyz2NsNw/1AjLPY2w3L8zXLrabVDWvyVfU++c4M+/4wUyKV4gw7+HskKMfYCpv4eyQox9gKk/4QUyKV4gwz8hX1PvnODPPzJcutptUNY/1AjLPY2w3D/UCMs9jbDcvzNcutptUNa/JV9T75zgz7/jBTIpXiDDv4eyQox9gKm/h7JCjH2AqT/hBTIpXiDDPyFfU++c4M8/Mly62m1Q1j/UCMs9jbDcP9QIyz2NsNy/M1y62m1Q1r8lX1PvnODPv+MFMileIMO/h7JCjH2Aqb+HskKMfYCpP+EFMileIMM/IV9T75zgzz8yXLrabVDWP9QIyz2NsNw/1AjLPY2w3L8zXLrabVDWvyVfU++c4M+/4wUyKV4gw7+HskKMfYCpv4eyQox9gKk/4QUyKV4gwz8hX1PvnODPPzJcutptUNY/1AjLPY2w3D/UCMs9jbDcvzNcutptUNa/JV9T75zgz7/jBTIpXiDDv4eyQox9gKm/h7JCjH2AqT/hBTIpXiDDPyFfU++c4M8/Mly62m1Q1j/UCMs9jbDcP9QIyz2NsNy/M1y62m1Q1r8lX1PvnODPv+MFMileIMO/h7JCjH2Aqb+HskKMfYCpP+EFMileIMM/IV9T75zgzz8yXLrabVDWP9QIyz2NsNw/1AjLPY2w3L8zXLrabVDWvyVfU++c4M+/4wUyKV4gw7+HskKMfYCpv4eyQox9gKk/4QUyKV4gwz8hX1PvnODPPzJcutptUNY/1AjLPY2w3D8=",
            "dtype": "f8"
           }
          },
          {
           "line": {
            "color": "blue",
            "width": 4
           },
           "marker": {
            "size": 6
           },
           "mode": "lines+markers",
           "name": "Vector",
           "type": "scatter",
           "x": [
            0,
            1
           ],
           "y": [
            0,
            0.4482758620689655
           ]
          },
          {
           "line": {
            "color": "black",
            "width": 3
           },
           "marker": {
            "size": 6
           },
           "mode": "lines+markers",
           "name": "X basis (transformed)",
           "type": "scatter",
           "x": [
            0,
            1
           ],
           "y": [
            0,
            0
           ]
          },
          {
           "line": {
            "color": "black",
            "width": 3
           },
           "marker": {
            "size": 6
           },
           "mode": "lines+markers",
           "name": "Y basis (transformed)",
           "type": "scatter",
           "x": [
            0,
            0
           ],
           "y": [
            0,
            0.4482758620689655
           ]
          }
         ],
         "name": "frame0.28"
        },
        {
         "data": [
          {
           "marker": {
            "color": "red",
            "size": 5
           },
           "mode": "markers",
           "name": "Grid",
           "type": "scatter",
           "x": {
            "bdata": "AAAAAAAA8L8AAAAAAADwvwAAAAAAAPC/AAAAAAAA8L8AAAAAAADwvwAAAAAAAPC/AAAAAAAA8L8AAAAAAADwvwAAAAAAAPC/AAAAAAAA8L85juM4juPovzmO4ziO4+i/OY7jOI7j6L85juM4juPovzmO4ziO4+i/OY7jOI7j6L85juM4juPovzmO4ziO4+i/OY7jOI7j6L85juM4juPov3Icx3Ecx+G/chzHcRzH4b9yHMdxHMfhv3Icx3Ecx+G/chzHcRzH4b9yHMdxHMfhv3Icx3Ecx+G/chzHcRzH4b9yHMdxHMfhv3Icx3Ecx+G/VlVVVVVV1b9WVVVVVVXVv1ZVVVVVVdW/VlVVVVVV1b9WVVVVVVXVv1ZVVVVVVdW/VlVVVVVV1b9WVVVVVVXVv1ZVVVVVVdW/VlVVVVVV1b8gx3Ecx3G8vyDHcRzHcby/IMdxHMdxvL8gx3Ecx3G8vyDHcRzHcby/IMdxHMdxvL8gx3Ecx3G8vyDHcRzHcby/IMdxHMdxvL8gx3Ecx3G8vyDHcRzHcbw/IMdxHMdxvD8gx3Ecx3G8PyDHcRzHcbw/IMdxHMdxvD8gx3Ecx3G8PyDHcRzHcbw/IMdxHMdxvD8gx3Ecx3G8PyDHcRzHcbw/VFVVVVVV1T9UVVVVVVXVP1RVVVVVVdU/VFVVVVVV1T9UVVVVVVXVP1RVVVVVVdU/VFVVVVVV1T9UVVVVVVXVP1RVVVVVVdU/VFVVVVVV1T9wHMdxHMfhP3Acx3Ecx+E/cBzHcRzH4T9wHMdxHMfhP3Acx3Ecx+E/cBzHcRzH4T9wHMdxHMfhP3Acx3Ecx+E/cBzHcRzH4T9wHMdxHMfhPziO4ziO4+g/OI7jOI7j6D84juM4juPoPziO4ziO4+g/OI7jOI7j6D84juM4juPoPziO4ziO4+g/OI7jOI7j6D84juM4juPoPziO4ziO4+g/AAAAAAAA8D8AAAAAAADwPwAAAAAAAPA/AAAAAAAA8D8AAAAAAADwPwAAAAAAAPA/AAAAAAAA8D8AAAAAAADwPwAAAAAAAPA/AAAAAAAA8D8=",
            "dtype": "f8"
           },
           "y": {
            "bdata": "72mE5Z5G2L8sxNgHmOHSv9E8WlQi+cq/S/ECmRQvwL8Ql652G5SlvxCXrnYblKU/SfECmRQvwD/OPFpUIvnKPyvE2AeY4dI/72mE5Z5G2D/vaYTlnkbYvyzE2AeY4dK/0TxaVCL5yr9L8QKZFC/AvxCXrnYblKW/EJeudhuUpT9J8QKZFC/AP848WlQi+co/K8TYB5jh0j/vaYTlnkbYP+9phOWeRti/LMTYB5jh0r/RPFpUIvnKv0vxApkUL8C/EJeudhuUpb8Ql652G5SlP0nxApkUL8A/zjxaVCL5yj8rxNgHmOHSP+9phOWeRtg/72mE5Z5G2L8sxNgHmOHSv9E8WlQi+cq/S/ECmRQvwL8Ql652G5SlvxCXrnYblKU/SfECmRQvwD/OPFpUIvnKPyvE2AeY4dI/72mE5Z5G2D/vaYTlnkbYvyzE2AeY4dK/0TxaVCL5yr9L8QKZFC/AvxCXrnYblKW/EJeudhuUpT9J8QKZFC/AP848WlQi+co/K8TYB5jh0j/vaYTlnkbYP+9phOWeRti/LMTYB5jh0r/RPFpUIvnKv0vxApkUL8C/EJeudhuUpb8Ql652G5SlP0nxApkUL8A/zjxaVCL5yj8rxNgHmOHSP+9phOWeRtg/72mE5Z5G2L8sxNgHmOHSv9E8WlQi+cq/S/ECmRQvwL8Ql652G5SlvxCXrnYblKU/SfECmRQvwD/OPFpUIvnKPyvE2AeY4dI/72mE5Z5G2D/vaYTlnkbYvyzE2AeY4dK/0TxaVCL5yr9L8QKZFC/AvxCXrnYblKW/EJeudhuUpT9J8QKZFC/AP848WlQi+co/K8TYB5jh0j/vaYTlnkbYP+9phOWeRti/LMTYB5jh0r/RPFpUIvnKv0vxApkUL8C/EJeudhuUpb8Ql652G5SlP0nxApkUL8A/zjxaVCL5yj8rxNgHmOHSP+9phOWeRtg/72mE5Z5G2L8sxNgHmOHSv9E8WlQi+cq/S/ECmRQvwL8Ql652G5SlvxCXrnYblKU/SfECmRQvwD/OPFpUIvnKPyvE2AeY4dI/72mE5Z5G2D8=",
            "dtype": "f8"
           }
          },
          {
           "line": {
            "color": "blue",
            "width": 4
           },
           "marker": {
            "size": 6
           },
           "mode": "lines+markers",
           "name": "Vector",
           "type": "scatter",
           "x": [
            0,
            1
           ],
           "y": [
            0,
            0.37931034482758624
           ]
          },
          {
           "line": {
            "color": "black",
            "width": 3
           },
           "marker": {
            "size": 6
           },
           "mode": "lines+markers",
           "name": "X basis (transformed)",
           "type": "scatter",
           "x": [
            0,
            1
           ],
           "y": [
            0,
            0
           ]
          },
          {
           "line": {
            "color": "black",
            "width": 3
           },
           "marker": {
            "size": 6
           },
           "mode": "lines+markers",
           "name": "Y basis (transformed)",
           "type": "scatter",
           "x": [
            0,
            0
           ],
           "y": [
            0,
            0.37931034482758624
           ]
          }
         ],
         "name": "frame0.31"
        },
        {
         "data": [
          {
           "marker": {
            "color": "red",
            "size": 5
           },
           "mode": "markers",
           "name": "Grid",
           "type": "scatter",
           "x": {
            "bdata": "AAAAAAAA8L8AAAAAAADwvwAAAAAAAPC/AAAAAAAA8L8AAAAAAADwvwAAAAAAAPC/AAAAAAAA8L8AAAAAAADwvwAAAAAAAPC/AAAAAAAA8L85juM4juPovzmO4ziO4+i/OY7jOI7j6L85juM4juPovzmO4ziO4+i/OY7jOI7j6L85juM4juPovzmO4ziO4+i/OY7jOI7j6L85juM4juPov3Icx3Ecx+G/chzHcRzH4b9yHMdxHMfhv3Icx3Ecx+G/chzHcRzH4b9yHMdxHMfhv3Icx3Ecx+G/chzHcRzH4b9yHMdxHMfhv3Icx3Ecx+G/VlVVVVVV1b9WVVVVVVXVv1ZVVVVVVdW/VlVVVVVV1b9WVVVVVVXVv1ZVVVVVVdW/VlVVVVVV1b9WVVVVVVXVv1ZVVVVVVdW/VlVVVVVV1b8gx3Ecx3G8vyDHcRzHcby/IMdxHMdxvL8gx3Ecx3G8vyDHcRzHcby/IMdxHMdxvL8gx3Ecx3G8vyDHcRzHcby/IMdxHMdxvL8gx3Ecx3G8vyDHcRzHcbw/IMdxHMdxvD8gx3Ecx3G8PyDHcRzHcbw/IMdxHMdxvD8gx3Ecx3G8PyDHcRzHcbw/IMdxHMdxvD8gx3Ecx3G8PyDHcRzHcbw/VFVVVVVV1T9UVVVVVVXVP1RVVVVVVdU/VFVVVVVV1T9UVVVVVVXVP1RVVVVVVdU/VFVVVVVV1T9UVVVVVVXVP1RVVVVVVdU/VFVVVVVV1T9wHMdxHMfhP3Acx3Ecx+E/cBzHcRzH4T9wHMdxHMfhP3Acx3Ecx+E/cBzHcRzH4T9wHMdxHMfhP3Acx3Ecx+E/cBzHcRzH4T9wHMdxHMfhPziO4ziO4+g/OI7jOI7j6D84juM4juPoPziO4ziO4+g/OI7jOI7j6D84juM4juPoPziO4ziO4+g/OI7jOI7j6D84juM4juPoPziO4ziO4+g/AAAAAAAA8D8AAAAAAADwPwAAAAAAAPA/AAAAAAAA8D8AAAAAAADwPwAAAAAAAPA/AAAAAAAA8D8AAAAAAADwPwAAAAAAAPA/AAAAAAAA8D8=",
            "dtype": "f8"
           },
           "y": {
            "bdata": "CMs9jbDc079FWO5phOXOv3saYbmnEca/YbmnEZZ7ur+Yexphuaehv5h7GmG5p6E/XrmnEZZ7uj94GmG5pxHGP0RY7mmE5c4/CMs9jbDc0z8Iyz2NsNzTv0VY7mmE5c6/exphuacRxr9huacRlnu6v5h7GmG5p6G/mHsaYbmnoT9euacRlnu6P3gaYbmnEcY/RFjuaYTlzj8Iyz2NsNzTPwjLPY2w3NO/RVjuaYTlzr97GmG5pxHGv2G5pxGWe7q/mHsaYbmnob+YexphuaehP165pxGWe7o/eBphuacRxj9EWO5phOXOPwjLPY2w3NM/CMs9jbDc079FWO5phOXOv3saYbmnEca/YbmnEZZ7ur+Yexphuaehv5h7GmG5p6E/XrmnEZZ7uj94GmG5pxHGP0RY7mmE5c4/CMs9jbDc0z8Iyz2NsNzTv0VY7mmE5c6/exphuacRxr9huacRlnu6v5h7GmG5p6G/mHsaYbmnoT9euacRlnu6P3gaYbmnEcY/RFjuaYTlzj8Iyz2NsNzTPwjLPY2w3NO/RVjuaYTlzr97GmG5pxHGv2G5pxGWe7q/mHsaYbmnob+YexphuaehP165pxGWe7o/eBphuacRxj9EWO5phOXOPwjLPY2w3NM/CMs9jbDc079FWO5phOXOv3saYbmnEca/YbmnEZZ7ur+Yexphuaehv5h7GmG5p6E/XrmnEZZ7uj94GmG5pxHGP0RY7mmE5c4/CMs9jbDc0z8Iyz2NsNzTv0VY7mmE5c6/exphuacRxr9huacRlnu6v5h7GmG5p6G/mHsaYbmnoT9euacRlnu6P3gaYbmnEcY/RFjuaYTlzj8Iyz2NsNzTPwjLPY2w3NO/RVjuaYTlzr97GmG5pxHGv2G5pxGWe7q/mHsaYbmnob+YexphuaehP165pxGWe7o/eBphuacRxj9EWO5phOXOPwjLPY2w3NM/CMs9jbDc079FWO5phOXOv3saYbmnEca/YbmnEZZ7ur+Yexphuaehv5h7GmG5p6E/XrmnEZZ7uj94GmG5pxHGP0RY7mmE5c4/CMs9jbDc0z8=",
            "dtype": "f8"
           }
          },
          {
           "line": {
            "color": "blue",
            "width": 4
           },
           "marker": {
            "size": 6
           },
           "mode": "lines+markers",
           "name": "Vector",
           "type": "scatter",
           "x": [
            0,
            1
           ],
           "y": [
            0,
            0.31034482758620685
           ]
          },
          {
           "line": {
            "color": "black",
            "width": 3
           },
           "marker": {
            "size": 6
           },
           "mode": "lines+markers",
           "name": "X basis (transformed)",
           "type": "scatter",
           "x": [
            0,
            1
           ],
           "y": [
            0,
            0
           ]
          },
          {
           "line": {
            "color": "black",
            "width": 3
           },
           "marker": {
            "size": 6
           },
           "mode": "lines+markers",
           "name": "Y basis (transformed)",
           "type": "scatter",
           "x": [
            0,
            0
           ],
           "y": [
            0,
            0.31034482758620685
           ]
          }
         ],
         "name": "frame0.34"
        },
        {
         "data": [
          {
           "marker": {
            "color": "red",
            "size": 5
           },
           "mode": "markers",
           "name": "Grid",
           "type": "scatter",
           "x": {
            "bdata": "AAAAAAAA8L8AAAAAAADwvwAAAAAAAPC/AAAAAAAA8L8AAAAAAADwvwAAAAAAAPC/AAAAAAAA8L8AAAAAAADwvwAAAAAAAPC/AAAAAAAA8L85juM4juPovzmO4ziO4+i/OY7jOI7j6L85juM4juPovzmO4ziO4+i/OY7jOI7j6L85juM4juPovzmO4ziO4+i/OY7jOI7j6L85juM4juPov3Icx3Ecx+G/chzHcRzH4b9yHMdxHMfhv3Icx3Ecx+G/chzHcRzH4b9yHMdxHMfhv3Icx3Ecx+G/chzHcRzH4b9yHMdxHMfhv3Icx3Ecx+G/VlVVVVVV1b9WVVVVVVXVv1ZVVVVVVdW/VlVVVVVV1b9WVVVVVVXVv1ZVVVVVVdW/VlVVVVVV1b9WVVVVVVXVv1ZVVVVVVdW/VlVVVVVV1b8gx3Ecx3G8vyDHcRzHcby/IMdxHMdxvL8gx3Ecx3G8vyDHcRzHcby/IMdxHMdxvL8gx3Ecx3G8vyDHcRzHcby/IMdxHMdxvL8gx3Ecx3G8vyDHcRzHcbw/IMdxHMdxvD8gx3Ecx3G8PyDHcRzHcbw/IMdxHMdxvD8gx3Ecx3G8PyDHcRzHcbw/IMdxHMdxvD8gx3Ecx3G8PyDHcRzHcbw/VFVVVVVV1T9UVVVVVVXVP1RVVVVVVdU/VFVVVVVV1T9UVVVVVVXVP1RVVVVVVdU/VFVVVVVV1T9UVVVVVVXVP1RVVVVVVdU/VFVVVVVV1T9wHMdxHMfhP3Acx3Ecx+E/cBzHcRzH4T9wHMdxHMfhP3Acx3Ecx+E/cBzHcRzH4T9wHMdxHMfhP3Acx3Ecx+E/cBzHcRzH4T9wHMdxHMfhPziO4ziO4+g/OI7jOI7j6D84juM4juPoPziO4ziO4+g/OI7jOI7j6D84juM4juPoPziO4ziO4+g/OI7jOI7j6D84juM4juPoPziO4ziO4+g/AAAAAAAA8D8AAAAAAADwPwAAAAAAAPA/AAAAAAAA8D8AAAAAAADwPwAAAAAAAPA/AAAAAAAA8D8AAAAAAADwPwAAAAAAAPA/AAAAAAAA8D8=",
            "dtype": "f8"
           },
           "y": {
            "bdata": "SFjuaYTlzr84KCvE2AfIvyj4Zx4tKsG/MZBJ8QKZtL9DwAyXrnabv0PADJeudps/L5BJ8QKZtD8m+GceLSrBPzcoK8TYB8g/SFjuaYTlzj9IWO5phOXOvzgoK8TYB8i/KPhnHi0qwb8xkEnxApm0v0PADJeudpu/Q8AMl652mz8vkEnxApm0Pyb4Zx4tKsE/NygrxNgHyD9IWO5phOXOP0hY7mmE5c6/OCgrxNgHyL8o+GceLSrBvzGQSfECmbS/Q8AMl652m79DwAyXrnabPy+QSfECmbQ/JvhnHi0qwT83KCvE2AfIP0hY7mmE5c4/SFjuaYTlzr84KCvE2AfIvyj4Zx4tKsG/MZBJ8QKZtL9DwAyXrnabv0PADJeudps/L5BJ8QKZtD8m+GceLSrBPzcoK8TYB8g/SFjuaYTlzj9IWO5phOXOvzgoK8TYB8i/KPhnHi0qwb8xkEnxApm0v0PADJeudpu/Q8AMl652mz8vkEnxApm0Pyb4Zx4tKsE/NygrxNgHyD9IWO5phOXOP0hY7mmE5c6/OCgrxNgHyL8o+GceLSrBvzGQSfECmbS/Q8AMl652m79DwAyXrnabPy+QSfECmbQ/JvhnHi0qwT83KCvE2AfIP0hY7mmE5c4/SFjuaYTlzr84KCvE2AfIvyj4Zx4tKsG/MZBJ8QKZtL9DwAyXrnabv0PADJeudps/L5BJ8QKZtD8m+GceLSrBPzcoK8TYB8g/SFjuaYTlzj9IWO5phOXOvzgoK8TYB8i/KPhnHi0qwb8xkEnxApm0v0PADJeudpu/Q8AMl652mz8vkEnxApm0Pyb4Zx4tKsE/NygrxNgHyD9IWO5phOXOP0hY7mmE5c6/OCgrxNgHyL8o+GceLSrBvzGQSfECmbS/Q8AMl652m79DwAyXrnabPy+QSfECmbQ/JvhnHi0qwT83KCvE2AfIP0hY7mmE5c4/SFjuaYTlzr84KCvE2AfIvyj4Zx4tKsG/MZBJ8QKZtL9DwAyXrnabv0PADJeudps/L5BJ8QKZtD8m+GceLSrBPzcoK8TYB8g/SFjuaYTlzj8=",
            "dtype": "f8"
           }
          },
          {
           "line": {
            "color": "blue",
            "width": 4
           },
           "marker": {
            "size": 6
           },
           "mode": "lines+markers",
           "name": "Vector",
           "type": "scatter",
           "x": [
            0,
            1
           ],
           "y": [
            0,
            0.24137931034482762
           ]
          },
          {
           "line": {
            "color": "black",
            "width": 3
           },
           "marker": {
            "size": 6
           },
           "mode": "lines+markers",
           "name": "X basis (transformed)",
           "type": "scatter",
           "x": [
            0,
            1
           ],
           "y": [
            0,
            0
           ]
          },
          {
           "line": {
            "color": "black",
            "width": 3
           },
           "marker": {
            "size": 6
           },
           "mode": "lines+markers",
           "name": "Y basis (transformed)",
           "type": "scatter",
           "x": [
            0,
            0
           ],
           "y": [
            0,
            0.24137931034482762
           ]
          }
         ],
         "name": "frame0.38"
        },
        {
         "data": [
          {
           "marker": {
            "color": "red",
            "size": 5
           },
           "mode": "markers",
           "name": "Grid",
           "type": "scatter",
           "x": {
            "bdata": "AAAAAAAA8L8AAAAAAADwvwAAAAAAAPC/AAAAAAAA8L8AAAAAAADwvwAAAAAAAPC/AAAAAAAA8L8AAAAAAADwvwAAAAAAAPC/AAAAAAAA8L85juM4juPovzmO4ziO4+i/OY7jOI7j6L85juM4juPovzmO4ziO4+i/OY7jOI7j6L85juM4juPovzmO4ziO4+i/OY7jOI7j6L85juM4juPov3Icx3Ecx+G/chzHcRzH4b9yHMdxHMfhv3Icx3Ecx+G/chzHcRzH4b9yHMdxHMfhv3Icx3Ecx+G/chzHcRzH4b9yHMdxHMfhv3Icx3Ecx+G/VlVVVVVV1b9WVVVVVVXVv1ZVVVVVVdW/VlVVVVVV1b9WVVVVVVXVv1ZVVVVVVdW/VlVVVVVV1b9WVVVVVVXVv1ZVVVVVVdW/VlVVVVVV1b8gx3Ecx3G8vyDHcRzHcby/IMdxHMdxvL8gx3Ecx3G8vyDHcRzHcby/IMdxHMdxvL8gx3Ecx3G8vyDHcRzHcby/IMdxHMdxvL8gx3Ecx3G8vyDHcRzHcbw/IMdxHMdxvD8gx3Ecx3G8PyDHcRzHcbw/IMdxHMdxvD8gx3Ecx3G8PyDHcRzHcbw/IMdxHMdxvD8gx3Ecx3G8PyDHcRzHcbw/VFVVVVVV1T9UVVVVVVXVP1RVVVVVVdU/VFVVVVVV1T9UVVVVVVXVP1RVVVVVVdU/VFVVVVVV1T9UVVVVVVXVP1RVVVVVVdU/VFVVVVVV1T9wHMdxHMfhP3Acx3Ecx+E/cBzHcRzH4T9wHMdxHMfhP3Acx3Ecx+E/cBzHcRzH4T9wHMdxHMfhP3Acx3Ecx+E/cBzHcRzH4T9wHMdxHMfhPziO4ziO4+g/OI7jOI7j6D84juM4juPoPziO4ziO4+g/OI7jOI7j6D84juM4juPoPziO4ziO4+g/OI7jOI7j6D84juM4juPoPziO4ziO4+g/AAAAAAAA8D8AAAAAAADwPwAAAAAAAPA/AAAAAAAA8D8AAAAAAADwPwAAAAAAAPA/AAAAAAAA8D8AAAAAAADwPwAAAAAAAPA/AAAAAAAA8D8=",
            "dtype": "f8"
           },
           "y": {
            "bdata": "fhphuacRxr8p+GceLSrBv6mr3QZlhbi//s3Wod9srb9WieRr6p2Tv1aJ5GvqnZM/+83Wod9srT+mq90GZYW4Pyj4Zx4tKsE/fhphuacRxj9+GmG5pxHGvyn4Zx4tKsG/qavdBmWFuL/+zdah32ytv1aJ5GvqnZO/Vonka+qdkz/7zdah32ytP6ar3QZlhbg/KPhnHi0qwT9+GmG5pxHGP34aYbmnEca/KfhnHi0qwb+pq90GZYW4v/7N1qHfbK2/Vonka+qdk79WieRr6p2TP/vN1qHfbK0/pqvdBmWFuD8o+GceLSrBP34aYbmnEcY/fhphuacRxr8p+GceLSrBv6mr3QZlhbi//s3Wod9srb9WieRr6p2Tv1aJ5GvqnZM/+83Wod9srT+mq90GZYW4Pyj4Zx4tKsE/fhphuacRxj9+GmG5pxHGvyn4Zx4tKsG/qavdBmWFuL/+zdah32ytv1aJ5GvqnZO/Vonka+qdkz/7zdah32ytP6ar3QZlhbg/KPhnHi0qwT9+GmG5pxHGP34aYbmnEca/KfhnHi0qwb+pq90GZYW4v/7N1qHfbK2/Vonka+qdk79WieRr6p2TP/vN1qHfbK0/pqvdBmWFuD8o+GceLSrBP34aYbmnEcY/fhphuacRxr8p+GceLSrBv6mr3QZlhbi//s3Wod9srb9WieRr6p2Tv1aJ5GvqnZM/+83Wod9srT+mq90GZYW4Pyj4Zx4tKsE/fhphuacRxj9+GmG5pxHGvyn4Zx4tKsG/qavdBmWFuL/+zdah32ytv1aJ5GvqnZO/Vonka+qdkz/7zdah32ytP6ar3QZlhbg/KPhnHi0qwT9+GmG5pxHGP34aYbmnEca/KfhnHi0qwb+pq90GZYW4v/7N1qHfbK2/Vonka+qdk79WieRr6p2TP/vN1qHfbK0/pqvdBmWFuD8o+GceLSrBP34aYbmnEcY/fhphuacRxr8p+GceLSrBv6mr3QZlhbi//s3Wod9srb9WieRr6p2Tv1aJ5GvqnZM/+83Wod9srT+mq90GZYW4Pyj4Zx4tKsE/fhphuacRxj8=",
            "dtype": "f8"
           }
          },
          {
           "line": {
            "color": "blue",
            "width": 4
           },
           "marker": {
            "size": 6
           },
           "mode": "lines+markers",
           "name": "Vector",
           "type": "scatter",
           "x": [
            0,
            1
           ],
           "y": [
            0,
            0.17241379310344834
           ]
          },
          {
           "line": {
            "color": "black",
            "width": 3
           },
           "marker": {
            "size": 6
           },
           "mode": "lines+markers",
           "name": "X basis (transformed)",
           "type": "scatter",
           "x": [
            0,
            1
           ],
           "y": [
            0,
            0
           ]
          },
          {
           "line": {
            "color": "black",
            "width": 3
           },
           "marker": {
            "size": 6
           },
           "mode": "lines+markers",
           "name": "Y basis (transformed)",
           "type": "scatter",
           "x": [
            0,
            0
           ],
           "y": [
            0,
            0.17241379310344834
           ]
          }
         ],
         "name": "frame0.41"
        },
        {
         "data": [
          {
           "marker": {
            "color": "red",
            "size": 5
           },
           "mode": "markers",
           "name": "Grid",
           "type": "scatter",
           "x": {
            "bdata": "AAAAAAAA8L8AAAAAAADwvwAAAAAAAPC/AAAAAAAA8L8AAAAAAADwvwAAAAAAAPC/AAAAAAAA8L8AAAAAAADwvwAAAAAAAPC/AAAAAAAA8L85juM4juPovzmO4ziO4+i/OY7jOI7j6L85juM4juPovzmO4ziO4+i/OY7jOI7j6L85juM4juPovzmO4ziO4+i/OY7jOI7j6L85juM4juPov3Icx3Ecx+G/chzHcRzH4b9yHMdxHMfhv3Icx3Ecx+G/chzHcRzH4b9yHMdxHMfhv3Icx3Ecx+G/chzHcRzH4b9yHMdxHMfhv3Icx3Ecx+G/VlVVVVVV1b9WVVVVVVXVv1ZVVVVVVdW/VlVVVVVV1b9WVVVVVVXVv1ZVVVVVVdW/VlVVVVVV1b9WVVVVVVXVv1ZVVVVVVdW/VlVVVVVV1b8gx3Ecx3G8vyDHcRzHcby/IMdxHMdxvL8gx3Ecx3G8vyDHcRzHcby/IMdxHMdxvL8gx3Ecx3G8vyDHcRzHcby/IMdxHMdxvL8gx3Ecx3G8vyDHcRzHcbw/IMdxHMdxvD8gx3Ecx3G8PyDHcRzHcbw/IMdxHMdxvD8gx3Ecx3G8PyDHcRzHcbw/IMdxHMdxvD8gx3Ecx3G8PyDHcRzHcbw/VFVVVVVV1T9UVVVVVVXVP1RVVVVVVdU/VFVVVVVV1T9UVVVVVVXVP1RVVVVVVdU/VFVVVVVV1T9UVVVVVVXVP1RVVVVVVdU/VFVVVVVV1T9wHMdxHMfhP3Acx3Ecx+E/cBzHcRzH4T9wHMdxHMfhP3Acx3Ecx+E/cBzHcRzH4T9wHMdxHMfhP3Acx3Ecx+E/cBzHcRzH4T9wHMdxHMfhPziO4ziO4+g/OI7jOI7j6D84juM4juPoPziO4ziO4+g/OI7jOI7j6D84juM4juPoPziO4ziO4+g/OI7jOI7j6D84juM4juPoPziO4ziO4+g/AAAAAAAA8D8AAAAAAADwPwAAAAAAAPA/AAAAAAAA8D8AAAAAAADwPwAAAAAAAPA/AAAAAAAA8D8AAAAAAADwPwAAAAAAAPA/AAAAAAAA8D8=",
            "dtype": "f8"
           },
           "y": {
            "bdata": "YLmnEZZ7ur8ukEnxApm0v/nN1qHfbK2/lnsaYbmnob/KpHiBTIqHv8qkeIFMioc/lHsaYbmnoT/2zdah32ytPy2QSfECmbQ/YLmnEZZ7uj9guacRlnu6vy6QSfECmbS/+c3Wod9srb+Wexphuaehv8qkeIFMioe/yqR4gUyKhz+UexphuaehP/bN1qHfbK0/LZBJ8QKZtD9guacRlnu6P2C5pxGWe7q/LpBJ8QKZtL/5zdah32ytv5Z7GmG5p6G/yqR4gUyKh7/KpHiBTIqHP5R7GmG5p6E/9s3Wod9srT8tkEnxApm0P2C5pxGWe7o/YLmnEZZ7ur8ukEnxApm0v/nN1qHfbK2/lnsaYbmnob/KpHiBTIqHv8qkeIFMioc/lHsaYbmnoT/2zdah32ytPy2QSfECmbQ/YLmnEZZ7uj9guacRlnu6vy6QSfECmbS/+c3Wod9srb+Wexphuaehv8qkeIFMioe/yqR4gUyKhz+UexphuaehP/bN1qHfbK0/LZBJ8QKZtD9guacRlnu6P2C5pxGWe7q/LpBJ8QKZtL/5zdah32ytv5Z7GmG5p6G/yqR4gUyKh7/KpHiBTIqHP5R7GmG5p6E/9s3Wod9srT8tkEnxApm0P2C5pxGWe7o/YLmnEZZ7ur8ukEnxApm0v/nN1qHfbK2/lnsaYbmnob/KpHiBTIqHv8qkeIFMioc/lHsaYbmnoT/2zdah32ytPy2QSfECmbQ/YLmnEZZ7uj9guacRlnu6vy6QSfECmbS/+c3Wod9srb+Wexphuaehv8qkeIFMioe/yqR4gUyKhz+UexphuaehP/bN1qHfbK0/LZBJ8QKZtD9guacRlnu6P2C5pxGWe7q/LpBJ8QKZtL/5zdah32ytv5Z7GmG5p6G/yqR4gUyKh7/KpHiBTIqHP5R7GmG5p6E/9s3Wod9srT8tkEnxApm0P2C5pxGWe7o/YLmnEZZ7ur8ukEnxApm0v/nN1qHfbK2/lnsaYbmnob/KpHiBTIqHv8qkeIFMioc/lHsaYbmnoT/2zdah32ytPy2QSfECmbQ/YLmnEZZ7uj8=",
            "dtype": "f8"
           }
          },
          {
           "line": {
            "color": "blue",
            "width": 4
           },
           "marker": {
            "size": 6
           },
           "mode": "lines+markers",
           "name": "Vector",
           "type": "scatter",
           "x": [
            0,
            1
           ],
           "y": [
            0,
            0.10344827586206895
           ]
          },
          {
           "line": {
            "color": "black",
            "width": 3
           },
           "marker": {
            "size": 6
           },
           "mode": "lines+markers",
           "name": "X basis (transformed)",
           "type": "scatter",
           "x": [
            0,
            1
           ],
           "y": [
            0,
            0
           ]
          },
          {
           "line": {
            "color": "black",
            "width": 3
           },
           "marker": {
            "size": 6
           },
           "mode": "lines+markers",
           "name": "Y basis (transformed)",
           "type": "scatter",
           "x": [
            0,
            0
           ],
           "y": [
            0,
            0.10344827586206895
           ]
          }
         ],
         "name": "frame0.45"
        },
        {
         "data": [
          {
           "marker": {
            "color": "red",
            "size": 5
           },
           "mode": "markers",
           "name": "Grid",
           "type": "scatter",
           "x": {
            "bdata": "AAAAAAAA8L8AAAAAAADwvwAAAAAAAPC/AAAAAAAA8L8AAAAAAADwvwAAAAAAAPC/AAAAAAAA8L8AAAAAAADwvwAAAAAAAPC/AAAAAAAA8L85juM4juPovzmO4ziO4+i/OY7jOI7j6L85juM4juPovzmO4ziO4+i/OY7jOI7j6L85juM4juPovzmO4ziO4+i/OY7jOI7j6L85juM4juPov3Icx3Ecx+G/chzHcRzH4b9yHMdxHMfhv3Icx3Ecx+G/chzHcRzH4b9yHMdxHMfhv3Icx3Ecx+G/chzHcRzH4b9yHMdxHMfhv3Icx3Ecx+G/VlVVVVVV1b9WVVVVVVXVv1ZVVVVVVdW/VlVVVVVV1b9WVVVVVVXVv1ZVVVVVVdW/VlVVVVVV1b9WVVVVVVXVv1ZVVVVVVdW/VlVVVVVV1b8gx3Ecx3G8vyDHcRzHcby/IMdxHMdxvL8gx3Ecx3G8vyDHcRzHcby/IMdxHMdxvL8gx3Ecx3G8vyDHcRzHcby/IMdxHMdxvL8gx3Ecx3G8vyDHcRzHcbw/IMdxHMdxvD8gx3Ecx3G8PyDHcRzHcbw/IMdxHMdxvD8gx3Ecx3G8PyDHcRzHcbw/IMdxHMdxvD8gx3Ecx3G8PyDHcRzHcbw/VFVVVVVV1T9UVVVVVVXVP1RVVVVVVdU/VFVVVVVV1T9UVVVVVVXVP1RVVVVVVdU/VFVVVVVV1T9UVVVVVVXVP1RVVVVVVdU/VFVVVVVV1T9wHMdxHMfhP3Acx3Ecx+E/cBzHcRzH4T9wHMdxHMfhP3Acx3Ecx+E/cBzHcRzH4T9wHMdxHMfhP3Acx3Ecx+E/cBzHcRzH4T9wHMdxHMfhPziO4ziO4+g/OI7jOI7j6D84juM4juPoPziO4ziO4+g/OI7jOI7j6D84juM4juPoPziO4ziO4+g/OI7jOI7j6D84juM4juPoPziO4ziO4+g/AAAAAAAA8D8AAAAAAADwPwAAAAAAAPA/AAAAAAAA8D8AAAAAAADwPwAAAAAAAPA/AAAAAAAA8D8AAAAAAADwPwAAAAAAAPA/AAAAAAAA8D8=",
            "dtype": "f8"
           },
           "y": {
            "bdata": "oHsaYbmnob9OwAyXrnabv12J5GvqnZO/1qR4gUyKh7/L26CsEGNvv8vboKwQY28/1KR4gUyKhz9aieRr6p2TP03ADJeudps/oHsaYbmnoT+gexphuaehv07ADJeudpu/XYnka+qdk7/WpHiBTIqHv8vboKwQY2+/y9ugrBBjbz/UpHiBTIqHP1qJ5GvqnZM/TcAMl652mz+gexphuaehP6B7GmG5p6G/TsAMl652m79dieRr6p2Tv9akeIFMioe/y9ugrBBjb7/L26CsEGNvP9SkeIFMioc/Wonka+qdkz9NwAyXrnabP6B7GmG5p6E/oHsaYbmnob9OwAyXrnabv12J5GvqnZO/1qR4gUyKh7/L26CsEGNvv8vboKwQY28/1KR4gUyKhz9aieRr6p2TP03ADJeudps/oHsaYbmnoT+gexphuaehv07ADJeudpu/XYnka+qdk7/WpHiBTIqHv8vboKwQY2+/y9ugrBBjbz/UpHiBTIqHP1qJ5GvqnZM/TcAMl652mz+gexphuaehP6B7GmG5p6G/TsAMl652m79dieRr6p2Tv9akeIFMioe/y9ugrBBjb7/L26CsEGNvP9SkeIFMioc/Wonka+qdkz9NwAyXrnabP6B7GmG5p6E/oHsaYbmnob9OwAyXrnabv12J5GvqnZO/1qR4gUyKh7/L26CsEGNvv8vboKwQY28/1KR4gUyKhz9aieRr6p2TP03ADJeudps/oHsaYbmnoT+gexphuaehv07ADJeudpu/XYnka+qdk7/WpHiBTIqHv8vboKwQY2+/y9ugrBBjbz/UpHiBTIqHP1qJ5GvqnZM/TcAMl652mz+gexphuaehP6B7GmG5p6G/TsAMl652m79dieRr6p2Tv9akeIFMioe/y9ugrBBjb7/L26CsEGNvP9SkeIFMioc/Wonka+qdkz9NwAyXrnabP6B7GmG5p6E/oHsaYbmnob9OwAyXrnabv12J5GvqnZO/1qR4gUyKh7/L26CsEGNvv8vboKwQY28/1KR4gUyKhz9aieRr6p2TP03ADJeudps/oHsaYbmnoT8=",
            "dtype": "f8"
           }
          },
          {
           "line": {
            "color": "blue",
            "width": 4
           },
           "marker": {
            "size": 6
           },
           "mode": "lines+markers",
           "name": "Vector",
           "type": "scatter",
           "x": [
            0,
            1
           ],
           "y": [
            0,
            0.034482758620689724
           ]
          },
          {
           "line": {
            "color": "black",
            "width": 3
           },
           "marker": {
            "size": 6
           },
           "mode": "lines+markers",
           "name": "X basis (transformed)",
           "type": "scatter",
           "x": [
            0,
            1
           ],
           "y": [
            0,
            0
           ]
          },
          {
           "line": {
            "color": "black",
            "width": 3
           },
           "marker": {
            "size": 6
           },
           "mode": "lines+markers",
           "name": "Y basis (transformed)",
           "type": "scatter",
           "x": [
            0,
            0
           ],
           "y": [
            0,
            0.034482758620689724
           ]
          }
         ],
         "name": "frame0.48"
        },
        {
         "data": [
          {
           "marker": {
            "color": "red",
            "size": 5
           },
           "mode": "markers",
           "name": "Grid",
           "type": "scatter",
           "x": {
            "bdata": "AAAAAAAA8L8AAAAAAADwvwAAAAAAAPC/AAAAAAAA8L8AAAAAAADwvwAAAAAAAPC/AAAAAAAA8L8AAAAAAADwvwAAAAAAAPC/AAAAAAAA8L85juM4juPovzmO4ziO4+i/OY7jOI7j6L85juM4juPovzmO4ziO4+i/OY7jOI7j6L85juM4juPovzmO4ziO4+i/OY7jOI7j6L85juM4juPov3Icx3Ecx+G/chzHcRzH4b9yHMdxHMfhv3Icx3Ecx+G/chzHcRzH4b9yHMdxHMfhv3Icx3Ecx+G/chzHcRzH4b9yHMdxHMfhv3Icx3Ecx+G/VlVVVVVV1b9WVVVVVVXVv1ZVVVVVVdW/VlVVVVVV1b9WVVVVVVXVv1ZVVVVVVdW/VlVVVVVV1b9WVVVVVVXVv1ZVVVVVVdW/VlVVVVVV1b8gx3Ecx3G8vyDHcRzHcby/IMdxHMdxvL8gx3Ecx3G8vyDHcRzHcby/IMdxHMdxvL8gx3Ecx3G8vyDHcRzHcby/IMdxHMdxvL8gx3Ecx3G8vyDHcRzHcbw/IMdxHMdxvD8gx3Ecx3G8PyDHcRzHcbw/IMdxHMdxvD8gx3Ecx3G8PyDHcRzHcbw/IMdxHMdxvD8gx3Ecx3G8PyDHcRzHcbw/VFVVVVVV1T9UVVVVVVXVP1RVVVVVVdU/VFVVVVVV1T9UVVVVVVXVP1RVVVVVVdU/VFVVVVVV1T9UVVVVVVXVP1RVVVVVVdU/VFVVVVVV1T9wHMdxHMfhP3Acx3Ecx+E/cBzHcRzH4T9wHMdxHMfhP3Acx3Ecx+E/cBzHcRzH4T9wHMdxHMfhP3Acx3Ecx+E/cBzHcRzH4T9wHMdxHMfhPziO4ziO4+g/OI7jOI7j6D84juM4juPoPziO4ziO4+g/OI7jOI7j6D84juM4juPoPziO4ziO4+g/OI7jOI7j6D84juM4juPoPziO4ziO4+g/AAAAAAAA8D8AAAAAAADwPwAAAAAAAPA/AAAAAAAA8D8AAAAAAADwPwAAAAAAAPA/AAAAAAAA8D8AAAAAAADwPwAAAAAAAPA/AAAAAAAA8D8=",
            "dtype": "f8"
           },
           "y": {
            "bdata": "oHsaYbmnoT9OwAyXrnabP12J5GvqnZM/1qR4gUyKhz/L26CsEGNvP8vboKwQY2+/1KR4gUyKh79aieRr6p2Tv03ADJeudpu/oHsaYbmnob+gexphuaehP07ADJeudps/XYnka+qdkz/WpHiBTIqHP8vboKwQY28/y9ugrBBjb7/UpHiBTIqHv1qJ5GvqnZO/TcAMl652m7+gexphuaehv6B7GmG5p6E/TsAMl652mz9dieRr6p2TP9akeIFMioc/y9ugrBBjbz/L26CsEGNvv9SkeIFMioe/Wonka+qdk79NwAyXrnabv6B7GmG5p6G/oHsaYbmnoT9OwAyXrnabP12J5GvqnZM/1qR4gUyKhz/L26CsEGNvP8vboKwQY2+/1KR4gUyKh79aieRr6p2Tv03ADJeudpu/oHsaYbmnob+gexphuaehP07ADJeudps/XYnka+qdkz/WpHiBTIqHP8vboKwQY28/y9ugrBBjb7/UpHiBTIqHv1qJ5GvqnZO/TcAMl652m7+gexphuaehv6B7GmG5p6E/TsAMl652mz9dieRr6p2TP9akeIFMioc/y9ugrBBjbz/L26CsEGNvv9SkeIFMioe/Wonka+qdk79NwAyXrnabv6B7GmG5p6G/oHsaYbmnoT9OwAyXrnabP12J5GvqnZM/1qR4gUyKhz/L26CsEGNvP8vboKwQY2+/1KR4gUyKh79aieRr6p2Tv03ADJeudpu/oHsaYbmnob+gexphuaehP07ADJeudps/XYnka+qdkz/WpHiBTIqHP8vboKwQY28/y9ugrBBjb7/UpHiBTIqHv1qJ5GvqnZO/TcAMl652m7+gexphuaehv6B7GmG5p6E/TsAMl652mz9dieRr6p2TP9akeIFMioc/y9ugrBBjbz/L26CsEGNvv9SkeIFMioe/Wonka+qdk79NwAyXrnabv6B7GmG5p6G/oHsaYbmnoT9OwAyXrnabP12J5GvqnZM/1qR4gUyKhz/L26CsEGNvP8vboKwQY2+/1KR4gUyKh79aieRr6p2Tv03ADJeudpu/oHsaYbmnob8=",
            "dtype": "f8"
           }
          },
          {
           "line": {
            "color": "blue",
            "width": 4
           },
           "marker": {
            "size": 6
           },
           "mode": "lines+markers",
           "name": "Vector",
           "type": "scatter",
           "x": [
            0,
            1
           ],
           "y": [
            0,
            -0.034482758620689724
           ]
          },
          {
           "line": {
            "color": "black",
            "width": 3
           },
           "marker": {
            "size": 6
           },
           "mode": "lines+markers",
           "name": "X basis (transformed)",
           "type": "scatter",
           "x": [
            0,
            1
           ],
           "y": [
            0,
            0
           ]
          },
          {
           "line": {
            "color": "black",
            "width": 3
           },
           "marker": {
            "size": 6
           },
           "mode": "lines+markers",
           "name": "Y basis (transformed)",
           "type": "scatter",
           "x": [
            0,
            0
           ],
           "y": [
            0,
            -0.034482758620689724
           ]
          }
         ],
         "name": "frame0.52"
        },
        {
         "data": [
          {
           "marker": {
            "color": "red",
            "size": 5
           },
           "mode": "markers",
           "name": "Grid",
           "type": "scatter",
           "x": {
            "bdata": "AAAAAAAA8L8AAAAAAADwvwAAAAAAAPC/AAAAAAAA8L8AAAAAAADwvwAAAAAAAPC/AAAAAAAA8L8AAAAAAADwvwAAAAAAAPC/AAAAAAAA8L85juM4juPovzmO4ziO4+i/OY7jOI7j6L85juM4juPovzmO4ziO4+i/OY7jOI7j6L85juM4juPovzmO4ziO4+i/OY7jOI7j6L85juM4juPov3Icx3Ecx+G/chzHcRzH4b9yHMdxHMfhv3Icx3Ecx+G/chzHcRzH4b9yHMdxHMfhv3Icx3Ecx+G/chzHcRzH4b9yHMdxHMfhv3Icx3Ecx+G/VlVVVVVV1b9WVVVVVVXVv1ZVVVVVVdW/VlVVVVVV1b9WVVVVVVXVv1ZVVVVVVdW/VlVVVVVV1b9WVVVVVVXVv1ZVVVVVVdW/VlVVVVVV1b8gx3Ecx3G8vyDHcRzHcby/IMdxHMdxvL8gx3Ecx3G8vyDHcRzHcby/IMdxHMdxvL8gx3Ecx3G8vyDHcRzHcby/IMdxHMdxvL8gx3Ecx3G8vyDHcRzHcbw/IMdxHMdxvD8gx3Ecx3G8PyDHcRzHcbw/IMdxHMdxvD8gx3Ecx3G8PyDHcRzHcbw/IMdxHMdxvD8gx3Ecx3G8PyDHcRzHcbw/VFVVVVVV1T9UVVVVVVXVP1RVVVVVVdU/VFVVVVVV1T9UVVVVVVXVP1RVVVVVVdU/VFVVVVVV1T9UVVVVVVXVP1RVVVVVVdU/VFVVVVVV1T9wHMdxHMfhP3Acx3Ecx+E/cBzHcRzH4T9wHMdxHMfhP3Acx3Ecx+E/cBzHcRzH4T9wHMdxHMfhP3Acx3Ecx+E/cBzHcRzH4T9wHMdxHMfhPziO4ziO4+g/OI7jOI7j6D84juM4juPoPziO4ziO4+g/OI7jOI7j6D84juM4juPoPziO4ziO4+g/OI7jOI7j6D84juM4juPoPziO4ziO4+g/AAAAAAAA8D8AAAAAAADwPwAAAAAAAPA/AAAAAAAA8D8AAAAAAADwPwAAAAAAAPA/AAAAAAAA8D8AAAAAAADwPwAAAAAAAPA/AAAAAAAA8D8=",
            "dtype": "f8"
           },
           "y": {
            "bdata": "YLmnEZZ7uj8ukEnxApm0P/nN1qHfbK0/lnsaYbmnoT/KpHiBTIqHP8qkeIFMioe/lHsaYbmnob/2zdah32ytvy2QSfECmbS/YLmnEZZ7ur9guacRlnu6Py6QSfECmbQ/+c3Wod9srT+WexphuaehP8qkeIFMioc/yqR4gUyKh7+Uexphuaehv/bN1qHfbK2/LZBJ8QKZtL9guacRlnu6v2C5pxGWe7o/LpBJ8QKZtD/5zdah32ytP5Z7GmG5p6E/yqR4gUyKhz/KpHiBTIqHv5R7GmG5p6G/9s3Wod9srb8tkEnxApm0v2C5pxGWe7q/YLmnEZZ7uj8ukEnxApm0P/nN1qHfbK0/lnsaYbmnoT/KpHiBTIqHP8qkeIFMioe/lHsaYbmnob/2zdah32ytvy2QSfECmbS/YLmnEZZ7ur9guacRlnu6Py6QSfECmbQ/+c3Wod9srT+WexphuaehP8qkeIFMioc/yqR4gUyKh7+Uexphuaehv/bN1qHfbK2/LZBJ8QKZtL9guacRlnu6v2C5pxGWe7o/LpBJ8QKZtD/5zdah32ytP5Z7GmG5p6E/yqR4gUyKhz/KpHiBTIqHv5R7GmG5p6G/9s3Wod9srb8tkEnxApm0v2C5pxGWe7q/YLmnEZZ7uj8ukEnxApm0P/nN1qHfbK0/lnsaYbmnoT/KpHiBTIqHP8qkeIFMioe/lHsaYbmnob/2zdah32ytvy2QSfECmbS/YLmnEZZ7ur9guacRlnu6Py6QSfECmbQ/+c3Wod9srT+WexphuaehP8qkeIFMioc/yqR4gUyKh7+Uexphuaehv/bN1qHfbK2/LZBJ8QKZtL9guacRlnu6v2C5pxGWe7o/LpBJ8QKZtD/5zdah32ytP5Z7GmG5p6E/yqR4gUyKhz/KpHiBTIqHv5R7GmG5p6G/9s3Wod9srb8tkEnxApm0v2C5pxGWe7q/YLmnEZZ7uj8ukEnxApm0P/nN1qHfbK0/lnsaYbmnoT/KpHiBTIqHP8qkeIFMioe/lHsaYbmnob/2zdah32ytvy2QSfECmbS/YLmnEZZ7ur8=",
            "dtype": "f8"
           }
          },
          {
           "line": {
            "color": "blue",
            "width": 4
           },
           "marker": {
            "size": 6
           },
           "mode": "lines+markers",
           "name": "Vector",
           "type": "scatter",
           "x": [
            0,
            1
           ],
           "y": [
            0,
            -0.10344827586206895
           ]
          },
          {
           "line": {
            "color": "black",
            "width": 3
           },
           "marker": {
            "size": 6
           },
           "mode": "lines+markers",
           "name": "X basis (transformed)",
           "type": "scatter",
           "x": [
            0,
            1
           ],
           "y": [
            0,
            0
           ]
          },
          {
           "line": {
            "color": "black",
            "width": 3
           },
           "marker": {
            "size": 6
           },
           "mode": "lines+markers",
           "name": "Y basis (transformed)",
           "type": "scatter",
           "x": [
            0,
            0
           ],
           "y": [
            0,
            -0.10344827586206895
           ]
          }
         ],
         "name": "frame0.55"
        },
        {
         "data": [
          {
           "marker": {
            "color": "red",
            "size": 5
           },
           "mode": "markers",
           "name": "Grid",
           "type": "scatter",
           "x": {
            "bdata": "AAAAAAAA8L8AAAAAAADwvwAAAAAAAPC/AAAAAAAA8L8AAAAAAADwvwAAAAAAAPC/AAAAAAAA8L8AAAAAAADwvwAAAAAAAPC/AAAAAAAA8L85juM4juPovzmO4ziO4+i/OY7jOI7j6L85juM4juPovzmO4ziO4+i/OY7jOI7j6L85juM4juPovzmO4ziO4+i/OY7jOI7j6L85juM4juPov3Icx3Ecx+G/chzHcRzH4b9yHMdxHMfhv3Icx3Ecx+G/chzHcRzH4b9yHMdxHMfhv3Icx3Ecx+G/chzHcRzH4b9yHMdxHMfhv3Icx3Ecx+G/VlVVVVVV1b9WVVVVVVXVv1ZVVVVVVdW/VlVVVVVV1b9WVVVVVVXVv1ZVVVVVVdW/VlVVVVVV1b9WVVVVVVXVv1ZVVVVVVdW/VlVVVVVV1b8gx3Ecx3G8vyDHcRzHcby/IMdxHMdxvL8gx3Ecx3G8vyDHcRzHcby/IMdxHMdxvL8gx3Ecx3G8vyDHcRzHcby/IMdxHMdxvL8gx3Ecx3G8vyDHcRzHcbw/IMdxHMdxvD8gx3Ecx3G8PyDHcRzHcbw/IMdxHMdxvD8gx3Ecx3G8PyDHcRzHcbw/IMdxHMdxvD8gx3Ecx3G8PyDHcRzHcbw/VFVVVVVV1T9UVVVVVVXVP1RVVVVVVdU/VFVVVVVV1T9UVVVVVVXVP1RVVVVVVdU/VFVVVVVV1T9UVVVVVVXVP1RVVVVVVdU/VFVVVVVV1T9wHMdxHMfhP3Acx3Ecx+E/cBzHcRzH4T9wHMdxHMfhP3Acx3Ecx+E/cBzHcRzH4T9wHMdxHMfhP3Acx3Ecx+E/cBzHcRzH4T9wHMdxHMfhPziO4ziO4+g/OI7jOI7j6D84juM4juPoPziO4ziO4+g/OI7jOI7j6D84juM4juPoPziO4ziO4+g/OI7jOI7j6D84juM4juPoPziO4ziO4+g/AAAAAAAA8D8AAAAAAADwPwAAAAAAAPA/AAAAAAAA8D8AAAAAAADwPwAAAAAAAPA/AAAAAAAA8D8AAAAAAADwPwAAAAAAAPA/AAAAAAAA8D8=",
            "dtype": "f8"
           },
           "y": {
            "bdata": "eBphuacRxj8l+GceLSrBP6Kr3QZlhbg/9s3Wod9srT9RieRr6p2TP1GJ5GvqnZO/883Wod9srb+fq90GZYW4vyT4Zx4tKsG/eBphuacRxr94GmG5pxHGPyX4Zx4tKsE/oqvdBmWFuD/2zdah32ytP1GJ5GvqnZM/UYnka+qdk7/zzdah32ytv5+r3QZlhbi/JPhnHi0qwb94GmG5pxHGv3gaYbmnEcY/JfhnHi0qwT+iq90GZYW4P/bN1qHfbK0/UYnka+qdkz9RieRr6p2Tv/PN1qHfbK2/n6vdBmWFuL8k+GceLSrBv3gaYbmnEca/eBphuacRxj8l+GceLSrBP6Kr3QZlhbg/9s3Wod9srT9RieRr6p2TP1GJ5GvqnZO/883Wod9srb+fq90GZYW4vyT4Zx4tKsG/eBphuacRxr94GmG5pxHGPyX4Zx4tKsE/oqvdBmWFuD/2zdah32ytP1GJ5GvqnZM/UYnka+qdk7/zzdah32ytv5+r3QZlhbi/JPhnHi0qwb94GmG5pxHGv3gaYbmnEcY/JfhnHi0qwT+iq90GZYW4P/bN1qHfbK0/UYnka+qdkz9RieRr6p2Tv/PN1qHfbK2/n6vdBmWFuL8k+GceLSrBv3gaYbmnEca/eBphuacRxj8l+GceLSrBP6Kr3QZlhbg/9s3Wod9srT9RieRr6p2TP1GJ5GvqnZO/883Wod9srb+fq90GZYW4vyT4Zx4tKsG/eBphuacRxr94GmG5pxHGPyX4Zx4tKsE/oqvdBmWFuD/2zdah32ytP1GJ5GvqnZM/UYnka+qdk7/zzdah32ytv5+r3QZlhbi/JPhnHi0qwb94GmG5pxHGv3gaYbmnEcY/JfhnHi0qwT+iq90GZYW4P/bN1qHfbK0/UYnka+qdkz9RieRr6p2Tv/PN1qHfbK2/n6vdBmWFuL8k+GceLSrBv3gaYbmnEca/eBphuacRxj8l+GceLSrBP6Kr3QZlhbg/9s3Wod9srT9RieRr6p2TP1GJ5GvqnZO/883Wod9srb+fq90GZYW4vyT4Zx4tKsG/eBphuacRxr8=",
            "dtype": "f8"
           }
          },
          {
           "line": {
            "color": "blue",
            "width": 4
           },
           "marker": {
            "size": 6
           },
           "mode": "lines+markers",
           "name": "Vector",
           "type": "scatter",
           "x": [
            0,
            1
           ],
           "y": [
            0,
            -0.17241379310344818
           ]
          },
          {
           "line": {
            "color": "black",
            "width": 3
           },
           "marker": {
            "size": 6
           },
           "mode": "lines+markers",
           "name": "X basis (transformed)",
           "type": "scatter",
           "x": [
            0,
            1
           ],
           "y": [
            0,
            0
           ]
          },
          {
           "line": {
            "color": "black",
            "width": 3
           },
           "marker": {
            "size": 6
           },
           "mode": "lines+markers",
           "name": "Y basis (transformed)",
           "type": "scatter",
           "x": [
            0,
            0
           ],
           "y": [
            0,
            -0.17241379310344818
           ]
          }
         ],
         "name": "frame0.59"
        },
        {
         "data": [
          {
           "marker": {
            "color": "red",
            "size": 5
           },
           "mode": "markers",
           "name": "Grid",
           "type": "scatter",
           "x": {
            "bdata": "AAAAAAAA8L8AAAAAAADwvwAAAAAAAPC/AAAAAAAA8L8AAAAAAADwvwAAAAAAAPC/AAAAAAAA8L8AAAAAAADwvwAAAAAAAPC/AAAAAAAA8L85juM4juPovzmO4ziO4+i/OY7jOI7j6L85juM4juPovzmO4ziO4+i/OY7jOI7j6L85juM4juPovzmO4ziO4+i/OY7jOI7j6L85juM4juPov3Icx3Ecx+G/chzHcRzH4b9yHMdxHMfhv3Icx3Ecx+G/chzHcRzH4b9yHMdxHMfhv3Icx3Ecx+G/chzHcRzH4b9yHMdxHMfhv3Icx3Ecx+G/VlVVVVVV1b9WVVVVVVXVv1ZVVVVVVdW/VlVVVVVV1b9WVVVVVVXVv1ZVVVVVVdW/VlVVVVVV1b9WVVVVVVXVv1ZVVVVVVdW/VlVVVVVV1b8gx3Ecx3G8vyDHcRzHcby/IMdxHMdxvL8gx3Ecx3G8vyDHcRzHcby/IMdxHMdxvL8gx3Ecx3G8vyDHcRzHcby/IMdxHMdxvL8gx3Ecx3G8vyDHcRzHcbw/IMdxHMdxvD8gx3Ecx3G8PyDHcRzHcbw/IMdxHMdxvD8gx3Ecx3G8PyDHcRzHcbw/IMdxHMdxvD8gx3Ecx3G8PyDHcRzHcbw/VFVVVVVV1T9UVVVVVVXVP1RVVVVVVdU/VFVVVVVV1T9UVVVVVVXVP1RVVVVVVdU/VFVVVVVV1T9UVVVVVVXVP1RVVVVVVdU/VFVVVVVV1T9wHMdxHMfhP3Acx3Ecx+E/cBzHcRzH4T9wHMdxHMfhP3Acx3Ecx+E/cBzHcRzH4T9wHMdxHMfhP3Acx3Ecx+E/cBzHcRzH4T9wHMdxHMfhPziO4ziO4+g/OI7jOI7j6D84juM4juPoPziO4ziO4+g/OI7jOI7j6D84juM4juPoPziO4ziO4+g/OI7jOI7j6D84juM4juPoPziO4ziO4+g/AAAAAAAA8D8AAAAAAADwPwAAAAAAAPA/AAAAAAAA8D8AAAAAAADwPwAAAAAAAPA/AAAAAAAA8D8AAAAAAADwPwAAAAAAAPA/AAAAAAAA8D8=",
            "dtype": "f8"
           },
           "y": {
            "bdata": "SFjuaYTlzj84KCvE2AfIPyj4Zx4tKsE/MZBJ8QKZtD9DwAyXrnabP0PADJeudpu/L5BJ8QKZtL8m+GceLSrBvzcoK8TYB8i/SFjuaYTlzr9IWO5phOXOPzgoK8TYB8g/KPhnHi0qwT8xkEnxApm0P0PADJeudps/Q8AMl652m78vkEnxApm0vyb4Zx4tKsG/NygrxNgHyL9IWO5phOXOv0hY7mmE5c4/OCgrxNgHyD8o+GceLSrBPzGQSfECmbQ/Q8AMl652mz9DwAyXrnabvy+QSfECmbS/JvhnHi0qwb83KCvE2AfIv0hY7mmE5c6/SFjuaYTlzj84KCvE2AfIPyj4Zx4tKsE/MZBJ8QKZtD9DwAyXrnabP0PADJeudpu/L5BJ8QKZtL8m+GceLSrBvzcoK8TYB8i/SFjuaYTlzr9IWO5phOXOPzgoK8TYB8g/KPhnHi0qwT8xkEnxApm0P0PADJeudps/Q8AMl652m78vkEnxApm0vyb4Zx4tKsG/NygrxNgHyL9IWO5phOXOv0hY7mmE5c4/OCgrxNgHyD8o+GceLSrBPzGQSfECmbQ/Q8AMl652mz9DwAyXrnabvy+QSfECmbS/JvhnHi0qwb83KCvE2AfIv0hY7mmE5c6/SFjuaYTlzj84KCvE2AfIPyj4Zx4tKsE/MZBJ8QKZtD9DwAyXrnabP0PADJeudpu/L5BJ8QKZtL8m+GceLSrBvzcoK8TYB8i/SFjuaYTlzr9IWO5phOXOPzgoK8TYB8g/KPhnHi0qwT8xkEnxApm0P0PADJeudps/Q8AMl652m78vkEnxApm0vyb4Zx4tKsG/NygrxNgHyL9IWO5phOXOv0hY7mmE5c4/OCgrxNgHyD8o+GceLSrBPzGQSfECmbQ/Q8AMl652mz9DwAyXrnabvy+QSfECmbS/JvhnHi0qwb83KCvE2AfIv0hY7mmE5c6/SFjuaYTlzj84KCvE2AfIPyj4Zx4tKsE/MZBJ8QKZtD9DwAyXrnabP0PADJeudpu/L5BJ8QKZtL8m+GceLSrBvzcoK8TYB8i/SFjuaYTlzr8=",
            "dtype": "f8"
           }
          },
          {
           "line": {
            "color": "blue",
            "width": 4
           },
           "marker": {
            "size": 6
           },
           "mode": "lines+markers",
           "name": "Vector",
           "type": "scatter",
           "x": [
            0,
            1
           ],
           "y": [
            0,
            -0.24137931034482762
           ]
          },
          {
           "line": {
            "color": "black",
            "width": 3
           },
           "marker": {
            "size": 6
           },
           "mode": "lines+markers",
           "name": "X basis (transformed)",
           "type": "scatter",
           "x": [
            0,
            1
           ],
           "y": [
            0,
            0
           ]
          },
          {
           "line": {
            "color": "black",
            "width": 3
           },
           "marker": {
            "size": 6
           },
           "mode": "lines+markers",
           "name": "Y basis (transformed)",
           "type": "scatter",
           "x": [
            0,
            0
           ],
           "y": [
            0,
            -0.24137931034482762
           ]
          }
         ],
         "name": "frame0.62"
        },
        {
         "data": [
          {
           "marker": {
            "color": "red",
            "size": 5
           },
           "mode": "markers",
           "name": "Grid",
           "type": "scatter",
           "x": {
            "bdata": "AAAAAAAA8L8AAAAAAADwvwAAAAAAAPC/AAAAAAAA8L8AAAAAAADwvwAAAAAAAPC/AAAAAAAA8L8AAAAAAADwvwAAAAAAAPC/AAAAAAAA8L85juM4juPovzmO4ziO4+i/OY7jOI7j6L85juM4juPovzmO4ziO4+i/OY7jOI7j6L85juM4juPovzmO4ziO4+i/OY7jOI7j6L85juM4juPov3Icx3Ecx+G/chzHcRzH4b9yHMdxHMfhv3Icx3Ecx+G/chzHcRzH4b9yHMdxHMfhv3Icx3Ecx+G/chzHcRzH4b9yHMdxHMfhv3Icx3Ecx+G/VlVVVVVV1b9WVVVVVVXVv1ZVVVVVVdW/VlVVVVVV1b9WVVVVVVXVv1ZVVVVVVdW/VlVVVVVV1b9WVVVVVVXVv1ZVVVVVVdW/VlVVVVVV1b8gx3Ecx3G8vyDHcRzHcby/IMdxHMdxvL8gx3Ecx3G8vyDHcRzHcby/IMdxHMdxvL8gx3Ecx3G8vyDHcRzHcby/IMdxHMdxvL8gx3Ecx3G8vyDHcRzHcbw/IMdxHMdxvD8gx3Ecx3G8PyDHcRzHcbw/IMdxHMdxvD8gx3Ecx3G8PyDHcRzHcbw/IMdxHMdxvD8gx3Ecx3G8PyDHcRzHcbw/VFVVVVVV1T9UVVVVVVXVP1RVVVVVVdU/VFVVVVVV1T9UVVVVVVXVP1RVVVVVVdU/VFVVVVVV1T9UVVVVVVXVP1RVVVVVVdU/VFVVVVVV1T9wHMdxHMfhP3Acx3Ecx+E/cBzHcRzH4T9wHMdxHMfhP3Acx3Ecx+E/cBzHcRzH4T9wHMdxHMfhP3Acx3Ecx+E/cBzHcRzH4T9wHMdxHMfhPziO4ziO4+g/OI7jOI7j6D84juM4juPoPziO4ziO4+g/OI7jOI7j6D84juM4juPoPziO4ziO4+g/OI7jOI7j6D84juM4juPoPziO4ziO4+g/AAAAAAAA8D8AAAAAAADwPwAAAAAAAPA/AAAAAAAA8D8AAAAAAADwPwAAAAAAAPA/AAAAAAAA8D8AAAAAAADwPwAAAAAAAPA/AAAAAAAA8D8=",
            "dtype": "f8"
           },
           "y": {
            "bdata": "CMs9jbDc0z9FWO5phOXOP3saYbmnEcY/YbmnEZZ7uj+YexphuaehP5h7GmG5p6G/XrmnEZZ7ur94GmG5pxHGv0RY7mmE5c6/CMs9jbDc078Iyz2NsNzTP0VY7mmE5c4/exphuacRxj9huacRlnu6P5h7GmG5p6E/mHsaYbmnob9euacRlnu6v3gaYbmnEca/RFjuaYTlzr8Iyz2NsNzTvwjLPY2w3NM/RVjuaYTlzj97GmG5pxHGP2G5pxGWe7o/mHsaYbmnoT+Yexphuaehv165pxGWe7q/eBphuacRxr9EWO5phOXOvwjLPY2w3NO/CMs9jbDc0z9FWO5phOXOP3saYbmnEcY/YbmnEZZ7uj+YexphuaehP5h7GmG5p6G/XrmnEZZ7ur94GmG5pxHGv0RY7mmE5c6/CMs9jbDc078Iyz2NsNzTP0VY7mmE5c4/exphuacRxj9huacRlnu6P5h7GmG5p6E/mHsaYbmnob9euacRlnu6v3gaYbmnEca/RFjuaYTlzr8Iyz2NsNzTvwjLPY2w3NM/RVjuaYTlzj97GmG5pxHGP2G5pxGWe7o/mHsaYbmnoT+Yexphuaehv165pxGWe7q/eBphuacRxr9EWO5phOXOvwjLPY2w3NO/CMs9jbDc0z9FWO5phOXOP3saYbmnEcY/YbmnEZZ7uj+YexphuaehP5h7GmG5p6G/XrmnEZZ7ur94GmG5pxHGv0RY7mmE5c6/CMs9jbDc078Iyz2NsNzTP0VY7mmE5c4/exphuacRxj9huacRlnu6P5h7GmG5p6E/mHsaYbmnob9euacRlnu6v3gaYbmnEca/RFjuaYTlzr8Iyz2NsNzTvwjLPY2w3NM/RVjuaYTlzj97GmG5pxHGP2G5pxGWe7o/mHsaYbmnoT+Yexphuaehv165pxGWe7q/eBphuacRxr9EWO5phOXOvwjLPY2w3NO/CMs9jbDc0z9FWO5phOXOP3saYbmnEcY/YbmnEZZ7uj+YexphuaehP5h7GmG5p6G/XrmnEZZ7ur94GmG5pxHGv0RY7mmE5c6/CMs9jbDc078=",
            "dtype": "f8"
           }
          },
          {
           "line": {
            "color": "blue",
            "width": 4
           },
           "marker": {
            "size": 6
           },
           "mode": "lines+markers",
           "name": "Vector",
           "type": "scatter",
           "x": [
            0,
            1
           ],
           "y": [
            0,
            -0.31034482758620685
           ]
          },
          {
           "line": {
            "color": "black",
            "width": 3
           },
           "marker": {
            "size": 6
           },
           "mode": "lines+markers",
           "name": "X basis (transformed)",
           "type": "scatter",
           "x": [
            0,
            1
           ],
           "y": [
            0,
            0
           ]
          },
          {
           "line": {
            "color": "black",
            "width": 3
           },
           "marker": {
            "size": 6
           },
           "mode": "lines+markers",
           "name": "Y basis (transformed)",
           "type": "scatter",
           "x": [
            0,
            0
           ],
           "y": [
            0,
            -0.31034482758620685
           ]
          }
         ],
         "name": "frame0.66"
        },
        {
         "data": [
          {
           "marker": {
            "color": "red",
            "size": 5
           },
           "mode": "markers",
           "name": "Grid",
           "type": "scatter",
           "x": {
            "bdata": "AAAAAAAA8L8AAAAAAADwvwAAAAAAAPC/AAAAAAAA8L8AAAAAAADwvwAAAAAAAPC/AAAAAAAA8L8AAAAAAADwvwAAAAAAAPC/AAAAAAAA8L85juM4juPovzmO4ziO4+i/OY7jOI7j6L85juM4juPovzmO4ziO4+i/OY7jOI7j6L85juM4juPovzmO4ziO4+i/OY7jOI7j6L85juM4juPov3Icx3Ecx+G/chzHcRzH4b9yHMdxHMfhv3Icx3Ecx+G/chzHcRzH4b9yHMdxHMfhv3Icx3Ecx+G/chzHcRzH4b9yHMdxHMfhv3Icx3Ecx+G/VlVVVVVV1b9WVVVVVVXVv1ZVVVVVVdW/VlVVVVVV1b9WVVVVVVXVv1ZVVVVVVdW/VlVVVVVV1b9WVVVVVVXVv1ZVVVVVVdW/VlVVVVVV1b8gx3Ecx3G8vyDHcRzHcby/IMdxHMdxvL8gx3Ecx3G8vyDHcRzHcby/IMdxHMdxvL8gx3Ecx3G8vyDHcRzHcby/IMdxHMdxvL8gx3Ecx3G8vyDHcRzHcbw/IMdxHMdxvD8gx3Ecx3G8PyDHcRzHcbw/IMdxHMdxvD8gx3Ecx3G8PyDHcRzHcbw/IMdxHMdxvD8gx3Ecx3G8PyDHcRzHcbw/VFVVVVVV1T9UVVVVVVXVP1RVVVVVVdU/VFVVVVVV1T9UVVVVVVXVP1RVVVVVVdU/VFVVVVVV1T9UVVVVVVXVP1RVVVVVVdU/VFVVVVVV1T9wHMdxHMfhP3Acx3Ecx+E/cBzHcRzH4T9wHMdxHMfhP3Acx3Ecx+E/cBzHcRzH4T9wHMdxHMfhP3Acx3Ecx+E/cBzHcRzH4T9wHMdxHMfhPziO4ziO4+g/OI7jOI7j6D84juM4juPoPziO4ziO4+g/OI7jOI7j6D84juM4juPoPziO4ziO4+g/OI7jOI7j6D84juM4juPoPziO4ziO4+g/AAAAAAAA8D8AAAAAAADwPwAAAAAAAPA/AAAAAAAA8D8AAAAAAADwPwAAAAAAAPA/AAAAAAAA8D8AAAAAAADwPwAAAAAAAPA/AAAAAAAA8D8=",
            "dtype": "f8"
           },
           "y": {
            "bdata": "8GmE5Z5G2D8txNgHmOHSP9I8WlQi+co/S/ECmRQvwD8Rl652G5SlPxGXrnYblKW/SvECmRQvwL/PPFpUIvnKvyzE2AeY4dK/8GmE5Z5G2L/waYTlnkbYPy3E2AeY4dI/0jxaVCL5yj9L8QKZFC/APxGXrnYblKU/EZeudhuUpb9K8QKZFC/Av888WlQi+cq/LMTYB5jh0r/waYTlnkbYv/BphOWeRtg/LcTYB5jh0j/SPFpUIvnKP0vxApkUL8A/EZeudhuUpT8Rl652G5Slv0rxApkUL8C/zzxaVCL5yr8sxNgHmOHSv/BphOWeRti/8GmE5Z5G2D8txNgHmOHSP9I8WlQi+co/S/ECmRQvwD8Rl652G5SlPxGXrnYblKW/SvECmRQvwL/PPFpUIvnKvyzE2AeY4dK/8GmE5Z5G2L/waYTlnkbYPy3E2AeY4dI/0jxaVCL5yj9L8QKZFC/APxGXrnYblKU/EZeudhuUpb9K8QKZFC/Av888WlQi+cq/LMTYB5jh0r/waYTlnkbYv/BphOWeRtg/LcTYB5jh0j/SPFpUIvnKP0vxApkUL8A/EZeudhuUpT8Rl652G5Slv0rxApkUL8C/zzxaVCL5yr8sxNgHmOHSv/BphOWeRti/8GmE5Z5G2D8txNgHmOHSP9I8WlQi+co/S/ECmRQvwD8Rl652G5SlPxGXrnYblKW/SvECmRQvwL/PPFpUIvnKvyzE2AeY4dK/8GmE5Z5G2L/waYTlnkbYPy3E2AeY4dI/0jxaVCL5yj9L8QKZFC/APxGXrnYblKU/EZeudhuUpb9K8QKZFC/Av888WlQi+cq/LMTYB5jh0r/waYTlnkbYv/BphOWeRtg/LcTYB5jh0j/SPFpUIvnKP0vxApkUL8A/EZeudhuUpT8Rl652G5Slv0rxApkUL8C/zzxaVCL5yr8sxNgHmOHSv/BphOWeRti/8GmE5Z5G2D8txNgHmOHSP9I8WlQi+co/S/ECmRQvwD8Rl652G5SlPxGXrnYblKW/SvECmRQvwL/PPFpUIvnKvyzE2AeY4dK/8GmE5Z5G2L8=",
            "dtype": "f8"
           }
          },
          {
           "line": {
            "color": "blue",
            "width": 4
           },
           "marker": {
            "size": 6
           },
           "mode": "lines+markers",
           "name": "Vector",
           "type": "scatter",
           "x": [
            0,
            1
           ],
           "y": [
            0,
            -0.3793103448275863
           ]
          },
          {
           "line": {
            "color": "black",
            "width": 3
           },
           "marker": {
            "size": 6
           },
           "mode": "lines+markers",
           "name": "X basis (transformed)",
           "type": "scatter",
           "x": [
            0,
            1
           ],
           "y": [
            0,
            0
           ]
          },
          {
           "line": {
            "color": "black",
            "width": 3
           },
           "marker": {
            "size": 6
           },
           "mode": "lines+markers",
           "name": "Y basis (transformed)",
           "type": "scatter",
           "x": [
            0,
            0
           ],
           "y": [
            0,
            -0.3793103448275863
           ]
          }
         ],
         "name": "frame0.69"
        },
        {
         "data": [
          {
           "marker": {
            "color": "red",
            "size": 5
           },
           "mode": "markers",
           "name": "Grid",
           "type": "scatter",
           "x": {
            "bdata": "AAAAAAAA8L8AAAAAAADwvwAAAAAAAPC/AAAAAAAA8L8AAAAAAADwvwAAAAAAAPC/AAAAAAAA8L8AAAAAAADwvwAAAAAAAPC/AAAAAAAA8L85juM4juPovzmO4ziO4+i/OY7jOI7j6L85juM4juPovzmO4ziO4+i/OY7jOI7j6L85juM4juPovzmO4ziO4+i/OY7jOI7j6L85juM4juPov3Icx3Ecx+G/chzHcRzH4b9yHMdxHMfhv3Icx3Ecx+G/chzHcRzH4b9yHMdxHMfhv3Icx3Ecx+G/chzHcRzH4b9yHMdxHMfhv3Icx3Ecx+G/VlVVVVVV1b9WVVVVVVXVv1ZVVVVVVdW/VlVVVVVV1b9WVVVVVVXVv1ZVVVVVVdW/VlVVVVVV1b9WVVVVVVXVv1ZVVVVVVdW/VlVVVVVV1b8gx3Ecx3G8vyDHcRzHcby/IMdxHMdxvL8gx3Ecx3G8vyDHcRzHcby/IMdxHMdxvL8gx3Ecx3G8vyDHcRzHcby/IMdxHMdxvL8gx3Ecx3G8vyDHcRzHcbw/IMdxHMdxvD8gx3Ecx3G8PyDHcRzHcbw/IMdxHMdxvD8gx3Ecx3G8PyDHcRzHcbw/IMdxHMdxvD8gx3Ecx3G8PyDHcRzHcbw/VFVVVVVV1T9UVVVVVVXVP1RVVVVVVdU/VFVVVVVV1T9UVVVVVVXVP1RVVVVVVdU/VFVVVVVV1T9UVVVVVVXVP1RVVVVVVdU/VFVVVVVV1T9wHMdxHMfhP3Acx3Ecx+E/cBzHcRzH4T9wHMdxHMfhP3Acx3Ecx+E/cBzHcRzH4T9wHMdxHMfhP3Acx3Ecx+E/cBzHcRzH4T9wHMdxHMfhPziO4ziO4+g/OI7jOI7j6D84juM4juPoPziO4ziO4+g/OI7jOI7j6D84juM4juPoPziO4ziO4+g/OI7jOI7j6D84juM4juPoPziO4ziO4+g/AAAAAAAA8D8AAAAAAADwPwAAAAAAAPA/AAAAAAAA8D8AAAAAAADwPwAAAAAAAPA/AAAAAAAA8D8AAAAAAADwPwAAAAAAAPA/AAAAAAAA8D8=",
            "dtype": "f8"
           },
           "y": {
            "bdata": "1AjLPY2w3D8zXLrabVDWPyVfU++c4M8/4wUyKV4gwz+HskKMfYCpP4eyQox9gKm/4QUyKV4gw78hX1PvnODPvzJcutptUNa/1AjLPY2w3L/UCMs9jbDcPzNcutptUNY/JV9T75zgzz/jBTIpXiDDP4eyQox9gKk/h7JCjH2Aqb/hBTIpXiDDvyFfU++c4M+/Mly62m1Q1r/UCMs9jbDcv9QIyz2NsNw/M1y62m1Q1j8lX1PvnODPP+MFMileIMM/h7JCjH2AqT+HskKMfYCpv+EFMileIMO/IV9T75zgz78yXLrabVDWv9QIyz2NsNy/1AjLPY2w3D8zXLrabVDWPyVfU++c4M8/4wUyKV4gwz+HskKMfYCpP4eyQox9gKm/4QUyKV4gw78hX1PvnODPvzJcutptUNa/1AjLPY2w3L/UCMs9jbDcPzNcutptUNY/JV9T75zgzz/jBTIpXiDDP4eyQox9gKk/h7JCjH2Aqb/hBTIpXiDDvyFfU++c4M+/Mly62m1Q1r/UCMs9jbDcv9QIyz2NsNw/M1y62m1Q1j8lX1PvnODPP+MFMileIMM/h7JCjH2AqT+HskKMfYCpv+EFMileIMO/IV9T75zgz78yXLrabVDWv9QIyz2NsNy/1AjLPY2w3D8zXLrabVDWPyVfU++c4M8/4wUyKV4gwz+HskKMfYCpP4eyQox9gKm/4QUyKV4gw78hX1PvnODPvzJcutptUNa/1AjLPY2w3L/UCMs9jbDcPzNcutptUNY/JV9T75zgzz/jBTIpXiDDP4eyQox9gKk/h7JCjH2Aqb/hBTIpXiDDvyFfU++c4M+/Mly62m1Q1r/UCMs9jbDcv9QIyz2NsNw/M1y62m1Q1j8lX1PvnODPP+MFMileIMM/h7JCjH2AqT+HskKMfYCpv+EFMileIMO/IV9T75zgz78yXLrabVDWv9QIyz2NsNy/1AjLPY2w3D8zXLrabVDWPyVfU++c4M8/4wUyKV4gwz+HskKMfYCpP4eyQox9gKm/4QUyKV4gw78hX1PvnODPvzJcutptUNa/1AjLPY2w3L8=",
            "dtype": "f8"
           }
          },
          {
           "line": {
            "color": "blue",
            "width": 4
           },
           "marker": {
            "size": 6
           },
           "mode": "lines+markers",
           "name": "Vector",
           "type": "scatter",
           "x": [
            0,
            1
           ],
           "y": [
            0,
            -0.4482758620689655
           ]
          },
          {
           "line": {
            "color": "black",
            "width": 3
           },
           "marker": {
            "size": 6
           },
           "mode": "lines+markers",
           "name": "X basis (transformed)",
           "type": "scatter",
           "x": [
            0,
            1
           ],
           "y": [
            0,
            0
           ]
          },
          {
           "line": {
            "color": "black",
            "width": 3
           },
           "marker": {
            "size": 6
           },
           "mode": "lines+markers",
           "name": "Y basis (transformed)",
           "type": "scatter",
           "x": [
            0,
            0
           ],
           "y": [
            0,
            -0.4482758620689655
           ]
          }
         ],
         "name": "frame0.72"
        },
        {
         "data": [
          {
           "marker": {
            "color": "red",
            "size": 5
           },
           "mode": "markers",
           "name": "Grid",
           "type": "scatter",
           "x": {
            "bdata": "AAAAAAAA8L8AAAAAAADwvwAAAAAAAPC/AAAAAAAA8L8AAAAAAADwvwAAAAAAAPC/AAAAAAAA8L8AAAAAAADwvwAAAAAAAPC/AAAAAAAA8L85juM4juPovzmO4ziO4+i/OY7jOI7j6L85juM4juPovzmO4ziO4+i/OY7jOI7j6L85juM4juPovzmO4ziO4+i/OY7jOI7j6L85juM4juPov3Icx3Ecx+G/chzHcRzH4b9yHMdxHMfhv3Icx3Ecx+G/chzHcRzH4b9yHMdxHMfhv3Icx3Ecx+G/chzHcRzH4b9yHMdxHMfhv3Icx3Ecx+G/VlVVVVVV1b9WVVVVVVXVv1ZVVVVVVdW/VlVVVVVV1b9WVVVVVVXVv1ZVVVVVVdW/VlVVVVVV1b9WVVVVVVXVv1ZVVVVVVdW/VlVVVVVV1b8gx3Ecx3G8vyDHcRzHcby/IMdxHMdxvL8gx3Ecx3G8vyDHcRzHcby/IMdxHMdxvL8gx3Ecx3G8vyDHcRzHcby/IMdxHMdxvL8gx3Ecx3G8vyDHcRzHcbw/IMdxHMdxvD8gx3Ecx3G8PyDHcRzHcbw/IMdxHMdxvD8gx3Ecx3G8PyDHcRzHcbw/IMdxHMdxvD8gx3Ecx3G8PyDHcRzHcbw/VFVVVVVV1T9UVVVVVVXVP1RVVVVVVdU/VFVVVVVV1T9UVVVVVVXVP1RVVVVVVdU/VFVVVVVV1T9UVVVVVVXVP1RVVVVVVdU/VFVVVVVV1T9wHMdxHMfhP3Acx3Ecx+E/cBzHcRzH4T9wHMdxHMfhP3Acx3Ecx+E/cBzHcRzH4T9wHMdxHMfhP3Acx3Ecx+E/cBzHcRzH4T9wHMdxHMfhPziO4ziO4+g/OI7jOI7j6D84juM4juPoPziO4ziO4+g/OI7jOI7j6D84juM4juPoPziO4ziO4+g/OI7jOI7j6D84juM4juPoPziO4ziO4+g/AAAAAAAA8D8AAAAAAADwPwAAAAAAAPA/AAAAAAAA8D8AAAAAAADwPwAAAAAAAPA/AAAAAAAA8D8AAAAAAADwPwAAAAAAAPA/AAAAAAAA8D8=",
            "dtype": "f8"
           },
           "y": {
            "bdata": "3NMIyz2N4D869JutQ7/ZP7xAJsULZNI/exphuacRxj/9zdah32ytP/3N1qHfbK2/eRphuacRxr+6QCbFC2TSvzn0m61Dv9m/3NMIyz2N4L/c0wjLPY3gPzr0m61Dv9k/vEAmxQtk0j97GmG5pxHGP/3N1qHfbK0//c3Wod9srb95GmG5pxHGv7pAJsULZNK/OfSbrUO/2b/c0wjLPY3gv9zTCMs9jeA/OvSbrUO/2T+8QCbFC2TSP3saYbmnEcY//c3Wod9srT/9zdah32ytv3kaYbmnEca/ukAmxQtk0r859JutQ7/Zv9zTCMs9jeC/3NMIyz2N4D869JutQ7/ZP7xAJsULZNI/exphuacRxj/9zdah32ytP/3N1qHfbK2/eRphuacRxr+6QCbFC2TSvzn0m61Dv9m/3NMIyz2N4L/c0wjLPY3gPzr0m61Dv9k/vEAmxQtk0j97GmG5pxHGP/3N1qHfbK0//c3Wod9srb95GmG5pxHGv7pAJsULZNK/OfSbrUO/2b/c0wjLPY3gv9zTCMs9jeA/OvSbrUO/2T+8QCbFC2TSP3saYbmnEcY//c3Wod9srT/9zdah32ytv3kaYbmnEca/ukAmxQtk0r859JutQ7/Zv9zTCMs9jeC/3NMIyz2N4D869JutQ7/ZP7xAJsULZNI/exphuacRxj/9zdah32ytP/3N1qHfbK2/eRphuacRxr+6QCbFC2TSvzn0m61Dv9m/3NMIyz2N4L/c0wjLPY3gPzr0m61Dv9k/vEAmxQtk0j97GmG5pxHGP/3N1qHfbK0//c3Wod9srb95GmG5pxHGv7pAJsULZNK/OfSbrUO/2b/c0wjLPY3gv9zTCMs9jeA/OvSbrUO/2T+8QCbFC2TSP3saYbmnEcY//c3Wod9srT/9zdah32ytv3kaYbmnEca/ukAmxQtk0r859JutQ7/Zv9zTCMs9jeC/3NMIyz2N4D869JutQ7/ZP7xAJsULZNI/exphuacRxj/9zdah32ytP/3N1qHfbK2/eRphuacRxr+6QCbFC2TSvzn0m61Dv9m/3NMIyz2N4L8=",
            "dtype": "f8"
           }
          },
          {
           "line": {
            "color": "blue",
            "width": 4
           },
           "marker": {
            "size": 6
           },
           "mode": "lines+markers",
           "name": "Vector",
           "type": "scatter",
           "x": [
            0,
            1
           ],
           "y": [
            0,
            -0.5172413793103448
           ]
          },
          {
           "line": {
            "color": "black",
            "width": 3
           },
           "marker": {
            "size": 6
           },
           "mode": "lines+markers",
           "name": "X basis (transformed)",
           "type": "scatter",
           "x": [
            0,
            1
           ],
           "y": [
            0,
            0
           ]
          },
          {
           "line": {
            "color": "black",
            "width": 3
           },
           "marker": {
            "size": 6
           },
           "mode": "lines+markers",
           "name": "Y basis (transformed)",
           "type": "scatter",
           "x": [
            0,
            0
           ],
           "y": [
            0,
            -0.5172413793103448
           ]
          }
         ],
         "name": "frame0.76"
        },
        {
         "data": [
          {
           "marker": {
            "color": "red",
            "size": 5
           },
           "mode": "markers",
           "name": "Grid",
           "type": "scatter",
           "x": {
            "bdata": "AAAAAAAA8L8AAAAAAADwvwAAAAAAAPC/AAAAAAAA8L8AAAAAAADwvwAAAAAAAPC/AAAAAAAA8L8AAAAAAADwvwAAAAAAAPC/AAAAAAAA8L85juM4juPovzmO4ziO4+i/OY7jOI7j6L85juM4juPovzmO4ziO4+i/OY7jOI7j6L85juM4juPovzmO4ziO4+i/OY7jOI7j6L85juM4juPov3Icx3Ecx+G/chzHcRzH4b9yHMdxHMfhv3Icx3Ecx+G/chzHcRzH4b9yHMdxHMfhv3Icx3Ecx+G/chzHcRzH4b9yHMdxHMfhv3Icx3Ecx+G/VlVVVVVV1b9WVVVVVVXVv1ZVVVVVVdW/VlVVVVVV1b9WVVVVVVXVv1ZVVVVVVdW/VlVVVVVV1b9WVVVVVVXVv1ZVVVVVVdW/VlVVVVVV1b8gx3Ecx3G8vyDHcRzHcby/IMdxHMdxvL8gx3Ecx3G8vyDHcRzHcby/IMdxHMdxvL8gx3Ecx3G8vyDHcRzHcby/IMdxHMdxvL8gx3Ecx3G8vyDHcRzHcbw/IMdxHMdxvD8gx3Ecx3G8PyDHcRzHcbw/IMdxHMdxvD8gx3Ecx3G8PyDHcRzHcbw/IMdxHMdxvD8gx3Ecx3G8PyDHcRzHcbw/VFVVVVVV1T9UVVVVVVXVP1RVVVVVVdU/VFVVVVVV1T9UVVVVVVXVP1RVVVVVVdU/VFVVVVVV1T9UVVVVVVXVP1RVVVVVVdU/VFVVVVVV1T9wHMdxHMfhP3Acx3Ecx+E/cBzHcRzH4T9wHMdxHMfhP3Acx3Ecx+E/cBzHcRzH4T9wHMdxHMfhP3Acx3Ecx+E/cBzHcRzH4T9wHMdxHMfhPziO4ziO4+g/OI7jOI7j6D84juM4juPoPziO4ziO4+g/OI7jOI7j6D84juM4juPoPziO4ziO4+g/OI7jOI7j6D84juM4juPoPziO4ziO4+g/AAAAAAAA8D8AAAAAAADwPwAAAAAAAPA/AAAAAAAA8D8AAAAAAADwPwAAAAAAAPA/AAAAAAAA8D8AAAAAAADwPwAAAAAAAPA/AAAAAAAA8D8=",
            "dtype": "f8"
           },
           "y": {
            "bdata": "UCMs9zTC4j9EjH2AGS7dP+fRohLJ19Q/Fi+QSfECyT+7dLXboKywP7t0tdugrLC/FC+QSfECyb/l0aISydfUv0OMfYAZLt2/UCMs9zTC4r9QIyz3NMLiP0SMfYAZLt0/59GiEsnX1D8WL5BJ8QLJP7t0tdugrLA/u3S126CssL8UL5BJ8QLJv+XRohLJ19S/Q4x9gBku3b9QIyz3NMLiv1AjLPc0wuI/RIx9gBku3T/n0aISydfUPxYvkEnxAsk/u3S126CssD+7dLXboKywvxQvkEnxAsm/5dGiEsnX1L9DjH2AGS7dv1AjLPc0wuK/UCMs9zTC4j9EjH2AGS7dP+fRohLJ19Q/Fi+QSfECyT+7dLXboKywP7t0tdugrLC/FC+QSfECyb/l0aISydfUv0OMfYAZLt2/UCMs9zTC4r9QIyz3NMLiP0SMfYAZLt0/59GiEsnX1D8WL5BJ8QLJP7t0tdugrLA/u3S126CssL8UL5BJ8QLJv+XRohLJ19S/Q4x9gBku3b9QIyz3NMLiv1AjLPc0wuI/RIx9gBku3T/n0aISydfUPxYvkEnxAsk/u3S126CssD+7dLXboKywvxQvkEnxAsm/5dGiEsnX1L9DjH2AGS7dv1AjLPc0wuK/UCMs9zTC4j9EjH2AGS7dP+fRohLJ19Q/Fi+QSfECyT+7dLXboKywP7t0tdugrLC/FC+QSfECyb/l0aISydfUv0OMfYAZLt2/UCMs9zTC4r9QIyz3NMLiP0SMfYAZLt0/59GiEsnX1D8WL5BJ8QLJP7t0tdugrLA/u3S126CssL8UL5BJ8QLJv+XRohLJ19S/Q4x9gBku3b9QIyz3NMLiv1AjLPc0wuI/RIx9gBku3T/n0aISydfUPxYvkEnxAsk/u3S126CssD+7dLXboKywvxQvkEnxAsm/5dGiEsnX1L9DjH2AGS7dv1AjLPc0wuK/UCMs9zTC4j9EjH2AGS7dP+fRohLJ19Q/Fi+QSfECyT+7dLXboKywP7t0tdugrLC/FC+QSfECyb/l0aISydfUv0OMfYAZLt2/UCMs9zTC4r8=",
            "dtype": "f8"
           }
          },
          {
           "line": {
            "color": "blue",
            "width": 4
           },
           "marker": {
            "size": 6
           },
           "mode": "lines+markers",
           "name": "Vector",
           "type": "scatter",
           "x": [
            0,
            1
           ],
           "y": [
            0,
            -0.5862068965517242
           ]
          },
          {
           "line": {
            "color": "black",
            "width": 3
           },
           "marker": {
            "size": 6
           },
           "mode": "lines+markers",
           "name": "X basis (transformed)",
           "type": "scatter",
           "x": [
            0,
            1
           ],
           "y": [
            0,
            0
           ]
          },
          {
           "line": {
            "color": "black",
            "width": 3
           },
           "marker": {
            "size": 6
           },
           "mode": "lines+markers",
           "name": "Y basis (transformed)",
           "type": "scatter",
           "x": [
            0,
            0
           ],
           "y": [
            0,
            -0.5862068965517242
           ]
          }
         ],
         "name": "frame0.79"
        },
        {
         "data": [
          {
           "marker": {
            "color": "red",
            "size": 5
           },
           "mode": "markers",
           "name": "Grid",
           "type": "scatter",
           "x": {
            "bdata": "AAAAAAAA8L8AAAAAAADwvwAAAAAAAPC/AAAAAAAA8L8AAAAAAADwvwAAAAAAAPC/AAAAAAAA8L8AAAAAAADwvwAAAAAAAPC/AAAAAAAA8L85juM4juPovzmO4ziO4+i/OY7jOI7j6L85juM4juPovzmO4ziO4+i/OY7jOI7j6L85juM4juPovzmO4ziO4+i/OY7jOI7j6L85juM4juPov3Icx3Ecx+G/chzHcRzH4b9yHMdxHMfhv3Icx3Ecx+G/chzHcRzH4b9yHMdxHMfhv3Icx3Ecx+G/chzHcRzH4b9yHMdxHMfhv3Icx3Ecx+G/VlVVVVVV1b9WVVVVVVXVv1ZVVVVVVdW/VlVVVVVV1b9WVVVVVVXVv1ZVVVVVVdW/VlVVVVVV1b9WVVVVVVXVv1ZVVVVVVdW/VlVVVVVV1b8gx3Ecx3G8vyDHcRzHcby/IMdxHMdxvL8gx3Ecx3G8vyDHcRzHcby/IMdxHMdxvL8gx3Ecx3G8vyDHcRzHcby/IMdxHMdxvL8gx3Ecx3G8vyDHcRzHcbw/IMdxHMdxvD8gx3Ecx3G8PyDHcRzHcbw/IMdxHMdxvD8gx3Ecx3G8PyDHcRzHcbw/IMdxHMdxvD8gx3Ecx3G8PyDHcRzHcbw/VFVVVVVV1T9UVVVVVVXVP1RVVVVVVdU/VFVVVVVV1T9UVVVVVVXVP1RVVVVVVdU/VFVVVVVV1T9UVVVVVVXVP1RVVVVVVdU/VFVVVVVV1T9wHMdxHMfhP3Acx3Ecx+E/cBzHcRzH4T9wHMdxHMfhP3Acx3Ecx+E/cBzHcRzH4T9wHMdxHMfhP3Acx3Ecx+E/cBzHcRzH4T9wHMdxHMfhPziO4ziO4+g/OI7jOI7j6D84juM4juPoPziO4ziO4+g/OI7jOI7j6D84juM4juPoPziO4ziO4+g/OI7jOI7j6D84juM4juPoPziO4ziO4+g/AAAAAAAA8D8AAAAAAADwPwAAAAAAAPA/AAAAAAAA8D8AAAAAAADwPwAAAAAAAPA/AAAAAAAA8D8AAAAAAADwPwAAAAAAAPA/AAAAAAAA8D8=",
            "dtype": "f8"
           },
           "y": {
            "bdata": "wnJPIyz35D8lkq+pd07gPxFjH2CGS9c/rkO/2Tr0yz92gn/m0aKyP3aCf+bRorK/rEO/2Tr0y78OYx9ghkvXvyWSr6l3TuC/wnJPIyz35L/Cck8jLPfkPyWSr6l3TuA/EWMfYIZL1z+uQ7/ZOvTLP3aCf+bRorI/doJ/5tGisr+sQ7/ZOvTLvw5jH2CGS9e/JZKvqXdO4L/Cck8jLPfkv8JyTyMs9+Q/JZKvqXdO4D8RYx9ghkvXP65Dv9k69Ms/doJ/5tGisj92gn/m0aKyv6xDv9k69Mu/DmMfYIZL178lkq+pd07gv8JyTyMs9+S/wnJPIyz35D8lkq+pd07gPxFjH2CGS9c/rkO/2Tr0yz92gn/m0aKyP3aCf+bRorK/rEO/2Tr0y78OYx9ghkvXvyWSr6l3TuC/wnJPIyz35L/Cck8jLPfkPyWSr6l3TuA/EWMfYIZL1z+uQ7/ZOvTLP3aCf+bRorI/doJ/5tGisr+sQ7/ZOvTLvw5jH2CGS9e/JZKvqXdO4L/Cck8jLPfkv8JyTyMs9+Q/JZKvqXdO4D8RYx9ghkvXP65Dv9k69Ms/doJ/5tGisj92gn/m0aKyv6xDv9k69Mu/DmMfYIZL178lkq+pd07gv8JyTyMs9+S/wnJPIyz35D8lkq+pd07gPxFjH2CGS9c/rkO/2Tr0yz92gn/m0aKyP3aCf+bRorK/rEO/2Tr0y78OYx9ghkvXvyWSr6l3TuC/wnJPIyz35L/Cck8jLPfkPyWSr6l3TuA/EWMfYIZL1z+uQ7/ZOvTLP3aCf+bRorI/doJ/5tGisr+sQ7/ZOvTLvw5jH2CGS9e/JZKvqXdO4L/Cck8jLPfkv8JyTyMs9+Q/JZKvqXdO4D8RYx9ghkvXP65Dv9k69Ms/doJ/5tGisj92gn/m0aKyv6xDv9k69Mu/DmMfYIZL178lkq+pd07gv8JyTyMs9+S/wnJPIyz35D8lkq+pd07gPxFjH2CGS9c/rkO/2Tr0yz92gn/m0aKyP3aCf+bRorK/rEO/2Tr0y78OYx9ghkvXvyWSr6l3TuC/wnJPIyz35L8=",
            "dtype": "f8"
           }
          },
          {
           "line": {
            "color": "blue",
            "width": 4
           },
           "marker": {
            "size": 6
           },
           "mode": "lines+markers",
           "name": "Vector",
           "type": "scatter",
           "x": [
            0,
            1
           ],
           "y": [
            0,
            -0.6551724137931034
           ]
          },
          {
           "line": {
            "color": "black",
            "width": 3
           },
           "marker": {
            "size": 6
           },
           "mode": "lines+markers",
           "name": "X basis (transformed)",
           "type": "scatter",
           "x": [
            0,
            1
           ],
           "y": [
            0,
            0
           ]
          },
          {
           "line": {
            "color": "black",
            "width": 3
           },
           "marker": {
            "size": 6
           },
           "mode": "lines+markers",
           "name": "Y basis (transformed)",
           "type": "scatter",
           "x": [
            0,
            0
           ],
           "y": [
            0,
            -0.6551724137931034
           ]
          }
         ],
         "name": "frame0.83"
        },
        {
         "data": [
          {
           "marker": {
            "color": "red",
            "size": 5
           },
           "mode": "markers",
           "name": "Grid",
           "type": "scatter",
           "x": {
            "bdata": "AAAAAAAA8L8AAAAAAADwvwAAAAAAAPC/AAAAAAAA8L8AAAAAAADwvwAAAAAAAPC/AAAAAAAA8L8AAAAAAADwvwAAAAAAAPC/AAAAAAAA8L85juM4juPovzmO4ziO4+i/OY7jOI7j6L85juM4juPovzmO4ziO4+i/OY7jOI7j6L85juM4juPovzmO4ziO4+i/OY7jOI7j6L85juM4juPov3Icx3Ecx+G/chzHcRzH4b9yHMdxHMfhv3Icx3Ecx+G/chzHcRzH4b9yHMdxHMfhv3Icx3Ecx+G/chzHcRzH4b9yHMdxHMfhv3Icx3Ecx+G/VlVVVVVV1b9WVVVVVVXVv1ZVVVVVVdW/VlVVVVVV1b9WVVVVVVXVv1ZVVVVVVdW/VlVVVVVV1b9WVVVVVVXVv1ZVVVVVVdW/VlVVVVVV1b8gx3Ecx3G8vyDHcRzHcby/IMdxHMdxvL8gx3Ecx3G8vyDHcRzHcby/IMdxHMdxvL8gx3Ecx3G8vyDHcRzHcby/IMdxHMdxvL8gx3Ecx3G8vyDHcRzHcbw/IMdxHMdxvD8gx3Ecx3G8PyDHcRzHcbw/IMdxHMdxvD8gx3Ecx3G8PyDHcRzHcbw/IMdxHMdxvD8gx3Ecx3G8PyDHcRzHcbw/VFVVVVVV1T9UVVVVVVXVP1RVVVVVVdU/VFVVVVVV1T9UVVVVVVXVP1RVVVVVVdU/VFVVVVVV1T9UVVVVVVXVP1RVVVVVVdU/VFVVVVVV1T9wHMdxHMfhP3Acx3Ecx+E/cBzHcRzH4T9wHMdxHMfhP3Acx3Ecx+E/cBzHcRzH4T9wHMdxHMfhP3Acx3Ecx+E/cBzHcRzH4T9wHMdxHMfhPziO4ziO4+g/OI7jOI7j6D84juM4juPoPziO4ziO4+g/OI7jOI7j6D84juM4juPoPziO4ziO4+g/OI7jOI7j6D84juM4juPoPziO4ziO4+g/AAAAAAAA8D8AAAAAAADwPwAAAAAAAPA/AAAAAAAA8D8AAAAAAADwPwAAAAAAAPA/AAAAAAAA8D8AAAAAAADwPwAAAAAAAPA/AAAAAAAA8D8=",
            "dtype": "f8"
           },
           "y": {
            "bdata": "NMJyTyMs5z8pXiCT4gXiPzr0m61Dv9k/RljuaYTlzj8xkEnxApm0PzGQSfECmbS/Q1juaYTlzr839JutQ7/ZvyheIJPiBeK/NMJyTyMs5780wnJPIyznPyleIJPiBeI/OvSbrUO/2T9GWO5phOXOPzGQSfECmbQ/MZBJ8QKZtL9DWO5phOXOvzf0m61Dv9m/KF4gk+IF4r80wnJPIyznvzTCck8jLOc/KV4gk+IF4j869JutQ7/ZP0ZY7mmE5c4/MZBJ8QKZtD8xkEnxApm0v0NY7mmE5c6/N/SbrUO/2b8oXiCT4gXivzTCck8jLOe/NMJyTyMs5z8pXiCT4gXiPzr0m61Dv9k/RljuaYTlzj8xkEnxApm0PzGQSfECmbS/Q1juaYTlzr839JutQ7/ZvyheIJPiBeK/NMJyTyMs5780wnJPIyznPyleIJPiBeI/OvSbrUO/2T9GWO5phOXOPzGQSfECmbQ/MZBJ8QKZtL9DWO5phOXOvzf0m61Dv9m/KF4gk+IF4r80wnJPIyznvzTCck8jLOc/KV4gk+IF4j869JutQ7/ZP0ZY7mmE5c4/MZBJ8QKZtD8xkEnxApm0v0NY7mmE5c6/N/SbrUO/2b8oXiCT4gXivzTCck8jLOe/NMJyTyMs5z8pXiCT4gXiPzr0m61Dv9k/RljuaYTlzj8xkEnxApm0PzGQSfECmbS/Q1juaYTlzr839JutQ7/ZvyheIJPiBeK/NMJyTyMs5780wnJPIyznPyleIJPiBeI/OvSbrUO/2T9GWO5phOXOPzGQSfECmbQ/MZBJ8QKZtL9DWO5phOXOvzf0m61Dv9m/KF4gk+IF4r80wnJPIyznvzTCck8jLOc/KV4gk+IF4j869JutQ7/ZP0ZY7mmE5c4/MZBJ8QKZtD8xkEnxApm0v0NY7mmE5c6/N/SbrUO/2b8oXiCT4gXivzTCck8jLOe/NMJyTyMs5z8pXiCT4gXiPzr0m61Dv9k/RljuaYTlzj8xkEnxApm0PzGQSfECmbS/Q1juaYTlzr839JutQ7/ZvyheIJPiBeK/NMJyTyMs578=",
            "dtype": "f8"
           }
          },
          {
           "line": {
            "color": "blue",
            "width": 4
           },
           "marker": {
            "size": 6
           },
           "mode": "lines+markers",
           "name": "Vector",
           "type": "scatter",
           "x": [
            0,
            1
           ],
           "y": [
            0,
            -0.7241379310344827
           ]
          },
          {
           "line": {
            "color": "black",
            "width": 3
           },
           "marker": {
            "size": 6
           },
           "mode": "lines+markers",
           "name": "X basis (transformed)",
           "type": "scatter",
           "x": [
            0,
            1
           ],
           "y": [
            0,
            0
           ]
          },
          {
           "line": {
            "color": "black",
            "width": 3
           },
           "marker": {
            "size": 6
           },
           "mode": "lines+markers",
           "name": "Y basis (transformed)",
           "type": "scatter",
           "x": [
            0,
            0
           ],
           "y": [
            0,
            -0.7241379310344827
           ]
          }
         ],
         "name": "frame0.86"
        },
        {
         "data": [
          {
           "marker": {
            "color": "red",
            "size": 5
           },
           "mode": "markers",
           "name": "Grid",
           "type": "scatter",
           "x": {
            "bdata": "AAAAAAAA8L8AAAAAAADwvwAAAAAAAPC/AAAAAAAA8L8AAAAAAADwvwAAAAAAAPC/AAAAAAAA8L8AAAAAAADwvwAAAAAAAPC/AAAAAAAA8L85juM4juPovzmO4ziO4+i/OY7jOI7j6L85juM4juPovzmO4ziO4+i/OY7jOI7j6L85juM4juPovzmO4ziO4+i/OY7jOI7j6L85juM4juPov3Icx3Ecx+G/chzHcRzH4b9yHMdxHMfhv3Icx3Ecx+G/chzHcRzH4b9yHMdxHMfhv3Icx3Ecx+G/chzHcRzH4b9yHMdxHMfhv3Icx3Ecx+G/VlVVVVVV1b9WVVVVVVXVv1ZVVVVVVdW/VlVVVVVV1b9WVVVVVVXVv1ZVVVVVVdW/VlVVVVVV1b9WVVVVVVXVv1ZVVVVVVdW/VlVVVVVV1b8gx3Ecx3G8vyDHcRzHcby/IMdxHMdxvL8gx3Ecx3G8vyDHcRzHcby/IMdxHMdxvL8gx3Ecx3G8vyDHcRzHcby/IMdxHMdxvL8gx3Ecx3G8vyDHcRzHcbw/IMdxHMdxvD8gx3Ecx3G8PyDHcRzHcbw/IMdxHMdxvD8gx3Ecx3G8PyDHcRzHcbw/IMdxHMdxvD8gx3Ecx3G8PyDHcRzHcbw/VFVVVVVV1T9UVVVVVVXVP1RVVVVVVdU/VFVVVVVV1T9UVVVVVVXVP1RVVVVVVdU/VFVVVVVV1T9UVVVVVVXVP1RVVVVVVdU/VFVVVVVV1T9wHMdxHMfhP3Acx3Ecx+E/cBzHcRzH4T9wHMdxHMfhP3Acx3Ecx+E/cBzHcRzH4T9wHMdxHMfhP3Acx3Ecx+E/cBzHcRzH4T9wHMdxHMfhPziO4ziO4+g/OI7jOI7j6D84juM4juPoPziO4ziO4+g/OI7jOI7j6D84juM4juPoPziO4ziO4+g/OI7jOI7j6D84juM4juPoPziO4ziO4+g/AAAAAAAA8D8AAAAAAADwPwAAAAAAAPA/AAAAAAAA8D8AAAAAAADwPwAAAAAAAPA/AAAAAAAA8D8AAAAAAADwPwAAAAAAAPA/AAAAAAAA8D8=",
            "dtype": "f8"
           },
           "y": {
            "bdata": "qBGWexph6T8tKpF8Tb3jP2aFGPsAM9w/cbYO/Wbr0D/tnRP8M4+2P+2dE/wzj7a/b7YO/Wbr0L9jhRj7ADPcvy0qkXxNveO/qBGWexph6b+oEZZ7GmHpPy0qkXxNveM/ZoUY+wAz3D9xtg79ZuvQP+2dE/wzj7Y/7Z0T/DOPtr9vtg79ZuvQv2OFGPsAM9y/LSqRfE2947+oEZZ7GmHpv6gRlnsaYek/LSqRfE294z9mhRj7ADPcP3G2Dv1m69A/7Z0T/DOPtj/tnRP8M4+2v2+2Dv1m69C/Y4UY+wAz3L8tKpF8Tb3jv6gRlnsaYem/qBGWexph6T8tKpF8Tb3jP2aFGPsAM9w/cbYO/Wbr0D/tnRP8M4+2P+2dE/wzj7a/b7YO/Wbr0L9jhRj7ADPcvy0qkXxNveO/qBGWexph6b+oEZZ7GmHpPy0qkXxNveM/ZoUY+wAz3D9xtg79ZuvQP+2dE/wzj7Y/7Z0T/DOPtr9vtg79ZuvQv2OFGPsAM9y/LSqRfE2947+oEZZ7GmHpv6gRlnsaYek/LSqRfE294z9mhRj7ADPcP3G2Dv1m69A/7Z0T/DOPtj/tnRP8M4+2v2+2Dv1m69C/Y4UY+wAz3L8tKpF8Tb3jv6gRlnsaYem/qBGWexph6T8tKpF8Tb3jP2aFGPsAM9w/cbYO/Wbr0D/tnRP8M4+2P+2dE/wzj7a/b7YO/Wbr0L9jhRj7ADPcvy0qkXxNveO/qBGWexph6b+oEZZ7GmHpPy0qkXxNveM/ZoUY+wAz3D9xtg79ZuvQP+2dE/wzj7Y/7Z0T/DOPtr9vtg79ZuvQv2OFGPsAM9y/LSqRfE2947+oEZZ7GmHpv6gRlnsaYek/LSqRfE294z9mhRj7ADPcP3G2Dv1m69A/7Z0T/DOPtj/tnRP8M4+2v2+2Dv1m69C/Y4UY+wAz3L8tKpF8Tb3jv6gRlnsaYem/qBGWexph6T8tKpF8Tb3jP2aFGPsAM9w/cbYO/Wbr0D/tnRP8M4+2P+2dE/wzj7a/b7YO/Wbr0L9jhRj7ADPcvy0qkXxNveO/qBGWexph6b8=",
            "dtype": "f8"
           }
          },
          {
           "line": {
            "color": "blue",
            "width": 4
           },
           "marker": {
            "size": 6
           },
           "mode": "lines+markers",
           "name": "Vector",
           "type": "scatter",
           "x": [
            0,
            1
           ],
           "y": [
            0,
            -0.7931034482758621
           ]
          },
          {
           "line": {
            "color": "black",
            "width": 3
           },
           "marker": {
            "size": 6
           },
           "mode": "lines+markers",
           "name": "X basis (transformed)",
           "type": "scatter",
           "x": [
            0,
            1
           ],
           "y": [
            0,
            0
           ]
          },
          {
           "line": {
            "color": "black",
            "width": 3
           },
           "marker": {
            "size": 6
           },
           "mode": "lines+markers",
           "name": "Y basis (transformed)",
           "type": "scatter",
           "x": [
            0,
            0
           ],
           "y": [
            0,
            -0.7931034482758621
           ]
          }
         ],
         "name": "frame0.90"
        },
        {
         "data": [
          {
           "marker": {
            "color": "red",
            "size": 5
           },
           "mode": "markers",
           "name": "Grid",
           "type": "scatter",
           "x": {
            "bdata": "AAAAAAAA8L8AAAAAAADwvwAAAAAAAPC/AAAAAAAA8L8AAAAAAADwvwAAAAAAAPC/AAAAAAAA8L8AAAAAAADwvwAAAAAAAPC/AAAAAAAA8L85juM4juPovzmO4ziO4+i/OY7jOI7j6L85juM4juPovzmO4ziO4+i/OY7jOI7j6L85juM4juPovzmO4ziO4+i/OY7jOI7j6L85juM4juPov3Icx3Ecx+G/chzHcRzH4b9yHMdxHMfhv3Icx3Ecx+G/chzHcRzH4b9yHMdxHMfhv3Icx3Ecx+G/chzHcRzH4b9yHMdxHMfhv3Icx3Ecx+G/VlVVVVVV1b9WVVVVVVXVv1ZVVVVVVdW/VlVVVVVV1b9WVVVVVVXVv1ZVVVVVVdW/VlVVVVVV1b9WVVVVVVXVv1ZVVVVVVdW/VlVVVVVV1b8gx3Ecx3G8vyDHcRzHcby/IMdxHMdxvL8gx3Ecx3G8vyDHcRzHcby/IMdxHMdxvL8gx3Ecx3G8vyDHcRzHcby/IMdxHMdxvL8gx3Ecx3G8vyDHcRzHcbw/IMdxHMdxvD8gx3Ecx3G8PyDHcRzHcbw/IMdxHMdxvD8gx3Ecx3G8PyDHcRzHcbw/IMdxHMdxvD8gx3Ecx3G8PyDHcRzHcbw/VFVVVVVV1T9UVVVVVVXVP1RVVVVVVdU/VFVVVVVV1T9UVVVVVVXVP1RVVVVVVdU/VFVVVVVV1T9UVVVVVVXVP1RVVVVVVdU/VFVVVVVV1T9wHMdxHMfhP3Acx3Ecx+E/cBzHcRzH4T9wHMdxHMfhP3Acx3Ecx+E/cBzHcRzH4T9wHMdxHMfhP3Acx3Ecx+E/cBzHcRzH4T9wHMdxHMfhPziO4ziO4+g/OI7jOI7j6D84juM4juPoPziO4ziO4+g/OI7jOI7j6D84juM4juPoPziO4ziO4+g/OI7jOI7j6D84juM4juPoPziO4ziO4+g/AAAAAAAA8D8AAAAAAADwPwAAAAAAAPA/AAAAAAAA8D8AAAAAAADwPwAAAAAAAPA/AAAAAAAA8D8AAAAAAADwPwAAAAAAAPA/AAAAAAAA8D8=",
            "dtype": "f8"
           },
           "y": {
            "bdata": "GmG5pxGW6z8x9gFmuHTlP48WlUi+pt4/vUAmxQtk0j+oq90GZYW4P6ir3QZlhbi/u0AmxQtk0r+MFpVIvqbevzD2AWa4dOW/GmG5pxGW678aYbmnEZbrPzH2AWa4dOU/jxaVSL6m3j+9QCbFC2TSP6ir3QZlhbg/qKvdBmWFuL+7QCbFC2TSv4wWlUi+pt6/MPYBZrh05b8aYbmnEZbrvxphuacRlus/MfYBZrh05T+PFpVIvqbeP71AJsULZNI/qKvdBmWFuD+oq90GZYW4v7tAJsULZNK/jBaVSL6m3r8w9gFmuHTlvxphuacRluu/GmG5pxGW6z8x9gFmuHTlP48WlUi+pt4/vUAmxQtk0j+oq90GZYW4P6ir3QZlhbi/u0AmxQtk0r+MFpVIvqbevzD2AWa4dOW/GmG5pxGW678aYbmnEZbrPzH2AWa4dOU/jxaVSL6m3j+9QCbFC2TSP6ir3QZlhbg/qKvdBmWFuL+7QCbFC2TSv4wWlUi+pt6/MPYBZrh05b8aYbmnEZbrvxphuacRlus/MfYBZrh05T+PFpVIvqbeP71AJsULZNI/qKvdBmWFuD+oq90GZYW4v7tAJsULZNK/jBaVSL6m3r8w9gFmuHTlvxphuacRluu/GmG5pxGW6z8x9gFmuHTlP48WlUi+pt4/vUAmxQtk0j+oq90GZYW4P6ir3QZlhbi/u0AmxQtk0r+MFpVIvqbevzD2AWa4dOW/GmG5pxGW678aYbmnEZbrPzH2AWa4dOU/jxaVSL6m3j+9QCbFC2TSP6ir3QZlhbg/qKvdBmWFuL+7QCbFC2TSv4wWlUi+pt6/MPYBZrh05b8aYbmnEZbrvxphuacRlus/MfYBZrh05T+PFpVIvqbeP71AJsULZNI/qKvdBmWFuD+oq90GZYW4v7tAJsULZNK/jBaVSL6m3r8w9gFmuHTlvxphuacRluu/GmG5pxGW6z8x9gFmuHTlP48WlUi+pt4/vUAmxQtk0j+oq90GZYW4P6ir3QZlhbi/u0AmxQtk0r+MFpVIvqbevzD2AWa4dOW/GmG5pxGW678=",
            "dtype": "f8"
           }
          },
          {
           "line": {
            "color": "blue",
            "width": 4
           },
           "marker": {
            "size": 6
           },
           "mode": "lines+markers",
           "name": "Vector",
           "type": "scatter",
           "x": [
            0,
            1
           ],
           "y": [
            0,
            -0.8620689655172413
           ]
          },
          {
           "line": {
            "color": "black",
            "width": 3
           },
           "marker": {
            "size": 6
           },
           "mode": "lines+markers",
           "name": "X basis (transformed)",
           "type": "scatter",
           "x": [
            0,
            1
           ],
           "y": [
            0,
            0
           ]
          },
          {
           "line": {
            "color": "black",
            "width": 3
           },
           "marker": {
            "size": 6
           },
           "mode": "lines+markers",
           "name": "Y basis (transformed)",
           "type": "scatter",
           "x": [
            0,
            0
           ],
           "y": [
            0,
            -0.8620689655172413
           ]
          }
         ],
         "name": "frame0.93"
        },
        {
         "data": [
          {
           "marker": {
            "color": "red",
            "size": 5
           },
           "mode": "markers",
           "name": "Grid",
           "type": "scatter",
           "x": {
            "bdata": "AAAAAAAA8L8AAAAAAADwvwAAAAAAAPC/AAAAAAAA8L8AAAAAAADwvwAAAAAAAPC/AAAAAAAA8L8AAAAAAADwvwAAAAAAAPC/AAAAAAAA8L85juM4juPovzmO4ziO4+i/OY7jOI7j6L85juM4juPovzmO4ziO4+i/OY7jOI7j6L85juM4juPovzmO4ziO4+i/OY7jOI7j6L85juM4juPov3Icx3Ecx+G/chzHcRzH4b9yHMdxHMfhv3Icx3Ecx+G/chzHcRzH4b9yHMdxHMfhv3Icx3Ecx+G/chzHcRzH4b9yHMdxHMfhv3Icx3Ecx+G/VlVVVVVV1b9WVVVVVVXVv1ZVVVVVVdW/VlVVVVVV1b9WVVVVVVXVv1ZVVVVVVdW/VlVVVVVV1b9WVVVVVVXVv1ZVVVVVVdW/VlVVVVVV1b8gx3Ecx3G8vyDHcRzHcby/IMdxHMdxvL8gx3Ecx3G8vyDHcRzHcby/IMdxHMdxvL8gx3Ecx3G8vyDHcRzHcby/IMdxHMdxvL8gx3Ecx3G8vyDHcRzHcbw/IMdxHMdxvD8gx3Ecx3G8PyDHcRzHcbw/IMdxHMdxvD8gx3Ecx3G8PyDHcRzHcbw/IMdxHMdxvD8gx3Ecx3G8PyDHcRzHcbw/VFVVVVVV1T9UVVVVVVXVP1RVVVVVVdU/VFVVVVVV1T9UVVVVVVXVP1RVVVVVVdU/VFVVVVVV1T9UVVVVVVXVP1RVVVVVVdU/VFVVVVVV1T9wHMdxHMfhP3Acx3Ecx+E/cBzHcRzH4T9wHMdxHMfhP3Acx3Ecx+E/cBzHcRzH4T9wHMdxHMfhP3Acx3Ecx+E/cBzHcRzH4T9wHMdxHMfhPziO4ziO4+g/OI7jOI7j6D84juM4juPoPziO4ziO4+g/OI7jOI7j6D84juM4juPoPziO4ziO4+g/OI7jOI7j6D84juM4juPoPziO4ziO4+g/AAAAAAAA8D8AAAAAAADwPwAAAAAAAPA/AAAAAAAA8D8AAAAAAADwPwAAAAAAAPA/AAAAAAAA8D8AAAAAAADwPwAAAAAAAPA/AAAAAAAA8D8=",
            "dtype": "f8"
           },
           "y": {
            "bdata": "jLDc0wjL7T80wnJPIyznP9zTCMs9jeA/Ccs9jbDc0z9juacRlnu6P2O5pxGWe7q/B8s9jbDc07/a0wjLPY3gvzPCck8jLOe/jLDc0wjL7b+MsNzTCMvtPzTCck8jLOc/3NMIyz2N4D8Jyz2NsNzTP2O5pxGWe7o/Y7mnEZZ7ur8Hyz2NsNzTv9rTCMs9jeC/M8JyTyMs57+MsNzTCMvtv4yw3NMIy+0/NMJyTyMs5z/c0wjLPY3gPwnLPY2w3NM/Y7mnEZZ7uj9juacRlnu6vwfLPY2w3NO/2tMIyz2N4L8zwnJPIyznv4yw3NMIy+2/jLDc0wjL7T80wnJPIyznP9zTCMs9jeA/Ccs9jbDc0z9juacRlnu6P2O5pxGWe7q/B8s9jbDc07/a0wjLPY3gvzPCck8jLOe/jLDc0wjL7b+MsNzTCMvtPzTCck8jLOc/3NMIyz2N4D8Jyz2NsNzTP2O5pxGWe7o/Y7mnEZZ7ur8Hyz2NsNzTv9rTCMs9jeC/M8JyTyMs57+MsNzTCMvtv4yw3NMIy+0/NMJyTyMs5z/c0wjLPY3gPwnLPY2w3NM/Y7mnEZZ7uj9juacRlnu6vwfLPY2w3NO/2tMIyz2N4L8zwnJPIyznv4yw3NMIy+2/jLDc0wjL7T80wnJPIyznP9zTCMs9jeA/Ccs9jbDc0z9juacRlnu6P2O5pxGWe7q/B8s9jbDc07/a0wjLPY3gvzPCck8jLOe/jLDc0wjL7b+MsNzTCMvtPzTCck8jLOc/3NMIyz2N4D8Jyz2NsNzTP2O5pxGWe7o/Y7mnEZZ7ur8Hyz2NsNzTv9rTCMs9jeC/M8JyTyMs57+MsNzTCMvtv4yw3NMIy+0/NMJyTyMs5z/c0wjLPY3gPwnLPY2w3NM/Y7mnEZZ7uj9juacRlnu6vwfLPY2w3NO/2tMIyz2N4L8zwnJPIyznv4yw3NMIy+2/jLDc0wjL7T80wnJPIyznP9zTCMs9jeA/Ccs9jbDc0z9juacRlnu6P2O5pxGWe7q/B8s9jbDc07/a0wjLPY3gvzPCck8jLOe/jLDc0wjL7b8=",
            "dtype": "f8"
           }
          },
          {
           "line": {
            "color": "blue",
            "width": 4
           },
           "marker": {
            "size": 6
           },
           "mode": "lines+markers",
           "name": "Vector",
           "type": "scatter",
           "x": [
            0,
            1
           ],
           "y": [
            0,
            -0.9310344827586206
           ]
          },
          {
           "line": {
            "color": "black",
            "width": 3
           },
           "marker": {
            "size": 6
           },
           "mode": "lines+markers",
           "name": "X basis (transformed)",
           "type": "scatter",
           "x": [
            0,
            1
           ],
           "y": [
            0,
            0
           ]
          },
          {
           "line": {
            "color": "black",
            "width": 3
           },
           "marker": {
            "size": 6
           },
           "mode": "lines+markers",
           "name": "Y basis (transformed)",
           "type": "scatter",
           "x": [
            0,
            0
           ],
           "y": [
            0,
            -0.9310344827586206
           ]
          }
         ],
         "name": "frame0.97"
        },
        {
         "data": [
          {
           "marker": {
            "color": "red",
            "size": 5
           },
           "mode": "markers",
           "name": "Grid",
           "type": "scatter",
           "x": {
            "bdata": "AAAAAAAA8L8AAAAAAADwvwAAAAAAAPC/AAAAAAAA8L8AAAAAAADwvwAAAAAAAPC/AAAAAAAA8L8AAAAAAADwvwAAAAAAAPC/AAAAAAAA8L85juM4juPovzmO4ziO4+i/OY7jOI7j6L85juM4juPovzmO4ziO4+i/OY7jOI7j6L85juM4juPovzmO4ziO4+i/OY7jOI7j6L85juM4juPov3Icx3Ecx+G/chzHcRzH4b9yHMdxHMfhv3Icx3Ecx+G/chzHcRzH4b9yHMdxHMfhv3Icx3Ecx+G/chzHcRzH4b9yHMdxHMfhv3Icx3Ecx+G/VlVVVVVV1b9WVVVVVVXVv1ZVVVVVVdW/VlVVVVVV1b9WVVVVVVXVv1ZVVVVVVdW/VlVVVVVV1b9WVVVVVVXVv1ZVVVVVVdW/VlVVVVVV1b8gx3Ecx3G8vyDHcRzHcby/IMdxHMdxvL8gx3Ecx3G8vyDHcRzHcby/IMdxHMdxvL8gx3Ecx3G8vyDHcRzHcby/IMdxHMdxvL8gx3Ecx3G8vyDHcRzHcbw/IMdxHMdxvD8gx3Ecx3G8PyDHcRzHcbw/IMdxHMdxvD8gx3Ecx3G8PyDHcRzHcbw/IMdxHMdxvD8gx3Ecx3G8PyDHcRzHcbw/VFVVVVVV1T9UVVVVVVXVP1RVVVVVVdU/VFVVVVVV1T9UVVVVVVXVP1RVVVVVVdU/VFVVVVVV1T9UVVVVVVXVP1RVVVVVVdU/VFVVVVVV1T9wHMdxHMfhP3Acx3Ecx+E/cBzHcRzH4T9wHMdxHMfhP3Acx3Ecx+E/cBzHcRzH4T9wHMdxHMfhP3Acx3Ecx+E/cBzHcRzH4T9wHMdxHMfhPziO4ziO4+g/OI7jOI7j6D84juM4juPoPziO4ziO4+g/OI7jOI7j6D84juM4juPoPziO4ziO4+g/OI7jOI7j6D84juM4juPoPziO4ziO4+g/AAAAAAAA8D8AAAAAAADwPwAAAAAAAPA/AAAAAAAA8D8AAAAAAADwPwAAAAAAAPA/AAAAAAAA8D8AAAAAAADwPwAAAAAAAPA/AAAAAAAA8D8=",
            "dtype": "f8"
           },
           "y": {
            "bdata": "AAAAAAAA8D85juM4juPoP3Icx3Ecx+E/VlVVVVVV1T8gx3Ecx3G8PyDHcRzHcby/VFVVVVVV1b9wHMdxHMfhvziO4ziO4+i/AAAAAAAA8L8AAAAAAADwPzmO4ziO4+g/chzHcRzH4T9WVVVVVVXVPyDHcRzHcbw/IMdxHMdxvL9UVVVVVVXVv3Acx3Ecx+G/OI7jOI7j6L8AAAAAAADwvwAAAAAAAPA/OY7jOI7j6D9yHMdxHMfhP1ZVVVVVVdU/IMdxHMdxvD8gx3Ecx3G8v1RVVVVVVdW/cBzHcRzH4b84juM4juPovwAAAAAAAPC/AAAAAAAA8D85juM4juPoP3Icx3Ecx+E/VlVVVVVV1T8gx3Ecx3G8PyDHcRzHcby/VFVVVVVV1b9wHMdxHMfhvziO4ziO4+i/AAAAAAAA8L8AAAAAAADwPzmO4ziO4+g/chzHcRzH4T9WVVVVVVXVPyDHcRzHcbw/IMdxHMdxvL9UVVVVVVXVv3Acx3Ecx+G/OI7jOI7j6L8AAAAAAADwvwAAAAAAAPA/OY7jOI7j6D9yHMdxHMfhP1ZVVVVVVdU/IMdxHMdxvD8gx3Ecx3G8v1RVVVVVVdW/cBzHcRzH4b84juM4juPovwAAAAAAAPC/AAAAAAAA8D85juM4juPoP3Icx3Ecx+E/VlVVVVVV1T8gx3Ecx3G8PyDHcRzHcby/VFVVVVVV1b9wHMdxHMfhvziO4ziO4+i/AAAAAAAA8L8AAAAAAADwPzmO4ziO4+g/chzHcRzH4T9WVVVVVVXVPyDHcRzHcbw/IMdxHMdxvL9UVVVVVVXVv3Acx3Ecx+G/OI7jOI7j6L8AAAAAAADwvwAAAAAAAPA/OY7jOI7j6D9yHMdxHMfhP1ZVVVVVVdU/IMdxHMdxvD8gx3Ecx3G8v1RVVVVVVdW/cBzHcRzH4b84juM4juPovwAAAAAAAPC/AAAAAAAA8D85juM4juPoP3Icx3Ecx+E/VlVVVVVV1T8gx3Ecx3G8PyDHcRzHcby/VFVVVVVV1b9wHMdxHMfhvziO4ziO4+i/AAAAAAAA8L8=",
            "dtype": "f8"
           }
          },
          {
           "line": {
            "color": "blue",
            "width": 4
           },
           "marker": {
            "size": 6
           },
           "mode": "lines+markers",
           "name": "Vector",
           "type": "scatter",
           "x": [
            0,
            1
           ],
           "y": [
            0,
            -1
           ]
          },
          {
           "line": {
            "color": "black",
            "width": 3
           },
           "marker": {
            "size": 6
           },
           "mode": "lines+markers",
           "name": "X basis (transformed)",
           "type": "scatter",
           "x": [
            0,
            1
           ],
           "y": [
            0,
            0
           ]
          },
          {
           "line": {
            "color": "black",
            "width": 3
           },
           "marker": {
            "size": 6
           },
           "mode": "lines+markers",
           "name": "Y basis (transformed)",
           "type": "scatter",
           "x": [
            0,
            0
           ],
           "y": [
            0,
            -1
           ]
          }
         ],
         "name": "frame1.00"
        }
       ],
       "layout": {
        "showlegend": true,
        "template": {
         "data": {
          "bar": [
           {
            "error_x": {
             "color": "#2a3f5f"
            },
            "error_y": {
             "color": "#2a3f5f"
            },
            "marker": {
             "line": {
              "color": "#E5ECF6",
              "width": 0.5
             },
             "pattern": {
              "fillmode": "overlay",
              "size": 10,
              "solidity": 0.2
             }
            },
            "type": "bar"
           }
          ],
          "barpolar": [
           {
            "marker": {
             "line": {
              "color": "#E5ECF6",
              "width": 0.5
             },
             "pattern": {
              "fillmode": "overlay",
              "size": 10,
              "solidity": 0.2
             }
            },
            "type": "barpolar"
           }
          ],
          "carpet": [
           {
            "aaxis": {
             "endlinecolor": "#2a3f5f",
             "gridcolor": "white",
             "linecolor": "white",
             "minorgridcolor": "white",
             "startlinecolor": "#2a3f5f"
            },
            "baxis": {
             "endlinecolor": "#2a3f5f",
             "gridcolor": "white",
             "linecolor": "white",
             "minorgridcolor": "white",
             "startlinecolor": "#2a3f5f"
            },
            "type": "carpet"
           }
          ],
          "choropleth": [
           {
            "colorbar": {
             "outlinewidth": 0,
             "ticks": ""
            },
            "type": "choropleth"
           }
          ],
          "contour": [
           {
            "colorbar": {
             "outlinewidth": 0,
             "ticks": ""
            },
            "colorscale": [
             [
              0,
              "#0d0887"
             ],
             [
              0.1111111111111111,
              "#46039f"
             ],
             [
              0.2222222222222222,
              "#7201a8"
             ],
             [
              0.3333333333333333,
              "#9c179e"
             ],
             [
              0.4444444444444444,
              "#bd3786"
             ],
             [
              0.5555555555555556,
              "#d8576b"
             ],
             [
              0.6666666666666666,
              "#ed7953"
             ],
             [
              0.7777777777777778,
              "#fb9f3a"
             ],
             [
              0.8888888888888888,
              "#fdca26"
             ],
             [
              1,
              "#f0f921"
             ]
            ],
            "type": "contour"
           }
          ],
          "contourcarpet": [
           {
            "colorbar": {
             "outlinewidth": 0,
             "ticks": ""
            },
            "type": "contourcarpet"
           }
          ],
          "heatmap": [
           {
            "colorbar": {
             "outlinewidth": 0,
             "ticks": ""
            },
            "colorscale": [
             [
              0,
              "#0d0887"
             ],
             [
              0.1111111111111111,
              "#46039f"
             ],
             [
              0.2222222222222222,
              "#7201a8"
             ],
             [
              0.3333333333333333,
              "#9c179e"
             ],
             [
              0.4444444444444444,
              "#bd3786"
             ],
             [
              0.5555555555555556,
              "#d8576b"
             ],
             [
              0.6666666666666666,
              "#ed7953"
             ],
             [
              0.7777777777777778,
              "#fb9f3a"
             ],
             [
              0.8888888888888888,
              "#fdca26"
             ],
             [
              1,
              "#f0f921"
             ]
            ],
            "type": "heatmap"
           }
          ],
          "histogram": [
           {
            "marker": {
             "pattern": {
              "fillmode": "overlay",
              "size": 10,
              "solidity": 0.2
             }
            },
            "type": "histogram"
           }
          ],
          "histogram2d": [
           {
            "colorbar": {
             "outlinewidth": 0,
             "ticks": ""
            },
            "colorscale": [
             [
              0,
              "#0d0887"
             ],
             [
              0.1111111111111111,
              "#46039f"
             ],
             [
              0.2222222222222222,
              "#7201a8"
             ],
             [
              0.3333333333333333,
              "#9c179e"
             ],
             [
              0.4444444444444444,
              "#bd3786"
             ],
             [
              0.5555555555555556,
              "#d8576b"
             ],
             [
              0.6666666666666666,
              "#ed7953"
             ],
             [
              0.7777777777777778,
              "#fb9f3a"
             ],
             [
              0.8888888888888888,
              "#fdca26"
             ],
             [
              1,
              "#f0f921"
             ]
            ],
            "type": "histogram2d"
           }
          ],
          "histogram2dcontour": [
           {
            "colorbar": {
             "outlinewidth": 0,
             "ticks": ""
            },
            "colorscale": [
             [
              0,
              "#0d0887"
             ],
             [
              0.1111111111111111,
              "#46039f"
             ],
             [
              0.2222222222222222,
              "#7201a8"
             ],
             [
              0.3333333333333333,
              "#9c179e"
             ],
             [
              0.4444444444444444,
              "#bd3786"
             ],
             [
              0.5555555555555556,
              "#d8576b"
             ],
             [
              0.6666666666666666,
              "#ed7953"
             ],
             [
              0.7777777777777778,
              "#fb9f3a"
             ],
             [
              0.8888888888888888,
              "#fdca26"
             ],
             [
              1,
              "#f0f921"
             ]
            ],
            "type": "histogram2dcontour"
           }
          ],
          "mesh3d": [
           {
            "colorbar": {
             "outlinewidth": 0,
             "ticks": ""
            },
            "type": "mesh3d"
           }
          ],
          "parcoords": [
           {
            "line": {
             "colorbar": {
              "outlinewidth": 0,
              "ticks": ""
             }
            },
            "type": "parcoords"
           }
          ],
          "pie": [
           {
            "automargin": true,
            "type": "pie"
           }
          ],
          "scatter": [
           {
            "fillpattern": {
             "fillmode": "overlay",
             "size": 10,
             "solidity": 0.2
            },
            "type": "scatter"
           }
          ],
          "scatter3d": [
           {
            "line": {
             "colorbar": {
              "outlinewidth": 0,
              "ticks": ""
             }
            },
            "marker": {
             "colorbar": {
              "outlinewidth": 0,
              "ticks": ""
             }
            },
            "type": "scatter3d"
           }
          ],
          "scattercarpet": [
           {
            "marker": {
             "colorbar": {
              "outlinewidth": 0,
              "ticks": ""
             }
            },
            "type": "scattercarpet"
           }
          ],
          "scattergeo": [
           {
            "marker": {
             "colorbar": {
              "outlinewidth": 0,
              "ticks": ""
             }
            },
            "type": "scattergeo"
           }
          ],
          "scattergl": [
           {
            "marker": {
             "colorbar": {
              "outlinewidth": 0,
              "ticks": ""
             }
            },
            "type": "scattergl"
           }
          ],
          "scattermap": [
           {
            "marker": {
             "colorbar": {
              "outlinewidth": 0,
              "ticks": ""
             }
            },
            "type": "scattermap"
           }
          ],
          "scattermapbox": [
           {
            "marker": {
             "colorbar": {
              "outlinewidth": 0,
              "ticks": ""
             }
            },
            "type": "scattermapbox"
           }
          ],
          "scatterpolar": [
           {
            "marker": {
             "colorbar": {
              "outlinewidth": 0,
              "ticks": ""
             }
            },
            "type": "scatterpolar"
           }
          ],
          "scatterpolargl": [
           {
            "marker": {
             "colorbar": {
              "outlinewidth": 0,
              "ticks": ""
             }
            },
            "type": "scatterpolargl"
           }
          ],
          "scatterternary": [
           {
            "marker": {
             "colorbar": {
              "outlinewidth": 0,
              "ticks": ""
             }
            },
            "type": "scatterternary"
           }
          ],
          "surface": [
           {
            "colorbar": {
             "outlinewidth": 0,
             "ticks": ""
            },
            "colorscale": [
             [
              0,
              "#0d0887"
             ],
             [
              0.1111111111111111,
              "#46039f"
             ],
             [
              0.2222222222222222,
              "#7201a8"
             ],
             [
              0.3333333333333333,
              "#9c179e"
             ],
             [
              0.4444444444444444,
              "#bd3786"
             ],
             [
              0.5555555555555556,
              "#d8576b"
             ],
             [
              0.6666666666666666,
              "#ed7953"
             ],
             [
              0.7777777777777778,
              "#fb9f3a"
             ],
             [
              0.8888888888888888,
              "#fdca26"
             ],
             [
              1,
              "#f0f921"
             ]
            ],
            "type": "surface"
           }
          ],
          "table": [
           {
            "cells": {
             "fill": {
              "color": "#EBF0F8"
             },
             "line": {
              "color": "white"
             }
            },
            "header": {
             "fill": {
              "color": "#C8D4E3"
             },
             "line": {
              "color": "white"
             }
            },
            "type": "table"
           }
          ]
         },
         "layout": {
          "annotationdefaults": {
           "arrowcolor": "#2a3f5f",
           "arrowhead": 0,
           "arrowwidth": 1
          },
          "autotypenumbers": "strict",
          "coloraxis": {
           "colorbar": {
            "outlinewidth": 0,
            "ticks": ""
           }
          },
          "colorscale": {
           "diverging": [
            [
             0,
             "#8e0152"
            ],
            [
             0.1,
             "#c51b7d"
            ],
            [
             0.2,
             "#de77ae"
            ],
            [
             0.3,
             "#f1b6da"
            ],
            [
             0.4,
             "#fde0ef"
            ],
            [
             0.5,
             "#f7f7f7"
            ],
            [
             0.6,
             "#e6f5d0"
            ],
            [
             0.7,
             "#b8e186"
            ],
            [
             0.8,
             "#7fbc41"
            ],
            [
             0.9,
             "#4d9221"
            ],
            [
             1,
             "#276419"
            ]
           ],
           "sequential": [
            [
             0,
             "#0d0887"
            ],
            [
             0.1111111111111111,
             "#46039f"
            ],
            [
             0.2222222222222222,
             "#7201a8"
            ],
            [
             0.3333333333333333,
             "#9c179e"
            ],
            [
             0.4444444444444444,
             "#bd3786"
            ],
            [
             0.5555555555555556,
             "#d8576b"
            ],
            [
             0.6666666666666666,
             "#ed7953"
            ],
            [
             0.7777777777777778,
             "#fb9f3a"
            ],
            [
             0.8888888888888888,
             "#fdca26"
            ],
            [
             1,
             "#f0f921"
            ]
           ],
           "sequentialminus": [
            [
             0,
             "#0d0887"
            ],
            [
             0.1111111111111111,
             "#46039f"
            ],
            [
             0.2222222222222222,
             "#7201a8"
            ],
            [
             0.3333333333333333,
             "#9c179e"
            ],
            [
             0.4444444444444444,
             "#bd3786"
            ],
            [
             0.5555555555555556,
             "#d8576b"
            ],
            [
             0.6666666666666666,
             "#ed7953"
            ],
            [
             0.7777777777777778,
             "#fb9f3a"
            ],
            [
             0.8888888888888888,
             "#fdca26"
            ],
            [
             1,
             "#f0f921"
            ]
           ]
          },
          "colorway": [
           "#636efa",
           "#EF553B",
           "#00cc96",
           "#ab63fa",
           "#FFA15A",
           "#19d3f3",
           "#FF6692",
           "#B6E880",
           "#FF97FF",
           "#FECB52"
          ],
          "font": {
           "color": "#2a3f5f"
          },
          "geo": {
           "bgcolor": "white",
           "lakecolor": "white",
           "landcolor": "#E5ECF6",
           "showlakes": true,
           "showland": true,
           "subunitcolor": "white"
          },
          "hoverlabel": {
           "align": "left"
          },
          "hovermode": "closest",
          "mapbox": {
           "style": "light"
          },
          "paper_bgcolor": "white",
          "plot_bgcolor": "#E5ECF6",
          "polar": {
           "angularaxis": {
            "gridcolor": "white",
            "linecolor": "white",
            "ticks": ""
           },
           "bgcolor": "#E5ECF6",
           "radialaxis": {
            "gridcolor": "white",
            "linecolor": "white",
            "ticks": ""
           }
          },
          "scene": {
           "xaxis": {
            "backgroundcolor": "#E5ECF6",
            "gridcolor": "white",
            "gridwidth": 2,
            "linecolor": "white",
            "showbackground": true,
            "ticks": "",
            "zerolinecolor": "white"
           },
           "yaxis": {
            "backgroundcolor": "#E5ECF6",
            "gridcolor": "white",
            "gridwidth": 2,
            "linecolor": "white",
            "showbackground": true,
            "ticks": "",
            "zerolinecolor": "white"
           },
           "zaxis": {
            "backgroundcolor": "#E5ECF6",
            "gridcolor": "white",
            "gridwidth": 2,
            "linecolor": "white",
            "showbackground": true,
            "ticks": "",
            "zerolinecolor": "white"
           }
          },
          "shapedefaults": {
           "line": {
            "color": "#2a3f5f"
           }
          },
          "ternary": {
           "aaxis": {
            "gridcolor": "white",
            "linecolor": "white",
            "ticks": ""
           },
           "baxis": {
            "gridcolor": "white",
            "linecolor": "white",
            "ticks": ""
           },
           "bgcolor": "#E5ECF6",
           "caxis": {
            "gridcolor": "white",
            "linecolor": "white",
            "ticks": ""
           }
          },
          "title": {
           "x": 0.05
          },
          "xaxis": {
           "automargin": true,
           "gridcolor": "white",
           "linecolor": "white",
           "ticks": "",
           "title": {
            "standoff": 15
           },
           "zerolinecolor": "white",
           "zerolinewidth": 2
          },
          "yaxis": {
           "automargin": true,
           "gridcolor": "white",
           "linecolor": "white",
           "ticks": "",
           "title": {
            "standoff": 15
           },
           "zerolinecolor": "white",
           "zerolinewidth": 2
          }
         }
        },
        "title": {
         "text": "Matrix Transformation with Basis Vectors"
        },
        "updatemenus": [
         {
          "buttons": [
           {
            "args": [
             null,
             {
              "frame": {
               "duration": 50,
               "redraw": true
              },
              "fromcurrent": true,
              "transition": {
               "duration": 0
              }
             }
            ],
            "label": "Play",
            "method": "animate"
           }
          ],
          "showactive": false,
          "type": "buttons"
         }
        ],
        "xaxis": {
         "range": [
          -3,
          3
         ],
         "zeroline": true
        },
        "yaxis": {
         "range": [
          -3,
          3
         ],
         "scaleanchor": "x",
         "zeroline": true
        }
       }
      }
     },
     "metadata": {},
     "output_type": "display_data"
    }
   ],
   "source": [
    "import numpy as np\n",
    "import plotly.graph_objects as go\n",
    "\n",
    "\n",
    "x_vals = np.linspace(-1, 1, 10)\n",
    "y_vals = np.linspace(-1, 1, 10)\n",
    "grid_points = np.array([[x, y] for x in x_vals for y in y_vals])\n",
    "\n",
    "\n",
    "A = np.array([\n",
    "    [1, 0],\n",
    "    [0, -1]\n",
    "])\n",
    "\n",
    "v = np.array([1, 1])\n",
    "basis_x = np.array([1, 0])\n",
    "basis_y = np.array([0, 1])\n",
    "solution_vector = np.array([1, -1])\n",
    "\n",
    "\n",
    "n_frames = 30\n",
    "alphas = np.linspace(0, 1, n_frames)\n",
    "\n",
    "frames = []\n",
    "for alpha in alphas:\n",
    "    T = (1 - alpha) * np.eye(2) + alpha * A\n",
    "\n",
    "    transformed_grid = grid_points @ T.T\n",
    "    transformed_vector = T @ v\n",
    "    transformed_basis_x = T @ basis_x\n",
    "    transformed_basis_y = T @ basis_y\n",
    "\n",
    "    frame = go.Frame(\n",
    "        data=[\n",
    "            go.Scatter(\n",
    "                x=transformed_grid[:, 0],\n",
    "                y=transformed_grid[:, 1],\n",
    "                mode='markers',\n",
    "                marker=dict(size=5, color='red'),\n",
    "                name='Grid'\n",
    "            ),\n",
    "\n",
    "            go.Scatter(\n",
    "                x=[0, transformed_vector[0]],\n",
    "                y=[0, transformed_vector[1]],\n",
    "                mode='lines+markers',\n",
    "                line=dict(color='blue', width=4),\n",
    "                marker=dict(size=6),\n",
    "                name='Vector'\n",
    "            ),\n",
    "            go.Scatter(\n",
    "                x=[0, transformed_basis_x[0]],\n",
    "                y=[0, transformed_basis_x[1]],\n",
    "                mode='lines+markers',\n",
    "                line=dict(color='black', width=3),\n",
    "                marker=dict(size=6),\n",
    "                name='X basis (transformed)'\n",
    "            ),\n",
    "            go.Scatter(\n",
    "                x=[0, transformed_basis_y[0]],\n",
    "                y=[0, transformed_basis_y[1]],\n",
    "                mode='lines+markers',\n",
    "                line=dict(color='black', width=3),\n",
    "                marker=dict(size=6),\n",
    "                name='Y basis (transformed)'\n",
    "            )\n",
    "        ],\n",
    "        name=f'frame{alpha:.2f}'\n",
    "    )\n",
    "    frames.append(frame)\n",
    "\n",
    "layout = go.Layout(\n",
    "    title=\"Matrix Transformation with Basis Vectors\",\n",
    "    xaxis=dict(range=[-3, 3], zeroline=True),\n",
    "    yaxis=dict(range=[-3, 3], zeroline=True, scaleanchor='x'),\n",
    "    updatemenus=[dict(\n",
    "        type=\"buttons\",\n",
    "        showactive=False,\n",
    "        buttons=[dict(label=\"Play\",\n",
    "                      method=\"animate\",\n",
    "                      args=[None, {\n",
    "                          \"frame\": {\"duration\": 50, \"redraw\": True},\n",
    "                          \"fromcurrent\": True,\n",
    "                          \"transition\": {\"duration\": 0}}])]\n",
    "    )],\n",
    "    showlegend=True\n",
    ")\n",
    "\n",
    "# t_o values \n",
    "initial_grid = grid_points\n",
    "initial_vector = v\n",
    "\n",
    "fig = go.Figure(\n",
    "    data=[\n",
    "\n",
    "        go.Scatter(\n",
    "            x=initial_grid[:, 0],\n",
    "            y=initial_grid[:, 1],\n",
    "            mode='markers',\n",
    "            marker=dict(size=5, color='red'),\n",
    "            name='Grid'\n",
    "        ),\n",
    "        go.Scatter(\n",
    "            x=[0, initial_vector[0]],\n",
    "            y=[0, initial_vector[1]],\n",
    "            mode='lines+markers',\n",
    "            line=dict(color='blue', width=4),\n",
    "            marker=dict(size=6),\n",
    "            name='Vector'\n",
    "        ),\n",
    "        go.Scatter(\n",
    "            x=[0, basis_x[0]],\n",
    "            y=[0, basis_x[1]],\n",
    "            mode='lines+markers',\n",
    "            line=dict(color='black', width=3, dash='dash'),\n",
    "            marker=dict(size=6),\n",
    "            name='X basis (initial)'\n",
    "        ),\n",
    "        go.Scatter(\n",
    "            x=[0, basis_y[0]],\n",
    "            y=[0, basis_y[1]],\n",
    "            mode='lines+markers',\n",
    "            line=dict(color='black', width=3, dash='dash'),\n",
    "            marker=dict(size=6),\n",
    "            name='Y basis (initial)'\n",
    "        ),\n",
    "        go.Scatter(\n",
    "            x=[0, solution_vector[0]],\n",
    "            y=[0, solution_vector[1]],\n",
    "            mode='lines+markers',\n",
    "            line=dict(color='purple', width=3),\n",
    "            marker=dict(size=6),\n",
    "            name='Solution'\n",
    "        )\n",
    "    ],\n",
    "    layout=layout,\n",
    "    frames=frames\n",
    ")\n",
    "\n",
    "fig.show()\n"
   ]
  }
 ],
 "metadata": {
  "kernelspec": {
   "display_name": "cosmos",
   "language": "python",
   "name": "python3"
  },
  "language_info": {
   "codemirror_mode": {
    "name": "ipython",
    "version": 3
   },
   "file_extension": ".py",
   "mimetype": "text/x-python",
   "name": "python",
   "nbconvert_exporter": "python",
   "pygments_lexer": "ipython3",
   "version": "3.12.11"
  }
 },
 "nbformat": 4,
 "nbformat_minor": 5
}
