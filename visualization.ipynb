{
 "cells": [
  {
   "cell_type": "markdown",
   "id": "d0ac74ac",
   "metadata": {},
   "source": [
    "## Installation of packages required for visualization"
   ]
  },
  {
   "cell_type": "code",
   "execution_count": 3,
   "id": "f74b832c",
   "metadata": {},
   "outputs": [],
   "source": [
    "import numpy as np\n",
    "import matplotlib.pyplot as plt\n",
    "import plotly.graph_objects as go\n"
   ]
  },
  {
   "cell_type": "markdown",
   "id": "b4c8f173",
   "metadata": {},
   "source": [
    "Display transformation"
   ]
  },
  {
   "cell_type": "code",
   "execution_count": 26,
   "id": "3ae25e5a",
   "metadata": {},
   "outputs": [
    {
     "data": {
      "application/vnd.plotly.v1+json": {
       "config": {
        "plotlyServerURL": "https://plot.ly"
       },
       "data": [
        {
         "marker": {
          "color": "red",
          "size": 5
         },
         "mode": "markers",
         "name": "Grid",
         "type": "scatter",
         "x": {
          "bdata": "AAAAAAAA8L8AAAAAAADwvwAAAAAAAPC/AAAAAAAA8L8AAAAAAADwvwAAAAAAAPC/AAAAAAAA8L8AAAAAAADwvwAAAAAAAPC/AAAAAAAA8L85juM4juPovzmO4ziO4+i/OY7jOI7j6L85juM4juPovzmO4ziO4+i/OY7jOI7j6L85juM4juPovzmO4ziO4+i/OY7jOI7j6L85juM4juPov3Icx3Ecx+G/chzHcRzH4b9yHMdxHMfhv3Icx3Ecx+G/chzHcRzH4b9yHMdxHMfhv3Icx3Ecx+G/chzHcRzH4b9yHMdxHMfhv3Icx3Ecx+G/VlVVVVVV1b9WVVVVVVXVv1ZVVVVVVdW/VlVVVVVV1b9WVVVVVVXVv1ZVVVVVVdW/VlVVVVVV1b9WVVVVVVXVv1ZVVVVVVdW/VlVVVVVV1b8gx3Ecx3G8vyDHcRzHcby/IMdxHMdxvL8gx3Ecx3G8vyDHcRzHcby/IMdxHMdxvL8gx3Ecx3G8vyDHcRzHcby/IMdxHMdxvL8gx3Ecx3G8vyDHcRzHcbw/IMdxHMdxvD8gx3Ecx3G8PyDHcRzHcbw/IMdxHMdxvD8gx3Ecx3G8PyDHcRzHcbw/IMdxHMdxvD8gx3Ecx3G8PyDHcRzHcbw/VFVVVVVV1T9UVVVVVVXVP1RVVVVVVdU/VFVVVVVV1T9UVVVVVVXVP1RVVVVVVdU/VFVVVVVV1T9UVVVVVVXVP1RVVVVVVdU/VFVVVVVV1T9wHMdxHMfhP3Acx3Ecx+E/cBzHcRzH4T9wHMdxHMfhP3Acx3Ecx+E/cBzHcRzH4T9wHMdxHMfhP3Acx3Ecx+E/cBzHcRzH4T9wHMdxHMfhPziO4ziO4+g/OI7jOI7j6D84juM4juPoPziO4ziO4+g/OI7jOI7j6D84juM4juPoPziO4ziO4+g/OI7jOI7j6D84juM4juPoPziO4ziO4+g/AAAAAAAA8D8AAAAAAADwPwAAAAAAAPA/AAAAAAAA8D8AAAAAAADwPwAAAAAAAPA/AAAAAAAA8D8AAAAAAADwPwAAAAAAAPA/AAAAAAAA8D8=",
          "dtype": "f8"
         },
         "y": {
          "bdata": "AAAAAAAA8L85juM4juPov3Icx3Ecx+G/VlVVVVVV1b8gx3Ecx3G8vyDHcRzHcbw/VFVVVVVV1T9wHMdxHMfhPziO4ziO4+g/AAAAAAAA8D8AAAAAAADwvzmO4ziO4+i/chzHcRzH4b9WVVVVVVXVvyDHcRzHcby/IMdxHMdxvD9UVVVVVVXVP3Acx3Ecx+E/OI7jOI7j6D8AAAAAAADwPwAAAAAAAPC/OY7jOI7j6L9yHMdxHMfhv1ZVVVVVVdW/IMdxHMdxvL8gx3Ecx3G8P1RVVVVVVdU/cBzHcRzH4T84juM4juPoPwAAAAAAAPA/AAAAAAAA8L85juM4juPov3Icx3Ecx+G/VlVVVVVV1b8gx3Ecx3G8vyDHcRzHcbw/VFVVVVVV1T9wHMdxHMfhPziO4ziO4+g/AAAAAAAA8D8AAAAAAADwvzmO4ziO4+i/chzHcRzH4b9WVVVVVVXVvyDHcRzHcby/IMdxHMdxvD9UVVVVVVXVP3Acx3Ecx+E/OI7jOI7j6D8AAAAAAADwPwAAAAAAAPC/OY7jOI7j6L9yHMdxHMfhv1ZVVVVVVdW/IMdxHMdxvL8gx3Ecx3G8P1RVVVVVVdU/cBzHcRzH4T84juM4juPoPwAAAAAAAPA/AAAAAAAA8L85juM4juPov3Icx3Ecx+G/VlVVVVVV1b8gx3Ecx3G8vyDHcRzHcbw/VFVVVVVV1T9wHMdxHMfhPziO4ziO4+g/AAAAAAAA8D8AAAAAAADwvzmO4ziO4+i/chzHcRzH4b9WVVVVVVXVvyDHcRzHcby/IMdxHMdxvD9UVVVVVVXVP3Acx3Ecx+E/OI7jOI7j6D8AAAAAAADwPwAAAAAAAPC/OY7jOI7j6L9yHMdxHMfhv1ZVVVVVVdW/IMdxHMdxvL8gx3Ecx3G8P1RVVVVVVdU/cBzHcRzH4T84juM4juPoPwAAAAAAAPA/AAAAAAAA8L85juM4juPov3Icx3Ecx+G/VlVVVVVV1b8gx3Ecx3G8vyDHcRzHcbw/VFVVVVVV1T9wHMdxHMfhPziO4ziO4+g/AAAAAAAA8D8=",
          "dtype": "f8"
         }
        },
        {
         "line": {
          "color": "blue",
          "width": 4
         },
         "marker": {
          "size": 6
         },
         "mode": "lines+markers",
         "name": "Vector",
         "type": "scatter",
         "x": [
          0,
          1
         ],
         "y": [
          0,
          1
         ]
        },
        {
         "line": {
          "color": "black",
          "dash": "dash",
          "width": 3
         },
         "marker": {
          "size": 6
         },
         "mode": "lines+markers",
         "name": "X basis (initial)",
         "type": "scatter",
         "x": [
          0,
          1
         ],
         "y": [
          0,
          0
         ]
        },
        {
         "line": {
          "color": "black",
          "dash": "dash",
          "width": 3
         },
         "marker": {
          "size": 6
         },
         "mode": "lines+markers",
         "name": "Y basis (initial)",
         "type": "scatter",
         "x": [
          0,
          0
         ],
         "y": [
          0,
          1
         ]
        },
        {
         "line": {
          "color": "purple",
          "width": 3
         },
         "marker": {
          "size": 6
         },
         "mode": "lines+markers",
         "name": "Solution",
         "type": "scatter",
         "x": [
          0,
          2
         ],
         "y": [
          0,
          1.4
         ]
        }
       ],
       "frames": [
        {
         "data": [
          {
           "marker": {
            "color": "red",
            "size": 5
           },
           "mode": "markers",
           "name": "Grid",
           "type": "scatter",
           "x": {
            "bdata": "AAAAAAAA8L8AAAAAAADwvwAAAAAAAPC/AAAAAAAA8L8AAAAAAADwvwAAAAAAAPC/AAAAAAAA8L8AAAAAAADwvwAAAAAAAPC/AAAAAAAA8L85juM4juPovzmO4ziO4+i/OY7jOI7j6L85juM4juPovzmO4ziO4+i/OY7jOI7j6L85juM4juPovzmO4ziO4+i/OY7jOI7j6L85juM4juPov3Icx3Ecx+G/chzHcRzH4b9yHMdxHMfhv3Icx3Ecx+G/chzHcRzH4b9yHMdxHMfhv3Icx3Ecx+G/chzHcRzH4b9yHMdxHMfhv3Icx3Ecx+G/VlVVVVVV1b9WVVVVVVXVv1ZVVVVVVdW/VlVVVVVV1b9WVVVVVVXVv1ZVVVVVVdW/VlVVVVVV1b9WVVVVVVXVv1ZVVVVVVdW/VlVVVVVV1b8gx3Ecx3G8vyDHcRzHcby/IMdxHMdxvL8gx3Ecx3G8vyDHcRzHcby/IMdxHMdxvL8gx3Ecx3G8vyDHcRzHcby/IMdxHMdxvL8gx3Ecx3G8vyDHcRzHcbw/IMdxHMdxvD8gx3Ecx3G8PyDHcRzHcbw/IMdxHMdxvD8gx3Ecx3G8PyDHcRzHcbw/IMdxHMdxvD8gx3Ecx3G8PyDHcRzHcbw/VFVVVVVV1T9UVVVVVVXVP1RVVVVVVdU/VFVVVVVV1T9UVVVVVVXVP1RVVVVVVdU/VFVVVVVV1T9UVVVVVVXVP1RVVVVVVdU/VFVVVVVV1T9wHMdxHMfhP3Acx3Ecx+E/cBzHcRzH4T9wHMdxHMfhP3Acx3Ecx+E/cBzHcRzH4T9wHMdxHMfhP3Acx3Ecx+E/cBzHcRzH4T9wHMdxHMfhPziO4ziO4+g/OI7jOI7j6D84juM4juPoPziO4ziO4+g/OI7jOI7j6D84juM4juPoPziO4ziO4+g/OI7jOI7j6D84juM4juPoPziO4ziO4+g/AAAAAAAA8D8AAAAAAADwPwAAAAAAAPA/AAAAAAAA8D8AAAAAAADwPwAAAAAAAPA/AAAAAAAA8D8AAAAAAADwPwAAAAAAAPA/AAAAAAAA8D8=",
            "dtype": "f8"
           },
           "y": {
            "bdata": "AAAAAAAA8L85juM4juPov3Icx3Ecx+G/VlVVVVVV1b8gx3Ecx3G8vyDHcRzHcbw/VFVVVVVV1T9wHMdxHMfhPziO4ziO4+g/AAAAAAAA8D8AAAAAAADwvzmO4ziO4+i/chzHcRzH4b9WVVVVVVXVvyDHcRzHcby/IMdxHMdxvD9UVVVVVVXVP3Acx3Ecx+E/OI7jOI7j6D8AAAAAAADwPwAAAAAAAPC/OY7jOI7j6L9yHMdxHMfhv1ZVVVVVVdW/IMdxHMdxvL8gx3Ecx3G8P1RVVVVVVdU/cBzHcRzH4T84juM4juPoPwAAAAAAAPA/AAAAAAAA8L85juM4juPov3Icx3Ecx+G/VlVVVVVV1b8gx3Ecx3G8vyDHcRzHcbw/VFVVVVVV1T9wHMdxHMfhPziO4ziO4+g/AAAAAAAA8D8AAAAAAADwvzmO4ziO4+i/chzHcRzH4b9WVVVVVVXVvyDHcRzHcby/IMdxHMdxvD9UVVVVVVXVP3Acx3Ecx+E/OI7jOI7j6D8AAAAAAADwPwAAAAAAAPC/OY7jOI7j6L9yHMdxHMfhv1ZVVVVVVdW/IMdxHMdxvL8gx3Ecx3G8P1RVVVVVVdU/cBzHcRzH4T84juM4juPoPwAAAAAAAPA/AAAAAAAA8L85juM4juPov3Icx3Ecx+G/VlVVVVVV1b8gx3Ecx3G8vyDHcRzHcbw/VFVVVVVV1T9wHMdxHMfhPziO4ziO4+g/AAAAAAAA8D8AAAAAAADwvzmO4ziO4+i/chzHcRzH4b9WVVVVVVXVvyDHcRzHcby/IMdxHMdxvD9UVVVVVVXVP3Acx3Ecx+E/OI7jOI7j6D8AAAAAAADwPwAAAAAAAPC/OY7jOI7j6L9yHMdxHMfhv1ZVVVVVVdW/IMdxHMdxvL8gx3Ecx3G8P1RVVVVVVdU/cBzHcRzH4T84juM4juPoPwAAAAAAAPA/AAAAAAAA8L85juM4juPov3Icx3Ecx+G/VlVVVVVV1b8gx3Ecx3G8vyDHcRzHcbw/VFVVVVVV1T9wHMdxHMfhPziO4ziO4+g/AAAAAAAA8D8=",
            "dtype": "f8"
           }
          },
          {
           "line": {
            "color": "blue",
            "width": 4
           },
           "marker": {
            "size": 6
           },
           "mode": "lines+markers",
           "name": "Vector",
           "type": "scatter",
           "x": [
            0,
            1
           ],
           "y": [
            0,
            1
           ]
          },
          {
           "line": {
            "color": "black",
            "width": 3
           },
           "marker": {
            "size": 6
           },
           "mode": "lines+markers",
           "name": "X basis (transformed)",
           "type": "scatter",
           "x": [
            0,
            1
           ],
           "y": [
            0,
            0
           ]
          },
          {
           "line": {
            "color": "black",
            "width": 3
           },
           "marker": {
            "size": 6
           },
           "mode": "lines+markers",
           "name": "Y basis (transformed)",
           "type": "scatter",
           "x": [
            0,
            0
           ],
           "y": [
            0,
            1
           ]
          }
         ],
         "name": "frame0.00"
        },
        {
         "data": [
          {
           "marker": {
            "color": "red",
            "size": 5
           },
           "mode": "markers",
           "name": "Grid",
           "type": "scatter",
           "x": {
            "bdata": "3dMIyz2N8L9vg7JCjH3wvwIzXLrabfC/lOIFMile8L8mkq+pd07wv7hBWSHGPvC/SvECmRQv8L/coKwQYx/wv29QVoixD/C/AQAAAAAA8L8YlUi+pt7pvzz0m61Dv+m/YFPvnOCf6b+FskKMfYDpv6kRlnsaYem/zXDpardB6b/xzzxaVCLpvxYvkEnxAum/Oo7jOI7j6L9e7TYoK8Tov3WCf+bRouK/meHS1W6D4r+9QCbFC2Tiv+KfebSoROK/Bv/Mo0Ul4r8qXiCT4gXiv069c4J/5uG/cxzHcRzH4b+Xexphuafhv7vabVBWiOG/o99sHfrN1r/snRP8M4/WvzVcutptUNa/fRphuacR1r/G2AeY4dLVvw6XrnYblNW/V1VVVVVV1b+gE/wzjxbVv+jRohLJ19S/MZBJ8QKZ1L+7dLXboKzAv0zxApkUL8C/utugrBBjv7/d1Dsn+Ge+v//N1qHfbL2/IcdxHMdxvL9EwAyXrna7v2a5pxGWe7q/iLJCjH2Aub+qq90GZYW4v6qr3QZlhbg/iLJCjH2AuT9muacRlnu6P0PADJeudrs/IcdxHMdxvD//zdah32y9P9zUOyf4Z74/utugrBBjvz9M8QKZFC/AP7t0tdugrMA/L5BJ8QKZ1D/m0aISydfUP50T/DOPFtU/VVVVVVVV1T8Ml652G5TVP8TYB5jh0tU/exphuacR1j8yXLrabVDWP+qdE/wzj9Y/od9sHfrN1j+52m1QVojhP5V7GmG5p+E/cRzHcRzH4T9MvXOCf+bhPyheIJPiBeI/BP/Mo0Ul4j/gn3m0qETiP7tAJsULZOI/l+HS1W6D4j9zgn/m0aLiP13tNigrxOg/OY7jOI7j6D8VL5BJ8QLpP/DPPFpUIuk/zHDpardB6T+oEZZ7GmHpP4SyQox9gOk/X1PvnOCf6T879JutQ7/pPxeVSL6m3uk/AQAAAAAA8D9vUFaIsQ/wP9ygrBBjH/A/SvECmRQv8D+4QVkhxj7wPyaSr6l3TvA/lOIFMile8D8CM1y62m3wP2+DskKMffA/3dMIyz2N8D8=",
            "dtype": "f8"
           },
           "y": {
            "bdata": "8ocDHn848L+SKj9u/kfpv0BFd6D+HuK/279epf3r1b/b1Dsn+Ge+v71VA0cG4Lo/EqBQLQEK1T9aNXBkAK7hP60aODIA1+g/AAAAAAAA8D8szq0aODLwvwe3k2dwO+m/tdHLmXAS4r/F2AeY4dLVv4M44PGHA76/FvJefHZEuz8oh6c6HSPVP+WoG2uOuuE/OI7jOI7j6D/GuVUDRwbwP2cUWBfxK/C/fEPoYOIu6b8pXiCT4gXiv6/xsIrFudW/KpyEvBefvb9vjrqx5qi7Pz5u/kc5PNU/cBzHcRzH4T/DAY8/HPDoP4tzqwaODPA/oVoCFKol8L/xzzxaVCLpv57qdIxU+eG/mQpafamg1b/S/yiHpzq9v8cqFudWDbw/VFVVVVVV1T/7j3J4qtPhP051Okaq/Og/US0BCtUS8D/coKwQYx/wv2VckVPGFem/E3fJhcbs4b+CIwNwjYfVv3ljzVE31ry/IMdxHMdxvD9qPKxicW7VP4YDHn844OE/2ejlTDgJ6T8W51YNHBnwPxbnVg0cGfC/2ujlTDgJ6b+IAx5/OODhv2w8rGJxbtW/IMdxHMdxvL95Y81RN9a8P4AjA3CNh9U/EXfJhcbs4T9kXJFTxhXpP9ygrBBjH/A/US0BCtUS8L9PdTpGqvzov/2Pcniq0+G/VlVVVVVV1b/IKhbnVg28v9H/KIenOr0/lwpafamg1T+c6nSMVPnhP/DPPFpUIuk/oVoCFKol8D+Lc6sGjgzwv8QBjz8c8Oi/chzHcRzH4b9Abv5HOTzVv2+OurHmqLu/KpyEvBefvT+t8bCKxbnVPydeIJPiBeI/e0PoYOIu6T9nFFgX8SvwP8a5VQNHBvC/OY7jOI7j6L/nqBtrjrrhvyqHpzodI9W/FvJefHZEu7+DOODxhwO+P8PYB5jh0tU/s9HLmXAS4j8Gt5NncDvpPyzOrRo4MvA/AAAAAAAA8L+uGjgyANfov1w1cGQAruG/FKBQLQEK1b+9VQNHBuC6v9vUOyf4Z74/2b9epf3r1T8+RXeg/h7iP5EqP27+R+k/8ocDHn848D8=",
            "dtype": "f8"
           }
          },
          {
           "line": {
            "color": "blue",
            "width": 4
           },
           "marker": {
            "size": 6
           },
           "mode": "lines+markers",
           "name": "Vector",
           "type": "scatter",
           "x": [
            0,
            1.0344827586206897
           ],
           "y": [
            0,
            1.013793103448276
           ]
          },
          {
           "line": {
            "color": "black",
            "width": 3
           },
           "marker": {
            "size": 6
           },
           "mode": "lines+markers",
           "name": "X basis (transformed)",
           "type": "scatter",
           "x": [
            0,
            1.017241379310345
           ],
           "y": [
            0,
            0.006896551724137931
           ]
          },
          {
           "line": {
            "color": "black",
            "width": 3
           },
           "marker": {
            "size": 6
           },
           "mode": "lines+markers",
           "name": "Y basis (transformed)",
           "type": "scatter",
           "x": [
            0,
            0.017241379310344827
           ],
           "y": [
            0,
            1.006896551724138
           ]
          }
         ],
         "name": "frame0.03"
        },
        {
         "data": [
          {
           "marker": {
            "color": "red",
            "size": 5
           },
           "mode": "markers",
           "name": "Grid",
           "type": "scatter",
           "x": {
            "bdata": "uqcRlnsa8b/eBmWFGPvwvwJmuHS12/C/J8ULZFK88L9LJF9T75zwv2+DskKMffC/k+IFMile8L+4QVkhxj7wv9ygrBBjH/C/AAAAAAAA8L/0m61Dv9nqvz1aVCL5muq/hhj7ADNc6r/O1qHfbB3qvxeVSL6m3um/X1PvnOCf6b+oEZZ7GmHpv/HPPFpUIum/OY7jOI7j6L+CTIoXyKTov3boN1uHfuO/v6beOcE/478IZYUY+wDjv1AjLPc0wuK/meHS1W6D4r/hn3m0qETivypeIJPiBeK/cxzHcRzH4b+72m1QVojhvwSZFC+QSeG/8GmE5Z5G2L+B5tGiEsnXvxJjH2CGS9e/o99sHfrN1r80XLrabVDWv8bYB5jh0tW/V1VVVVVV1b/o0aISydfUv3lO8M88WtS/Css9jbDc07/kBTIpXiDDvwf/zKNFJcK/KfhnHi0qwb9M8QKZFC/Av9zUOyf4Z76/IMdxHMdxvL9luacRlnu6v6qr3QZlhbi/750T/DOPtr8zkEnxApm0vzOQSfECmbQ/7p0T/DOPtj+qq90GZYW4P2W5pxGWe7o/IMdxHMdxvD/c1Dsn+Ge+P0vxApkUL8A/KfhnHi0qwT8H/8yjRSXCP+QFMileIMM/CMs9jbDc0z93TvDPPFrUP+bRohLJ19Q/VVVVVVVV1T/E2AeY4dLVPzJcutptUNY/od9sHfrN1j8QYx9ghkvXP3/m0aISydc/7mmE5Z5G2D8CmRQvkEnhP7nabVBWiOE/cBzHcRzH4T8oXiCT4gXiP9+febSoROI/l+HS1W6D4j9OIyz3NMLiPwVlhRj7AOM/vabeOcE/4z906Ddbh37jP4FMihfIpOg/OI7jOI7j6D/vzzxaVCLpP6cRlnsaYek/XlPvnOCf6T8WlUi+pt7pP83Wod9sHeo/hBj7ADNc6j88WlQi+ZrqP/ObrUO/2eo/AAAAAAAA8D/coKwQYx/wP7hBWSHGPvA/k+IFMile8D9vg7JCjH3wP0skX1PvnPA/J8ULZFK88D8CZrh0tdvwP94GZYUY+/A/uqcRlnsa8T8=",
            "dtype": "f8"
           },
           "y": {
            "bdata": "5A8HPP5w8L/rxpqjbqzpvw1uJ8/gduK/YCpo9aWC1r9L8QKZFC/Av1vklHFFTrk/z+pLBa2+1D9EThlX5JThPyKnjCtyyug/AAAAAAAA8D9ZnFs1cGTwv9TfQ5ZSk+m/94bQwcRd4r80XLrabVDWv+apTsdIlb+/DB1M3CUXuj/7uPkf5fDUP1o1cGQAruE/OI7jOI7j6D+Lc6sGjgzwP84osC7iV/C/vvjsiDZ66b/hn3m0qETivwiODMA1Hta/NHGXXGjMvr++VQNHBuC6PyiHpzodI9U/cBzHcRzH4T9OdTpGqvzoPxbnVg0cGfA/Q7UEKFRL8L+oEZZ7GmHpv8u4IqeMK+K/279epf3r1b+DOODxhwO+v2+OurHmqLs/VFVVVVVV1T+GAx5/OODhP2VckVPGFek/oVoCFKol8D+4QVkhxj7wv5IqP27+R+m/tdHLmXAS4r+v8bCKxbnVv9L/KIenOr2/IMdxHMdxvD+AIwNwjYfVP5zqdIxU+eE/e0PoYOIu6T8szq0aODLwPyzOrRo4MvC/fEPoYOIu6b+e6nSMVPnhv4IjA3CNh9W/IMdxHMdxvL/S/yiHpzq9P63xsIrFudU/s9HLmXAS4j+RKj9u/kfpP7hBWSHGPvA/oVoCFKol8L9mXJFTxhXpv4gDHn844OG/VlVVVVVV1b9vjrqx5qi7v4M44PGHA74/2b9epf3r1T/JuCKnjCviP6cRlnsaYek/Q7UEKFRL8D8W51YNHBnwv091Okaq/Oi/chzHcRzH4b8qh6c6HSPVv75VA0cG4Lq/NHGXXGjMvj8FjgzANR7WP9+febSoROI/vfjsiDZ66T/OKLAu4lfwP4tzqwaODPC/OY7jOI7j6L9cNXBkAK7hv/64+R/l8NS/DB1M3CUXur/mqU7HSJW/PzJcutptUNY/9YbQwcRd4j/T30OWUpPpP1mcWzVwZPA/AAAAAAAA8L8jp4wrcsrov0ZOGVfklOG/0epLBa2+1L9b5JRxRU65v0vxApkUL8A/Xipo9aWC1j8LbifP4HbiP+rGmqNurOk/5A8HPP5w8D8=",
            "dtype": "f8"
           }
          },
          {
           "line": {
            "color": "blue",
            "width": 4
           },
           "marker": {
            "size": 6
           },
           "mode": "lines+markers",
           "name": "Vector",
           "type": "scatter",
           "x": [
            0,
            1.0689655172413794
           ],
           "y": [
            0,
            1.0275862068965518
           ]
          },
          {
           "line": {
            "color": "black",
            "width": 3
           },
           "marker": {
            "size": 6
           },
           "mode": "lines+markers",
           "name": "X basis (transformed)",
           "type": "scatter",
           "x": [
            0,
            1.0344827586206897
           ],
           "y": [
            0,
            0.013793103448275862
           ]
          },
          {
           "line": {
            "color": "black",
            "width": 3
           },
           "marker": {
            "size": 6
           },
           "mode": "lines+markers",
           "name": "Y basis (transformed)",
           "type": "scatter",
           "x": [
            0,
            0.034482758620689655
           ],
           "y": [
            0,
            1.013793103448276
           ]
          }
         ],
         "name": "frame0.07"
        },
        {
         "data": [
          {
           "marker": {
            "color": "red",
            "size": 5
           },
           "mode": "markers",
           "name": "Grid",
           "type": "scatter",
           "x": {
            "bdata": "lnsaYbmn8b9MihfIpHjxvwOZFC+QSfG/uacRlnsa8b9wtg79ZuvwvybFC2RSvPC/3dMIyz2N8L+T4gUyKV7wv0rxApkUL/C/AAAAAAAA8L/SohLJ19Trvz/ADJeuduu/rN0GZYUY678Z+wAzXLrqv4YY+wAzXOq/8jX1zgn+6b9fU++c4J/pv8xw6Wq3Qem/OY7jOI7j6L+mq90GZYXov3hO8M88WuS/5WvqnRP8479SieRr6p3jv7+m3jnBP+O/LMTYB5jh4r+Y4dLVboPivwX/zKNFJeK/chzHcRzH4b/fOcE/82jhv0xXuw3KCuG/O/SbrUO/2b8VL5BJ8QLZv+9phOWeRti/yKR4gUyK17+i32wd+s3Wv3waYbmnEda/VlVVVVVV1b8wkEnxApnUvwnLPY2w3NO/4wUyKV4g078Pl652G5TFv8IMl652G8S/doJ/5tGiwr8p+GceLSrBv7rboKwQY7+/IMdxHMdxvL+IskKMfYC5v++dE/wzj7a/Vonka+qds7+8dLXboKywv7x0tdugrLA/VYnka+qdsz/unRP8M4+2P4eyQox9gLk/IMdxHMdxvD+626CsEGO/Pyn4Zx4tKsE/dYJ/5tGiwj/CDJeudhvEPw+XrnYblMU/4QUyKV4g0z8Hyz2NsNzTPy2QSfECmdQ/VFVVVVVV1T96GmG5pxHWP6DfbB36zdY/xqR4gUyK1z/saYTlnkbYPxMvkEnxAtk/OfSbrUO/2T9KV7sNygrhP905wT/zaOE/cBzHcRzH4T8D/8yjRSXiP5bh0tVug+I/KsTYB5jh4j+9pt45wT/jP1CJ5GvqneM/42vqnRP84z92TvDPPFrkP6Wr3QZlheg/OI7jOI7j6D/LcOlqt0HpP15T75zgn+k/8TX1zgn+6T+FGPsAM1zqPxj7ADNcuuo/q90GZYUY6z8+wAyXrnbrP9GiEsnX1Os/AAAAAAAA8D9K8QKZFC/wP5PiBTIpXvA/3dMIyz2N8D8mxQtkUrzwP3C2Dv1m6/A/uacRlnsa8T8DmRQvkEnxP0yKF8ikePE/lnsaYbmn8T8=",
            "dtype": "f8"
           },
           "y": {
            "bdata": "1pcKWn2p8L9DY/bY3hDqv9uW1/3CzuK/5ZRxRU4Z178p+GceLSrBv/hyJpyEvLc/jTVH3Vhz1D8uZ8JJyHvhP5cz4STkveg/AAAAAAAA8D+FaglQqJbwv6II9MQ06+m/OjzV6Rip4r+j32wd+s3Wv6SNXs6Ek8C/Akg5PNXpuD/P6ksFrb7UP8/BxF1yoeE/OI7jOI7j6D9RLQEK1RLwPzU9CEbTg/C/Aa7xsIrF6b+Y4dLVboPiv2AqaPWlgta/Pkaq/Lj5v78MHUzcJRe6PxKgUC0BCtU/cBzHcRzH4T/a6OVMOAnpP6FaAhSqJfA/5A8HPP5w8L9gU++c4J/pv/eG0MHEXeK/HnVjzVE31r80cZdcaMy+vxbyXnx2RLs/VFVVVVVV1T8Rd8mFxuzhP3tD6GDiLuk/8ocDHn848D+T4gUyKV7wv7747Ig2eum/VizOrRo44r/bv16l/evVvyqchLwXn72/IMdxHMdxvD+XClp9qaDVP7PRy5lwEuI/HJ7qdIxU6T9DtQQoVEvwP0O1BChUS/C/HZ7qdIxU6b+10cuZcBLiv5kKWn2poNW/IMdxHMdxvL8qnIS8F5+9P9m/XqX969U/VCzOrRo44j+9+OyINnrpP5PiBTIpXvA/8ocDHn848L98Q+hg4i7pvxN3yYXG7OG/VlVVVVVV1b8X8l58dkS7vzRxl1xozL4/HHVjzVE31j/1htDBxF3iP19T75zgn+k/5A8HPP5w8D+hWgIUqiXwv9vo5Uw4Cem/chzHcRzH4b8UoFAtAQrVvw0dTNwlF7q/Pkaq/Lj5vz9eKmj1pYLWP5bh0tVug+I/AK7xsIrF6T81PQhG04PwP1EtAQrVEvC/OY7jOI7j6L/RwcRdcqHhv9HqSwWtvtS/A0g5PNXpuL+kjV7OhJPAP6HfbB36zdY/ODzV6Rip4j+hCPTENOvpP4VqCVColvA/AAAAAAAA8L+YM+Ek5L3ovzBnwknIe+G/jzVH3Vhz1L/4ciachLy3vyn4Zx4tKsE/45RxRU4Z1z/Zltf9ws7iP0Jj9tjeEOo/1pcKWn2p8D8=",
            "dtype": "f8"
           }
          },
          {
           "line": {
            "color": "blue",
            "width": 4
           },
           "marker": {
            "size": 6
           },
           "mode": "lines+markers",
           "name": "Vector",
           "type": "scatter",
           "x": [
            0,
            1.103448275862069
           ],
           "y": [
            0,
            1.0413793103448277
           ]
          },
          {
           "line": {
            "color": "black",
            "width": 3
           },
           "marker": {
            "size": 6
           },
           "mode": "lines+markers",
           "name": "X basis (transformed)",
           "type": "scatter",
           "x": [
            0,
            1.0517241379310345
           ],
           "y": [
            0,
            0.020689655172413793
           ]
          },
          {
           "line": {
            "color": "black",
            "width": 3
           },
           "marker": {
            "size": 6
           },
           "mode": "lines+markers",
           "name": "Y basis (transformed)",
           "type": "scatter",
           "x": [
            0,
            0.05172413793103448
           ],
           "y": [
            0,
            1.0206896551724138
           ]
          }
         ],
         "name": "frame0.10"
        },
        {
         "data": [
          {
           "marker": {
            "color": "red",
            "size": 5
           },
           "mode": "markers",
           "name": "Grid",
           "type": "scatter",
           "x": {
            "bdata": "ck8jLPc08r+7DcoKMfbxvwTMcOlqt/G/TIoXyKR48b+VSL6m3jnxv90GZYUY+/C/JsULZFK88L9vg7JCjH3wv7dBWSHGPvC/////////77+vqXdO8M/sv0AmxQtkUuy/0aISydfU679iH2CGS1frv/ObrUO/2eq/hRj7ADNc6r8WlUi+pt7pv6cRlnsaYem/OI7jOI7j6L/JCjH2AWbov3q0qETyNeW/CzH2AWa45L+crUO/2Trkvy0qkXxNveO/vqbeOcE/479QIyz3NMLiv+GfebSoROK/chzHcRzH4b8DmRQvkEnhv5QVYuwDzOC/iH6zdeg327+qd07wzzzav8xw6Wq3Qdm/72mE5Z5G2L8RYx9ghkvXvzNcutptUNa/VlVVVVVV1b94TvDPPFrUv5pHi0okX9O/vEAmxQtk0r84KCvE2AfIv30aYbmnEca/wgyXrnYbxL8H/8yjRSXCv0vxApkUL8C/H8dxHMdxvL+pq90GZYW4vzOQSfECmbS/vHS126CssL+KskKMfYCpv4qyQox9gKk/vHS126CssD8ykEnxApm0P6mr3QZlhbg/H8dxHMdxvD9L8QKZFC/APwb/zKNFJcI/wQyXrnYbxD99GmG5pxHGPzgoK8TYB8g/ukAmxQtk0j+YR4tKJF/TP3ZO8M88WtQ/U1VVVVVV1T8xXLrabVDWPw9jH2CGS9c/7GmE5Z5G2D/KcOlqt0HZP6h3TvDPPNo/hn6zdeg32z+SFWLsA8zgPwGZFC+QSeE/cBzHcRzH4T/fn3m0qETiP04jLPc0wuI/vKbeOcE/4z8rKpF8Tb3jP5qtQ7/ZOuQ/CTH2AWa45D94tKhE8jXlP8gKMfYBZug/N47jOI7j6D+mEZZ7GmHpPxWVSL6m3uk/hBj7ADNc6j/ym61Dv9nqP2EfYIZLV+s/0KISydfU6z8/JsULZFLsP66pd07wz+w/////////7z+3QVkhxj7wP26DskKMffA/JsULZFK88D/dBmWFGPvwP5VIvqbeOfE/TIoXyKR48T8DzHDparfxP7sNygox9vE/ck8jLPc08j8=",
            "dtype": "f8"
           },
           "y": {
            "bdata": "yB8OePzh8L+c/1EOT3Xqv6m/hyylJuO/av96lfav178H/8yjRSXCv5YBuMbDKrY/SoBCtQQo1D8YgGs8rGLhPwzANR5Wseg/AAAAAAAA8D+yOLdq4Mjwv3AxpPMWQ+q/fPHZEW304r8SYx9ghkvXv1bGFTllXMG/+XImnIS8tz+jHJ7qdIzUP0ROGVfklOE/OI7jOI7j6D8W51YNHBnwP5tRYF3Er/C/Q2P22N4Q6r9QIyz3NMLiv7nGwyoW59a/pI1ezoSTwL9b5JRxRU65P/y4+R/l8NQ/cBzHcRzH4T9lXJFTxhXpPy3OrRo4MvA/hWoJUKiW8L8XlUi+pt7pvyRVftz8j+K/YCpo9aWC1r/mqU7HSJW/v75VA0cG4Lo/VFVVVVVV1T+d6nSMVPnhP5EqP27+R+k/Q7UEKFRL8D9vg7JCjH3wv+vGmqNurOm/94bQwcRd4r8IjgzANR7Wv4M44PGHA76/IMdxHMdxvD+t8bCKxbnVP8m4IqeMK+I/vfjsiDZ66T9ZnFs1cGTwP1mcWzVwZPC/vvjsiDZ66b/LuCKnjCviv6/xsIrFudW/IMdxHMdxvL+DOODxhwO+PwaODMA1HtY/9YbQwcRd4j/qxpqjbqzpP2+DskKMffA/Q7UEKFRL8L+SKj9u/kfpv5/qdIxU+eG/VlVVVVVV1b++VQNHBuC6v+apTsdIlb8/Xipo9aWC1j8iVX7c/I/iPxaVSL6m3uk/hWoJUKiW8D8tzq0aODLwv2ZckVPGFem/chzHcRzH4b/+uPkf5fDUv1zklHFFTrm/pI1ezoSTwD+3xsMqFufWP04jLPc0wuI/QmP22N4Q6j+bUWBdxK/wPxbnVg0cGfC/OY7jOI7j6L9GThlX5JThv6Ucnup0jNS/+XImnIS8t79WxhU5ZVzBPxBjH2CGS9c/evHZEW304j9vMaTzFkPqP7I4t2rgyPA/AAAAAAAA8L8NwDUeVrHovxqAazysYuG/TIBCtQQo1L+WAbjGwyq2vwf/zKNFJcI/aP96lfav1z+nv4cspSbjP5v/UQ5Pdeo/yB8OePzh8D8=",
            "dtype": "f8"
           }
          },
          {
           "line": {
            "color": "blue",
            "width": 4
           },
           "marker": {
            "size": 6
           },
           "mode": "lines+markers",
           "name": "Vector",
           "type": "scatter",
           "x": [
            0,
            1.1379310344827585
           ],
           "y": [
            0,
            1.0551724137931036
           ]
          },
          {
           "line": {
            "color": "black",
            "width": 3
           },
           "marker": {
            "size": 6
           },
           "mode": "lines+markers",
           "name": "X basis (transformed)",
           "type": "scatter",
           "x": [
            0,
            1.0689655172413792
           ],
           "y": [
            0,
            0.027586206896551724
           ]
          },
          {
           "line": {
            "color": "black",
            "width": 3
           },
           "marker": {
            "size": 6
           },
           "mode": "lines+markers",
           "name": "Y basis (transformed)",
           "type": "scatter",
           "x": [
            0,
            0.06896551724137931
           ],
           "y": [
            0,
            1.0275862068965518
           ]
          }
         ],
         "name": "frame0.14"
        },
        {
         "data": [
          {
           "marker": {
            "color": "red",
            "size": 5
           },
           "mode": "markers",
           "name": "Grid",
           "type": "scatter",
           "x": {
            "bdata": "UCMs9zTC8r8qkXxNvXPyvwX/zKNFJfK/4Gwd+s3W8b+72m1QVojxv5VIvqbeOfG/cLYO/Wbr8L9LJF9T75zwvyaSr6l3TvC/AAAAAAAA8L+OsNzTCMvtv0OMfYAZLu2/+GceLSqR7L+uQ7/ZOvTrv2MfYIZLV+u/GfsAM1y66r/O1qHfbB3qv4SyQox9gOm/OY7jOI7j6L/uaYTlnkbov3waYbmnEea/MvYBZrh05b/n0aISydfkv52tQ7/ZOuS/Uonka+qd478IZYUY+wDjv71AJsULZOK/cxzHcRzH4b8o+GceLSrhv97TCMs9jeC/1QjLPY2w3L9AwAyXrnbbv6t3TvDPPNq/Fi+QSfEC2b+B5tGiEsnXv+udE/wzj9a/VlVVVVVV1b/CDJeudhvUvyzE2AeY4dK/l3saYbmn0b9kuacRlnvKvzkoK8TYB8i/D5eudhuUxb/lBTIpXiDDv7t0tdugrMC/IMdxHMdxvL/NpHiBTIq3v3mCf+bRorK/SMAMl652q7+eexphuaehv557GmG5p6E/R8AMl652qz94gn/m0aKyP8ykeIFMirc/IMdxHMdxvD+7dLXboKzAP+UFMileIMM/DpeudhuUxT85KCvE2AfIP2S5pxGWe8o/lXsaYbmn0T8qxNgHmOHSP78Ml652G9Q/VFVVVVVV1T/pnRP8M4/WP3/m0aISydc/FC+QSfEC2T+od07wzzzaPz7ADJeudts/0wjLPY2w3D/c0wjLPY3gPyb4Zx4tKuE/cRzHcRzH4T+7QCbFC2TiPwZlhRj7AOM/UInka+qd4z+brUO/2TrkP+XRohLJ1+Q/MPYBZrh05T96GmG5pxHmP+5phOWeRug/OI7jOI7j6D+DskKMfYDpP83Wod9sHeo/GPsAM1y66j9iH2CGS1frP61Dv9k69Os/92ceLSqR7D9CjH2AGS7tP4yw3NMIy+0/AAAAAAAA8D8mkq+pd07wP0skX1PvnPA/cLYO/Wbr8D+VSL6m3jnxP7vabVBWiPE/4Gwd+s3W8T8F/8yjRSXyPyqRfE29c/I/UCMs9zTC8j8=",
            "dtype": "f8"
           },
           "y": {
            "bdata": "uqcRlnsa8b/1m61Dv9nqv3boN1uHfuO/8GmE5Z5G2L/lBTIpXiDDvzOQSfECmbQ/CMs9jbDc0z8BmRQvkEnhP4FMihfIpOg/AAAAAAAA8D/eBmWFGPvwvz1aVCL5muq/v6beOcE/47+B5tGiEsnXvwf/zKNFJcK/7p0T/DOPtj93TvDPPFrUP7nabVBWiOE/OI7jOI7j6D/coKwQYx/wPwJmuHS12/C/hhj7ADNc6r8HZYUY+wDjvxJjH2CGS9e/KvhnHi0qwb+qq90GZYW4P+XRohLJ19Q/cBzHcRzH4T/wzzxaVCLpP7hBWSHGPvA/J8ULZFK88L/P1qHfbB3qv1AjLPc0wuK/o99sHfrN1r9M8QKZFC/Av2W5pxGWe7o/VFVVVVVV1T8oXiCT4gXiP6cRlnsaYek/k+IFMile8D9LJF9T75zwvxeVSL6m3um/meHS1W6D4r80XLrabVDWv9zUOyf4Z76/IcdxHMdxvD/D2AeY4dLVP9+febSoROI/X1PvnOCf6T9vg7JCjH3wP2+DskKMffC/YFPvnOCf6b/hn3m0qETiv8XYB5jh0tW/IcdxHMdxvL/c1Dsn+Ge+PzJcutptUNY/l+HS1W6D4j8WlUi+pt7pP0skX1PvnPA/k+IFMile8L+oEZZ7GmHpvypeIJPiBeK/VlVVVVVV1b9luacRlnu6v0zxApkUL8A/od9sHfrN1j9OIyz3NMLiP87Wod9sHeo/J8ULZFK88D+4QVkhxj7wv/HPPFpUIum/chzHcRzH4b/o0aISydfUv6qr3QZlhbi/KfhnHi0qwT8QYx9ghkvXPwVlhRj7AOM/hRj7ADNc6j8CZrh0tdvwP9ygrBBjH/C/OY7jOI7j6L+72m1QVojhv3lO8M88WtS/750T/DOPtr8H/8yjRSXCP3/m0aISydc/vabeOcE/4z88WlQi+ZrqP94GZYUY+/A/AAAAAAAA8L+CTIoXyKTovwOZFC+QSeG/Css9jbDc078zkEnxApm0v+UFMileIMM/7WmE5Z5G2D906Ddbh37jP/SbrUO/2eo/uqcRlnsa8T8=",
            "dtype": "f8"
           }
          },
          {
           "line": {
            "color": "blue",
            "width": 4
           },
           "marker": {
            "size": 6
           },
           "mode": "lines+markers",
           "name": "Vector",
           "type": "scatter",
           "x": [
            0,
            1.1724137931034484
           ],
           "y": [
            0,
            1.0689655172413794
           ]
          },
          {
           "line": {
            "color": "black",
            "width": 3
           },
           "marker": {
            "size": 6
           },
           "mode": "lines+markers",
           "name": "X basis (transformed)",
           "type": "scatter",
           "x": [
            0,
            1.0862068965517242
           ],
           "y": [
            0,
            0.03448275862068966
           ]
          },
          {
           "line": {
            "color": "black",
            "width": 3
           },
           "marker": {
            "size": 6
           },
           "mode": "lines+markers",
           "name": "Y basis (transformed)",
           "type": "scatter",
           "x": [
            0,
            0.08620689655172414
           ],
           "y": [
            0,
            1.0344827586206897
           ]
          }
         ],
         "name": "frame0.17"
        },
        {
         "data": [
          {
           "marker": {
            "color": "red",
            "size": 5
           },
           "mode": "markers",
           "name": "Grid",
           "type": "scatter",
           "x": {
            "bdata": "LPc0wnJP87+ZFC+QSfHyvwYyKV4gk/K/c08jLPc08r/gbB36zdbxv0yKF8ikePG/uacRlnsa8b8mxQtkUrzwv5PiBTIpXvC/AAAAAAAA8L9rt0FZIcbuv0XyNfXOCe6/Hy0qkXxN7b/4Zx4tKpHsv9KiEsnX1Ou/rN0GZYUY67+GGPsAM1zqv2BT75zgn+m/OY7jOI7j6L8TydfUOyfov36AGS5d7ea/WLsNygox5r8y9gFmuHTlvwsx9gFmuOS/5WvqnRP847+/pt45wT/jv5nh0tVug+K/cxzHcRzH4b9MV7sNygrhvyaSr6l3TuC/IZPiBTIp3r/VCMs9jbDcv4h+s3XoN9u/PPSbrUO/2b/vaYTlnkbYv6PfbB36zda/VlVVVVVV1b8Kyz2NsNzTv71AJsULZNK/cbYO/Wbr0L+NSiRfU+/Mv/Q19c4J/sm/WyHGPsAMx7/CDJeudhvEvyn4Zx4tKsG/IMdxHMdxvL/vnRP8M4+2v710tdugrLC/FZeudhuUpb9gieRr6p2Tv2CJ5GvqnZM/FJeudhuUpT+8dLXboKywP+6dE/wzj7Y/IMdxHMdxvD8p+GceLSrBP8IMl652G8Q/WiHGPsAMxz/0NfXOCf7JP41KJF9T78w/b7YO/Wbr0D+7QCbFC2TSPwjLPY2w3NM/VFVVVVVV1T+h32wd+s3WP+1phOWeRtg/OvSbrUO/2T+GfrN16DfbP9MIyz2NsNw/H5PiBTIp3j8jkq+pd07gP0lXuw3KCuE/bxzHcRzH4T+W4dLVboPiP7ym3jnBP+M/4mvqnRP84z8IMfYBZrjkPy72AWa4dOU/VbsNygox5j97gBkuXe3mPxLJ19Q7J+g/OI7jOI7j6D9eU++c4J/pP4UY+wAzXOo/q90GZYUY6z/RohLJ19TrP/dnHi0qkew/HS0qkXxN7T9E8jX1zgnuP2q3QVkhxu4/AAAAAAAA8D+T4gUyKV7wPybFC2RSvPA/uacRlnsa8T9MihfIpHjxP+BsHfrN1vE/c08jLPc08j8GMileIJPyP5kUL5BJ8fI/LPc0wnJP8z8=",
            "dtype": "f8"
           },
           "y": {
            "bdata": "rC8VtPpS8b9OOAl5Lz7rv0QR6Ilp1uO/ddSNNUfd2L/CDJeudhvEv9Ee2xtCB7M/xRU5ZVyR0z/rsb0hdDDhP/bY3hA6mOg/AAAAAAAA8D8K1RKgUC3xvwuDBFHb8uq/AVzjYRWL47/waYTlnkbYv7g3hA4m7sK/5cgAXONhtT9KgEK1BCjUPy5nwknIe+E/OY7jOI7j6D+iWgIUqiXwP2l6EIymB/G/yc3/KIen6r+/pt45wT/jv2v/epX2r9e/rmJxbtXAwb/5ciachLy3P8/qSwWtvtQ/cBzHcRzH4T97Q+hg4i7pP0O1BChUS/A/yB8OePzh8L+GGPsAM1zqv3zx2RFt9OK/5pRxRU4Z17+kjV7OhJPAvw0dTNwlF7o/VFVVVVVV1T+z0cuZcBLiP7747Ig2euk/5A8HPP5w8D8nxQtkUrzwv0Rj9tjeEOq/OjzV6Rip4r9hKmj1pYLWvzVxl1xozL6/IcdxHMdxvD/Zv16l/evVP/WG0MHEXeI/AK7xsIrF6T+FaglQqJbwP4VqCVColvC/Aa7xsIrF6b/3htDBxF3iv9u/XqX969W/IcdxHMdxvL81cZdcaMy+P14qaPWlgtY/ODzV6Rip4j9DY/bY3hDqPyfFC2RSvPA/5A8HPP5w8L+/+OyINnrpv7XRy5lwEuK/V1VVVVVV1b8NHUzcJRe6v6SNXs6Ek8A/45RxRU4Z1z968dkRbfTiP4UY+wAzXOo/yB8OePzh8D9DtQQoVEvwv3xD6GDiLum/chzHcRzH4b/S6ksFrb7Uv/lyJpyEvLe/rmJxbtXAwT9o/3qV9q/XP72m3jnBP+M/x83/KIen6j9pehCMpgfxP6JaAhSqJfC/Oo7jOI7j6L8wZ8JJyHvhv02AQrUEKNS/5cgAXONhtb+4N4QOJu7CP+1phOWeRtg//1vjYRWL4z8KgwRR2/LqPwrVEqBQLfE/AAAAAAAA8L/32N4QOpjov+2xvSF0MOG/yBU5ZVyR07/RHtsbQgezv8IMl652G8Q/ctSNNUfd2D9CEeiJadbjP004CXkvPus/rC8VtPpS8T8=",
            "dtype": "f8"
           }
          },
          {
           "line": {
            "color": "blue",
            "width": 4
           },
           "marker": {
            "size": 6
           },
           "mode": "lines+markers",
           "name": "Vector",
           "type": "scatter",
           "x": [
            0,
            1.206896551724138
           ],
           "y": [
            0,
            1.0827586206896553
           ]
          },
          {
           "line": {
            "color": "black",
            "width": 3
           },
           "marker": {
            "size": 6
           },
           "mode": "lines+markers",
           "name": "X basis (transformed)",
           "type": "scatter",
           "x": [
            0,
            1.103448275862069
           ],
           "y": [
            0,
            0.041379310344827586
           ]
          },
          {
           "line": {
            "color": "black",
            "width": 3
           },
           "marker": {
            "size": 6
           },
           "mode": "lines+markers",
           "name": "Y basis (transformed)",
           "type": "scatter",
           "x": [
            0,
            0.10344827586206896
           ],
           "y": [
            0,
            1.0413793103448277
           ]
          }
         ],
         "name": "frame0.21"
        },
        {
         "data": [
          {
           "marker": {
            "color": "red",
            "size": 5
           },
           "mode": "markers",
           "name": "Grid",
           "type": "scatter",
           "x": {
            "bdata": "CMs9jbDc878HmOHS1W7zvwZlhRj7APO/BTIpXiCT8r8F/8yjRSXyvwPMcOlqt/G/A5kUL5BJ8b8CZrh0tdvwvwEzXLrabfC/////////779IvqbeOcHvv0ZY7mmE5e6/RPI19c4J7r9CjH2AGS7tv0AmxQtkUuy/PsAMl6526788WlQi+Zrqvzr0m61Dv+m/OI7jOI7j6L82KCvE2Afov3/m0aISyee/fYAZLl3t5r97GmG5pxHmv3m0qETyNeW/d07wzzxa5L916Ddbh37jv3OCf+bRouK/cRzHcRzH4b9vtg79Zuvgv21QVoixD+C/bB36zdah379pUYnka+rdv2WFGPsAM9y/YbmnEZZ72r9d7TYoK8TYv1khxj7ADNe/VVVVVVVV1b9SieRr6p3Tv069c4J/5tG/SvECmRQv0L+326CsEGPPv69Dv9k69Mu/qKvdBmWFyL+gE/wzjxbFv5h7GmG5p8G/IMdxHMdxvL8Rl652G5S1vwbO1qHfbK2/ytugrBBjn79A3KCsEGNvv0DcoKwQY28/xtugrBBjnz8Cztah32ytPxCXrnYblLU/IMdxHMdxvD+YexphuafBP58T/DOPFsU/p6vdBmWFyD+vQ7/ZOvTLP7fboKwQY88/SPECmRQv0D9LvXOCf+bRP0+J5GvqndM/U1VVVVVV1T9XIcY+wAzXP1vtNigrxNg/X7mnEZZ72j9ihRj7ADPcP2ZRieRr6t0/ah36zdah3z9rUFaIsQ/gP222Dv1m6+A/bxzHcRzH4T9xgn/m0aLiP3PoN1uHfuM/dU7wzzxa5D93tKhE8jXlP3kaYbmnEeY/e4AZLl3t5j995tGiEsnnPzUoK8TYB+g/N47jOI7j6D859JutQ7/pPztaVCL5muo/PcAMl6526z8/JsULZFLsP0GMfYAZLu0/Q/I19c4J7j9FWO5phOXuP0e+pt45we8/////////7z8BM1y62m3wPwJmuHS12/A/A5kUL5BJ8T8DzHDparfxPwX/zKNFJfI/BTIpXiCT8j8GZYUY+wDzPweY4dLVbvM/CMs9jbDc8z8=",
            "dtype": "f8"
           },
           "y": {
            "bdata": "nbcY0nmL8b+l1GSun6LrvxA6mLhLLuS/+D6Xhe9z2b+fE/wzjxbFv22tbEaBdbE/gmA0PQhG0z/UymYUWBfhP2llMwqsi+g/////////7z82o8C6iF/xv9ertH+9Suu/QxHoiWnW479d7TYoK8TYv2lwO3kGt8O/2fPtu5I0tD8dspSazPXTP6LzFkM6b+E/N47jOI7j6D9mFFgX8SvwP8+OaKOXM/G/CoMEUdvy6r916Ddbh37jv8Kb1spmFNi/M816vn1Xwr9GOm8xpPO2P7gD9feQpdQ/bxzHcRzH4T8Ft5NncDvpP80osC7iV/A/aHoQjKYH8b88WlQi+Zrqv6i/hyylJuO/J0p2baJk17/8KboD9ffAv7KA8Ka1srk/U1VVVVVV1T89RXeg/h7iP9LfQ5ZSk+k/ND0IRtOD8D8BZrh0tdvwv24xpPMWQ+q/2pbX/cLO4r+M+BUQ3rTWv4wN85HYML+/H8dxHMdxvD/uprWyGQXWPwpuJ8/gduI/oAj0xDTr6T+bUWBdxK/wP5tRYF3Er/C/oQj0xDTr6b8NbifP4Hbiv/CmtbIZBda/H8dxHMdxvL+MDfOR2DC/P4r4FRDetNY/2JbX/cLO4j9tMaTzFkPqPwFmuHS12/A/ND0IRtOD8L/T30OWUpPpvz9Fd6D+HuK/VVVVVVVV1b+zgPCmtbK5v/wpugP198A/JUp2baJk1z+mv4cspSbjPztaVCL5muo/aHoQjKYH8T/NKLAu4lfwvwa3k2dwO+m/cRzHcRzH4b+6A/X3kKXUv0c6bzGk87a/Ms16vn1Xwj/Am9bKZhTYP3PoN1uHfuM/CIMEUdvy6j/PjmijlzPxP2YUWBfxK/C/OI7jOI7j6L+k8xZDOm/hvx+ylJrM9dO/2vPtu5I0tL9pcDt5BrfDP1vtNigrxNg/QRHoiWnW4z/Wq7R/vUrrPzajwLqIX/E/////////779rZTMKrIvov9bKZhRYF+G/hGA0PQhG079trWxGgXWxv58T/DOPFsU/9j6Xhe9z2T8OOpi4Sy7kP6TUZK6fous/nbcY0nmL8T8=",
            "dtype": "f8"
           }
          },
          {
           "line": {
            "color": "blue",
            "width": 4
           },
           "marker": {
            "size": 6
           },
           "mode": "lines+markers",
           "name": "Vector",
           "type": "scatter",
           "x": [
            0,
            1.2413793103448274
           ],
           "y": [
            0,
            1.096551724137931
           ]
          },
          {
           "line": {
            "color": "black",
            "width": 3
           },
           "marker": {
            "size": 6
           },
           "mode": "lines+markers",
           "name": "X basis (transformed)",
           "type": "scatter",
           "x": [
            0,
            1.1206896551724137
           ],
           "y": [
            0,
            0.04827586206896552
           ]
          },
          {
           "line": {
            "color": "black",
            "width": 3
           },
           "marker": {
            "size": 6
           },
           "mode": "lines+markers",
           "name": "Y basis (transformed)",
           "type": "scatter",
           "x": [
            0,
            0.12068965517241378
           ],
           "y": [
            0,
            1.0482758620689654
           ]
          }
         ],
         "name": "frame0.24"
        },
        {
         "data": [
          {
           "marker": {
            "color": "red",
            "size": 5
           },
           "mode": "markers",
           "name": "Grid",
           "type": "scatter",
           "x": {
            "bdata": "5p5GWO5p9L93G5QVYuzzvwiY4dLVbvO/mRQvkEnx8r8qkXxNvXPyv7wNygox9vG/TYoXyKR48b/eBmWFGPvwv2+DskKMffC/AAAAAAAA8L+T4gUyKV7wv0m+pt45we+/a7dBWSHG7r+OsNzTCMvtv7Cpd07wz+y/0qISydfU67/1m61Dv9nqvxeVSL6m3um/OY7jOI7j6L9ch36zdejnv4JMihfIpOi/pEUlkq+p57/GPsAMl67mv+k3W4d+s+W/CzH2AWa45L8tKpF8Tb3jv1AjLPc0wuK/chzHcRzH4b+UFWLsA8zgv20d+s3Wod+/3dMIyz2N4L//mUeLSiTfv0OMfYAZLt2/iH6zdeg327/NcOlqt0HZvxFjH2CGS9e/VlVVVVVV1b+bR4tKJF/Tv+A5wT/zaNG/SFjuaYTlzr9xtg79ZuvQv2tRieRr6s2/9TX1zgn+yb9+GmG5pxHGvwj/zKNFJcK/IcdxHMdxvL81kEnxApm0v5GyQox9gKm/aYnka+qdk7+gpHiBTIqHP6CkeIFMioe/ZYnka+qdkz+NskKMfYCpPzSQSfECmbQ/IcdxHMdxvD8I/8yjRSXCP34aYbmnEcY/9DX1zgn+yT9rUYnka+rNP3G2Dv1m69A/RFjuaYTlzj/dOcE/82jRP5lHi0okX9M/VFVVVVVV1T8PYx9ghkvXP8tw6Wq3Qdk/hn6zdeg32z9BjH2AGS7dP/yZR4tKJN8/3NMIyz2N4D9pHfrN1qHfP5IVYuwDzOA/cBzHcRzH4T9NIyz3NMLiPysqkXxNveM/CTH2AWa45D/mN1uHfrPlP8Q+wAyXruY/okUlkq+p5z+ATIoXyKToP1qHfrN16Oc/OI7jOI7j6D8WlUi+pt7pP/ObrUO/2eo/0aISydfU6z+vqXdO8M/sP4yw3NMIy+0/ardBWSHG7j9IvqbeOcHvP5PiBTIpXvA/AAAAAAAA8D9vg7JCjH3wP94GZYUY+/A/TYoXyKR48T+8DcoKMfbxPyqRfE29c/I/mRQvkEnx8j8ImOHS1W7zP3cblBVi7PM/5p5GWO5p9D8=",
            "dtype": "f8"
           },
           "y": {
            "bdata": "kD8c8PjD8b//cMDjDwfsv99iSOcthuS/f6mg1ZcK2r9+GmG5pxHGvxh4/OGAx68/QasvFbT60j+/4w8HPP7gP+DxhwMef+g/AAAAAAAA8D9jcW7VwJHxv6bUZK6fouu/h8bssb0h5L/NcOlqt0HZvxup8uPmf8S/0R7bG0IHsz/y4+Z/lMPTPxiAazysYuE/OY7jOI7j6D8tzq0aODLwPzejwLqIX/G/TjgJeS8+678uKpF8Tb3jvxw4MgDXeNi/uTeEDibuwr+WAbjGwyq2P6Mcnup0jNQ/cBzHcRzH4T+RKj9u/kfpP1mcWzVwZPA/C9USoFAt8b/1m61Dv9nqv9WNNUfdWOO/a/96lfav179WxhU5ZVzBv1zklHFFTrk/VVVVVVVV1T/JuCKnjCviP+rGmqNurOk/hWoJUKiW8D/eBmWFGPvwv5z/UQ5Pdeq/ffHZEW304r+5xsMqFufWv+epTsdIlb+/IcdxHMdxvD8GjgzANR7WPyJVftz8j+I/Q2P22N4Q6j+yOLdq4MjwP7I4t2rgyPC/RGP22N4Q6r8kVX7c/I/ivwiODMA1Hta/IcdxHMdxvL/nqU7HSJW/P7fGwyoW59Y/evHZEW304j+b/1EOT3XqP94GZYUY+/A/hmoJUKiW8L/rxpqjbqzpv8u4IqeMK+K/V1VVVVVV1b9c5JRxRU65v1bGFTllXME/af96lfav1z/TjTVH3VjjP/SbrUO/2eo/CtUSoFAt8T9ZnFs1cGTwv5MqP27+R+m/cxzHcRzH4b+mHJ7qdIzUv5cBuMbDKra/uDeEDibuwj8aODIA13jYPywqkXxNveM/TTgJeS8+6z83o8C6iF/xPy3OrRo4MvC/Oo7jOI7j6L8agGs8rGLhv/Tj5n+Uw9O/0R7bG0IHs78bqfLj5n/EP8tw6Wq3Qdk/hMbssb0h5D+l1GSun6LrP2NxbtXAkfE/AAAAAAAA8L/h8YcDHn/ov8HjDwc8/uC/Q6svFbT60r8YePzhgMevv34aYbmnEcY/famg1ZcK2j/dYkjnLYbkP/5wwOMPB+w/kD8c8PjD8T8=",
            "dtype": "f8"
           }
          },
          {
           "line": {
            "color": "blue",
            "width": 4
           },
           "marker": {
            "size": 6
           },
           "mode": "lines+markers",
           "name": "Vector",
           "type": "scatter",
           "x": [
            0,
            1.2758620689655173
           ],
           "y": [
            0,
            1.1103448275862071
           ]
          },
          {
           "line": {
            "color": "black",
            "width": 3
           },
           "marker": {
            "size": 6
           },
           "mode": "lines+markers",
           "name": "X basis (transformed)",
           "type": "scatter",
           "x": [
            0,
            1.1379310344827587
           ],
           "y": [
            0,
            0.05517241379310345
           ]
          },
          {
           "line": {
            "color": "black",
            "width": 3
           },
           "marker": {
            "size": 6
           },
           "mode": "lines+markers",
           "name": "Y basis (transformed)",
           "type": "scatter",
           "x": [
            0,
            0.13793103448275862
           ],
           "y": [
            0,
            1.0551724137931036
           ]
          }
         ],
         "name": "frame0.28"
        },
        {
         "data": [
          {
           "marker": {
            "color": "red",
            "size": 5
           },
           "mode": "markers",
           "name": "Grid",
           "type": "scatter",
           "x": {
            "bdata": "w3JPIyz39L/mnkZY7mn0vwrLPY2w3PO/Lfc0wnJP879QIyz3NMLyv3RPIyz3NPK/l3saYbmn8b+6pxGWexrxv97TCMs9jfC/AQAAAAAA8L8DZrh0tdvwvyaSr6l3TvC/k3xNvXOC77/Z1Dsn+GfuvyAtKpF8Te2/ZoUY+wAz7L+t3QZlhRjrv/Q19c4J/um/Oo7jOI7j6L+B5tGiEsnnv4SyQox9gOm/ywox9gFm6L8SYx9ghkvnv1i7DcoKMea/nxP8M48W5b/la+qdE/zjvyzE2AeY4eK/cxzHcRzH4b+5dLXboKzgvwCaR4tKJN+/BJkUL5BJ4b9K8QKZFC/gvyKT4gUyKd6/r0O/2Tr027899JutQ7/Zv8mkeIFMite/V1VVVVVV1b/lBTIpXiDTv3K2Dv1m69C//c3Wod9szb8G/8yjRSXSvyhfU++c4M+/QsAMl652y79dIcY+wAzHv3eCf+bRosK/IsdxHMdxvL9YieRr6p2zvx2XrnYblKW/I9ygrBBjf78owAyXrnabPyjADJeudpu/ENygrBBjfz8Yl652G5SlP1eJ5GvqnbM/IsdxHMdxvD93gn/m0aLCP1whxj7ADMc/QcAMl652yz8nX1PvnODPPwb/zKNFJdI/+c3Wod9szT9vtg79ZuvQP+IFMileINM/VVVVVVVV1T/HpHiBTIrXPzv0m61Dv9k/rUO/2Tr02z8fk+IFMineP0nxApkUL+A/A5kUL5BJ4T/8mUeLSiTfP7d0tdugrOA/cBzHcRzH4T8qxNgHmOHiP+Nr6p0T/OM/nRP8M48W5T9Wuw3KCjHmPw9jH2CGS+c/yQox9gFm6D+CskKMfYDpP4Dm0aISyec/OY7jOI7j6D/yNfXOCf7pP6zdBmWFGOs/ZYUY+wAz7D8fLSqRfE3tP9jUOyf4Z+4/kXxNvXOC7z8lkq+pd07wPwJmuHS12/A/AQAAAAAA8D/e0wjLPY3wP7qnEZZ7GvE/l3saYbmn8T90TyMs9zTyP1AjLPc0wvI/Lfc0wnJP8z8Kyz2NsNzzP+aeRljuafQ/w3JPIyz39D8=",
            "dtype": "f8"
           },
           "y": {
            "bdata": "gccfDnj88b9YDRwZgGvsv62L+BUQ3uS/BBSqJUCh2r9cIcY+wAzHv1GVHzf/o6w//vUq7V+v0j+p/Lj5H+XgP1V+3PyPcug/AQAAAAAA8D+QPxzw+MPxv3T9FN2B+uu/yXvx2RFt5L889JutQ7/Zv83hqU7HSMW/x0nIe/HZsT/GFTllXJHTP40MwDUeVuE/OY7jOI7j6D/yhwMefzjwP563GNJ5i/G/kO0NoYOJ67/la+qdE/zjv3XUjTVH3di/PqKNXs6Ew7/lyABc42G1P401R91Yc9Q/cBzHcRzH4T8dnup0jFTpP+QPBzz+cPA/rC8VtPpS8b+t3QZlhRjrvwJc42EVi+O/rbR/vUr717+vYnFu1cDBvwNIOTzV6bg/VVVVVVVV1T9ULM6tGjjiPwCu8bCKxek/1pcKWn2p8D+6pxGWexrxv8nN/yiHp+q/HkzcJRca47/mlHFFThnXvz9Gqvy4+b+/IcdxHMdxvD8cdWPNUTfWPzg81ekYqeI/5L347Ig26j/IHw54/OHwP8gfDnj84fC/5b347Ig26r86PNXpGKnivx51Y81RN9a/IcdxHMdxvL8/Rqr8uPm/P+SUcUVOGdc/HEzcJRca4z/Izf8oh6fqP7qnEZZ7GvE/1pcKWn2p8L8BrvGwisXpv1Yszq0aOOK/V1VVVVVV1b8DSDk81em4v65icW7VwME/q7R/vUr71z//W+NhFYvjP6zdBmWFGOs/rC8VtPpS8T/kDwc8/nDwvx6e6nSMVOm/cxzHcRzH4b+PNUfdWHPUv+bIAFzjYbW/PaKNXs6Ewz9z1I01R93YP+Nr6p0T/OM/j+0NoYOJ6z+etxjSeYvxP/KHAx5/OPC/Oo7jOI7j6L+PDMA1Hlbhv8gVOWVckdO/x0nIe/HZsb/N4alOx0jFPzr0m61Dv9k/x3vx2RFt5D9z/RTdgfrrP5A/HPD4w/E/AQAAAAAA8L9Wftz8j3Lov6v8uPkf5eC/APYq7V+v0r9RlR83/6Osv1whxj7ADMc/AhSqJUCh2j+ri/gVEN7kP1cNHBmAa+w/gccfDnj88T8=",
            "dtype": "f8"
           }
          },
          {
           "line": {
            "color": "blue",
            "width": 4
           },
           "marker": {
            "size": 6
           },
           "mode": "lines+markers",
           "name": "Vector",
           "type": "scatter",
           "x": [
            0,
            1.310344827586207
           ],
           "y": [
            0,
            1.1241379310344828
           ]
          },
          {
           "line": {
            "color": "black",
            "width": 3
           },
           "marker": {
            "size": 6
           },
           "mode": "lines+markers",
           "name": "X basis (transformed)",
           "type": "scatter",
           "x": [
            0,
            1.1551724137931036
           ],
           "y": [
            0,
            0.062068965517241385
           ]
          },
          {
           "line": {
            "color": "black",
            "width": 3
           },
           "marker": {
            "size": 6
           },
           "mode": "lines+markers",
           "name": "Y basis (transformed)",
           "type": "scatter",
           "x": [
            0,
            0.15517241379310345
           ],
           "y": [
            0,
            1.0620689655172415
           ]
          }
         ],
         "name": "frame0.31"
        },
        {
         "data": [
          {
           "marker": {
            "color": "red",
            "size": 5
           },
           "mode": "markers",
           "name": "Grid",
           "type": "scatter",
           "x": {
            "bdata": "oEZY7mmE9b9VIvmaeuf0vwr+mUeLSvS/wNk69Jut8791tdugrBDzvyuRfE29c/K/4Gwd+s3W8b+WSL6m3jnxv0skX1PvnPC/AAAAAAAA8L9y6Wq3QVnxvyfFC2RSvPC/3KCsEGMf8L8k+Zp65wTvv4+w3NMIy+2/+WceLSqR7L9kH2CGS1frv9DWod9sHeq/Oo7jOI7j6L+lRSWSr6nnv4YY+wAzXOq/8c88WlQi6b9ch36zdejnv8c+wAyXrua/MvYBZrh05b+crUO/2TrkvwdlhRj7AOO/cxzHcRzH4b/d0wjLPY3gv5AWlUi+pt6/Kl4gk+IF4r+VFWLsA8zgvwCaR4tKJN+/1QjLPY2w3L+rd07wzzzav4Hm0aISyde/V1VVVVVV1b8txNgHmOHSvwMzXLrabdC/sEO/2Tr0y7+cR4tKJF/Tv3G2Dv1m69C/jkokX1PvzL86KCvE2AfIv+YFMileIMO/IcdxHMdxvL96gn/m0aKyv6R7GmG5p6G//NqgrBBjbz8El652G5SlPwSXrnYblKW/KNugrBBjb7+fexphuaehP3iCf+bRorI/IcdxHMdxvD/mBTIpXiDDPzkoK8TYB8g/jUokX1PvzD9xtg79ZuvQP5xHi0okX9M/rEO/2Tr0yz8AM1y62m3QPyrE2AeY4dI/VVVVVVVV1T9/5tGiEsnXP6l3TvDPPNo/0wjLPY2w3D/9mUeLSiTfP5QVYuwDzOA/KV4gk+IF4j+MFpVIvqbeP9vTCMs9jeA/cBzHcRzH4T8FZYUY+wDjP5qtQ7/ZOuQ/MPYBZrh05T/FPsAMl67mP1mHfrN16Oc/7888WlQi6T+EGPsAM1zqP6RFJZKvqec/OY7jOI7j6D/O1qHfbB3qP2MfYIZLV+s/+GceLSqR7D+OsNzTCMvtPyP5mnrnBO8/3KCsEGMf8D8mxQtkUrzwP3HpardBWfE/AAAAAAAA8D9LJF9T75zwP5ZIvqbeOfE/4Gwd+s3W8T8rkXxNvXPyP3W126CsEPM/wNk69Jut8z8K/plHi0r0P1Ui+Zp65/Q/oEZY7mmE9T8=",
            "dtype": "f8"
           },
           "y": {
            "bdata": "ck8jLPc08r+vqXdO8M/sv3q0qETyNeW/iH6zdeg32785KCvE2AfIv4iyQox9gKk/ukAmxQtk0j+SFWLsA8zgP8gKMfYBZug/////////7z+7DcoKMfbxv0AmxQtkUuy/CzH2AWa45L+qd07wzzzav30aYbmnEca/u3S126CssD+YR4tKJF/TPwGZFC+QSeE/N47jOI7j6D+3QVkhxj7wPwTMcOlqt/G/0qISydfU67+crUO/2Trkv8xw6Wq3Qdm/wgyXrnYbxL8xkEnxApm0P3ZO8M88WtQ/bxzHcRzH4T+mEZZ7GmHpP26DskKMffA/TIoXyKR48b9jH2CGS1frvy0qkXxNveO/72mE5Z5G2L8H/8yjRSXCv6ir3QZlhbg/U1VVVVVV1T/en3m0qETiPxWVSL6m3uk/JsULZFK88D+VSL6m3jnxv/SbrUO/2eq/vqbeOcE/478RYx9ghkvXv0vxApkUL8C/H8dxHMdxvD8xXLrabVDWP00jLPc0wuI/hBj7ADNc6j/dBmWFGPvwP90GZYUY+/C/hRj7ADNc6r9PIyz3NMLivzNcutptUNa/H8dxHMdxvL9L8QKZFC/APw9jH2CGS9c/vKbeOcE/4z/zm61Dv9nqP5VIvqbeOfE/JsULZFK88L8WlUi+pt7pv+CfebSoROK/VlVVVVVV1b+pq90GZYW4vwb/zKNFJcI/7GmE5Z5G2D8rKpF8Tb3jP2IfYIZLV+s/TIoXyKR48T9ug7JCjH3wv6cRlnsaYem/chzHcRzH4b94TvDPPFrUvzOQSfECmbS/wQyXrnYbxD/KcOlqt0HZP5qtQ7/ZOuQ/0KISydfU6z8EzHDparfxP7dBWSHGPvC/OI7jOI7j6L8DmRQvkEnhv5pHi0okX9O/u3S126CssL99GmG5pxHGP6h3TvDPPNo/CDH2AWa45D8/JsULZFLsP7sNygox9vE/////////77/JCjH2AWbov5QVYuwDzOC/vEAmxQtk0r+IskKMfYCpvzkoK8TYB8g/hn6zdeg32z93tKhE8jXlP66pd07wz+w/ck8jLPc08j8=",
            "dtype": "f8"
           }
          },
          {
           "line": {
            "color": "blue",
            "width": 4
           },
           "marker": {
            "size": 6
           },
           "mode": "lines+markers",
           "name": "Vector",
           "type": "scatter",
           "x": [
            0,
            1.3448275862068968
           ],
           "y": [
            0,
            1.1379310344827585
           ]
          },
          {
           "line": {
            "color": "black",
            "width": 3
           },
           "marker": {
            "size": 6
           },
           "mode": "lines+markers",
           "name": "X basis (transformed)",
           "type": "scatter",
           "x": [
            0,
            1.1724137931034484
           ],
           "y": [
            0,
            0.06896551724137932
           ]
          },
          {
           "line": {
            "color": "black",
            "width": 3
           },
           "marker": {
            "size": 6
           },
           "mode": "lines+markers",
           "name": "Y basis (transformed)",
           "type": "scatter",
           "x": [
            0,
            0.1724137931034483
           ],
           "y": [
            0,
            1.0689655172413792
           ]
          }
         ],
         "name": "frame0.34"
        },
        {
         "data": [
          {
           "marker": {
            "color": "red",
            "size": 5
           },
           "mode": "markers",
           "name": "Grid",
           "type": "scatter",
           "x": {
            "bdata": "fBphuacR9r/DpavdBmX1vwsx9gFmuPS/U7xAJsUL9L+aR4tKJF/zv+LS1W6DsvK/KV4gk+IF8r9x6Wq3QVnxv7l0tdugrPC/AAAAAAAA8L/gbB36zdbxvyf4Zx4tKvG/b4OyQox98L9tHfrN1qHvv/wzjxaVSO6/jEokX1Pv7L8bYbmnEZbrv6p3TvDPPOq/OY7jOI7j6L/IpHiBTIrnv4h+s3XoN+u/F5VIvqbe6b+mq90GZYXovzXCck8jLOe/xNgHmOHS5b9U75zgn3nkv+MFMileIOO/chzHcRzH4b8BM1y62m3gvyGT4gUyKd6/UCMs9zTC4r/fOcE/82jhv25QVoixD+C/+83Wod9s3b8a+wAzXLravzgoK8TYB9i/V1VVVVVV1b92gn/m0aLSvyhfU++c4M+/ZLmnEZZ7yr8wkEnxApnUv069c4J/5tG/2tQ7J/hnzr8XL5BJ8QLJv1SJ5GvqncO/IMdxHMdxvL+cexphuaexv13ADJeudpu/g9ugrBBjjz/wzdah32ytP/DN1qHfbK2/kNugrBBjj79QwAyXrnabP5p7GmG5p7E/IMdxHMdxvD9UieRr6p3DPxYvkEnxAsk/2NQ7J/hnzj9OvXOCf+bRPzCQSfECmdQ/XrmnEZZ7yj8hX1PvnODPP3KCf+bRotI/VFVVVVVV1T81KCvE2AfYPxf7ADNcuto/+M3Wod9s3T9tUFaIsQ/gP945wT/zaOE/TiMs9zTC4j8dk+IFMineP/8yXLrabeA/cBzHcRzH4T/hBTIpXiDjP1LvnOCfeeQ/wtgHmOHS5T8zwnJPIyznP6Sr3QZlheg/FZVIvqbe6T+GfrN16DfrP8ikeIFMiuc/OI7jOI7j6D+pd07wzzzqPxphuacRlus/i0okX1Pv7D/7M48WlUjuP2wd+s3Woe8/boOyQox98D8n+GceLSrxP99sHfrN1vE/AAAAAAAA8D+5dLXboKzwP3HpardBWfE/KV4gk+IF8j/i0tVug7LyP5pHi0okX/M/U7xAJsUL9D8LMfYBZrj0P8Olq90GZfU/fBphuacR9j8=",
            "dtype": "f8"
           },
           "y": {
            "bdata": "ZNcmSnZt8r8IRtODYDTtv0fdWHPUjeW/Dem8xZDO278WL5BJ8QLJv8XPZeH7XKY/eIshnbcY0j98Lgvf57LgPz6Xhe9zWeg/////////7z/n23claSjyvw5PdTpGquy/Teb6KboD5b8Z+wAzXLravy5TGCSI2sa/ZD9Fd6D+rj9sed0v7CzTP3YlaSgCPeE/N47jOI7j6D99+64kDUXwP2rgyABc4/G/FFgX8Ssg7L9T75zgn3nkvyUNRaAnptm/R3eg/h6yxL+BV5KGItCzP2BnmcIgQdQ/bxzHcRzH4T8xhUGCqG3pP/r2XUkaivA/7eQZ3E6e8b8aYbmnEZbrv1n4PpeF7+O/MR+JDfOR2L9fmyjZtYnCv1APgtH0ILg/U1VVVVVV1T9pEyW7NlHiPyt8n8vC9+k/d/IMbifP8D9w6Wq3QVnxvyBqW173C+u/XwHhTWtl4789Mc16vn3Xv3i/sLNMYcC/IMdxHMdxvD9HQxHoiWnWP2MKgwRR2+I/JXP9FN2B6j/07buSNBTxP/Ttu5I0FPG/JnP9FN2B6r9lCoMEUdviv0lDEeiJada/IMdxHMdxvL94v7CzTGHAPzsxzXq+fdc/XQHhTWtl4z8falte9wvrP3DpardBWfE/d/IMbifP8L8sfJ/Lwvfpv2wTJbs2UeK/VlVVVVVV1b9RD4LR9CC4v1+bKNm1icI/Lx+JDfOR2D9X+D6Xhe/jPxlhuacRlus/7eQZ3E6e8T/69l1JGorwvzOFQYKobem/chzHcRzH4b9iZ5nCIEHUv4JXkoYi0LO/Rneg/h6yxD8jDUWgJ6bZP1HvnOCfeeQ/E1gX8Ssg7D9q4MgAXOPxP337riQNRfC/OY7jOI7j6L94JWkoAj3hv2553S/sLNO/ZT9Fd6D+rr8uUxgkiNrGPxb7ADNcuto/S+b6KboD5T8NT3U6RqrsP+fbdyVpKPI/////////778/l4Xvc1nov34uC9/nsuC/eoshnbcY0r/Fz2Xh+1ymvxYvkEnxAsk/Cum8xZDO2z9F3Vhz1I3lPwdG04NgNO0/ZNcmSnZt8j8=",
            "dtype": "f8"
           }
          },
          {
           "line": {
            "color": "blue",
            "width": 4
           },
           "marker": {
            "size": 6
           },
           "mode": "lines+markers",
           "name": "Vector",
           "type": "scatter",
           "x": [
            0,
            1.3793103448275863
           ],
           "y": [
            0,
            1.1517241379310343
           ]
          },
          {
           "line": {
            "color": "black",
            "width": 3
           },
           "marker": {
            "size": 6
           },
           "mode": "lines+markers",
           "name": "X basis (transformed)",
           "type": "scatter",
           "x": [
            0,
            1.1896551724137931
           ],
           "y": [
            0,
            0.07586206896551724
           ]
          },
          {
           "line": {
            "color": "black",
            "width": 3
           },
           "marker": {
            "size": 6
           },
           "mode": "lines+markers",
           "name": "Y basis (transformed)",
           "type": "scatter",
           "x": [
            0,
            0.1896551724137931
           ],
           "y": [
            0,
            1.0758620689655172
           ]
          }
         ],
         "name": "frame0.38"
        },
        {
         "data": [
          {
           "marker": {
            "color": "red",
            "size": 5
           },
           "mode": "markers",
           "name": "Grid",
           "type": "scatter",
           "x": {
            "bdata": "WO5phOWe9r8yKV4gk+L1vwxkUrxAJvW/5Z5GWO5p9L+/2Tr0m63zv5kUL5BJ8fK/c08jLPc08r9NihfIpHjxvybFC2RSvPC/AAAAAAAA8L9P8M88WlTyvygrxNgHmPG/Ama4dLXb8L/coKwQYx/wv2u3QVkhxu6/Hy0qkXxN7b/SohLJ19Trv4YY+wAzXOq/OY7jOI7j6L/tA8xw6Wrnv4nka+qdE+y/PVpUIvma6r/wzzxaVCLpv6RFJZKvqee/V7sNygox5r8LMfYBZrjkv76m3jnBP+O/chzHcRzH4b8lkq+pd07gv7IPMMOlq92/dug3W4d+478pXiCT4gXiv93TCMs9jeC/IZPiBTIp3r+IfrN16Dfbv+5phOWeRti/VlVVVVVV1b+9QCbFC2TSv0hY7mmE5c6/FS+QSfECyb/F2AeY4dLVvyzE2AeY4dK/Jl9T75zgz7/0NfXOCf7Jv8IMl652G8S/H8dxHMdxvL+9dLXboKywv2yJ5GvqnZO/KsAMl652mz9wgn/m0aKyP3CCf+bRorK/McAMl652m79fieRr6p2TP7t0tdugrLA/H8dxHMdxvD/CDJeudhvEP/M19c4J/sk/JV9T75zgzz8sxNgHmOHSP8XYB5jh0tU/ES+QSfECyT9DWO5phOXOP7pAJsULZNI/U1VVVVVV1T/saYTlnkbYP4Z+s3XoN9s/HpPiBTIp3j/b0wjLPY3gPyheIJPiBeI/deg3W4d+4z+uDzDDpavdPyOSr6l3TuA/cBzHcRzH4T+8pt45wT/jPwkx9gFmuOQ/VbsNygox5j+iRSWSr6nnP+7PPFpUIuk/O1pUIvma6j+H5GvqnRPsP+sDzHDpauc/N47jOI7j6D+EGPsAM1zqP9CiEsnX1Os/HS0qkXxN7T9pt0FZIcbuP9ugrBBjH/A/AWa4dLXb8D8nK8TYB5jxP07wzzxaVPI/AAAAAAAA8D8mxQtkUrzwP0yKF8ikePE/c08jLPc08j+ZFC+QSfHyP7/ZOvSbrfM/5Z5GWO5p9D8LZFK8QCb1PzIpXiCT4vU/WO5phOWe9j8=",
            "dtype": "f8"
           },
           "y": {
            "bdata": "V18qaPWl8r9i4i650JjtvxYGCaK25eW/k1PGFTll3L/1NfXOCf7JvwPtiDZ6OaM/N9YcdWPN0T9nR7TRy5ngP7Qj2ujlTOg/AQAAAAAA8D8VqiVAoVryv913JWkoAu2/kZv/UQ5P5b+JfrN16Dfbv+GLz45oo8e/U5UfN/+jrD9Bqy8VtPrSP+yxvSF0MOE/OY7jOI7j6D9DtQQoVEvwP9L0IBhND/K/WA0cGYBr7L8MMfYBZrjkv3+poNWXCtq/zeGpTsdIxb/SHtsbQgezP0uAQrUEKNQ/cRzHcRzH4T+++OyINnrpP4ZqCVColvA/kD8c8PjD8b/TohLJ19Trv4fG7LG9IeS/ddSNNUfd2L+5N4QOJu7Cv/lyJpyEvLc/VVVVVVVV1T/2htDBxF3iP0Nj9tjeEOo/yB8OePzh8D9NihfIpHjxv044CXkvPuu/AlzjYRWL479r/3qV9q/Xv6WNXs6Ek8C/IcdxHMdxvD9fKmj1pYLWP3vx2RFt9OI/yM3/KIen6j8L1RKgUC3xPwvVEqBQLfG/yc3/KIen6r998dkRbfTiv2EqaPWlgta/IcdxHMdxvL+ljV7OhJPAP2n/epX2r9c/AFzjYRWL4z9NOAl5Lz7rP02KF8ikePE/yB8OePzh8L9EY/bY3hDqv/iG0MHEXeK/V1VVVVVV1b/6ciachLy3v7k3hA4m7sI/c9SNNUfd2D+FxuyxvSHkP9KiEsnX1Os/kD8c8PjD8T+GaglQqJbwv7/47Ig2eum/cxzHcRzH4b9NgEK1BCjUv9Me2xtCB7O/zOGpTsdIxT99qaDVlwraPwox9gFmuOQ/Vw0cGYBr7D/S9CAYTQ/yP0O1BChUS/C/Oo7jOI7j6L/usb0hdDDhv0OrLxW0+tK/VZUfN/+jrL/gi8+OaKPHP4d+s3XoN9s/j5v/UQ5P5T/cdyVpKALtPxWqJUChWvI/AQAAAAAA8L+1I9ro5Uzov2lHtNHLmeC/OdYcdWPN0b8D7Yg2ejmjv/U19c4J/sk/kVPGFTll3D8UBgmituXlP2HiLrnQmO0/V18qaPWl8j8=",
            "dtype": "f8"
           }
          },
          {
           "line": {
            "color": "blue",
            "width": 4
           },
           "marker": {
            "size": 6
           },
           "mode": "lines+markers",
           "name": "Vector",
           "type": "scatter",
           "x": [
            0,
            1.4137931034482758
           ],
           "y": [
            0,
            1.1655172413793105
           ]
          },
          {
           "line": {
            "color": "black",
            "width": 3
           },
           "marker": {
            "size": 6
           },
           "mode": "lines+markers",
           "name": "X basis (transformed)",
           "type": "scatter",
           "x": [
            0,
            1.206896551724138
           ],
           "y": [
            0,
            0.08275862068965517
           ]
          },
          {
           "line": {
            "color": "black",
            "width": 3
           },
           "marker": {
            "size": 6
           },
           "mode": "lines+markers",
           "name": "Y basis (transformed)",
           "type": "scatter",
           "x": [
            0,
            0.20689655172413793
           ],
           "y": [
            0,
            1.0827586206896553
           ]
          }
         ],
         "name": "frame0.41"
        },
        {
         "data": [
          {
           "marker": {
            "color": "red",
            "size": 5
           },
           "mode": "markers",
           "name": "Grid",
           "type": "scatter",
           "x": {
            "bdata": "NMJyTyMs97+grBBjH2D2vwyXrnYblPW/eIFMihfI9L/ka+qdE/zzv1BWiLEPMPO/vEAmxQtk8r8oK8TYB5jxv5QVYuwDzPC/////////77+9c4J/5tHyvyleIJPiBfK/lUi+pt458b8BM1y62m3wv9k69JutQ++/sQ8ww6Wr7b+J5GvqnRPsv2G5pxGWe+q/OI7jOI7j6L8QYx9ghkvnv4tKJF9T7+y/Yx9ghktX67879JutQ7/pvxLJ19Q7J+i/6p0T/DOP5r/Cck8jLPfkv5pHi0okX+O/chzHcRzH4b9J8QKZFC/gv0KMfYAZLt2/nK1Dv9k65L90gn/m0aLiv0xXuw3KCuG/R1juaYTl3r/2AWa4dLXbv6ar3QZlhdi/VlVVVVVV1b8G/8yjRSXSv2pRieRr6s2/yKR4gUyKx79aIcY+wAzXvwrLPY2w3NO/uXS126Cs0L/SPFpUIvnKvzGQSfECmcS/HsdxHMdxvL+926CsEGOvv/akeIFMioe/SYnka+qdoz/onRP8M4+2P+idE/wzj7a/TYnka+qdo7/ZpHiBTIqHP7nboKwQY68/HsdxHMdxvD8xkEnxApnEP9E8WlQi+co/uHS126Cs0D8Jyz2NsNzTP1ohxj7ADNc/xKR4gUyKxz9lUYnka+rNPwP/zKNFJdI/U1VVVVVV1T+kq90GZYXYP/QBZrh0tds/RFjuaYTl3j9KV7sNygrhP3OCf+bRouI/m61Dv9k65D8+jH2AGS7dP0fxApkUL+A/bxzHcRzH4T+YR4tKJF/jP8ByTyMs9+Q/6J0T/DOP5j8QydfUOyfoPzj0m61Dv+k/YR9ghktX6z+JSiRfU+/sPw9jH2CGS+c/N47jOI7j6D9fuacRlnvqP4jka+qdE+w/sA8ww6Wr7T/YOvSbrUPvPwAzXLrabfA/lEi+pt458T8oXiCT4gXyP7xzgn/m0fI/////////7z+UFWLsA8zwPygrxNgHmPE/vEAmxQtk8j9QVoixDzDzP+Rr6p0T/PM/eIFMihfI9D8Ml652G5T1P6CsEGMfYPY/NMJyTyMs9z8=",
            "dtype": "f8"
           },
           "y": {
            "bdata": "SOcthnTe8r+6foruQP3tv+MuudCYPea/F77PZeH73L/SPFpUIvnKvzkKrIv4FaA/8yAYTQ+C0T9PYF3Er4DgPyewLuJXQOg/AAAAAAAA8D9AeNNa2Yzyv6mg1ZcKWu2/0lAEemKa5b/3AWa4dLXbv5LEhvlIbMi/O+v59l1Jqj8T3YH6e8jSP18+EhvmI+E/OI7jOI7j6D8Ib1orm1HwPzgJeS8+O/K/mcIgQdS27L/Cck8jLPfkv9dF/AoIb9q/UUyznm/fxb8e5iOxYT6yPzOZ66foDtQ/cBzHcRzH4T9IbJiPxIbpPxDetFY2o/A/MJoeBKPp8b+J5GvqnRPsv7KUmsz1U+S/tomSXZso2b8R1N9DllLDv5/WymYUWLc/VFVVVVVV1T+A+nvIUmriP1hKTeb6Keo/GE0PgtH08D8oK8TYB5jxv3kGt5NncOu/orbldb+w47+WzSiwLuLXv9FbDOm8xcC/IMdxHMdxvD90Eb8CwpvWP5DYMB+JDeM/aCgCPTHN6j8gvGmtbEbxPyC8aa1sRvG/aSgCPTHN6r+S2DAfiQ3jv3YRvwLCm9a/IMdxHMdxvL/RWwzpvMXAP5TNKLAu4tc/oLbldb+w4z94BreTZ3DrPygrxNgHmPE/GE0PgtH08L9ZSk3m+inqv4L6e8hSauK/VlVVVVVV1b+g1spmFFi3vxHU30OWUsM/tImSXZso2T+wlJrM9VPkP4jka+qdE+w/MJoeBKPp8T8Q3rRWNqPwv0lsmI/Ehum/chzHcRzH4b82meun6A7Uvx/mI7FhPrK/UUyznm/fxT/URfwKCG/aP8ByTyMs9+Q/mMIgQdS27D84CXkvPjvyPwhvWiubUfC/OY7jOI7j6L9iPhIb5iPhvxbdgfp7yNK/Pev59l1Jqr+RxIb5SGzIP/QBZrh0tds/0FAEemKa5T+ooNWXClrtP0B401rZjPI/AAAAAAAA8L8psC7iV0Dov1JgXcSvgOC/9SAYTQ+C0b85CqyL+BWgv9I8WlQi+co/Fb7PZeH73D/gLrnQmD3mP7h+iu5A/e0/SOcthnTe8j8=",
            "dtype": "f8"
           }
          },
          {
           "line": {
            "color": "blue",
            "width": 4
           },
           "marker": {
            "size": 6
           },
           "mode": "lines+markers",
           "name": "Vector",
           "type": "scatter",
           "x": [
            0,
            1.4482758620689653
           ],
           "y": [
            0,
            1.1793103448275861
           ]
          },
          {
           "line": {
            "color": "black",
            "width": 3
           },
           "marker": {
            "size": 6
           },
           "mode": "lines+markers",
           "name": "X basis (transformed)",
           "type": "scatter",
           "x": [
            0,
            1.2241379310344827
           ],
           "y": [
            0,
            0.08965517241379312
           ]
          },
          {
           "line": {
            "color": "black",
            "width": 3
           },
           "marker": {
            "size": 6
           },
           "mode": "lines+markers",
           "name": "Y basis (transformed)",
           "type": "scatter",
           "x": [
            0,
            0.22413793103448276
           ],
           "y": [
            0,
            1.089655172413793
           ]
          }
         ],
         "name": "frame0.45"
        },
        {
         "data": [
          {
           "marker": {
            "color": "red",
            "size": 5
           },
           "mode": "markers",
           "name": "Grid",
           "type": "scatter",
           "x": {
            "bdata": "EZZ7GmG5978PMMOlq932vw3KCjH2Afa/C2RSvEAm9b8J/plHi0r0vweY4dLVbvO/BTIpXiCT8r8DzHDparfxvwFmuHS12/C//v//////778r9zTCck/zvymRfE29c/K/JyvE2AeY8b8lxQtkUrzwv0e+pt45we+/Q/I19c4J7r8/JsULZFLsvzxaVCL5muq/OI7jOI7j6L80wnJPIyznv4yw3NMIy+2/ieRr6p0T7L+FGPsAM1zqv4FMihfIpOi/fYAZLl3t5r95tKhE8jXlv3XoN1uHfuO/chzHcRzH4b9uUFaIsQ/gv9MIyz2NsNy/wnJPIyz35L++pt45wT/jv7rabVBWiOG/bR36zdah379lhRj7ADPcv13tNigrxNi/VlVVVVVV1b9OvXOCf+bRv4xKJF9T78y/fBphuacRxr/vaYTlnkbYv+fRohLJ19S/4DnBP/No0b+wQ7/ZOvTLv6AT/DOPFsW/IMdxHMdxvL8Fztah32ytv7XcoKwQY2+/drJCjH2AqT9cuacRlnu6P1y5pxGWe7q/erJCjH2Aqb853KCsEGNvPwHO1qHfbK0/IMdxHMdxvD+gE/wzjxbFP69Dv9k69Ms/3znBP/No0T/n0aISydfUP+9phOWeRtg/dhphuacRxj+FSiRfU+/MP0q9c4J/5tE/UlVVVVVV1T9a7TYoK8TYP2KFGPsAM9w/aR36zdah3z+42m1QVojhP7ym3jnBP+M/wHJPIyz35D/NCMs9jbDcP2pQVoixD+A/bhzHcRzH4T9y6Ddbh37jP3a0qETyNeU/eoAZLl3t5j9+TIoXyKToP4EY+wAzXOo/heRr6p0T7D+KsNzTCMvtPzLCck8jLOc/No7jOI7j6D86WlQi+ZrqPz4mxQtkUuw/QvI19c4J7j9GvqbeOcHvPyXFC2RSvPA/JyvE2AeY8T8pkXxNvXPyPyv3NMJyT/M//v//////7z8BZrh0tdvwPwPMcOlqt/E/BTIpXiCT8j8HmOHS1W7zPwn+mUeLSvQ/C2RSvEAm9T8Nygox9gH2Pw8ww6Wr3fY/EZZ7GmG59z8=",
            "dtype": "f8"
           },
           "y": {
            "bdata": "Om8xpPMW878SG+YjsWHuv7BXaf96lea/nCjZtYmS3b+vQ7/ZOvTLv+tOnsHt5Jk/sWsTJbs20T85eQa3k2fgP508g9vJM+g/AAAAAAAA8D9tRoF1Eb/yv3fJhcbsse2/FQYJorbl5b9mhRj7ADPcv0P9PWQpNcm/KEHUtrzupz/nDtTfQ5bSP9TKZhRYF+E/OI7jOI7j6D/NKLAu4lfwP58d0UYvZ/K/3HclaSgC7b96tKhE8jXlvy/iV0B409q/1ra87hd2xr9trWxGgXWxPx2ylJrM9dM/cBzHcRzH4T/T30OWUpPpP5tRYF3Er/A/0fQgGE0P8r9BJsULZFLsv99iSOcthuS/+T6Xhe9z2b9qcDt5BrfDv0Y6bzGk87Y/VFVVVVVV1T8LbifP4HbiP24xpPMWQ+o/aXoQjKYH8T8EzHDparfxv6bUZK6fouu/QxHoiWnW47/Dm9bKZhTYv/0pugP198C/IMdxHMdxvD+K+BUQ3rTWP6a/hyylJuM/CYMEUdvy6j82o8C6iF/xPzajwLqIX/G/CoMEUdvy6r+ov4cspSbjv4z4FRDetNa/IMdxHMdxvL/9KboD9ffAP8Cb1spmFNg/QRHoiWnW4z+k1GSun6LrPwTMcOlqt/E/aXoQjKYH8b9vMaTzFkPqvw1uJ8/gduK/VlVVVVVV1b9HOm8xpPO2v2lwO3kGt8M/9z6Xhe9z2T/cYkjnLYbkPz8mxQtkUuw/0fQgGE0P8j+bUWBdxK/wv9TfQ5ZSk+m/chzHcRzH4b8gspSazPXTv2+tbEaBdbG/1ba87hd2xj8t4ldAeNPaP3e0qETyNeU/23claSgC7T+fHdFGL2fyP84osC7iV/C/OY7jOI7j6L/XymYUWBfhv+kO1N9DltK/KkHUtrzup79C/T1kKTXJP2OFGPsAM9w/EwYJorbl5T92yYXG7LHtP2xGgXURv/I/AAAAAAAA8L+ePIPbyTPovzx5BreTZ+C/s2sTJbs20b/rTp7B7eSZv69Dv9k69Ms/mijZtYmS3T+uV2n/epXmPxEb5iOxYe4/Om8xpPMW8z8=",
            "dtype": "f8"
           }
          },
          {
           "line": {
            "color": "blue",
            "width": 4
           },
           "marker": {
            "size": 6
           },
           "mode": "lines+markers",
           "name": "Vector",
           "type": "scatter",
           "x": [
            0,
            1.482758620689655
           ],
           "y": [
            0,
            1.193103448275862
           ]
          },
          {
           "line": {
            "color": "black",
            "width": 3
           },
           "marker": {
            "size": 6
           },
           "mode": "lines+markers",
           "name": "X basis (transformed)",
           "type": "scatter",
           "x": [
            0,
            1.2413793103448274
           ],
           "y": [
            0,
            0.09655172413793103
           ]
          },
          {
           "line": {
            "color": "black",
            "width": 3
           },
           "marker": {
            "size": 6
           },
           "mode": "lines+markers",
           "name": "Y basis (transformed)",
           "type": "scatter",
           "x": [
            0,
            0.24137931034482757
           ],
           "y": [
            0,
            1.096551724137931
           ]
          }
         ],
         "name": "frame0.48"
        },
        {
         "data": [
          {
           "marker": {
            "color": "red",
            "size": 5
           },
           "mode": "markers",
           "name": "Grid",
           "type": "scatter",
           "x": {
            "bdata": "72mE5Z5G+L9/s3XoN1v3vxD9ZuvQb/a/oEZY7mmE9b8wkEnxApn0v8DZOvSbrfO/UCMs9zTC8r/hbB36zdbxv3G2Dv1m6/C/AQAAAAAA8L+ceucE/8zzvyzE2AeY4fK/vA3KCjH28b9MV7sNygrxv9ygrBBjH/C/2dQ7J/hn7r/6Zx4tKpHsvxr7ADNcuuq/Oo7jOI7j6L9aIcY+wAznv5AWlUi+pu6/sal3TvDP7L/RPFpUIvnqv/LPPFpUIum/EmMfYIZL578y9gFmuHTlv1OJ5GvqneO/cxzHcRzH4b8nX1PvnODfv2eFGPsAM9y/6jdbh36z5b8Kyz2NsNzjvypeIJPiBeK/S/ECmRQv4L/WCMs9jbDcvxYvkEnxAtm/V1VVVVVV1b+ZexphuafRv7JDv9k69Mu/MpBJ8QKZxL+FskKMfYDZv8bYB5jh0tW/Bv/Mo0Ul0r+OSiRfU+/MvxCXrnYblMW/IMdxHMdxvL9LwAyXrnarv7XaoKwQY28/qtugrBBjrz/U1Dsn+Ge+P9TUOyf4Z76/rtugrBBjr78526CsEGNvv0fADJeudqs/IMdxHMdxvD8Ql652G5TFP41KJF9T78w/Bf/Mo0Ul0j/F2AeY4dLVP4WyQox9gNk/LpBJ8QKZxD+tQ7/ZOvTLP5Z7GmG5p9E/VVVVVVVV1T8UL5BJ8QLZP9QIyz2NsNw/SfECmRQv4D8pXiCT4gXiPwnLPY2w3OM/6Ddbh36z5T9jhRj7ADPcPyJfU++c4N8/cRzHcRzH4T9QieRr6p3jPzD2AWa4dOU/EGMfYIZL5z/vzzxaVCLpP888WlQi+eo/r6l3TvDP7D+OFpVIvqbuP1ohxj7ADOc/OY7jOI7j6D8Z+wAzXLrqP/hnHi0qkew/2NQ7J/hn7j/coKwQYx/wP0xXuw3KCvE/uw3KCjH28T8rxNgHmOHyP5t65wT/zPM/AQAAAAAA8D9xtg79ZuvwP+BsHfrN1vE/UCMs9zTC8j/A2Tr0m63zPzCQSfECmfQ/oEZY7mmE9T8P/Wbr0G/2P3+zdeg3W/c/72mE5Z5G+D8=",
            "dtype": "f8"
           },
           "y": {
            "bdata": "LPc0wnJP879rt0FZIcbuv36AGS5d7ea/IZPiBTIp3r+OSiRfU+/Mv12J5GvqnZM/brYO/Wbr0D8jkq+pd07gPxHJ19Q7J+g/AAAAAAAA8D+ZFC+QSfHyv0XyNfXOCe6/WLsNygox5r/VCMs9jbDcv/U19c4J/sm/E5eudhuUpT+7QCbFC2TSP0lXuw3KCuE/OI7jOI7j6D+T4gUyKV7wPwYyKV4gk/K/Hi0qkXxN7b8x9gFmuHTlv4h+s3XoN9u/WyHGPsAMx7+8dLXboKywPwfLPY2w3NM/cBzHcRzH4T9eU++c4J/pPybFC2RSvPA/c08jLPc08r/4Zx4tKpHsvwsx9gFmuOS/PPSbrUO/2b/CDJeudhvEv+6dE/wzj7Y/VFVVVVVV1T+W4dLVboPiP4QY+wAzXOo/uacRlnsa8T/gbB36zdbxv9KiEsnX1Ou/5WvqnRP847/vaYTlnkbYvyn4Zx4tKsG/IMdxHMdxvD+g32wd+s3WP7ym3jnBP+M/qt0GZYUY6z9MihfIpHjxP0yKF8ikePG/rN0GZYUY67++pt45wT/jv6LfbB36zda/IMdxHMdxvL8p+GceLSrBP+1phOWeRtg/42vqnRP84z/RohLJ19TrP+BsHfrN1vE/uacRlnsa8b+FGPsAM1zqv5jh0tVug+K/VlVVVVVV1b/unRP8M4+2v8IMl652G8Q/OfSbrUO/2T8JMfYBZrjkP/dnHi0qkew/c08jLPc08j8mxQtkUrzwv19T75zgn+m/chzHcRzH4b8Kyz2NsNzTv710tdugrLC/WyHGPsAMxz+GfrN16DfbPy/2AWa4dOU/HS0qkXxN7T8GMileIJPyP5PiBTIpXvC/OY7jOI7j6L9MV7sNygrhv71AJsULZNK/FZeudhuUpb/0NfXOCf7JP9IIyz2NsNw/VbsNygox5j9E8jX1zgnuP5kUL5BJ8fI/AAAAAAAA8L8TydfUOyfovyWSr6l3TuC/cLYO/Wbr0L9dieRr6p2Tv45KJF9T78w/H5PiBTIp3j98gBkuXe3mP2q3QVkhxu4/LPc0wnJP8z8=",
            "dtype": "f8"
           }
          },
          {
           "line": {
            "color": "blue",
            "width": 4
           },
           "marker": {
            "size": 6
           },
           "mode": "lines+markers",
           "name": "Vector",
           "type": "scatter",
           "x": [
            0,
            1.517241379310345
           ],
           "y": [
            0,
            1.206896551724138
           ]
          },
          {
           "line": {
            "color": "black",
            "width": 3
           },
           "marker": {
            "size": 6
           },
           "mode": "lines+markers",
           "name": "X basis (transformed)",
           "type": "scatter",
           "x": [
            0,
            1.2586206896551726
           ],
           "y": [
            0,
            0.10344827586206898
           ]
          },
          {
           "line": {
            "color": "black",
            "width": 3
           },
           "marker": {
            "size": 6
           },
           "mode": "lines+markers",
           "name": "Y basis (transformed)",
           "type": "scatter",
           "x": [
            0,
            0.25862068965517243
           ],
           "y": [
            0,
            1.103448275862069
           ]
          }
         ],
         "name": "frame0.52"
        },
        {
         "data": [
          {
           "marker": {
            "color": "red",
            "size": 5
           },
           "mode": "markers",
           "name": "Grid",
           "type": "scatter",
           "x": {
            "bdata": "zD2NsNzT+L/uNigrxNj3vxAww6Wr3fa/MyleIJPi9b9VIvmaeuf0v3cblBVi7PO/mhQvkEnx8r+8DcoKMfbxv94GZYUY+/C/AAAAAAAA8L8K/plHi0r0vyz3NMJyT/O/T/DPPFpU8r9x6Wq3QVnxv5PiBTIpXvC/a7dBWSHG7r+wqXdO8M/sv/WbrUO/2eq/Oo7jOI7j6L9+gBkuXe3mv5J8Tb1zgu+/126DskKM7b8bYbmnEZbrv2BT75zgn+m/pUUlkq+p57/pN1uHfrPlvy4qkXxNveO/cxzHcRzH4b9vHfrN1qHfv/gBZrh0tdu/EP1m69Bv5r9U75zgn3nkv5nh0tVug+K/3tMIyz2N4L9FjH2AGS7dv81w6Wq3Qdm/V1VVVVVV1b/hOcE/82jRv9Q8WlQi+cq/5gUyKV4gw78a+wAzXLrav6PfbB36zda/LcTYB5jh0r9sUYnka+rNv38aYbmnEca/IsdxHMdxvL+TskKMfYCpv3akeIFMioc/a4J/5tGisj8k+GceLSrBPyT4Zx4tKsG/boJ/5tGisr+ZpHiBTIqHv4+yQox9gKk/IsdxHMdxvD9/GmG5pxHGP2tRieRr6s0/LMTYB5jh0j+j32wd+s3WPxr7ADNcuto/4AUyKV4gwz/NPFpUIvnKP905wT/zaNE/VFVVVVVV1T/KcOlqt0HZP0KMfYAZLt0/3NMIyz2N4D+X4dLVboPiP1LvnOCfeeQ/Dv1m69Bv5j/yAWa4dLXbP2kd+s3Wod8/cBzHcRzH4T8rKpF8Tb3jP+Y3W4d+s+U/okUlkq+p5z9dU++c4J/pPxhhuacRlus/026DskKM7T+PfE29c4LvP32AGS5d7eY/OI7jOI7j6D/0m61Dv9nqP6+pd07wz+w/ardBWSHG7j+T4gUyKV7wP3DpardBWfE/TvDPPFpU8j8s9zTCck/zPwr+mUeLSvQ/AAAAAAAA8D/eBmWFGPvwP7wNygox9vE/mRQvkEnx8j93G5QVYuzzP1Ui+Zp65/Q/MileIJPi9T8QMMOlq932P+42KCvE2Pc/zD2NsNzT+D8=",
            "dtype": "f8"
           },
           "y": {
            "bdata": "Hn844PGH87/EU52OkSrvv0upyVw/Ree/pv3rVdq/3r9rUYnka+rNv66HVSzOrYo/LAEK1RKg0D8Nq1icWzXgP4dVLM6tGug/AAAAAAAA8D/F4tyqgSPzvxIb5iOxYe6/mnAS8l585r9DjH2AGS7dv6VurDnqxsq/Ae2INno5oz+Pcniq0zHSP7/jDwc8/uA/OI7jOI7j6D9ZnFs1cGTwP21GgXURv/K/YeIuudCY7b/pN1uHfrPlv+EaD6tYnNu/4IvPjmijx78VePzhgMevP/Hj5n+Uw9M/cBzHcRzH4T/pxpqjbqzpP7E4t2rgyPA/FKolQKFa8r+wqXdO8M/svzf/oxye6uS/fqmg1ZcK2r8bqfLj5n/Ev5UBuMbDKrY/VFVVVVVV1T8hVX7c/I/iP5v/UQ5Pdeo/CtUSoFAt8T+7DcoKMfbxv/5wwOMPB+y/hsbssb0h5L8cODIA13jYv1bGFTllXMG/IMdxHMdxvD+2xsMqFufWP9KNNUfdWOM/TDgJeS8+6z9jcW7VwJHxP2NxbtXAkfG/TTgJeS8+67/VjTVH3Vjjv7nGwyoW59a/IMdxHMdxvL9WxhU5ZVzBPxk4MgDXeNg/hMbssb0h5D/9cMDjDwfsP7sNygox9vE/CtUSoFAt8b+c/1EOT3XqvyNVftz8j+K/VlVVVVVV1b+WAbjGwyq2vxup8uPmf8Q/fKmg1ZcK2j81/6McnurkP6+pd07wz+w/FKolQKFa8j+xOLdq4Mjwv+vGmqNurOm/chzHcRzH4b/04+Z/lMPTvxl4/OGAx6+/34vPjmijxz/eGg+rWJzbP+Y3W4d+s+U/YOIuudCY7T9tRoF1Eb/yP1mcWzVwZPC/OY7jOI7j6L/B4w8HPP7gv5FyeKrTMdK/Ae2INno5o7+lbqw56sbKP0GMfYAZLt0/mHAS8l585j8RG+YjsWHuP8Xi3KqBI/M/AAAAAAAA8L+IVSzOrRrovw+rWJxbNeC/LgEK1RKg0L+uh1Uszq2Kv2tRieRr6s0/pP3rVdq/3j9JqclcP0XnP8NTnY6RKu8/Hn844PGH8z8=",
            "dtype": "f8"
           }
          },
          {
           "line": {
            "color": "blue",
            "width": 4
           },
           "marker": {
            "size": 6
           },
           "mode": "lines+markers",
           "name": "Vector",
           "type": "scatter",
           "x": [
            0,
            1.5517241379310347
           ],
           "y": [
            0,
            1.2206896551724138
           ]
          },
          {
           "line": {
            "color": "black",
            "width": 3
           },
           "marker": {
            "size": 6
           },
           "mode": "lines+markers",
           "name": "X basis (transformed)",
           "type": "scatter",
           "x": [
            0,
            1.2758620689655173
           ],
           "y": [
            0,
            0.1103448275862069
           ]
          },
          {
           "line": {
            "color": "black",
            "width": 3
           },
           "marker": {
            "size": 6
           },
           "mode": "lines+markers",
           "name": "Y basis (transformed)",
           "type": "scatter",
           "x": [
            0,
            0.27586206896551724
           ],
           "y": [
            0,
            1.110344827586207
           ]
          }
         ],
         "name": "frame0.55"
        },
        {
         "data": [
          {
           "marker": {
            "color": "red",
            "size": 5
           },
           "mode": "markers",
           "name": "Grid",
           "type": "scatter",
           "x": {
            "bdata": "qBGWexph+b9cutptUFb4vxFjH2CGS/e/xQtkUrxA9r96tKhE8jX1vy5d7TYoK/S/4wUyKV4g87+YrnYblBXyv0xXuw3KCvG/AAAAAAAA8L95gUyKF8j0vy0qkXxNvfO/4tLVboOy8r+Wexphuafxv0skX1PvnPC//plHi0ok779o69Bvtg7tv9E8WlQi+eq/Oo7jOI7j6L+i32wd+s3mv0rxApkUL/C//TOPFpVI7r9mhRj7ADPsv8/Wod9sHeq/OCgrxNgH6L+gebSoRPLlvwrLPY2w3OO/cxzHcRzH4b+426CsEGPfv4l+s3XoN9u/NsJyTyMs57+fE/wzjxblvwhlhRj7AOO/cbYO/Wbr4L+zDzDDpavdv4WyQox9gNm/V1VVVVVV1b8q+GceLSrRv/c19c4J/sm/mnsaYbmnwb+uQ7/ZOvTbv4Hm0aISyde/U4nka+qd079JWO5phOXOv+6dE/wzj8a/IcdxHMdxvL/XpHiBTIqnvyeJ5GvqnZM/BJeudhuUtT/fBTIpXiDDP98FMileIMO/BpeudhuUtb86ieRr6p2Tv9KkeIFMiqc/IcdxHMdxvD/unRP8M4/GP0hY7mmE5c4/UYnka+qd0z+A5tGiEsnXP65Dv9k69Ns/lHsaYbmnwT/wNfXOCf7JPyb4Zx4tKtE/VFVVVVVV1T+CskKMfYDZP7APMMOlq90/b7YO/Wbr4D8FZYUY+wDjP50T/DOPFuU/NMJyTyMs5z+DfrN16DfbP7HboKwQY98/bxzHcRzH4T8Gyz2NsNzjP515tKhE8uU/NSgrxNgH6D/L1qHfbB3qP2KFGPsAM+w/+TOPFpVI7j9I8QKZFC/wP6DfbB36zeY/N47jOI7j6D/OPFpUIvnqP2Xr0G+2Du0//JlHi0ok7z9KJF9T75zwP5V7GmG5p/E/4NLVboOy8j8sKpF8Tb3zP3iBTIoXyPQ/AAAAAAAA8D9MV7sNygrxP5eudhuUFfI/4wUyKV4g8z8uXe02KCv0P3q0qETyNfU/xQtkUrxA9j8QYx9ghkv3P1y62m1QVvg/qBGWexph+T8=",
            "dtype": "f8"
           },
           "y": {
            "bdata": "EAc8/nDA878c8PjDAY/vvxnSeYshnee/K2j1pYJW379JWO5phOXOvzP5wwGPP3w/6UsFrb5U0D/3wwGPPxzgP/zhgMcfDug/AAAAAAAA8D/ysIrFuVXzv+BDllKTue6/3SUXGrPH5r+yDzDDpavdv1enY6TKj8u/7EJj9tjeoD9ipMqPm//RPzNwZACu8eA/OI7jOI7j6D8eVrE4t2rwP9Ra2YwC6/K/pJcz4STk7b+gebSoRPLlvzq3auDIANy/ZvbY3hA6yL+yBo4MwDWuP9v8j3J4qtM/cBzHcRzH4T90Okaq/LjpPzysYnFu1fA/tQQoVEuA8r9n69Bvtg7tv2TNUTfWHOW/wV6l/etV2r90RU4ZV+TEvz1lXJFTxrU/VFVVVVVV1T+syCnjipziP7HmqBtrjuo/WwIUqiVA8T+XrnYblBXyvys/bv5HOey/JyHvxWdH5L9IBuAaD6vYv4KUw1OdjsG/IMdxHMdxvD/NrRo4MgDXP+l0jFT5ceM/7ZILjdlj6z95WMXi3KrxP3lYxeLcqvG/7pILjdlj67/rdIxU+XHjv8+tGjgyANe/IMdxHMdxvL+ClMNTnY7BP0YG4BoPq9g/JSHvxWdH5D8qP27+RznsP5eudhuUFfI/WwIUqiVA8b+y5qgba47qv6/IKeOKnOK/VlVVVVVV1b8+ZVyRU8a1v3NFThlX5MQ/vl6l/etV2j9hzVE31hzlP2br0G+2Du0/tQQoVEuA8j89rGJxbtXwv3Y6Rqr8uOm/chzHcRzH4b/e/I9yeKrTv7YGjgzANa6/ZfbY3hA6yD83t2rgyADcP555tKhE8uU/opcz4STk7T/TWtmMAuvyPx5WsTi3avC/OY7jOI7j6L82cGQArvHgv2Wkyo+b/9G/7kJj9tjeoL9Xp2Okyo/LP7APMMOlq90/2iUXGrPH5j/fQ5ZSk7nuP/KwisW5VfM/AAAAAAAA8L/94YDHHw7ov/nDAY8/HOC/7EsFrb5U0L8z+cMBjz98v0lY7mmE5c4/KWj1pYJW3z8X0nmLIZ3nPxvw+MMBj+8/EAc8/nDA8z8=",
            "dtype": "f8"
           }
          },
          {
           "line": {
            "color": "blue",
            "width": 4
           },
           "marker": {
            "size": 6
           },
           "mode": "lines+markers",
           "name": "Vector",
           "type": "scatter",
           "x": [
            0,
            1.5862068965517242
           ],
           "y": [
            0,
            1.2344827586206897
           ]
          },
          {
           "line": {
            "color": "black",
            "width": 3
           },
           "marker": {
            "size": 6
           },
           "mode": "lines+markers",
           "name": "X basis (transformed)",
           "type": "scatter",
           "x": [
            0,
            1.293103448275862
           ],
           "y": [
            0,
            0.11724137931034483
           ]
          },
          {
           "line": {
            "color": "black",
            "width": 3
           },
           "marker": {
            "size": 6
           },
           "mode": "lines+markers",
           "name": "Y basis (transformed)",
           "type": "scatter",
           "x": [
            0,
            0.29310344827586204
           ],
           "y": [
            0,
            1.1172413793103448
           ]
          }
         ],
         "name": "frame0.59"
        },
        {
         "data": [
          {
           "marker": {
            "color": "red",
            "size": 5
           },
           "mode": "markers",
           "name": "Grid",
           "type": "scatter",
           "x": {
            "bdata": "hOWeRlju+b/LPY2w3NP4vxKWexphufe/WO5phOWe9r+fRljuaYT1v+WeRljuafS/LPc0wnJP879zTyMs9zTyv7mnEZZ7GvG/AAAAAAAA8L/nBP/Mo0X1vy5d7TYoK/S/dbXboKwQ87+7DcoKMfbxvwJmuHS12/C/kHxNvXOC778eLSqRfE3tv6zdBmWFGOu/OY7jOI7j6L/GPsAMl67mv0skX1PvnPC/I/maeucE77+wqXdO8M/svz1aVCL5muq/ywox9gFm6L9Xuw3KCjHmv+Vr6p0T/OO/cxzHcRzH4b//mUeLSiTfvxn7ADNcutq/XId+s3Xo57/pN1uHfrPlv3boN1uHfuO/A5kUL5BJ4b8hk+IFMinevzv0m61Dv9m/VlVVVVVV1b9xtg79ZuvQvxYvkEnxAsm/SvECmRQvwL9EjH2AGS7dv1/tNigrxNi/eU7wzzxa1L8nX1PvnODPv1whxj7ADMe/IMdxHMdxvL8Zl652G5Slvx3ADJeudps/oKvdBmWFuD+cE/wzjxbFP5wT/DOPFsW/oqvdBmWFuL8wwAyXrnabvxSXrnYblKU/IMdxHMdxvD9cIcY+wAzHPyZfU++c4M8/eE7wzzxa1D9e7TYoK8TYP0SMfYAZLt0/RvECmRQvwD8RL5BJ8QLJP262Dv1m69A/U1VVVVVV1T859JutQ7/ZPx+T4gUyKd4/ApkUL5BJ4T906Ddbh37jP+c3W4d+s+U/Wod+s3Xo5z8T+wAzXLraP/iZR4tKJN8/bxzHcRzH4T/ia+qdE/zjP1S7DcoKMeY/yAox9gFm6D86WlQi+ZrqP6ypd07wz+w/H/maeucE7z9JJF9T75zwP8Y+wAyXruY/OI7jOI7j6D+r3QZlhRjrPx4tKpF8Te0/kHxNvXOC7z8CZrh0tdvwP7sNygox9vE/dLXboKwQ8z8uXe02KCv0P+cE/8yjRfU/AAAAAAAA8D+5pxGWexrxP3JPIyz3NPI/LPc0wnJP8z/lnkZY7mn0P59GWO5phPU/WO5phOWe9j8RlnsaYbn3P8s9jbDc0/g/hOWeRlju+T8=",
            "dtype": "f8"
           },
           "y": {
            "bdata": "Ao8/HPD48791jFT5cfPvv+f6KboD9ee/sNL+9Srt378nX1PvnODPv9UX51YNHEk/p5YAhWoJ0D/h3KqBIwPgP3Bu1cCRAeg/AAAAAAAA8D8efzjg8Yfzv65sRoF1Ee+/H9sbQgcT578hk+IFMinevwngGg+rWMy/rzF7bG8InT821hx1Y83RP6j8uPkf5eA/OI7jOI7j6D/kDwc8/nDwPzpvMaTzFvO/5kw4CXkv7r9Yuw3KCjHmv5JTxhU5Zdy/62DiLrnQyL9PlR83/6OsP8UVOWVckdM/cBzHcRzH4T//rfGwisXpP8gfDnj84fA/V18qaPWl8r8fLSqRfE3tv5Cb/1EOT+W/AxSqJUCh2r/N4alOx0jFv+TIAFzjYbU/VFVVVVVV1T83PNXpGKniP8fN/yiHp+o/qy8VtPpS8T9zTyMs9zTyv1cNHBmAa+y/yXvx2RFt5L901I01R93Yv69icW7VwMG/IMdxHMdxvD/jlHFFThnXP/9b42EVi+M/j+0NoYOJ6z+PPxzw+MPxP48/HPD4w/G/kO0NoYOJ678BXONhFYvjv+WUcUVOGde/IMdxHMdxvL+vYnFu1cDBP3LUjTVH3dg/xnvx2RFt5D9WDRwZgGvsP3NPIyz3NPI/qy8VtPpS8b/Izf8oh6fqvzo81ekYqeK/VlVVVVVV1b/lyABc42G1v8zhqU7HSMU/ARSqJUCh2j+Om/9RDk/lPx4tKpF8Te0/V18qaPWl8j/IHw54/OHwvwGu8bCKxem/chzHcRzH4b/HFTllXJHTv1OVHzf/o6y/6mDiLrnQyD+QU8YVOWXcP1W7DcoKMeY/5Uw4CXkv7j86bzGk8xbzP+QPBzz+cPC/OY7jOI7j6L+r/Lj5H+XgvzjWHHVjzdG/szF7bG8Inb8I4BoPq1jMPx+T4gUyKd4/HdsbQgcT5z+tbEaBdRHvPx5/OODxh/M/AAAAAAAA8L9ybtXAkQHov+PcqoEjA+C/qZYAhWoJ0L/VF+dWDRxJvydfU++c4M8/rtL+9Srt3z/l+im6A/XnP3SMVPlx8+8/Ao8/HPD48z8=",
            "dtype": "f8"
           }
          },
          {
           "line": {
            "color": "blue",
            "width": 4
           },
           "marker": {
            "size": 6
           },
           "mode": "lines+markers",
           "name": "Vector",
           "type": "scatter",
           "x": [
            0,
            1.6206896551724137
           ],
           "y": [
            0,
            1.2482758620689656
           ]
          },
          {
           "line": {
            "color": "black",
            "width": 3
           },
           "marker": {
            "size": 6
           },
           "mode": "lines+markers",
           "name": "X basis (transformed)",
           "type": "scatter",
           "x": [
            0,
            1.3103448275862069
           ],
           "y": [
            0,
            0.12413793103448277
           ]
          },
          {
           "line": {
            "color": "black",
            "width": 3
           },
           "marker": {
            "size": 6
           },
           "mode": "lines+markers",
           "name": "Y basis (transformed)",
           "type": "scatter",
           "x": [
            0,
            0.3103448275862069
           ],
           "y": [
            0,
            1.1241379310344828
           ]
          }
         ],
         "name": "frame0.62"
        },
        {
         "data": [
          {
           "marker": {
            "color": "red",
            "size": 5
           },
           "mode": "markers",
           "name": "Grid",
           "type": "scatter",
           "x": {
            "bdata": "YLmnEZZ7+r85wT/zaFH5vxLJ19Q7J/i/69Bvtg799r/E2AeY4dL1v5zgn3m0qPS/deg3W4d+879O8M88WlTyvyf4Zx4tKvG/////////779WiLEPMMP1vy6QSfECmfS/B5jh0tVu87/gn3m0qETyv7mnEZZ7GvG/I19T75zg77/VboOyQoztv4Z+s3XoN+u/OI7jOI7j6L/pnRP8M4/mv0xXuw3KCvG/Sb6m3jnB77/6zdah32ztv6zdBmWFGOu/Xe02KCvE6L8P/Wbr0G/mv8EMl652G+S/chzHcRzH4b9HWO5phOXev6p3TvDPPNq/gkyKF8ik6L8zXLrabVDmv+Vr6p0T/OO/lnsaYbmn4b+QFpVIvqbev/I19c4J/tm/VlVVVVVV1b+6dLXboKzQvzkoK8TYB8i//M3Wod9svb/Y1Dsn+Gfevzz0m61Dv9m/nxP8M48W1b8CM1y62m3Qv8qkeIFMise/H8dxHMdxvL9dieRr6p2jv4R7GmG5p6E/OMAMl652uz9XIcY+wAzHP1chxj7ADMe/O8AMl652u7+Pexphuaehv1iJ5GvqnaM/H8dxHMdxvD/KpHiBTIrHPwEzXLrabdA/nhP8M48W1T879JutQ7/ZP9jUOyf4Z94/8M3Wod9svT8yKCvE2AfIP7Z0tdugrNA/UlVVVVVV1T/vNfXOCf7ZP40WlUi+pt4/lHsaYbmn4T/ja+qdE/zjPzFcutptUOY/gEyKF8ik6D+kd07wzzzaP0FY7mmE5d4/bxzHcRzH4T+9DJeudhvkPwz9ZuvQb+Y/Wu02KCvE6D+o3QZlhRjrP/fN1qHfbO0/Rb6m3jnB7z9KV7sNygrxP+mdE/wzj+Y/N47jOI7j6D+GfrN16DfrP9Rug7JCjO0/I19T75zg7z+5pxGWexrxP+CfebSoRPI/B5jh0tVu8z8ukEnxApn0P1aIsQ8ww/U/////////7z8n+GceLSrxP07wzzxaVPI/deg3W4d+8z+c4J95tKj0P8TYB5jh0vU/69Bvtg799j8SydfUOyf4PznBP/NoUfk/YLmnEZZ7+j8=",
            "dtype": "f8"
           },
           "y": {
            "bdata": "9BZDOm8x9L9nFFgX8Svwv7Qj2ujlTOi/mx4Eo+lB4L8CM1y62m3Qvy4zCqyL+HW/ycL3uSx8zz+V66foDtTfP+X6KboD9ec/AAAAAAAA8D9LTeb6Kbrzv3uV9q9Xae+/YpAgalte57+QFpVIvqbev7oY0nmLIc2/id0v7CxTmD8KCG9aK5vRPx2JDfOR2OA/OI7jOI7j6D+pyVw/RXfwP6GDibvkQvO/KQI9Mc167r8P/Wbr0G/mv+vvIUupydy/cMvrfmFnyb/uI7FhPhKrP68u4ldAeNM/cBzHcRzH4T+LIZ23GNLpP1OTuX6K7vA/+LksfJ/L8r/WboOyQoztv71prWxGgeW/RsmuTZTs2r8lfgWEN63Fv4wspSZz/bQ/VFVVVVVV1T/Cr4DwprXiP920VjajwOo//FwWvs9l8T9P8M88WlTyv4TbyTO4ney/atbz7buS5L+hojtQfw/Zv9swH4kN88G/IMdxHMdxvD/5e8hSajLXPxVDOm8xpOM/MEgQtS2v6z+lJnP9FN3xP6Umc/0U3fG/MUgQtS2v678XQzpvMaTjv/t7yFJqMte/IMdxHMdxvL/bMB+JDfPBP5+iO1B/D9k/aNbz7buS5D+D28kzuJ3sP0/wzzxaVPI//FwWvs9l8b/ftFY2o8Dqv8WvgPCmteK/VlVVVVVV1b+NLKUmc/20vyV+BYQ3rcU/Q8muTZTs2j+6aa1sRoHlP9Vug7JCjO0/+LksfJ/L8j9Tk7l+iu7wv4whnbcY0um/chzHcRzH4b+yLuJXQHjTv/IjsWE+Equ/b8vrfmFnyT/o7yFLqcncPw39ZuvQb+Y/JwI9Mc167j+hg4m75ELzP6rJXD9Fd/C/OY7jOI7j6L8giQ3zkdjgvwwIb1orm9G/jd0v7CxTmL+6GNJ5iyHNP44WlUi+pt4/X5Agalte5z96lfavV2nvP0pN5vopuvM/AAAAAAAA8L/n+im6A/Xnv5rrp+gO1N+/zcL3uSx8z78uMwqsi/h1PwIzXLrabdA/mh4Eo+lB4D+yI9ro5UzoP2YUWBfxK/A/9BZDOm8x9D8=",
            "dtype": "f8"
           }
          },
          {
           "line": {
            "color": "blue",
            "width": 4
           },
           "marker": {
            "size": 6
           },
           "mode": "lines+markers",
           "name": "Vector",
           "type": "scatter",
           "x": [
            0,
            1.6551724137931032
           ],
           "y": [
            0,
            1.2620689655172415
           ]
          },
          {
           "line": {
            "color": "black",
            "width": 3
           },
           "marker": {
            "size": 6
           },
           "mode": "lines+markers",
           "name": "X basis (transformed)",
           "type": "scatter",
           "x": [
            0,
            1.3275862068965516
           ],
           "y": [
            0,
            0.1310344827586207
           ]
          },
          {
           "line": {
            "color": "black",
            "width": 3
           },
           "marker": {
            "size": 6
           },
           "mode": "lines+markers",
           "name": "Y basis (transformed)",
           "type": "scatter",
           "x": [
            0,
            0.3275862068965517
           ],
           "y": [
            0,
            1.1310344827586207
           ]
          }
         ],
         "name": "frame0.66"
        },
        {
         "data": [
          {
           "marker": {
            "color": "red",
            "size": 5
           },
           "mode": "markers",
           "name": "Grid",
           "type": "scatter",
           "x": {
            "bdata": "Po2w3NMI+7+pRPI19c75vxT8M48Wlfi/f7N16Ddb97/qardBWSH2v1Qi+Zp65/S/v9k69Jut878rkXxNvXPyv5VIvqbeOfG/AAAAAAAA8L/FC2RSvED2vzDDpavdBvW/m3rnBP/M878GMileIJPyv3HpardBWfG/26CsEGMf8L+NsNzTCMvtv2MfYIZLV+u/OY7jOI7j6L8O/Wbr0G/mv02KF8ikePG/uEFZIcY+8L9G8jX1zgnuvxthuacRluu/8c88WlQi6b/HPsAMl67mv52tQ7/ZOuS/cxzHcRzH4b+RFpVIvqbevzz0m61Dv9m/qBGWexph6b9+gBkuXe3mv1TvnOCfeeS/Kl4gk+IF4r8AmkeLSiTfv6p3TvDPPNq/V1VVVVVV1b8DM1y62m3Qv1whxj7ADMe/ZLmnEZZ7ur9uHfrN1qHfvxr7ADNcutq/xtgHmOHS1b9xtg79ZuvQvzooK8TYB8i/IMdxHMdxvL+iexphuaehv/uWrnYblKU/0tQ7J/hnvj8TL5BJ8QLJPxMvkEnxAsm/1dQ7J/hnvr8Gl652G5Slv517GmG5p6E/IMdxHMdxvD86KCvE2AfIP3G2Dv1m69A/xNgHmOHS1T8Z+wAzXLraP24d+s3Wod8/WLmnEZZ7uj9VIcY+wAzHP/8yXLrabdA/U1VVVVVV1T+nd07wzzzaP/2ZR4tKJN8/KF4gk+IF4j9S75zgn3nkP3yAGS5d7eY/pxGWexph6T829JutQ7/ZP4oWlUi+pt4/bxzHcRzH4T+arUO/2TrkP8Q+wAyXruY/7s88WlQi6T8YYbmnEZbrP0LyNfXOCe4/tkFZIcY+8D9MihfIpHjxPw79ZuvQb+Y/OI7jOI7j6D9iH2CGS1frP42w3NMIy+0/26CsEGMf8D9x6Wq3QVnxPwYyKV4gk/I/mnrnBP/M8z8ww6Wr3Qb1P8ULZFK8QPY/AAAAAAAA8D+VSL6m3jnxPyqRfE29c/I/v9k69Jut8z9UIvmaeuf0P+pqt0FZIfY/f7N16Ddb9z8T/DOPFpX4P6lE8jX1zvk/Po2w3NMI+z8=",
            "dtype": "f8"
           },
           "y": {
            "bdata": "5Z5GWO5p9L+T4gUyKV7wv4FMihfIpOi/3dMIyz2N4L9xtg79ZuvQv8GkeIFMioe/QVjuaYTlzj9nHfrN1qHfP1mHfrN16Oc//v//////7z92G5QVYuzzv0i+pt45we+/o0Ulkq+p57/+mUeLSiTfv2tRieRr6s2/V4nka+qdkz/cOcE/82jRP5EVYuwDzOA/N47jOI7j6D9ug7JCjH3wPweY4dLVbvO/ardBWSHG7r/GPsAMl67mv0OMfYAZLt2/9DX1zgn+yb+GskKMfYCpP5dHi0okX9M/bxzHcRzH4T8UlUi+pt7pP90GZYUY+/A/mBQvkEnx8r+MsNzTCMvtv+g3W4d+s+W/h36zdeg32799GmG5pxHGvzGQSfECmbQ/U1VVVVVV1T9MIyz3NMLiP/KbrUO/2eo/TIoXyKR48T8pkXxNvXPyv6+pd07wz+y/CjH2AWa45L/McOlqt0HZvwf/zKNFJcK/HsdxHMdxvD8OYx9ghkvXPyoqkXxNveM/0KISydfU6z+7DcoKMfbxP7sNygox9vG/0aISydfU678sKpF8Tb3jvxBjH2CGS9e/HsdxHMdxvL8H/8yjRSXCP8pw6Wq3Qdk/CDH2AWa45D+tqXdO8M/sPymRfE29c/I/TIoXyKR48b/zm61Dv9nqv08jLPc0wuK/VVVVVVVV1b8ykEnxApm0v30aYbmnEcY/hX6zdeg32z/mN1uHfrPlP4uw3NMIy+0/mBQvkEnx8j/dBmWFGPvwvxaVSL6m3um/cRzHcRzH4b+aR4tKJF/Tv4yyQox9gKm/8zX1zgn+yT9AjH2AGS7dP8M+wAyXruY/abdBWSHG7j8HmOHS1W7zP26DskKMffC/OI7jOI7j6L+TFWLsA8zgv945wT/zaNG/W4nka+qdk79qUYnka+rNP/yZR4tKJN8/oUUlkq+p5z9GvqbeOcHvP3YblBVi7PM//v//////779ah36zdejnv2sd+s3Wod+/RVjuaYTlzr/BpHiBTIqHP3G2Dv1m69A/3NMIyz2N4D9/TIoXyKToP5LiBTIpXvA/5Z5GWO5p9D8=",
            "dtype": "f8"
           }
          },
          {
           "line": {
            "color": "blue",
            "width": 4
           },
           "marker": {
            "size": 6
           },
           "mode": "lines+markers",
           "name": "Vector",
           "type": "scatter",
           "x": [
            0,
            1.6896551724137931
           ],
           "y": [
            0,
            1.2758620689655171
           ]
          },
          {
           "line": {
            "color": "black",
            "width": 3
           },
           "marker": {
            "size": 6
           },
           "mode": "lines+markers",
           "name": "X basis (transformed)",
           "type": "scatter",
           "x": [
            0,
            1.3448275862068966
           ],
           "y": [
            0,
            0.13793103448275865
           ]
          },
          {
           "line": {
            "color": "black",
            "width": 3
           },
           "marker": {
            "size": 6
           },
           "mode": "lines+markers",
           "name": "Y basis (transformed)",
           "type": "scatter",
           "x": [
            0,
            0.3448275862068966
           ],
           "y": [
            0,
            1.1379310344827585
           ]
          }
         ],
         "name": "frame0.69"
        },
        {
         "data": [
          {
           "marker": {
            "color": "red",
            "size": 5
           },
           "mode": "markers",
           "name": "Grid",
           "type": "scatter",
           "x": {
            "bdata": "G2G5pxGW+78YyKR4gUz6vxUvkEnxAvm/EpZ7GmG5978Q/Wbr0G/2vwxkUrxAJvW/Css9jbDc878HMileIJPyvwSZFC+QSfG/AQAAAAAA8L80jxaVSL72vzH2AWa4dPW/Ll3tNigr9L8rxNgHmOHyvykrxNgHmPG/JZKvqXdO8L9F8jX1zgnuv0DADJeuduu/Oo7jOI7j6L80XLrabVDmv069c4J/5vG/SyRfU++c8L+RFpVIvqbuv4vka+qdE+y/hbJCjH2A6b9/gBkuXe3mv3lO8M88WuS/dBzHcRzH4b/b1Dsn+Gfev89w6Wq3Qdm/z9ah32wd6r/JpHiBTIrnv8NyTyMs9+S/vUAmxQtk4r9vHfrN1qHfv2O5pxGWe9q/WFVVVVVV1b9N8QKZFC/Qv4EaYbmnEca/0KR4gUyKt78CM1y62m3gv/gBZrh0tdu/7J0T/DOP1r/gOcE/82jRv6mr3QZlhci/IcdxHMdxvL/V26CsEGOfv22yQox9gKk/tHS126CswD/NPFpUIvnKP808WlQi+cq/tnS126CswL95skKMfYCpv8nboKwQY58/IcdxHMdxvD+pq90GZYXIP+A5wT/zaNE/650T/DOP1j/3AWa4dLXbPwIzXLrabeA/xKR4gUyKtz95GmG5pxHGP0jxApkUL9A/VFVVVVVV1T9guacRlnvaP2wd+s3Wod8/vEAmxQtk4j/Bck8jLPfkP8ekeIFMiuc/ztah32wd6j/JcOlqt0HZP9XUOyf4Z94/cBzHcRzH4T92TvDPPFrkP3yAGS5d7eY/grJCjH2A6T+I5GvqnRPsP40WlUi+pu4/SiRfU++c8D9NvXOCf+bxPzRcutptUOY/OY7jOI7j6D8/wAyXrnbrP0XyNfXOCe4/JZKvqXdO8D8pK8TYB5jxPyvE2AeY4fI/Ll3tNigr9D8x9gFmuHT1PzSPFpVIvvY/AQAAAAAA8D8EmRQvkEnxPwcyKV4gk/I/Css9jbDc8z8MZFK8QCb1PxD9ZuvQb/Y/EpZ7GmG59z8VL5BJ8QL5PxjIpHiBTPo/G2G5pxGW+z8=",
            "dtype": "f8"
           },
           "y": {
            "bdata": "2CZKdm2i9L/AsLNMYZDwv1B1Okaq/Oi/IIkN85HY4L/gOcE/82jRv+AXdpYpDJK/v+3kGdxOzj89T0yznm/fP88T06zn2+c/AAAAAAAA8D+j6UEwmh70v4tzqwaODPC/5/opugP1579uHfrN1qHfvx2KQE9Ms86/cWoy10/RjT+xaxMluzbRPweituV1v+A/OI7jOI7j6D81PQhG04PwP2+sOerGmvO/rmxGgXUR779+gBkuXe3mv50o2bWJkt2/eqD+HrKUyr8oQdS2vO6nP4JgND0IRtM/cBzHcRzH4T+hCPTENOvpP2l6EIymB/E/O28xpPMW879F8jX1zgnuvxUGCaK25eW/yzO4nTyD27/XtrzuF3bGv9vz7buSNLQ/VFVVVVVV1T/Zltf9ws7iPwqDBFHb8uo/nbcY0nmL8T8GMileIJPyv913JWkoAu2/rYv4FRDe5L/6PpeF73PZvzTNer59V8K/IMdxHMdxvD8mSnZtomTXP0ER6Ilp1uM/c/0U3YH66z/S9CAYTQ/yP9L0IBhND/K/dP0U3YH6679EEeiJadbjvyhKdm2iZNe/IMdxHMdxvL80zXq+fVfCP/c+l4Xvc9k/qov4FRDe5D/bdyVpKALtPwYyKV4gk/I/nbcY0nmL8b8LgwRR2/Lqv9uW1/3CzuK/V1VVVVVV1b/c8+27kjS0v9a2vO4XdsY/yTO4nTyD2z8TBgmituXlP0TyNfXOCe4/O28xpPMW8z9pehCMpgfxv6MI9MQ06+m/cxzHcRzH4b+GYDQ9CEbTvy5B1La87qe/eaD+HrKUyj+aKNm1iZLdP3yAGS5d7eY/rWxGgXUR7z9vrDnqxprzPzU9CEbTg/C/Oo7jOI7j6L8Korbldb/gv7RrEyW7NtG/eWoy10/Rjb8dikBPTLPOP2wd+s3Wod8/5fopugP15z+Lc6sGjgzwP6PpQTCaHvQ/AAAAAAAA8L/RE9Os59vnv0JPTLOeb9+/xO3kGdxOzr/gF3aWKQySP+A5wT/zaNE/H4kN85HY4D9NdTpGqvzoP7+ws0xhkPA/2CZKdm2i9D8=",
            "dtype": "f8"
           }
          },
          {
           "line": {
            "color": "blue",
            "width": 4
           },
           "marker": {
            "size": 6
           },
           "mode": "lines+markers",
           "name": "Vector",
           "type": "scatter",
           "x": [
            0,
            1.7241379310344829
           ],
           "y": [
            0,
            1.2896551724137932
           ]
          },
          {
           "line": {
            "color": "black",
            "width": 3
           },
           "marker": {
            "size": 6
           },
           "mode": "lines+markers",
           "name": "X basis (transformed)",
           "type": "scatter",
           "x": [
            0,
            1.3620689655172415
           ],
           "y": [
            0,
            0.14482758620689656
           ]
          },
          {
           "line": {
            "color": "black",
            "width": 3
           },
           "marker": {
            "size": 6
           },
           "mode": "lines+markers",
           "name": "Y basis (transformed)",
           "type": "scatter",
           "x": [
            0,
            0.3620689655172414
           ],
           "y": [
            0,
            1.1448275862068966
           ]
          }
         ],
         "name": "frame0.72"
        },
        {
         "data": [
          {
           "marker": {
            "color": "red",
            "size": 5
           },
           "mode": "markers",
           "name": "Grid",
           "type": "scatter",
           "x": {
            "bdata": "9jTCck8j/L+GS1e7Dcr6vxVi7APMcPm/pHiBTIoX+L8zjxaVSL72v8Olq90GZfW/UrxAJsUL9L/h0tVug7Lyv3DpardBWfG/////////77+iEsnX1Dv3vzIpXiCT4vW/wT/zaFGJ9L9QVoixDzDzv99sHfrN1vG/b4OyQox98L/8M48WlUjuvxthuacRluu/OY7jOI7j6L9Xuw3KCjHmv07wzzxaVPK/3QZlhRj78L/ZOvSbrUPvv/dnHi0qkey/FpVIvqbe6b80wnJPIyznv1PvnOCfeeS/chzHcRzH4b8gk+IFMinev1ztNigrxNi/9JutQ7/Z6r8SydfUOyfovzH2AWa4dOW/TyMs9zTC4r9uUFaIsQ/gvxj7ADNcutq/VlVVVVVV1b8nX1PvnODPv6AT/DOPFsW/MJBJ8QKZtL9MV7sNygrhv9QIyz2NsNy/EWMfYIZL179OvXOCf+bRvxcvkEnxAsm/HsdxHMdxvL9VwAyXrnabv+fN1qHfbK0/Af/Mo0Ulwj+JSiRfU+/MP4lKJF9T78y/A//Mo0Ulwr/0zdah32ytv0nADJeudps/HsdxHMdxvD8XL5BJ8QLJP069c4J/5tE/EGMfYIZL1z/UCMs9jbDcP0xXuw3KCuE/JJBJ8QKZtD+YE/wzjxbFPx5fU++c4M8/UlVVVVVV1T8V+wAzXLraP2xQVoixD+A/TiMs9zTC4j8v9gFmuHTlPxHJ19Q7J+g/8putQ7/Z6j9Y7TYoK8TYPxuT4gUyKd4/bxzHcRzH4T9R75zgn3nkPzLCck8jLOc/FJVIvqbe6T/1Zx4tKpHsP9Y69JutQ+8/3AZlhRj78D9N8M88WlTyP1W7DcoKMeY/N47jOI7j6D8YYbmnEZbrP/ozjxaVSO4/boOyQox98D/ebB36zdbxP09WiLEPMPM/wD/zaFGJ9D8xKV4gk+L1P6ISydfUO/c/////////7z9w6Wq3QVnxP+HS1W6DsvI/UrxAJsUL9D/DpavdBmX1PzOPFpVIvvY/pHiBTIoX+D8VYuwDzHD5P4ZLV7sNyvo/9jTCck8j/D8=",
            "dtype": "f8"
           },
           "y": {
            "bdata": "ya5NlOza9L/rfmFnmcLwvxye6nSMVOm/Yj4SG+Yj4b9OvXOCf+bRv23dL+wsU5i/OIPbyTO4zT8PgZ6YZj3fP0OgJ6ZZz+c/////////7z/Pt+9K0lD0v/GHAx5/OPC/KLAu4ldA6L9uUFaIsQ/gv83C97ksfM+/HsKb1spmhD+EnWUKgwTRP3suC9/nsuA/N47jOI7j6D/59l1JGorwP9XAkQG4xvO/7yFLqclc7781wnJPIyznv/TENOv59t2//goIb1ory7/Ez2Xh+1ymP2t53S/sLNM/bxzHcRzH4T8rfJ/LwvfpP/Ptu5I0FPE/28kzuJ0887/7M48WlUjuv0HUtrzuF+a/DOm8xZDO278vUxgkiNrGv4BXkoYi0LM/U1VVVVVV1T9jCoMEUdviPx5qW173C+s/7eQZ3E6e8T/h0tVug7LyvwdG04NgNO2/Teb6KboD5b8lDUWgJ6bZv1+bKNm1icK/H8dxHMdxvD87Mc16vn3XP1f4PpeF7+M/ElgX8Ssg7D/n23claSjyP+fbdyVpKPK/E1gX8Ssg7L9Z+D6Xhe/jvz0xzXq+fde/H8dxHMdxvL9fmyjZtYnCPyINRaAnptk/S+b6KboD5T8GRtODYDTtP+HS1W6DsvI/7eQZ3E6e8b8galte9wvrv2UKgwRR2+K/VlVVVVVV1b+CV5KGItCzvy5TGCSI2sY/Cum8xZDO2z8+1La87hfmP/ozjxaVSO4/28kzuJ088z/z7buSNBTxvyx8n8vC9+m/chzHcRzH4b9ued0v7CzTv8jPZeH7XKa//QoIb1oryz/xxDTr+fbdPzLCck8jLOc/7iFLqclc7z/VwJEBuMbzP/n2XUkaivC/OI7jOI7j6L9+Lgvf57Lgv4adZQqDBNG/JsKb1spmhL/Mwve5LHzPP2xQVoixD+A/JrAu4ldA6D/xhwMefzjwP8+370rSUPQ/////////779EoCemWc/nvxOBnphmPd+/PYPbyTO4zb9t3S/sLFOYP069c4J/5tE/YD4SG+Yj4T8anup0jFTpP+t+YWeZwvA/ya5NlOza9D8=",
            "dtype": "f8"
           }
          },
          {
           "line": {
            "color": "blue",
            "width": 4
           },
           "marker": {
            "size": 6
           },
           "mode": "lines+markers",
           "name": "Vector",
           "type": "scatter",
           "x": [
            0,
            1.7586206896551722
           ],
           "y": [
            0,
            1.303448275862069
           ]
          },
          {
           "line": {
            "color": "black",
            "width": 3
           },
           "marker": {
            "size": 6
           },
           "mode": "lines+markers",
           "name": "X basis (transformed)",
           "type": "scatter",
           "x": [
            0,
            1.379310344827586
           ],
           "y": [
            0,
            0.15172413793103448
           ]
          },
          {
           "line": {
            "color": "black",
            "width": 3
           },
           "marker": {
            "size": 6
           },
           "mode": "lines+markers",
           "name": "Y basis (transformed)",
           "type": "scatter",
           "x": [
            0,
            0.3793103448275862
           ],
           "y": [
            0,
            1.1517241379310343
           ]
          }
         ],
         "name": "frame0.76"
        },
        {
         "data": [
          {
           "marker": {
            "color": "red",
            "size": 5
           },
           "mode": "markers",
           "name": "Grid",
           "type": "scatter",
           "x": {
            "bdata": "1AjLPY2w/L/1zgn+mUf7vxeVSL6m3vm/OFuHfrN1+L9ZIcY+wAz3v3vnBP/Mo/W/nK1Dv9k69L++c4J/5tHyv985wT/zaPG/AAAAAAAA8L8SlnsaYbn3vzNcutptUPa/VSL5mnrn9L926Ddbh37zv5eudhuUFfK/uXS126Cs8L+0deg3W4fuv/cBZrh0teu/Oo7jOI7j6L98GmG5pxHmv1AjLPc0wvK/celqt0FZ8b8kX1PvnODvv2fr0G+2Du2/qndO8M886r/sA8xw6Wrnvy+QSfECmeS/chzHcRzH4b9pUYnka+rdv+5phOWeRti/G2G5pxGW679e7TYoK8Tov6B5tKhE8uW/4wUyKV4g478mkq+pd07gv9A8WlQi+dq/V1VVVVVV1b+526CsEGPPv8MMl652G8S/mHsaYbmnsb+Xexphuafhv7MPMMOlq92/OCgrxNgH2L++QCbFC2TSv4ayQox9gMm/H8dxHMdxvL/gpHiBTIqXv690tdugrLA/Tonka+qdwz9FWO5phOXOP0VY7mmE5c6/UInka+qdw7+1dLXboKywv9SkeIFMipc/H8dxHMdxvD+GskKMfYDJP71AJsULZNI/NygrxNgH2D+yDzDDpavdP5d7GmG5p+E/jHsaYbmnsT+7DJeudhvEP7DboKwQY88/U1VVVVVV1T/NPFpUIvnaPySSr6l3TuA/4QUyKV4g4z+eebSoRPLlP1ztNigrxOg/GmG5pxGW6z/qaYTlnkbYP2VRieRr6t0/cBzHcRzH4T8tkEnxApnkP+oDzHDpauc/qHdO8M886j9l69Bvtg7tPyJfU++c4O8/cOlqt0FZ8T9OIyz3NMLyP3oaYbmnEeY/N47jOI7j6D/1AWa4dLXrP7J16Ddbh+4/uHS126Cs8D+WrnYblBXyP3XoN1uHfvM/UyL5mnrn9D8yXLrabVD2PxGWexphufc/AAAAAAAA8D/fOcE/82jxP71zgn/m0fI/nK1Dv9k69D975wT/zKP1P1khxj7ADPc/OFuHfrN1+D8WlUi+pt75P/XOCf6ZR/s/1AjLPY2w/D8=",
            "dtype": "f8"
           },
           "y": {
            "bdata": "vDZRsmsT9b8ZTQ+C0fTwv+vGmqNurOm/pfMWQzpv4b++QCbFC2TSv/Si6UEwmp6/tRjSeYshzT/ksvB9LgvfP7ksfJ/Lwuc/AAAAAAAA8D/8hZ1lCoP0v1mcWzVwZPC/bGUzCqyL6L8mkq+pd07gv8B9V5KGItC/oDMKrIv4dT9Yz7fvStLQP/G6X9hZpuA/OI7jOI7j6D/AsLNMYZDwPz3V6Rip8vO/M9dP0R2o77/tA8xw6Wrnv05hkCBqW96/hHURvwLCy79kXvcLO8ukP1aShiLQE9M/cBzHcRzH4T+370rSUATqP39hZ5nCIPE/fSQ2zEdi87+0deg3W4fuv26iZNcmSua/UJ7B7eQZ3L+J73NZ+D7Hvym7NlGya7M/VFVVVVVV1T/vfS4L3+fiPzZRsmsTJes/PxIb5iOx8T++c4J/5tHyvzUUgZ6YZu2/70D9PWQp5b9T2/K6X9jZv41p1vPtu8K/IcdxHMdxvD9SGCSI2pbXP27flaShCOQ/tbIZBdZF7D/+ws4yhUHyP/7CzjKFQfK/trIZBdZF7L9w35WkoQjkv1QYJIjalte/IcdxHMdxvL+Nadbz7bvCP1Db8rpf2Nk/7UD9PWQp5T80FIGemGbtP75zgn/m0fI/PxIb5iOx8b84UbJrEyXrv/J9Lgvf5+K/V1VVVVVV1b8ruzZRsmuzv4jvc1n4Psc/Tp7B7eQZ3D9somTXJkrmP7N16Ddbh+4/fSQ2zEdi8z9/YWeZwiDxv7nvStJQBOq/cxzHcRzH4b9ZkoYi0BPTv2he9ws7y6S/g3URvwLCyz9LYZAgalveP+sDzHDpauc/MtdP0R2o7z891ekYqfLzP8Cws0xhkPC/Oo7jOI7j6L/0ul/YWabgv1vPt+9K0tC/wDMKrIv4db/AfVeShiLQPyWSr6l3TuA/amUzCqyL6D9YnFs1cGTwP/yFnWUKg/Q/AAAAAAAA8L+7LHyfy8Lnv+my8H0uC9+/uhjSeYshzb/0oulBMJqeP75AJsULZNI/pPMWQzpv4T/pxpqjbqzpPxhND4LR9PA/vDZRsmsT9T8=",
            "dtype": "f8"
           }
          },
          {
           "line": {
            "color": "blue",
            "width": 4
           },
           "marker": {
            "size": 6
           },
           "mode": "lines+markers",
           "name": "Vector",
           "type": "scatter",
           "x": [
            0,
            1.793103448275862
           ],
           "y": [
            0,
            1.317241379310345
           ]
          },
          {
           "line": {
            "color": "black",
            "width": 3
           },
           "marker": {
            "size": 6
           },
           "mode": "lines+markers",
           "name": "X basis (transformed)",
           "type": "scatter",
           "x": [
            0,
            1.396551724137931
           ],
           "y": [
            0,
            0.15862068965517243
           ]
          },
          {
           "line": {
            "color": "black",
            "width": 3
           },
           "marker": {
            "size": 6
           },
           "mode": "lines+markers",
           "name": "Y basis (transformed)",
           "type": "scatter",
           "x": [
            0,
            0.39655172413793105
           ],
           "y": [
            0,
            1.1586206896551725
           ]
          }
         ],
         "name": "frame0.79"
        },
        {
         "data": [
          {
           "marker": {
            "color": "red",
            "size": 5
           },
           "mode": "markers",
           "name": "Grid",
           "type": "scatter",
           "x": {
            "bdata": "sNzTCMs9/b9kUrxAJsX7vxfIpHiBTPq/yz2NsNzT+L9+s3XoN1v3vzIpXiCT4vW/5Z5GWO5p9L+ZFC+QSfHyv0yKF8ikePG/AAAAAAAA8L+AGS5d7Tb4vzSPFpVIvva/5wT/zKNF9b+beucE/8zzv07wzzxaVPK/Ama4dLXb8L9rt0FZIcbuv9KiEsnX1Ou/OY7jOI7j6L+gebSoRPLlv1BWiLEPMPO/BMxw6Wq38b+3QVkhxj7wv9Zug7JCjO2/PVpUIvma6r+jRSWSr6nnvwsx9gFmuOS/chzHcRzH4b+yDzDDpavdv3/m0aISyde/QSbFC2RS7L+oEZZ7GmHpvw/9ZuvQb+a/dug3W4d+47/d0wjLPY3gv4h+s3XoN9u/V1VVVVVV1b9LWO5phOXOv+UFMileIMO/AM7Wod9srb/hn3m0qETiv5EWlUi+pt6/X+02KCvE2L8txNgHmOHSv/Y19c4J/sm/IcdxHMdxvL9xieRr6p2Tv2iCf+bRorI/mhP8M48WxT8AM1y62m3QPwAzXLrabdC/mxP8M48Wxb9vgn/m0aKyv2SJ5GvqnZM/IcdxHMdxvD/2NfXOCf7JPyzE2AeY4dI/Xe02KCvE2D+QFpVIvqbeP+GfebSoROI/6M3Wod9srT/eBTIpXiDDP0JY7mmE5c4/U1VVVVVV1T+FfrN16DfbP9zTCMs9jeA/dOg3W4d+4z8N/Wbr0G/mP6YRlnsaYek/QCbFC2RS7D955tGiEsnXP6sPMMOlq90/bhzHcRzH4T8HMfYBZrjkP6BFJZKvqec/OlpUIvma6j/SboOyQoztP7VBWSHGPvA/Asxw6Wq38T9PVoixDzDzP555tKhE8uU/No7jOI7j6D/PohLJ19TrP2i3QVkhxu4/AWa4dLXb8D9N8M88WlTyP5p65wT/zPM/5gT/zKNF9T8zjxaVSL72P38ZLl3tNvg/AAAAAAAA8D9MihfIpHjxP5kUL5BJ8fI/5Z5GWO5p9D8yKV4gk+L1P36zdeg3W/c/yz2NsNzT+D8XyKR4gUz6P2RSvEAmxfs/sNzTCMs9/T8=",
            "dtype": "f8"
           },
           "y": {
            "bdata": "rL5U0OpL9b9EG72cCSfxv7fvStJQBOq/56gba4664b8sxNgHmOHSv0G00cuZcKK/Lq7IKeOKzD+25EJj9tjePy250Jg9tuc/////////7z8oVEuAQrX0v7+ws0xhkPC/rRo4MgDX6L/d0wjLPY3gvxgas8f2htC/2hfnVg0cST8rAQrVEqDQP2VHtNHLmeA/N47jOI7j6D+EaglQqJbwP6LpQTCaHvS/dIxU+XHz77+jRSWSr6nnv6X961Xav96/COAaD6tYzL//7Ig2ejmjPz+rLxW0+tI/bxzHcRzH4T9BY/bY3hDqPwrVEqBQLfE/Hn844PGH879qt0FZIcbuv5pwEvJefOa/klPGFTll3L/gi8+OaKPHv88e2xtCB7M/U1VVVVVV1T958dkRbfTiP0s4CXkvPus/jj8c8PjD8T+ZFC+QSfHyv2DiLrnQmO2/kJv/UQ5P5b9+qaDVlwrav7g3hA4m7sK/H8dxHMdxvD9n/3qV9q/XP4PG7LG9IeQ/VQ0cGYBr7D8TqiVAoVryPxOqJUChWvK/Vg0cGYBr7L+FxuyxvSHkv2n/epX2r9e/H8dxHMdxvL+4N4QOJu7CP3upoNWXCto/jZv/UQ5P5T9f4i650JjtP5kUL5BJ8fI/jz8c8PjD8b9MOAl5Lz7rv3zx2RFt9OK/VlVVVVVV1b/RHtsbQgezv9+Lz45oo8c/j1PGFTll3D+XcBLyXnzmP2m3QVkhxu4/HX844PGH8z8K1RKgUC3xv0Jj9tjeEOq/chzHcRzH4b9Cqy8VtPrSvwPtiDZ6OaO/B+AaD6tYzD+j/etV2r/eP6FFJZKvqec/c4xU+XHz7z+i6UEwmh70P4VqCVColvC/OI7jOI7j6L9oR7TRy5ngvy4BCtUSoNC/2hjnVg0cSb8XGrPH9obQP9vTCMs9jeA/qxo4MgDX6D++sLNMYZDwPydUS4BCtfQ/////////778uudCYPbbnv7vkQmP22N6/M67IKeOKzL9BtNHLmXCiPyzE2AeY4dI/5qgba4664T+170rSUATqP0QbvZwJJ/E/rL5U0OpL9T8=",
            "dtype": "f8"
           }
          },
          {
           "line": {
            "color": "blue",
            "width": 4
           },
           "marker": {
            "size": 6
           },
           "mode": "lines+markers",
           "name": "Vector",
           "type": "scatter",
           "x": [
            0,
            1.8275862068965516
           ],
           "y": [
            0,
            1.3310344827586205
           ]
          },
          {
           "line": {
            "color": "black",
            "width": 3
           },
           "marker": {
            "size": 6
           },
           "mode": "lines+markers",
           "name": "X basis (transformed)",
           "type": "scatter",
           "x": [
            0,
            1.4137931034482758
           ],
           "y": [
            0,
            0.16551724137931034
           ]
          },
          {
           "line": {
            "color": "black",
            "width": 3
           },
           "marker": {
            "size": 6
           },
           "mode": "lines+markers",
           "name": "Y basis (transformed)",
           "type": "scatter",
           "x": [
            0,
            0.41379310344827586
           ],
           "y": [
            0,
            1.1655172413793102
           ]
          }
         ],
         "name": "frame0.83"
        },
        {
         "data": [
          {
           "marker": {
            "color": "red",
            "size": 5
           },
           "mode": "markers",
           "name": "Grid",
           "type": "scatter",
           "x": {
            "bdata": "jrDc0wjL/b/T1W6DskL8vxn7ADNcuvq/XyCT4gUy+b+kRSWSr6n3v+pqt0FZIfa/MJBJ8QKZ9L92tdugrBDzv7vabVBWiPG/AAAAAAAA8L/wnOCfebT4vzXCck8jLPe/e+cE/8yj9b/BDJeudhv0vwYyKV4gk/K/TFe7DcoK8b8j+Zp65wTvv69Dv9k69Ou/Oo7jOI7j6L/F2AeY4dLlv1KJ5GvqnfO/l652G5QV8r/d0wjLPY3wv0XyNfXOCe6/0TxaVCL56r9bh36zdejnv+fRohLJ1+S/cxzHcRzH4b/8zdah32zdvxJjH2CGS9e/aOvQb7YO7b/zNfXOCf7pv36AGS5d7ea/Css9jbDc47+VFWLsA8zgv0DADJeudtu/WFVVVVVV1b/e1Dsn+GfOvwr/zKNFJcK/2KR4gUyKp78sxNgHmOHiv24d+s3Wod+/hbJCjH2A2b+cR4tKJF/Tv2W5pxGWe8q/IsdxHMdxvL8C3KCsEGOPvyGQSfECmbQ/5Z0T/DOPxj/cOcE/82jRP9w5wT/zaNG/550T/DOPxr8okEnxApm0v+fboKwQY48/IsdxHMdxvD9luacRlnvKP5tHi0okX9M/g7JCjH2A2T9tHfrN1qHfPyzE2AeY4eI/wKR4gUyKpz8C/8yjRSXCP9XUOyf4Z84/VFVVVVVV1T89wAyXrnbbP5QVYuwDzOA/CMs9jbDc4z98gBkuXe3mP/E19c4J/uk/ZuvQb7YO7T8MYx9ghkvXP/XN1qHfbN0/bxzHcRzH4T/k0aISydfkP1iHfrN16Oc/zjxaVCL56j9C8jX1zgnuP9vTCMs9jfA/la52G5QV8j9QieRr6p3zP8PYB5jh0uU/OI7jOI7j6D+sQ7/ZOvTrPyH5mnrnBO8/S1e7DcoK8T8FMileIJPyP78Ml652G/Q/eecE/8yj9T80wnJPIyz3P+6c4J95tPg/AAAAAAAA8D+72m1QVojxP3W126CsEPM/L5BJ8QKZ9D/qardBWSH2P6RFJZKvqfc/XiCT4gUy+T8Y+wAzXLr6P9PVboOyQvw/jrDc0wjL/T8=",
            "dtype": "f8"
           },
           "y": {
            "bdata": "nkZY7mmE9b9x6Wq3QVnxv4UY+wAzXOq/KV4gk+IF4r+bR4tKJF/TvwiXrnYblKW/qUO/2Tr0yz+KFpVIvqbeP6JFJZKvqec/////////7z9UIvmaeuf0vybFC2RSvPC/8M88WlQi6b+UFWLsA8zgv3G2Dv1m69C/e9ugrBBjb7/+Mly62m3QP9rTCMs9jeA/N47jOI7j6D9KJF9T75zwPwn+mUeLSvS/3KCsEGMf8L9bh36zdejnv/+ZR4tKJN+/jkokX1PvzL+aexphuaehPynE2AeY4dI/bxzHcRzH4T/M1qHfbB3qP5VIvqbeOfE/v9k69Jut878i+Zp65wTvv8Y+wAyXrua/1AjLPY2w3L85KCvE2AfIv3aCf+bRorI/U1VVVVVV1T8EZYUY+wDjP2EfYIZLV+s/32wd+s3W8T90tdugrBDzv42w3NMIy+2/MfYBZrh05b+qd07wzzzav+UFMileIMO/H8dxHMdxvD995tGiEsnXP5mtQ7/ZOuQ/9mceLSqR7D8qkXxNvXPyPyqRfE29c/K/+GceLSqR7L+crUO/2Trkv4Dm0aISyde/H8dxHMdxvL/lBTIpXiDDP6h3TvDPPNo/L/YBZrh05T+MsNzTCMvtP3S126CsEPM/32wd+s3W8b9jH2CGS1frvwdlhRj7AOO/VlVVVVVV1b94gn/m0aKyvzgoK8TYB8g/0gjLPY2w3D/DPsAMl67mPyH5mnrnBO8/v9k69Jut8z+VSL6m3jnxv87Wod9sHeq/chzHcRzH4b8sxNgHmOHSv6B7GmG5p6G/jEokX1PvzD/7mUeLSiTfP1iHfrN16Oc/26CsEGMf8D8J/plHi0r0P0okX1PvnPC/OI7jOI7j6L/d0wjLPY3gvwEzXLrabdC/O9ugrBBjbz9xtg79ZuvQP5MVYuwDzOA/7s88WlQi6T8lxQtkUrzwP1Qi+Zp65/Q/////////77+jRSWSr6nnv48WlUi+pt6/rkO/2Tr0y78Il652G5SlP5tHi0okX9M/KF4gk+IF4j+DGPsAM1zqP3DpardBWfE/nkZY7mmE9T8=",
            "dtype": "f8"
           }
          },
          {
           "line": {
            "color": "blue",
            "width": 4
           },
           "marker": {
            "size": 6
           },
           "mode": "lines+markers",
           "name": "Vector",
           "type": "scatter",
           "x": [
            0,
            1.8620689655172415
           ],
           "y": [
            0,
            1.3448275862068964
           ]
          },
          {
           "line": {
            "color": "black",
            "width": 3
           },
           "marker": {
            "size": 6
           },
           "mode": "lines+markers",
           "name": "X basis (transformed)",
           "type": "scatter",
           "x": [
            0,
            1.4310344827586208
           ],
           "y": [
            0,
            0.1724137931034483
           ]
          },
          {
           "line": {
            "color": "black",
            "width": 3
           },
           "marker": {
            "size": 6
           },
           "mode": "lines+markers",
           "name": "Y basis (transformed)",
           "type": "scatter",
           "x": [
            0,
            0.43103448275862066
           ],
           "y": [
            0,
            1.1724137931034482
           ]
          }
         ],
         "name": "frame0.86"
        },
        {
         "data": [
          {
           "marker": {
            "color": "red",
            "size": 5
           },
           "mode": "markers",
           "name": "Grid",
           "type": "scatter",
           "x": {
            "bdata": "aoTlnkZY/r9CWSHGPsD8vxouXe02KPu/8QKZFC+Q+b/J19Q7J/j3v6GsEGMfYPa/eYFMihfI9L9RVoixDzDzvygrxNgHmPG/AAAAAAAA8L9eIJPiBTL5vzb1zgn+mfe/DsoKMfYB9r/lnkZY7mn0v71zgn/m0fK/lUi+pt458b/aOvSbrUPvv4rka+qdE+y/OY7jOI7j6L/oN1uHfrPlv1K8QCbFC/S/KpF8Tb1z8r8CZrh0tdvwv7R16Ddbh+6/Yx9ghktX678TydfUOyfov8NyTyMs9+S/cxzHcRzH4b9EjH2AGS7dv6LfbB36zda/jrDc0wjL7b8+WlQi+Zrqv+0DzHDpaue/na1Dv9k65L9MV7sNygrhv/cBZrh0tdu/V1VVVVVV1b9vUYnka+rNvyv4Zx4tKsG/oHsaYbmnob926Ddbh37jvyaSr6l3TuC/q3dO8M882r8Lyz2NsNzTv9Q8WlQi+cq/IcdxHMdxvL8IpXiBTIqHv9+dE/wzj7Y/MygrxNgHyD+7QCbFC2TSP7tAJsULZNK/NCgrxNgHyL/mnRP8M4+2v+ykeIFMioc/IcdxHMdxvD/UPFpUIvnKPwrLPY2w3NM/qndO8M882j8mkq+pd07gP3boN1uHfuM/iHsaYbmnoT8k+GceLSrBP2VRieRr6s0/U1VVVVVV1T/0AWa4dLXbP0tXuw3KCuE/m61Dv9k65D/rA8xw6WrnPzxaVCL5muo/jLDc0wjL7T+c32wd+s3WPz2MfYAZLt0/bxzHcRzH4T+/ck8jLPfkPxDJ19Q7J+g/YB9ghktX6z+wdeg3W4fuPwBmuHS12/A/KZF8Tb1z8j9RvEAmxQv0P+g3W4d+s+U/OI7jOI7j6D+J5GvqnRPsP9k69JutQ+8/lUi+pt458T+9c4J/5tHyP+WeRljuafQ/DcoKMfYB9j829c4J/pn3P14gk+IFMvk/AAAAAAAA8D8oK8TYB5jxP1BWiLEPMPM/eYFMihfI9D+hrBBjH2D2P8nX1Dsn+Pc/8QKZFC+Q+T8ZLl3tNij7P0JZIcY+wPw/aoTlnkZY/j8=",
            "dtype": "f8"
           },
           "y": {
            "bdata": "kM5bDOm89b+dtxjSeYvxv1NBqy8VtOq/bBMluzZR4r8Kyz2NsNzTv895iyGdt6i/JNm1iZJdyz9dSOcthnTePxfSeYshnec/////////7z+A8Ka1shn1v43ZY3tD6PC/M4VBgqht6b9MV7sNygrhv8pSajLXT9G/K9++K0lDgb/SZK6fojvQP09gXcSvgOA/N47jOI7j6D8Q3rRWNqPwP3AS8l58dvS/ffuuJA1F8L8TydfUOyfov1c2o8C6iN+/E7Utr/uFzb83CqyL+BWgPxPdgfp7yNI/bxzHcRzH4T9XSk3m+inqPyC8aa1sRvE/YDQ9CEbT87/ZOvSbrUPvv/IMbifP4Oa/F77PZeH73L+SxIb5SGzIvx7mI7FhPrI/U1VVVVVV1T+P2DAfiQ3jP3cGt5NncOs/MJoeBKPp8T9QVoixDzDzv7l+iu5A/e2/0lAEemKa5b/WRfwKCG/avxHU30OWUsO/H8dxHMdxvD+TzSiwLuLXP6+Umsz1U+Q/mMIgQdS27D9AeNNa2YzyP0B401rZjPK/mcIgQdS27L+ylJrM9VPkv5bNKLAu4te/H8dxHMdxvL8R1N9DllLDP9RF/AoIb9o/0FAEemKa5T+4foruQP3tP1BWiLEPMPM/MJoeBKPp8b95BreTZ3Drv5LYMB+JDeO/VlVVVVVV1b8f5iOxYT6yv5HEhvlIbMg/FL7PZeH73D/wDG4nz+DmP9g69JutQ+8/YDQ9CEbT8z8gvGmtbEbxv1lKTeb6Keq/chzHcRzH4b8W3YH6e8jSvz0KrIv4FaC/EbUtr/uFzT9UNqPAuojfPxDJ19Q7J+g/fPuuJA1F8D9wEvJefHb0PxDetFY2o/C/OY7jOI7j6L9SYF3Er4Dgv9Vkrp+iO9C/G9++K0lDgT/JUmoy10/RP0pXuw3KCuE/MIVBgqht6T+M2WN7Q+jwP4DwprWyGfU/////////778Y0nmLIZ3nv2JI5y2GdN6/KNm1iZJdy7/PeYshnbeoPwrLPY2w3NM/axMluzZR4j9RQasvFbTqP5y3GNJ5i/E/kM5bDOm89T8=",
            "dtype": "f8"
           }
          },
          {
           "line": {
            "color": "blue",
            "width": 4
           },
           "marker": {
            "size": 6
           },
           "mode": "lines+markers",
           "name": "Vector",
           "type": "scatter",
           "x": [
            0,
            1.896551724137931
           ],
           "y": [
            0,
            1.3586206896551722
           ]
          },
          {
           "line": {
            "color": "black",
            "width": 3
           },
           "marker": {
            "size": 6
           },
           "mode": "lines+markers",
           "name": "X basis (transformed)",
           "type": "scatter",
           "x": [
            0,
            1.4482758620689655
           ],
           "y": [
            0,
            0.17931034482758623
           ]
          },
          {
           "line": {
            "color": "black",
            "width": 3
           },
           "marker": {
            "size": 6
           },
           "mode": "lines+markers",
           "name": "Y basis (transformed)",
           "type": "scatter",
           "x": [
            0,
            0.4482758620689655
           ],
           "y": [
            0,
            1.1793103448275861
           ]
          }
         ],
         "name": "frame0.90"
        },
        {
         "data": [
          {
           "marker": {
            "color": "red",
            "size": 5
           },
           "mode": "markers",
           "name": "Grid",
           "type": "scatter",
           "x": {
            "bdata": "R1juaYTl/r+x3NMIyz39vxthuacRlvu/heWeRlju+b/vaYTlnkb4v1nuaYTlnva/w3JPIyz39L8t9zTCck/zv5d7GmG5p/G/AQAAAAAA8L/No0Ulkq/5vzcoK8TYB/i/oawQYx9g9r8LMfYBZrj0v3W126CsEPO/3znBP/No8b+SfE29c4Lvv2eFGPsAM+y/Oo7jOI7j6L8Ol652G5Tlv1TvnOCfefS/vnOCf+bR8r8o+GceLSrxvyP5mnrnBO+/9wFmuHS167/LCjH2AWbov58T/DOPFuW/dBzHcRzH4b+OSiRfU+/cvzVcutptUNa/tHXoN1uH7r+IfrN16Dfrv1yHfrN16Oe/MJBJ8QKZ5L8EmRQvkEnhv69Dv9k69Nu/WFVVVVVV1b8Cztah32zNv1DxApkUL8C/8KR4gUyKl7/BDJeudhvkv5UVYuwDzOC/0jxaVCL52r96TvDPPFrUv0PADJeudsu/IsdxHMdxvL9S3KCsEGN/v5ir3QZlhbg/frJCjH2AyT+YR4tKJF/TP5hHi0okX9O/gLJCjH2Ayb+fq90GZYW4vxfcoKwQY38/IsdxHMdxvD9DwAyXrnbLP3lO8M88WtQ/0DxaVCL52j+UFWLsA8zgP8EMl652G+Q/wKR4gUyKlz9I8QKZFC/AP/jN1qHfbM0/VFVVVVVV1T+sQ7/ZOvTbPwOZFC+QSeE/LpBJ8QKZ5D9ah36zdejnP4Z+s3XoN+s/s3XoN1uH7j8vXLrabVDWP4dKJF9T79w/cBzHcRzH4T+cE/wzjxblP8gKMfYBZug/9AFmuHS16z8g+Zp65wTvPyb4Zx4tKvE/vHOCf+bR8j9S75zgn3n0Pw6XrnYblOU/Oo7jOI7j6D9mhRj7ADPsP5J8Tb1zgu8/3znBP/No8T91tdugrBDzPwsx9gFmuPQ/oawQYx9g9j83KCvE2Af4P82jRSWSr/k/AQAAAAAA8D+XexphuafxPy33NMJyT/M/w3JPIyz39D9Z7mmE5Z72P+9phOWeRvg/heWeRlju+T8bYbmnEZb7P7Hc0wjLPf0/R1juaYTl/j8=",
            "dtype": "f8"
           },
           "y": {
            "bdata": "g1ZfKmj19b/Khcbssb3xvyJqW173C+u/r8gp44qc4r95TvDPPFrUv45caMwe26u/om6sOerGyj80ejkTTkLeP45ezoSTkOc/AQAAAAAA8D+uvlTQ6kv1v/Ttu5I0FPG/djpGqvy46b8EmRQvkEnhvyPvxWdHtNG/aYdVLM6tir+nlgCFagnQP8Xssb0hdOA/OY7jOI7j6D/WlwpafanwP9gmSnZtovS/H1axOLdq8L/LCjH2AWbov7HS/vUq7d+/mB83/6Mczr+0MXtsbwidP/71Ku1fr9I/cBzHcRzH4T/kvfjsiDbqP6wvFbT6UvE/Ao8/HPD487+SfE29c4LvvyDbG0IHE+e/W3PUjTVH3b/rYOIuudDIv8dJyHvx2bE/VFVVVVVV1T8cTNwlFxrjP4/tDaGDies/gscfDnj88T8t9zTCck/zv+dMOAl5L+6/dasGjgzA5b8EFKolQKHavz6ijV7OhMO/IcdxHMdxvD+rtH+9SvvXP8d78dkRbeQ/Ox0jVX7c7D9XXypo9aXyP1dfKmj1pfK/PB0jVX7c7L/Je/HZEW3kv620f71K+9e/IcdxHMdxvL8+oo1ezoTDPwIUqiVAodo/cqsGjgzA5T/mTDgJeS/uPy33NMJyT/M/gscfDnj88b+R7Q2hg4nrvx5M3CUXGuO/V1VVVVVV1b/ISch78dmxv+tg4i650Mg/WHPUjTVH3T8d2xtCBxPnP5F8Tb1zgu8/Ao8/HPD48z+sLxW0+lLxv+a9+OyINuq/cxzHcRzH4b8B9irtX6/Sv8Axe2xvCJ2/lx83/6Mczj+u0v71Ku3fP8gKMfYBZug/HlaxOLdq8D/YJkp2baL0P9aXClp9qfC/Oo7jOI7j6L/I7LG9IXTgv6qWAIVqCdC/WYdVLM6tij8i78VnR7TRPwKZFC+QSeE/dDpGqvy46T/07buSNBTxP66+VNDqS/U/AQAAAAAA8L+PXs6Ek5Dnvzh6ORNOQt6/p26sOerGyr+OXGjMHturP3lO8M88WtQ/rsgp44qc4j8falte9wvrP8qFxuyxvfE/g1ZfKmj19T8=",
            "dtype": "f8"
           }
          },
          {
           "line": {
            "color": "blue",
            "width": 4
           },
           "marker": {
            "size": 6
           },
           "mode": "lines+markers",
           "name": "Vector",
           "type": "scatter",
           "x": [
            0,
            1.9310344827586208
           ],
           "y": [
            0,
            1.3724137931034484
           ]
          },
          {
           "line": {
            "color": "black",
            "width": 3
           },
           "marker": {
            "size": 6
           },
           "mode": "lines+markers",
           "name": "X basis (transformed)",
           "type": "scatter",
           "x": [
            0,
            1.4655172413793105
           ],
           "y": [
            0,
            0.18620689655172415
           ]
          },
          {
           "line": {
            "color": "black",
            "width": 3
           },
           "marker": {
            "size": 6
           },
           "mode": "lines+markers",
           "name": "Y basis (transformed)",
           "type": "scatter",
           "x": [
            0,
            0.46551724137931033
           ],
           "y": [
            0,
            1.1862068965517243
           ]
          }
         ],
         "name": "frame0.93"
        },
        {
         "data": [
          {
           "marker": {
            "color": "red",
            "size": 5
           },
           "mode": "markers",
           "name": "Grid",
           "type": "scatter",
           "x": {
            "bdata": "Iiz3NMJy/78fYIZLV7v9vxuUFWLsA/y/F8ikeIFM+r8T/DOPFpX4vw8ww6Wr3fa/C2RSvEAm9b8ImOHS1W7zvwTMcOlqt/G/////////7788J/hnHi36vzhbh36zdfi/NI8WlUi+9r8ww6Wr3Qb1vyz3NMJyT/O/KCvE2AeY8b9JvqbeOcHvv0EmxQtkUuy/OY7jOI7j6L8x9gFmuHTlv1Qi+Zp65/S/UFaIsQ8w879MihfIpHjxv5F8Tb1zgu+/ieRr6p0T7L+BTIoXyKTov3q0qETyNeW/chzHcRzH4b/UCMs9jbDcv8TYB5jh0tW/2jr0m61D77/SohLJ19Trv8oKMfYBZui/wnJPIyz35L+72m1QVojhv2WFGPsAM9y/VlVVVVVV1b+QSiRfU+/Mv97UOyf4Z76/4KR4gUyKh78LMfYBZrjkvwOZFC+QSeG/9wFmuHS127/o0aISydfUv7BDv9k69Mu/H8dxHMdxvL+o3KCsEGNvv1W5pxGWe7o/yzxaVCL5yj92TvDPPFrUP3ZO8M88WtS/zTxaVCL5yr9cuacRlnu6vyzcoKwQY28/H8dxHMdxvD+wQ7/ZOvTLP+fRohLJ19Q/9QFmuHS12z8DmRQvkEnhPwsx9gFmuOQ/gKR4gUyKhz/O1Dsn+Ge+P4ZKJF9T78w/UlVVVVVV1T9ihRj7ADPcP7nabVBWiOE/wHJPIyz35D/ICjH2AWboP9CiEsnX1Os/2Dr0m61D7z++2AeY4dLVP80Iyz2NsNw/bhzHcRzH4T92tKhE8jXlP35MihfIpOg/huRr6p0T7D+NfE29c4LvP0qKF8ikePE/TlaIsQ8w8z9SIvmaeuf0Py/2AWa4dOU/N47jOI7j6D8+JsULZFLsP0a+pt45we8/JyvE2AeY8T8r9zTCck/zPy/DpavdBvU/Mo8WlUi+9j82W4d+s3X4Pzon+GceLfo/////////7z8DzHDparfxPweY4dLVbvM/C2RSvEAm9T8PMMOlq932PxP8M48Wlfg/F8ikeIFM+j8alBVi7AP8Px5ghktXu/0/Iiz3NMJy/z8=",
            "dtype": "f8"
           },
           "y": {
            "bdata": "dN5iSOct9r/2U3QH6u/xv+6SC43ZY+u/8X0uC9/n4r/n0aISydfUv1U/RXeg/q6/GwSj6UEwyj8FrIv4FRDePwHrIn4FhOc/AAAAAAAA8D/ZjALrIn71v1sCFKolQPG/uO9K0lAE6r+72m1QVojhv3uLIZ23GNK/4hd2likMkr/0kKXUZK7PPzl5BreTZ+A/N47jOI7j6D+bUWBdxK/wPz47oo1ezvS/v7CzTGGQ8L+BTIoXyKTov4Q3rZXNKOC/HIpAT0yzzr/qTp7B7eSZP+cO1N9DltI/bxzHcRzH4T9uMaTzFkPqPzajwLqIX/E/o+lBMJoe9L9IvqbeOcHvv0upyVw/Ree/nCjZtYmS3b9D/T1kKTXJv22tbEaBdbE/U1VVVVVV1T+mv4cspSbjP6TUZK6fous/0fQgGE0P8j8ImOHS1W7zvxIb5iOxYe6/FQYJorbl5b8v4ldAeNPav2pwO3kGt8O/IMdxHMdxvD/Am9bKZhTYP9xiSOcthuQ/2nclaSgC7T9sRoF1Eb/yP2xGgXURv/K/3HclaSgC7b/eYkjnLYbkv8Kb1spmFNi/IMdxHMdxvL9qcDt5BrfDPy3iV0B409o/EgYJorbl5T8RG+YjsWHuPwiY4dLVbvM/0fQgGE0P8r+l1GSun6Lrv6i/hyylJuO/VlVVVVVV1b9vrWxGgXWxv0L9PWQpNck/mSjZtYmS3T9JqclcP0XnP0e+pt45we8/o+lBMJoe9D82o8C6iF/xv28xpPMWQ+q/chzHcRzH4b/qDtTfQ5bSv/ZOnsHt5Jm/G4pAT0yzzj+DN62VzSjgP39MihfIpOg/v7CzTGGQ8D8+O6KNXs70P5tRYF3Er/C/OY7jOI7j6L88eQa3k2fgv/qQpdRkrs+/2hd2likMkj96iyGdtxjSP7nabVBWiOE/te9K0lAE6j9aAhSqJUDxP9mMAusifvU/AAAAAAAA8L8C6yJ+BYTnvwqsi/gVEN6/IASj6UEwyr9VP0V3oP6uP+fRohLJ19Q/8H0uC9/n4j/skguN2WPrP/VTdAfq7/E/dN5iSOct9j8=",
            "dtype": "f8"
           }
          },
          {
           "line": {
            "color": "blue",
            "width": 4
           },
           "marker": {
            "size": 6
           },
           "mode": "lines+markers",
           "name": "Vector",
           "type": "scatter",
           "x": [
            0,
            1.96551724137931
           ],
           "y": [
            0,
            1.386206896551724
           ]
          },
          {
           "line": {
            "color": "black",
            "width": 3
           },
           "marker": {
            "size": 6
           },
           "mode": "lines+markers",
           "name": "X basis (transformed)",
           "type": "scatter",
           "x": [
            0,
            1.482758620689655
           ],
           "y": [
            0,
            0.19310344827586207
           ]
          },
          {
           "line": {
            "color": "black",
            "width": 3
           },
           "marker": {
            "size": 6
           },
           "mode": "lines+markers",
           "name": "Y basis (transformed)",
           "type": "scatter",
           "x": [
            0,
            0.48275862068965514
           ],
           "y": [
            0,
            1.193103448275862
           ]
          }
         ],
         "name": "frame0.97"
        },
        {
         "data": [
          {
           "marker": {
            "color": "red",
            "size": 5
           },
           "mode": "markers",
           "name": "Grid",
           "type": "scatter",
           "x": {
            "bdata": "AAAAAAAAAMCO4ziO4zj+vxzHcRzHcfy/q6qqqqqq+r85juM4juP4v8dxHMdxHPe/VlVVVVVV9b/kOI7jOI7zv3Icx3Ecx/G/AAAAAAAA8L+rqqqqqqr6vzmO4ziO4/i/yHEcx3Ec979WVVVVVVX1v+Q4juM4jvO/chzHcRzH8b8AAAAAAADwvx7HcRzHcey/Oo7jOI7j6L9WVVVVVVXlv1ZVVVVVVfW/5DiO4ziO879yHMdxHMfxvwAAAAAAAPC/HcdxHMdx7L85juM4juPov1ZVVVVVVeW/cxzHcRzH4b8ex3Ecx3Hcv1ZVVVVVVdW/AAAAAAAA8L8cx3Ecx3HsvzmO4ziO4+i/VlVVVVVV5b9yHMdxHMfhvxzHcRzHcdy/VlVVVVVV1b8gx3Ecx3HMvyDHcRzHcby/AAAAAAAAAABWVVVVVVXlv3Icx3Ecx+G/HsdxHMdx3L9XVVVVVVXVvyDHcRzHccy/IMdxHMdxvL8AAAAAAACgvBDHcRzHcbw/GMdxHMdxzD9UVVVVVVXVP1RVVVVVVdW/GsdxHMdxzL8Yx3Ecx3G8vwAAAAAAAJA8IMdxHMdxvD8gx3Ecx3HMP1ZVVVVVVdU/HMdxHMdx3D9yHMdxHMfhP1ZVVVVVVeU/AAAAAAAAoLwUx3Ecx3G8PxjHcRzHccw/U1VVVVVV1T8ax3Ecx3HcP3Ecx3Ecx+E/VFVVVVVV5T83juM4juPoPxvHcRzHcew/////////7z9QVVVVVVXVPxfHcRzHcdw/bxzHcRzH4T9SVVVVVVXlPzaO4ziO4+g/GsdxHMdx7D/9///////vP3Acx3Ecx/E/4jiO4ziO8z9UVVVVVVX1P1RVVVVVVeU/OI7jOI7j6D8bx3Ecx3HsP/7//////+8/cRzHcRzH8T/jOI7jOI7zP1RVVVVVVfU/xnEcx3Ec9z84juM4juP4P6qqqqqqqvo/AAAAAAAA8D9yHMdxHMfxP+Q4juM4jvM/VVVVVVVV9T/HcRzHcRz3PzmO4ziO4/g/qqqqqqqq+j8cx3Ecx3H8P47jOI7jOP4/AAAAAAAAAEA=",
            "dtype": "f8"
           },
           "y": {
            "bdata": "ZmZmZmZm9r8iIiIiIiLyv7y7u7u7u+u/NDMzMzMz479XVVVVVVXVvw4REREREbG/lZmZmZmZyT/Z3d3d3d3dP3Z3d3d3d+c/AAAAAAAA8D8GW7AFW7D1v8EWbMEWbPG/+qRP+qRP6r9yHMdxHMfhv9QnfdInfdK/CGzBFmzBlr+b9Emf9EnPP64FW7AFW+A/N47jOI7j6D9gC7ZgC7bwP6VP+qRP+vS/YQu2YAu28L85juM4juPov7EFW7AFW+C/ovRJn/RJz78kbMEWbMGWP9AnfdInfdI/bxzHcRzH4T/5pE/6pE/qP8EWbMEWbPE/RERERERE9L8AAAAAAADwv3h3d3d3d+e/393d3d3d3b+cmZmZmZnJvxQREREREbE/U1VVVVVV1T8xMzMzMzPjP7q7u7u7u+s/IiIiIiIi8j/jOI7jOI7zvz/pkz7pk+6/tmALtmAL5r9csAVbsAXbv5Y+6ZM+6cO/IMdxHMdxvD/Wgi3Ygi3YP/JJn/RJn+Q/fNInfdIn7T+DLdiCLdjyP4Mt2IIt2PK/fdInfdIn7b/1SZ/0SZ/kv9mCLdiCLdi/IMdxHMdxvL+WPumTPunDP1mwBVuwBds/tGALtmAL5j896ZM+6ZPuP+M4juM4jvM/IiIiIiIi8r+8u7u7u7vrvzMzMzMzM+O/VlVVVVVV1b8WERERERGxv5uZmZmZmck/3N3d3d3d3T91d3d3d3fnP/7//////+8/RERERERE9D/BFmzBFmzxv/qkT/qkT+q/chzHcRzH4b/UJ33SJ33SvzBswRZswZa/oPRJn/RJzz+vBVuwBVvgPzaO4ziO4+g/YAu2YAu28D+lT/qkT/r0P2ALtmALtvC/OY7jOI7j6L+wBVuwBVvgv6D0SZ/0Sc+/CGzBFmzBlj/UJ33SJ33SP3Ecx3Ecx+E/+KRP+qRP6j/BFmzBFmzxPwZbsAVbsPU/AAAAAAAA8L93d3d3d3fnv97d3d3d3d2/mpmZmZmZyb8OERERERGxP1dVVVVVVdU/MjMzMzMz4z+5u7u7u7vrPyEiIiIiIvI/ZmZmZmZm9j8=",
            "dtype": "f8"
           }
          },
          {
           "line": {
            "color": "blue",
            "width": 4
           },
           "marker": {
            "size": 6
           },
           "mode": "lines+markers",
           "name": "Vector",
           "type": "scatter",
           "x": [
            0,
            2
           ],
           "y": [
            0,
            1.4
           ]
          },
          {
           "line": {
            "color": "black",
            "width": 3
           },
           "marker": {
            "size": 6
           },
           "mode": "lines+markers",
           "name": "X basis (transformed)",
           "type": "scatter",
           "x": [
            0,
            1.5
           ],
           "y": [
            0,
            0.2
           ]
          },
          {
           "line": {
            "color": "black",
            "width": 3
           },
           "marker": {
            "size": 6
           },
           "mode": "lines+markers",
           "name": "Y basis (transformed)",
           "type": "scatter",
           "x": [
            0,
            0.5
           ],
           "y": [
            0,
            1.2
           ]
          }
         ],
         "name": "frame1.00"
        }
       ],
       "layout": {
        "showlegend": true,
        "template": {
         "data": {
          "bar": [
           {
            "error_x": {
             "color": "#2a3f5f"
            },
            "error_y": {
             "color": "#2a3f5f"
            },
            "marker": {
             "line": {
              "color": "#E5ECF6",
              "width": 0.5
             },
             "pattern": {
              "fillmode": "overlay",
              "size": 10,
              "solidity": 0.2
             }
            },
            "type": "bar"
           }
          ],
          "barpolar": [
           {
            "marker": {
             "line": {
              "color": "#E5ECF6",
              "width": 0.5
             },
             "pattern": {
              "fillmode": "overlay",
              "size": 10,
              "solidity": 0.2
             }
            },
            "type": "barpolar"
           }
          ],
          "carpet": [
           {
            "aaxis": {
             "endlinecolor": "#2a3f5f",
             "gridcolor": "white",
             "linecolor": "white",
             "minorgridcolor": "white",
             "startlinecolor": "#2a3f5f"
            },
            "baxis": {
             "endlinecolor": "#2a3f5f",
             "gridcolor": "white",
             "linecolor": "white",
             "minorgridcolor": "white",
             "startlinecolor": "#2a3f5f"
            },
            "type": "carpet"
           }
          ],
          "choropleth": [
           {
            "colorbar": {
             "outlinewidth": 0,
             "ticks": ""
            },
            "type": "choropleth"
           }
          ],
          "contour": [
           {
            "colorbar": {
             "outlinewidth": 0,
             "ticks": ""
            },
            "colorscale": [
             [
              0,
              "#0d0887"
             ],
             [
              0.1111111111111111,
              "#46039f"
             ],
             [
              0.2222222222222222,
              "#7201a8"
             ],
             [
              0.3333333333333333,
              "#9c179e"
             ],
             [
              0.4444444444444444,
              "#bd3786"
             ],
             [
              0.5555555555555556,
              "#d8576b"
             ],
             [
              0.6666666666666666,
              "#ed7953"
             ],
             [
              0.7777777777777778,
              "#fb9f3a"
             ],
             [
              0.8888888888888888,
              "#fdca26"
             ],
             [
              1,
              "#f0f921"
             ]
            ],
            "type": "contour"
           }
          ],
          "contourcarpet": [
           {
            "colorbar": {
             "outlinewidth": 0,
             "ticks": ""
            },
            "type": "contourcarpet"
           }
          ],
          "heatmap": [
           {
            "colorbar": {
             "outlinewidth": 0,
             "ticks": ""
            },
            "colorscale": [
             [
              0,
              "#0d0887"
             ],
             [
              0.1111111111111111,
              "#46039f"
             ],
             [
              0.2222222222222222,
              "#7201a8"
             ],
             [
              0.3333333333333333,
              "#9c179e"
             ],
             [
              0.4444444444444444,
              "#bd3786"
             ],
             [
              0.5555555555555556,
              "#d8576b"
             ],
             [
              0.6666666666666666,
              "#ed7953"
             ],
             [
              0.7777777777777778,
              "#fb9f3a"
             ],
             [
              0.8888888888888888,
              "#fdca26"
             ],
             [
              1,
              "#f0f921"
             ]
            ],
            "type": "heatmap"
           }
          ],
          "histogram": [
           {
            "marker": {
             "pattern": {
              "fillmode": "overlay",
              "size": 10,
              "solidity": 0.2
             }
            },
            "type": "histogram"
           }
          ],
          "histogram2d": [
           {
            "colorbar": {
             "outlinewidth": 0,
             "ticks": ""
            },
            "colorscale": [
             [
              0,
              "#0d0887"
             ],
             [
              0.1111111111111111,
              "#46039f"
             ],
             [
              0.2222222222222222,
              "#7201a8"
             ],
             [
              0.3333333333333333,
              "#9c179e"
             ],
             [
              0.4444444444444444,
              "#bd3786"
             ],
             [
              0.5555555555555556,
              "#d8576b"
             ],
             [
              0.6666666666666666,
              "#ed7953"
             ],
             [
              0.7777777777777778,
              "#fb9f3a"
             ],
             [
              0.8888888888888888,
              "#fdca26"
             ],
             [
              1,
              "#f0f921"
             ]
            ],
            "type": "histogram2d"
           }
          ],
          "histogram2dcontour": [
           {
            "colorbar": {
             "outlinewidth": 0,
             "ticks": ""
            },
            "colorscale": [
             [
              0,
              "#0d0887"
             ],
             [
              0.1111111111111111,
              "#46039f"
             ],
             [
              0.2222222222222222,
              "#7201a8"
             ],
             [
              0.3333333333333333,
              "#9c179e"
             ],
             [
              0.4444444444444444,
              "#bd3786"
             ],
             [
              0.5555555555555556,
              "#d8576b"
             ],
             [
              0.6666666666666666,
              "#ed7953"
             ],
             [
              0.7777777777777778,
              "#fb9f3a"
             ],
             [
              0.8888888888888888,
              "#fdca26"
             ],
             [
              1,
              "#f0f921"
             ]
            ],
            "type": "histogram2dcontour"
           }
          ],
          "mesh3d": [
           {
            "colorbar": {
             "outlinewidth": 0,
             "ticks": ""
            },
            "type": "mesh3d"
           }
          ],
          "parcoords": [
           {
            "line": {
             "colorbar": {
              "outlinewidth": 0,
              "ticks": ""
             }
            },
            "type": "parcoords"
           }
          ],
          "pie": [
           {
            "automargin": true,
            "type": "pie"
           }
          ],
          "scatter": [
           {
            "fillpattern": {
             "fillmode": "overlay",
             "size": 10,
             "solidity": 0.2
            },
            "type": "scatter"
           }
          ],
          "scatter3d": [
           {
            "line": {
             "colorbar": {
              "outlinewidth": 0,
              "ticks": ""
             }
            },
            "marker": {
             "colorbar": {
              "outlinewidth": 0,
              "ticks": ""
             }
            },
            "type": "scatter3d"
           }
          ],
          "scattercarpet": [
           {
            "marker": {
             "colorbar": {
              "outlinewidth": 0,
              "ticks": ""
             }
            },
            "type": "scattercarpet"
           }
          ],
          "scattergeo": [
           {
            "marker": {
             "colorbar": {
              "outlinewidth": 0,
              "ticks": ""
             }
            },
            "type": "scattergeo"
           }
          ],
          "scattergl": [
           {
            "marker": {
             "colorbar": {
              "outlinewidth": 0,
              "ticks": ""
             }
            },
            "type": "scattergl"
           }
          ],
          "scattermap": [
           {
            "marker": {
             "colorbar": {
              "outlinewidth": 0,
              "ticks": ""
             }
            },
            "type": "scattermap"
           }
          ],
          "scattermapbox": [
           {
            "marker": {
             "colorbar": {
              "outlinewidth": 0,
              "ticks": ""
             }
            },
            "type": "scattermapbox"
           }
          ],
          "scatterpolar": [
           {
            "marker": {
             "colorbar": {
              "outlinewidth": 0,
              "ticks": ""
             }
            },
            "type": "scatterpolar"
           }
          ],
          "scatterpolargl": [
           {
            "marker": {
             "colorbar": {
              "outlinewidth": 0,
              "ticks": ""
             }
            },
            "type": "scatterpolargl"
           }
          ],
          "scatterternary": [
           {
            "marker": {
             "colorbar": {
              "outlinewidth": 0,
              "ticks": ""
             }
            },
            "type": "scatterternary"
           }
          ],
          "surface": [
           {
            "colorbar": {
             "outlinewidth": 0,
             "ticks": ""
            },
            "colorscale": [
             [
              0,
              "#0d0887"
             ],
             [
              0.1111111111111111,
              "#46039f"
             ],
             [
              0.2222222222222222,
              "#7201a8"
             ],
             [
              0.3333333333333333,
              "#9c179e"
             ],
             [
              0.4444444444444444,
              "#bd3786"
             ],
             [
              0.5555555555555556,
              "#d8576b"
             ],
             [
              0.6666666666666666,
              "#ed7953"
             ],
             [
              0.7777777777777778,
              "#fb9f3a"
             ],
             [
              0.8888888888888888,
              "#fdca26"
             ],
             [
              1,
              "#f0f921"
             ]
            ],
            "type": "surface"
           }
          ],
          "table": [
           {
            "cells": {
             "fill": {
              "color": "#EBF0F8"
             },
             "line": {
              "color": "white"
             }
            },
            "header": {
             "fill": {
              "color": "#C8D4E3"
             },
             "line": {
              "color": "white"
             }
            },
            "type": "table"
           }
          ]
         },
         "layout": {
          "annotationdefaults": {
           "arrowcolor": "#2a3f5f",
           "arrowhead": 0,
           "arrowwidth": 1
          },
          "autotypenumbers": "strict",
          "coloraxis": {
           "colorbar": {
            "outlinewidth": 0,
            "ticks": ""
           }
          },
          "colorscale": {
           "diverging": [
            [
             0,
             "#8e0152"
            ],
            [
             0.1,
             "#c51b7d"
            ],
            [
             0.2,
             "#de77ae"
            ],
            [
             0.3,
             "#f1b6da"
            ],
            [
             0.4,
             "#fde0ef"
            ],
            [
             0.5,
             "#f7f7f7"
            ],
            [
             0.6,
             "#e6f5d0"
            ],
            [
             0.7,
             "#b8e186"
            ],
            [
             0.8,
             "#7fbc41"
            ],
            [
             0.9,
             "#4d9221"
            ],
            [
             1,
             "#276419"
            ]
           ],
           "sequential": [
            [
             0,
             "#0d0887"
            ],
            [
             0.1111111111111111,
             "#46039f"
            ],
            [
             0.2222222222222222,
             "#7201a8"
            ],
            [
             0.3333333333333333,
             "#9c179e"
            ],
            [
             0.4444444444444444,
             "#bd3786"
            ],
            [
             0.5555555555555556,
             "#d8576b"
            ],
            [
             0.6666666666666666,
             "#ed7953"
            ],
            [
             0.7777777777777778,
             "#fb9f3a"
            ],
            [
             0.8888888888888888,
             "#fdca26"
            ],
            [
             1,
             "#f0f921"
            ]
           ],
           "sequentialminus": [
            [
             0,
             "#0d0887"
            ],
            [
             0.1111111111111111,
             "#46039f"
            ],
            [
             0.2222222222222222,
             "#7201a8"
            ],
            [
             0.3333333333333333,
             "#9c179e"
            ],
            [
             0.4444444444444444,
             "#bd3786"
            ],
            [
             0.5555555555555556,
             "#d8576b"
            ],
            [
             0.6666666666666666,
             "#ed7953"
            ],
            [
             0.7777777777777778,
             "#fb9f3a"
            ],
            [
             0.8888888888888888,
             "#fdca26"
            ],
            [
             1,
             "#f0f921"
            ]
           ]
          },
          "colorway": [
           "#636efa",
           "#EF553B",
           "#00cc96",
           "#ab63fa",
           "#FFA15A",
           "#19d3f3",
           "#FF6692",
           "#B6E880",
           "#FF97FF",
           "#FECB52"
          ],
          "font": {
           "color": "#2a3f5f"
          },
          "geo": {
           "bgcolor": "white",
           "lakecolor": "white",
           "landcolor": "#E5ECF6",
           "showlakes": true,
           "showland": true,
           "subunitcolor": "white"
          },
          "hoverlabel": {
           "align": "left"
          },
          "hovermode": "closest",
          "mapbox": {
           "style": "light"
          },
          "paper_bgcolor": "white",
          "plot_bgcolor": "#E5ECF6",
          "polar": {
           "angularaxis": {
            "gridcolor": "white",
            "linecolor": "white",
            "ticks": ""
           },
           "bgcolor": "#E5ECF6",
           "radialaxis": {
            "gridcolor": "white",
            "linecolor": "white",
            "ticks": ""
           }
          },
          "scene": {
           "xaxis": {
            "backgroundcolor": "#E5ECF6",
            "gridcolor": "white",
            "gridwidth": 2,
            "linecolor": "white",
            "showbackground": true,
            "ticks": "",
            "zerolinecolor": "white"
           },
           "yaxis": {
            "backgroundcolor": "#E5ECF6",
            "gridcolor": "white",
            "gridwidth": 2,
            "linecolor": "white",
            "showbackground": true,
            "ticks": "",
            "zerolinecolor": "white"
           },
           "zaxis": {
            "backgroundcolor": "#E5ECF6",
            "gridcolor": "white",
            "gridwidth": 2,
            "linecolor": "white",
            "showbackground": true,
            "ticks": "",
            "zerolinecolor": "white"
           }
          },
          "shapedefaults": {
           "line": {
            "color": "#2a3f5f"
           }
          },
          "ternary": {
           "aaxis": {
            "gridcolor": "white",
            "linecolor": "white",
            "ticks": ""
           },
           "baxis": {
            "gridcolor": "white",
            "linecolor": "white",
            "ticks": ""
           },
           "bgcolor": "#E5ECF6",
           "caxis": {
            "gridcolor": "white",
            "linecolor": "white",
            "ticks": ""
           }
          },
          "title": {
           "x": 0.05
          },
          "xaxis": {
           "automargin": true,
           "gridcolor": "white",
           "linecolor": "white",
           "ticks": "",
           "title": {
            "standoff": 15
           },
           "zerolinecolor": "white",
           "zerolinewidth": 2
          },
          "yaxis": {
           "automargin": true,
           "gridcolor": "white",
           "linecolor": "white",
           "ticks": "",
           "title": {
            "standoff": 15
           },
           "zerolinecolor": "white",
           "zerolinewidth": 2
          }
         }
        },
        "title": {
         "text": "Matrix Transformation with Basis Vectors"
        },
        "updatemenus": [
         {
          "buttons": [
           {
            "args": [
             null,
             {
              "frame": {
               "duration": 50,
               "redraw": true
              },
              "fromcurrent": true,
              "transition": {
               "duration": 0
              }
             }
            ],
            "label": "Play",
            "method": "animate"
           }
          ],
          "showactive": false,
          "type": "buttons"
         }
        ],
        "xaxis": {
         "range": [
          -3,
          3
         ],
         "zeroline": true
        },
        "yaxis": {
         "range": [
          -3,
          3
         ],
         "scaleanchor": "x",
         "zeroline": true
        }
       }
      }
     },
     "metadata": {},
     "output_type": "display_data"
    }
   ],
   "source": [
    "import numpy as np\n",
    "import plotly.graph_objects as go\n",
    "\n",
    "\n",
    "x_vals = np.linspace(-1, 1, 10)\n",
    "y_vals = np.linspace(-1, 1, 10)\n",
    "grid_points = np.array([[x, y] for x in x_vals for y in y_vals])\n",
    "\n",
    "\n",
    "A = np.array([\n",
    "    [1.5, 0.5],\n",
    "    [0.2, 1.2]\n",
    "])\n",
    "\n",
    "v = np.array([1, 1])\n",
    "basis_x = np.array([1, 0])\n",
    "basis_y = np.array([0, 1])\n",
    "solution_vector = np.array([2, 1.4])\n",
    "\n",
    "\n",
    "n_frames = 30\n",
    "alphas = np.linspace(0, 1, n_frames)\n",
    "\n",
    "frames = []\n",
    "for alpha in alphas:\n",
    "    T = (1 - alpha) * np.eye(2) + alpha * A\n",
    "\n",
    "    transformed_grid = grid_points @ T.T\n",
    "    transformed_vector = T @ v\n",
    "    transformed_basis_x = T @ basis_x\n",
    "    transformed_basis_y = T @ basis_y\n",
    "\n",
    "    frame = go.Frame(\n",
    "        data=[\n",
    "            go.Scatter(\n",
    "                x=transformed_grid[:, 0],\n",
    "                y=transformed_grid[:, 1],\n",
    "                mode='markers',\n",
    "                marker=dict(size=5, color='red'),\n",
    "                name='Grid'\n",
    "            ),\n",
    "\n",
    "            go.Scatter(\n",
    "                x=[0, transformed_vector[0]],\n",
    "                y=[0, transformed_vector[1]],\n",
    "                mode='lines+markers',\n",
    "                line=dict(color='blue', width=4),\n",
    "                marker=dict(size=6),\n",
    "                name='Vector'\n",
    "            ),\n",
    "            go.Scatter(\n",
    "                x=[0, transformed_basis_x[0]],\n",
    "                y=[0, transformed_basis_x[1]],\n",
    "                mode='lines+markers',\n",
    "                line=dict(color='black', width=3),\n",
    "                marker=dict(size=6),\n",
    "                name='X basis (transformed)'\n",
    "            ),\n",
    "            go.Scatter(\n",
    "                x=[0, transformed_basis_y[0]],\n",
    "                y=[0, transformed_basis_y[1]],\n",
    "                mode='lines+markers',\n",
    "                line=dict(color='black', width=3),\n",
    "                marker=dict(size=6),\n",
    "                name='Y basis (transformed)'\n",
    "            )\n",
    "        ],\n",
    "        name=f'frame{alpha:.2f}'\n",
    "    )\n",
    "    frames.append(frame)\n",
    "\n",
    "layout = go.Layout(\n",
    "    title=\"Matrix Transformation with Basis Vectors\",\n",
    "    xaxis=dict(range=[-3, 3], zeroline=True),\n",
    "    yaxis=dict(range=[-3, 3], zeroline=True, scaleanchor='x'),\n",
    "    updatemenus=[dict(\n",
    "        type=\"buttons\",\n",
    "        showactive=False,\n",
    "        buttons=[dict(label=\"Play\",\n",
    "                      method=\"animate\",\n",
    "                      args=[None, {\n",
    "                          \"frame\": {\"duration\": 50, \"redraw\": True},\n",
    "                          \"fromcurrent\": True,\n",
    "                          \"transition\": {\"duration\": 0}}])]\n",
    "    )],\n",
    "    showlegend=True\n",
    ")\n",
    "\n",
    "# t_o values \n",
    "initial_grid = grid_points\n",
    "initial_vector = v\n",
    "\n",
    "fig = go.Figure(\n",
    "    data=[\n",
    "\n",
    "        go.Scatter(\n",
    "            x=initial_grid[:, 0],\n",
    "            y=initial_grid[:, 1],\n",
    "            mode='markers',\n",
    "            marker=dict(size=5, color='red'),\n",
    "            name='Grid'\n",
    "        ),\n",
    "        go.Scatter(\n",
    "            x=[0, initial_vector[0]],\n",
    "            y=[0, initial_vector[1]],\n",
    "            mode='lines+markers',\n",
    "            line=dict(color='blue', width=4),\n",
    "            marker=dict(size=6),\n",
    "            name='Vector'\n",
    "        ),\n",
    "        go.Scatter(\n",
    "            x=[0, basis_x[0]],\n",
    "            y=[0, basis_x[1]],\n",
    "            mode='lines+markers',\n",
    "            line=dict(color='black', width=3, dash='dash'),\n",
    "            marker=dict(size=6),\n",
    "            name='X basis (initial)'\n",
    "        ),\n",
    "        go.Scatter(\n",
    "            x=[0, basis_y[0]],\n",
    "            y=[0, basis_y[1]],\n",
    "            mode='lines+markers',\n",
    "            line=dict(color='black', width=3, dash='dash'),\n",
    "            marker=dict(size=6),\n",
    "            name='Y basis (initial)'\n",
    "        ),\n",
    "        go.Scatter(\n",
    "            x=[0, solution_vector[0]],\n",
    "            y=[0, solution_vector[1]],\n",
    "            mode='lines+markers',\n",
    "            line=dict(color='purple', width=3),\n",
    "            marker=dict(size=6),\n",
    "            name='Solution'\n",
    "        )\n",
    "    ],\n",
    "    layout=layout,\n",
    "    frames=frames\n",
    ")\n",
    "\n",
    "fig.show()\n"
   ]
  }
 ],
 "metadata": {
  "kernelspec": {
   "display_name": "cosmos",
   "language": "python",
   "name": "python3"
  },
  "language_info": {
   "codemirror_mode": {
    "name": "ipython",
    "version": 3
   },
   "file_extension": ".py",
   "mimetype": "text/x-python",
   "name": "python",
   "nbconvert_exporter": "python",
   "pygments_lexer": "ipython3",
   "version": "3.12.11"
  }
 },
 "nbformat": 4,
 "nbformat_minor": 5
}
