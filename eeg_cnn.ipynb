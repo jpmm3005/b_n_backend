{
 "cells": [
  {
   "cell_type": "markdown",
   "id": "5f49852f",
   "metadata": {},
   "source": [
    "# EEG "
   ]
  },
  {
   "cell_type": "markdown",
   "id": "32a98afc",
   "metadata": {},
   "source": [
    "run this in your terminal window\n",
    "\n",
    "'''\n",
    "pip install tensorflow\n",
    "'''\n",
    "\n",
    "and then run\n",
    "\n",
    "'''\n",
    "pip install nse \n",
    "'''"
   ]
  },
  {
   "cell_type": "markdown",
   "id": "4e8472e6",
   "metadata": {},
   "source": [
    "Add required dependencies and download dataset using json"
   ]
  },
  {
   "cell_type": "code",
   "execution_count": 1,
   "id": "e622e42e",
   "metadata": {},
   "outputs": [],
   "source": [
    "import os\n",
    "import json\n",
    "import matplotlib.pyplot as plt\n",
    "from sklearn.gaussian_process.kernels import RBF\n",
    "\n",
    "# Define your MNE config directory\n",
    "mne_config_dir = os.path.expanduser(\"~/.mne\")\n",
    "os.makedirs(mne_config_dir, exist_ok=True)\n",
    "\n",
    "# Write the config JSON file\n",
    "mne_config = {\n",
    "    \"MNE_DATA\": \"/Users/jpxmaestas/mne_data\"\n",
    "}\n",
    "with open(os.path.join(mne_config_dir, \"mne-python.json\"), \"w\") as f:\n",
    "    json.dump(mne_config, f)\n"
   ]
  },
  {
   "cell_type": "code",
   "execution_count": 2,
   "id": "a3ef510e",
   "metadata": {},
   "outputs": [
    {
     "name": "stdout",
     "output_type": "stream",
     "text": [
      "Extracting EDF parameters from /Users/jpxmaestas/mne_data/MNE-eegbci-data/files/eegmmidb/1.0.0/S002/S002R06.edf...\n",
      "EDF file detected\n",
      "Setting channel info structure...\n",
      "Creating raw.info structure...\n",
      "Reading 0 ... 19679  =      0.000 ...   122.994 secs...\n",
      "Extracting EDF parameters from /Users/jpxmaestas/mne_data/MNE-eegbci-data/files/eegmmidb/1.0.0/S002/S002R10.edf...\n",
      "EDF file detected\n",
      "Setting channel info structure...\n",
      "Creating raw.info structure...\n",
      "Reading 0 ... 19679  =      0.000 ...   122.994 secs...\n",
      "Extracting EDF parameters from /Users/jpxmaestas/mne_data/MNE-eegbci-data/files/eegmmidb/1.0.0/S002/S002R14.edf...\n",
      "EDF file detected\n",
      "Setting channel info structure...\n",
      "Creating raw.info structure...\n",
      "Reading 0 ... 19679  =      0.000 ...   122.994 secs...\n"
     ]
    }
   ],
   "source": [
    "from mne.datasets import eegbci\n",
    "import mne \n",
    "import numpy as np\n",
    "\n",
    "sample_frequency = 50\n",
    "subject = 2 \n",
    "runs = [6, 10, 14]\n",
    "raw_fnames = eegbci.load_data(subject, runs)\n",
    "\n",
    "raw = mne.io.read_raw_edf(raw_fnames[0], preload=True)\n",
    "for fname in raw_fnames[1:]:\n",
    "    raw.append(mne.io.read_raw_edf(fname, preload=True))"
   ]
  },
  {
   "cell_type": "markdown",
   "id": "aaa8ec88",
   "metadata": {},
   "source": [
    "Respond with 'y'"
   ]
  },
  {
   "cell_type": "code",
   "execution_count": 3,
   "id": "6e11b821",
   "metadata": {},
   "outputs": [
    {
     "name": "stdout",
     "output_type": "stream",
     "text": [
      "Filtering raw data in 3 contiguous segments\n",
      "Setting up band-pass filter from 7 - 30 Hz\n",
      "\n",
      "FIR filter parameters\n",
      "---------------------\n",
      "Designing a one-pass, zero-phase, non-causal bandpass filter:\n",
      "- Windowed time-domain design (firwin) method\n",
      "- Hamming window with 0.0194 passband ripple and 53 dB stopband attenuation\n",
      "- Lower passband edge: 7.00\n",
      "- Lower transition bandwidth: 2.00 Hz (-6 dB cutoff frequency: 6.00 Hz)\n",
      "- Upper passband edge: 30.00 Hz\n",
      "- Upper transition bandwidth: 7.50 Hz (-6 dB cutoff frequency: 33.75 Hz)\n",
      "- Filter length: 265 samples (1.656 s)\n",
      "\n",
      "Used Annotations descriptions: [np.str_('T0'), np.str_('T1'), np.str_('T2')]\n",
      "Not setting metadata\n",
      "45 matching events found\n",
      "No baseline correction applied\n",
      "0 projection items activated\n",
      "Using data from preloaded Raw for 45 events and 641 original time points ...\n",
      "0 bad epochs dropped\n"
     ]
    }
   ],
   "source": [
    "# Bandpass filter the data (typical for motor imagery)\n",
    "raw.filter(7., 30., fir_design='firwin', skip_by_annotation='edge')\n",
    "\n",
    "# Extract events from annotations\n",
    "events, _ = mne.events_from_annotations(raw)\n",
    "\n",
    "# Define motor imagery classes: left = 2, right = 3\n",
    "event_id = dict(left=2, right=3)\n",
    "\n",
    "# Create epochs (4s trials starting at event onset)\n",
    "epochs = mne.Epochs(\n",
    "    raw, events, event_id, tmin=0., tmax=4., baseline=None,\n",
    "    reject_by_annotation=False, preload=True\n",
    ")\n",
    "\n",
    "# Extract the data and labels\n",
    "X = epochs.get_data()  # shape: (n_trials, n_channels, n_times)\n",
    "y = epochs.events[:, -1]\n"
   ]
  },
  {
   "cell_type": "markdown",
   "id": "cfb08bc7",
   "metadata": {},
   "source": [
    "# EDA\n",
    "\n",
    "Now, we need to process and visualize the data in order to make better inference on which."
   ]
  },
  {
   "cell_type": "code",
   "execution_count": 4,
   "id": "3241c52c",
   "metadata": {},
   "outputs": [],
   "source": [
    "# Pick channel name (e.g., 'C3..' or 'C3' after renaming)\n",
    "channel = 'all'\n",
    "channel_c4 = 'data'\n",
    "data, times = raw.copy().pick(channel).get_data(return_times=True)\n",
    "\n",
    "import pandas as pd\n",
    "\n",
    "# data has shape (1, n_times) — so take the first row\n",
    "df = pd.DataFrame({\n",
    "    'time': times,\n",
    "    channel: data[0]\n",
    "})"
   ]
  },
  {
   "cell_type": "code",
   "execution_count": 5,
   "id": "d93f9fdc",
   "metadata": {},
   "outputs": [
    {
     "name": "stderr",
     "output_type": "stream",
     "text": [
      "/var/folders/p9/n04hcd657r93rwljz4zpmh1w0000gn/T/ipykernel_55062/4114851563.py:12: UserWarning: No artists with labels found to put in legend.  Note that artists whose label start with an underscore are ignored when legend() is called with no argument.\n",
      "  plt.legend()\n"
     ]
    },
    {
     "data": {
      "image/png": "[encoded data removed]",
      "text/plain": [
       "<Figure size 640x480 with 1 Axes>"
      ]
     },
     "metadata": {},
     "output_type": "display_data"
    }
   ],
   "source": [
    "plt.plot(df['time'], df[channel],color='#afd1c3')\n",
    "plt.title(f\"EEG Signal - {channel}\")\n",
    "\n",
    "\n",
    "plt.axvline(x=0, color='gray', linestyle='--', linewidth=1)\n",
    "\n",
    "# Add horizontal line at amplitude = 0\n",
    "plt.axhline(y=0, color='gray', linestyle='--', linewidth=1)\n",
    "\n",
    "plt.xlabel(\"Time (s)\")\n",
    "plt.ylabel(\"Amplitude (μV)\")\n",
    "plt.legend()\n",
    "plt.grid(True, which='both', linestyle=':', linewidth=0.5)\n",
    "plt.tight_layout()\n",
    "plt.show()"
   ]
  },
  {
   "cell_type": "markdown",
   "id": "620d675b",
   "metadata": {},
   "source": [
    "# Begin Processing Data"
   ]
  },
  {
   "cell_type": "code",
   "execution_count": 6,
   "id": "5a17d303",
   "metadata": {},
   "outputs": [
    {
     "name": "stdout",
     "output_type": "stream",
     "text": [
      "59040\n",
      "59040\n",
      "[[[ 6.64410565e-06  9.08455980e-07 -3.95759498e-06 ...  3.50372082e-06\n",
      "    8.91080940e-06  8.57143953e-06]\n",
      "  [-9.58963313e-06 -8.42754533e-06 -1.20389883e-06 ...  4.02644432e-07\n",
      "    7.98630480e-06  8.34019233e-06]\n",
      "  [-1.82159688e-05 -1.17517939e-05  3.09558315e-06 ... -3.08714527e-06\n",
      "    5.57959401e-06  6.80528824e-06]\n",
      "  ...\n",
      "  [ 4.96542592e-06  1.01597578e-08 -6.87184559e-06 ...  1.14675148e-05\n",
      "    7.43572044e-06 -3.06768488e-06]\n",
      "  [ 4.71556991e-06 -7.36578543e-07 -1.01683453e-05 ...  1.04606854e-05\n",
      "   -1.92648472e-06 -1.84331191e-05]\n",
      "  [ 5.60668077e-06  5.77300426e-09 -7.52041079e-06 ...  1.14879103e-05\n",
      "    6.66435624e-06 -3.98625625e-06]]\n",
      "\n",
      " [[-2.56970213e-06  6.89221579e-06  1.49973214e-05 ...  1.70663585e-06\n",
      "   -3.57850906e-06 -3.62745636e-06]\n",
      "  [-5.90746593e-06  7.54319005e-06  1.98562000e-05 ...  6.95162679e-06\n",
      "   -8.95588610e-07 -6.76235194e-06]\n",
      "  [-1.15647347e-05  7.20683927e-06  2.26833364e-05 ...  1.09085257e-05\n",
      "   -2.11284836e-06 -1.26838861e-05]\n",
      "  ...\n",
      "  [-6.24024873e-06 -1.80994334e-05 -2.32008418e-05 ... -6.50660859e-06\n",
      "    4.84331416e-06  1.66123855e-05]\n",
      "  [-2.59607260e-07 -1.36940343e-05 -1.78554058e-05 ... -9.04858364e-07\n",
      "    1.00664318e-05  2.13436162e-05]\n",
      "  [-6.18781803e-06 -1.79198251e-05 -2.26912120e-05 ... -5.96707960e-06\n",
      "    5.39538440e-06  1.71800175e-05]]\n",
      "\n",
      " [[-5.40435334e-06 -9.22965249e-06 -1.05139177e-05 ... -1.76366185e-05\n",
      "   -1.30232910e-05 -3.66069304e-06]\n",
      "  [-3.42051032e-06 -1.37133759e-05 -1.78716694e-05 ... -2.15572003e-05\n",
      "   -1.77182718e-05 -1.17066415e-05]\n",
      "  [ 6.70771072e-06 -5.42719272e-06 -1.44685249e-05 ... -2.03738789e-05\n",
      "   -1.52830448e-05 -1.03079784e-05]\n",
      "  ...\n",
      "  [-1.58863941e-05 -5.68966221e-06  3.97147462e-06 ... -1.56190415e-05\n",
      "   -1.27149208e-05 -1.03036893e-05]\n",
      "  [-1.46181583e-05 -4.01249271e-06  4.66814256e-06 ... -2.51707898e-05\n",
      "   -2.16319956e-05 -2.13271538e-05]\n",
      "  [-1.52177562e-05 -4.93676856e-06  3.96457859e-06 ... -1.63885443e-05\n",
      "   -1.31089883e-05 -1.02956245e-05]]\n",
      "\n",
      " ...\n",
      "\n",
      " [[ 7.10265540e-06  8.50398246e-06  1.14819763e-05 ... -1.15869267e-05\n",
      "   -9.42576757e-06 -2.13179818e-06]\n",
      "  [ 1.41924382e-05  1.66285651e-05  1.85500281e-05 ... -7.30400132e-06\n",
      "   -1.13252054e-05 -1.00628782e-05]\n",
      "  [ 1.67526909e-05  2.18446007e-05  2.48802515e-05 ... -6.71103805e-06\n",
      "   -1.34138907e-05 -1.31139196e-05]\n",
      "  ...\n",
      "  [-1.06976433e-05  5.49742683e-06  2.17296310e-05 ...  1.02861311e-05\n",
      "    1.50838948e-05  2.24230843e-05]\n",
      "  [-9.95102661e-06  6.35949045e-06  2.41853575e-05 ... -1.04032909e-07\n",
      "    2.63200271e-05  4.99463504e-05]\n",
      "  [-1.03140683e-05  6.39278912e-06  2.28978381e-05 ...  1.08369194e-05\n",
      "    1.53338638e-05  2.26235068e-05]]\n",
      "\n",
      " [[ 1.75375613e-05  1.01383321e-05 -5.28087192e-06 ...  7.87065553e-06\n",
      "    5.55939342e-06  2.24839528e-06]\n",
      "  [ 2.31779066e-05  1.84606575e-05  1.77701797e-06 ...  8.21983072e-06\n",
      "    4.99994333e-06  2.42670497e-06]\n",
      "  [ 2.42469806e-05  1.84888405e-05 -7.60959351e-07 ...  1.06623652e-05\n",
      "    5.41814077e-06 -6.47987391e-07]\n",
      "  ...\n",
      "  [ 6.53403107e-06  1.88931935e-05  2.34464238e-05 ...  3.41363841e-06\n",
      "    1.37191910e-05  9.78505629e-06]\n",
      "  [-4.93739239e-06  5.29179166e-06  1.12871960e-05 ...  2.04089580e-06\n",
      "    8.00724268e-06  1.05650641e-06]\n",
      "  [ 5.76814856e-06  1.82052153e-05  2.29786050e-05 ...  2.94643281e-06\n",
      "    1.38776836e-05  1.00196252e-05]]\n",
      "\n",
      " [[ 1.71121096e-06  4.12835946e-06  4.87347191e-06 ...  1.29725617e-05\n",
      "    6.29072916e-06 -1.35836830e-06]\n",
      "  [ 7.97173306e-06  1.14281918e-05  1.20729538e-05 ...  1.23287333e-05\n",
      "    3.83126228e-06 -3.45987389e-06]\n",
      "  [ 1.12214725e-05  1.34799259e-05  1.35093355e-05 ...  1.30288485e-05\n",
      "    4.58408028e-06 -1.30577796e-06]\n",
      "  ...\n",
      "  [ 7.68925835e-06 -4.91097965e-06 -1.16098385e-05 ... -8.37189305e-06\n",
      "   -9.29567685e-06 -1.44877323e-05]\n",
      "  [-8.05661760e-06 -1.83490492e-05 -1.89666581e-05 ... -3.58455192e-05\n",
      "   -3.06315688e-05 -2.90057194e-05]\n",
      "  [ 6.79908572e-06 -4.82134359e-06 -1.04182779e-05 ... -8.13222288e-06\n",
      "   -9.54486821e-06 -1.48796734e-05]]]\n",
      "[2 3 3 2 3 2 3 2 3 2 2 3 3 2 2 3 2 3 2 2 3 2 3 3 2 3 2 3 2 2 2 3 2 3 2 3 2\n",
      " 3 3 2 2 3 2 3 2]\n"
     ]
    }
   ],
   "source": [
    "print(len(df[channel]))\n",
    "print(len(df['time']))\n",
    "print(X)\n",
    "print(y)"
   ]
  },
  {
   "cell_type": "markdown",
   "id": "ff02052e",
   "metadata": {},
   "source": [
    "# Processing\n",
    "\n",
    "Raw EEG data is special in that we need to slice it into fixed length segments known as epochs. The purpose of which is to process the action of motor activity."
   ]
  },
  {
   "cell_type": "code",
   "execution_count": 7,
   "id": "ec3cfd3c",
   "metadata": {},
   "outputs": [
    {
     "name": "stdout",
     "output_type": "stream",
     "text": [
      "Used Annotations descriptions: [np.str_('T0'), np.str_('T1'), np.str_('T2')]\n",
      "Not setting metadata\n",
      "45 matching events found\n",
      "No baseline correction applied\n",
      "0 projection items activated\n",
      "Using data from preloaded Raw for 45 events and 641 original time points ...\n",
      "0 bad epochs dropped\n"
     ]
    }
   ],
   "source": [
    "from mne.datasets import eegbci\n",
    "from mne import Epochs, events_from_annotations\n",
    "\n",
    "# If you haven't already:\n",
    "events, _ = events_from_annotations(raw)\n",
    "event_id = dict(left=2, right=3)  # use appropriate IDs\n",
    "\n",
    "epochs = Epochs(raw, events, event_id=event_id, tmin=0., tmax=4.,\n",
    "                baseline=None, preload=True, reject_by_annotation=False)\n"
   ]
  },
  {
   "cell_type": "markdown",
   "id": "f389fc8d",
   "metadata": {},
   "source": [
    "The Epochs module has denoted within intervals of 4 seconds, there are 45 neurological events"
   ]
  },
  {
   "cell_type": "code",
   "execution_count": 8,
   "id": "0100c458",
   "metadata": {},
   "outputs": [],
   "source": [
    "X = epochs.get_data()  # shape: (n_epochs, n_channels, n_times)\n",
    "y = pd.Series(epochs.events[:, -1])  # Labels (e.g., 2 = left, 3 = right)"
   ]
  },
  {
   "cell_type": "code",
   "execution_count": 9,
   "id": "86821691",
   "metadata": {},
   "outputs": [
    {
     "name": "stdout",
     "output_type": "stream",
     "text": [
      "(45, 64, 641)\n"
     ]
    }
   ],
   "source": [
    "X = (X - X.mean(axis=(1, 2), keepdims=True)) / X.std(axis=(1, 2), keepdims=True)\n",
    "print(X.shape)"
   ]
  },
  {
   "cell_type": "markdown",
   "id": "fb2c3340",
   "metadata": {},
   "source": [
    "Epochs v.s. Channels"
   ]
  },
  {
   "cell_type": "code",
   "execution_count": 10,
   "id": "99eeb879",
   "metadata": {},
   "outputs": [
    {
     "name": "stdout",
     "output_type": "stream",
     "text": [
      "(45, 64, 641, 1)\n"
     ]
    }
   ],
   "source": [
    "X = X[..., np.newaxis]  # shape: (n_epochs, n_channels, n_times, 1)\n",
    "print(X.shape)"
   ]
  },
  {
   "cell_type": "code",
   "execution_count": 11,
   "id": "ee5c3f39",
   "metadata": {},
   "outputs": [
    {
     "name": "stdout",
     "output_type": "stream",
     "text": [
      "[0 1 1 0 1 0 1 0 1 0 0 1 1 0 0 1 0 1 0 0 1 0 1 1 0 1 0 1 0 0 0 1 0 1 0 1 0\n",
      " 1 1 0 0 1 0 1 0]\n"
     ]
    }
   ],
   "source": [
    "y = y.map({2: 0, 3: 1}).values  #0 means left and 1 means right\n",
    "print(y)\n"
   ]
  },
  {
   "cell_type": "markdown",
   "id": "9bb0b756",
   "metadata": {},
   "source": [
    "Change shape"
   ]
  },
  {
   "cell_type": "code",
   "execution_count": 12,
   "id": "6d3036a6",
   "metadata": {},
   "outputs": [],
   "source": [
    "input_shape=X.shape[1:]"
   ]
  },
  {
   "cell_type": "markdown",
   "id": "26a7fce0",
   "metadata": {},
   "source": [
    "# Processing (II) - Convolution Layer\n",
    "\n",
    "Similar to image training, we need to process the data by Convolution followed by ReLU activation"
   ]
  },
  {
   "cell_type": "code",
   "execution_count": 13,
   "id": "d57d4a43",
   "metadata": {},
   "outputs": [
    {
     "name": "stdout",
     "output_type": "stream",
     "text": [
      "X shape: (10, 32, 32)\n",
      "Kernel matrix shape: (5, 5)\n",
      "Convolved output shape: (10, 32, 32)\n"
     ]
    }
   ],
   "source": [
    "\n",
    "# Example input: list of 2D arrays (e.g., EEG signals as 2D maps)\n",
    "# Replace this with your actual data\n",
    "X = np.random.rand(10, 32, 32)  # 10 samples of 32x32 matrices\n",
    "print(\"X shape:\", X.shape)\n",
    "\n",
    "# Create the RBF kernel\n",
    "def rbf_kernel_matrix(size, length_scale=1.0):\n",
    "    ax = np.linspace(-(size // 2), size // 2, size)\n",
    "    xx, yy = np.meshgrid(ax, ax)\n",
    "    r2 = xx**2 + yy**2\n",
    "    kernel_matrix = np.exp(-0.5 * r2 / (length_scale ** 2))\n",
    "    return kernel_matrix / np.sum(kernel_matrix)  # Normalize kernel\n",
    "\n",
    "kernel_matrix = rbf_kernel_matrix(size=5, length_scale=1.0)\n",
    "print(\"Kernel matrix shape:\", kernel_matrix.shape)\n",
    "\n",
    "# Convolution function\n",
    "def apply_convolutions(matrices, kernel, pad_h, pad_w):\n",
    "    out = []\n",
    "    for matrix in matrices:\n",
    "        padded = np.pad(matrix, ((pad_h, pad_h), (pad_w, pad_w)), mode='constant', constant_values=0)\n",
    "        output = np.zeros_like(matrix)\n",
    "        for i in range(output.shape[0]):\n",
    "            for j in range(output.shape[1]):\n",
    "                region = padded[i:i + kernel.shape[0], j:j + kernel.shape[1]]\n",
    "                if region.shape == kernel.shape:\n",
    "                    output[i, j] = np.sum(region * kernel)\n",
    "        out.append(output)\n",
    "    return np.array(out)\n",
    "\n",
    "# Apply convolution\n",
    "pad_h = kernel_matrix.shape[0] // 2\n",
    "pad_w = kernel_matrix.shape[1] // 2\n",
    "\n",
    "convolution_one = apply_convolutions(X, kernel_matrix, pad_h, pad_w)\n",
    "convolution_two = apply_convolutions(convolution_one, kernel_matrix, pad_h, pad_w)\n",
    "convolution_three = apply_convolutions(convolution_two, kernel_matrix, pad_h, pad_w)\n",
    "\n",
    "\n",
    "print(\"Convolved output shape:\", convolution_one.shape)"
   ]
  },
  {
   "cell_type": "markdown",
   "id": "31a46328",
   "metadata": {},
   "source": [
    "## Processing (II) - Apply ReLU function \n",
    "\n",
    "$$\\text{ReLU(x)} = \\begin{cases} x \\quad x > 0\\\\ 0 \\quad x < 0\\end{cases}$$"
   ]
  },
  {
   "cell_type": "code",
   "execution_count": null,
   "id": "18ca4938",
   "metadata": {},
   "outputs": [
    {
     "name": "stdout",
     "output_type": "stream",
     "text": [
      "(32, 32)\n",
      "(32, 32)\n"
     ]
    }
   ],
   "source": [
    "relu_matrices = []\n",
    "for conv_matrix in convolution_three:\n",
    "    relu_matrix = np.maximum(0, conv_matrix)\n",
    "    relu_matrices.append(relu_matrix)\n",
    "\n",
    "\n",
    "print(relu_matrices[0].shape)\n",
    "\n"
   ]
  },
  {
   "cell_type": "markdown",
   "id": "e4f88f98",
   "metadata": {},
   "source": [
    "Now, We will pool the data "
   ]
  },
  {
   "cell_type": "code",
   "execution_count": null,
   "id": "09da2720",
   "metadata": {},
   "outputs": [
    {
     "name": "stdout",
     "output_type": "stream",
     "text": [
      "Pooled shape: (16, 16)\n"
     ]
    }
   ],
   "source": [
    "pooled_matrices = []\n",
    "\n",
    "for matrix in relu_matrices:\n",
    "    N, M = matrix.shape\n",
    "    K, L = 2, 2  # Pool size\n",
    "    MK = N // K\n",
    "    NL = M // L\n",
    "    # Crop to fit pooling window\n",
    "    cropped = matrix[:MK*K, :NL*L]\n",
    "    # Reshape and pool\n",
    "    pooled = cropped.reshape(MK, K, NL, L).max(axis=(1, 3))\n",
    "    pooled_matrices.append(pooled)\n",
    "\n",
    "print(f\"Pooled shape: {pooled_matrices[0].shape}\")\n",
    "\n"
   ]
  },
  {
   "cell_type": "markdown",
   "id": "12042ddf",
   "metadata": {},
   "source": [
    "Visualization"
   ]
  },
  {
   "cell_type": "code",
   "execution_count": 31,
   "id": "a7e91961",
   "metadata": {},
   "outputs": [
    {
     "name": "stderr",
     "output_type": "stream",
     "text": [
      "/var/folders/p9/n04hcd657r93rwljz4zpmh1w0000gn/T/ipykernel_55062/807063601.py:12: UserWarning: No artists with labels found to put in legend.  Note that artists whose label start with an underscore are ignored when legend() is called with no argument.\n",
      "  plt.legend()\n"
     ]
    },
    {
     "data": {
      "image/png": "[encoded data removed]",
      "text/plain": [
       "<Figure size 640x480 with 1 Axes>"
      ]
     },
     "metadata": {},
     "output_type": "display_data"
    }
   ],
   "source": [
    "plt.imshow(pooled_matrices[0], cmap='Oranges_r')\n",
    "plt.title(\"Pooled Matrices\")\n",
    "\n",
    "\n",
    "plt.axvline(x=0, color='gray', linestyle='--', linewidth=1)\n",
    "\n",
    "# Add horizontal line at amplitude = 0\n",
    "plt.axhline(y=0, color='gray', linestyle='--', linewidth=1)\n",
    "\n",
    "plt.xlabel(\"Time (s)\")\n",
    "plt.ylabel(\"Amplitude (μV)\")\n",
    "plt.legend()\n",
    "plt.grid(True, which='both', linestyle=':', linewidth=0.5)\n",
    "plt.tight_layout()\n",
    "plt.show()"
   ]
  },
  {
   "cell_type": "markdown",
   "id": "6eefa513",
   "metadata": {},
   "source": [
    "This heatmap provides a plot of amplitude with respect to time\n"
   ]
  },
  {
   "cell_type": "code",
   "execution_count": 32,
   "id": "6d68c133",
   "metadata": {},
   "outputs": [
    {
     "name": "stdout",
     "output_type": "stream",
     "text": [
      "Pooled shape: (16, 16)\n",
      "Feature Vector shape: (256,)\n"
     ]
    }
   ],
   "source": [
    "feature_vectors = []\n",
    "for pooled_matrix in pooled_matrices:\n",
    "    feature_vector = pooled_matrix.flatten()\n",
    "    feature_vectors.append(feature_vector)\n",
    "\n",
    "\n",
    "print(f\"Pooled shape: {pooled_matrices[0].shape}\")\n",
    "print(f\"Feature Vector shape: {feature_vectors[0].shape}\")"
   ]
  },
  {
   "cell_type": "code",
   "execution_count": 33,
   "id": "ef6fff90",
   "metadata": {},
   "outputs": [],
   "source": [
    "import torch.nn as nn\n",
    "class conv_net:\n",
    "    def __init__(self, input_dim=4096, hidden_dim=1024, output_dim=1, learn_rate=0.01):\n",
    "        self.W1 = np.random.randn(input_dim, hidden_dim) * 0.01\n",
    "        self.b1 = np.zeros((1, hidden_dim))\n",
    "        self.W2 = np.random.randn(hidden_dim, output_dim) * 0.01\n",
    "        self.b2 = np.zeros((1, output_dim))\n",
    "        self.learn_rate = learn_rate\n",
    "\n",
    "    def relu(self, x):\n",
    "        return np.maximum(0, x)\n",
    "\n",
    "    def relu_derivative(self, x):\n",
    "        return (x > 0).astype(float)\n",
    "\n",
    "    def softmax(self, x):\n",
    "        nn.Softmax2d(x)\n",
    "\n",
    "    def cross_entropy_loss(self, probs, labels):\n",
    "        epsilon = 1e-8\n",
    "        return -np.mean(labels * np.log(probs + epsilon) + (1 - labels) * np.log(1 - probs + epsilon))\n",
    "\n",
    "    def forward(self, X):\n",
    "        self.z1 = X @ self.W1 + self.b1\n",
    "        self.a1 = self.relu(self.z1)\n",
    "        self.z2 = self.a1 @ self.W2 + self.b2\n",
    "        self.probs = self.softmax(self.z2)\n",
    "        return self.probs\n",
    "\n",
    "    def backward(self, X, y):\n",
    "        N = y.shape[0]\n",
    "        dZ2 = self.probs - y.reshape(-1, 1)  # Fix for binary classification\n",
    "        dW2 = self.a1.T @ dZ2 / N\n",
    "        db2 = np.sum(dZ2, axis=0, keepdims=True) / N\n",
    "\n",
    "        dA1 = dZ2 @ self.W2.T\n",
    "        dZ1 = dA1 * self.relu_derivative(self.z1)\n",
    "        dW1 = X.T @ dZ1 / N\n",
    "        db1 = np.sum(dZ1, axis=0, keepdims=True) / N\n",
    "\n",
    "        self.W1 -= self.learn_rate * dW1\n",
    "        self.b1 -= self.learn_rate * db1\n",
    "        self.W2 -= self.learn_rate * dW2\n",
    "        self.b2 -= self.learn_rate * db2\n",
    "\n",
    "    def predict(self, X):\n",
    "        probs = self.forward(X)\n",
    "        return (probs > 0.5).astype(int).flatten()"
   ]
  },
  {
   "cell_type": "code",
   "execution_count": null,
   "id": "169f5a76",
   "metadata": {},
   "outputs": [],
   "source": [
    "X = np.array(feature_vectors)\n",
    "y = np.array()\n",
    "\n",
    "# Initialize model for binary classification\n",
    "model = conv_net(input_dim=X.shape[1], hidden_dim=1024, output_dim=1, learn_rate=0.01)\n",
    "\n",
    "losses = []\n",
    "accuracies = []\n",
    "\n",
    "epochs = 101\n",
    "for epoch in range(epochs):\n",
    "    probs = model.forward(X).flatten()  # shape: (num_samples,)\n",
    "    loss = model.cross_entropy_loss(probs, y)\n",
    "    model.backward(X, y)\n",
    "    preds = (probs > 0.5).astype(int)  # binary prediction\n",
    "    accuracy = np.mean(preds == y)\n",
    "    losses.append(loss)\n",
    "    accuracies.append(accuracy)\n",
    "    if epoch % 10 == 0:\n",
    "        print(f\"Epoch {epoch}, Loss: {loss:.4f}, Accuracy: {accuracy:.4f}\")\n",
    "mean_accuracy_train = np.mean(accuracy)"
   ]
  }
 ],
 "metadata": {
  "kernelspec": {
   "display_name": "cosmos",
   "language": "python",
   "name": "python3"
  },
  "language_info": {
   "codemirror_mode": {
    "name": "ipython",
    "version": 3
   },
   "file_extension": ".py",
   "mimetype": "text/x-python",
   "name": "python",
   "nbconvert_exporter": "python",
   "pygments_lexer": "ipython3",
   "version": "3.12.11"
  }
 },
 "nbformat": 4,
 "nbformat_minor": 5
}
