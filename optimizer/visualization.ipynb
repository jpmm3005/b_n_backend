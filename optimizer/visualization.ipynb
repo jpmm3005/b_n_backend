{
 "cells": [
  {
   "cell_type": "markdown",
   "id": "d0ac74ac",
   "metadata": {},
   "source": [
    "## Installation of packages required for visualization"
   ]
  },
  {
   "cell_type": "code",
   "execution_count": 3,
   "id": "f74b832c",
   "metadata": {},
   "outputs": [],
   "source": [
    "import numpy as np\n",
    "import matplotlib.pyplot as plt\n",
    "import plotly.graph_objects as go\n"
   ]
  },
  {
   "cell_type": "markdown",
   "id": "b4c8f173",
   "metadata": {},
   "source": [
    "Display transformation"
   ]
  },
  {
   "cell_type": "code",
   "execution_count": 2,
   "id": "3ae25e5a",
   "metadata": {},
   "outputs": [
    {
     "data": {
      "application/vnd.plotly.v1+json": {
       "config": {
        "plotlyServerURL": "https://plot.ly"
       },
       "data": [
        {
         "marker": {
          "color": "red",
          "size": 5
         },
         "mode": "markers",
         "name": "Grid",
         "type": "scatter",
         "x": {
          "bdata": "AAAAAAAA8L8AAAAAAADwvwAAAAAAAPC/AAAAAAAA8L8AAAAAAADwvwAAAAAAAPC/AAAAAAAA8L8AAAAAAADwvwAAAAAAAPC/AAAAAAAA8L85juM4juPovzmO4ziO4+i/OY7jOI7j6L85juM4juPovzmO4ziO4+i/OY7jOI7j6L85juM4juPovzmO4ziO4+i/OY7jOI7j6L85juM4juPov3Icx3Ecx+G/chzHcRzH4b9yHMdxHMfhv3Icx3Ecx+G/chzHcRzH4b9yHMdxHMfhv3Icx3Ecx+G/chzHcRzH4b9yHMdxHMfhv3Icx3Ecx+G/VlVVVVVV1b9WVVVVVVXVv1ZVVVVVVdW/VlVVVVVV1b9WVVVVVVXVv1ZVVVVVVdW/VlVVVVVV1b9WVVVVVVXVv1ZVVVVVVdW/VlVVVVVV1b8gx3Ecx3G8vyDHcRzHcby/IMdxHMdxvL8gx3Ecx3G8vyDHcRzHcby/IMdxHMdxvL8gx3Ecx3G8vyDHcRzHcby/IMdxHMdxvL8gx3Ecx3G8vyDHcRzHcbw/IMdxHMdxvD8gx3Ecx3G8PyDHcRzHcbw/IMdxHMdxvD8gx3Ecx3G8PyDHcRzHcbw/IMdxHMdxvD8gx3Ecx3G8PyDHcRzHcbw/VFVVVVVV1T9UVVVVVVXVP1RVVVVVVdU/VFVVVVVV1T9UVVVVVVXVP1RVVVVVVdU/VFVVVVVV1T9UVVVVVVXVP1RVVVVVVdU/VFVVVVVV1T9wHMdxHMfhP3Acx3Ecx+E/cBzHcRzH4T9wHMdxHMfhP3Acx3Ecx+E/cBzHcRzH4T9wHMdxHMfhP3Acx3Ecx+E/cBzHcRzH4T9wHMdxHMfhPziO4ziO4+g/OI7jOI7j6D84juM4juPoPziO4ziO4+g/OI7jOI7j6D84juM4juPoPziO4ziO4+g/OI7jOI7j6D84juM4juPoPziO4ziO4+g/AAAAAAAA8D8AAAAAAADwPwAAAAAAAPA/AAAAAAAA8D8AAAAAAADwPwAAAAAAAPA/AAAAAAAA8D8AAAAAAADwPwAAAAAAAPA/AAAAAAAA8D8=",
          "dtype": "f8"
         },
         "y": {
          "bdata": "AAAAAAAA8L85juM4juPov3Icx3Ecx+G/VlVVVVVV1b8gx3Ecx3G8vyDHcRzHcbw/VFVVVVVV1T9wHMdxHMfhPziO4ziO4+g/AAAAAAAA8D8AAAAAAADwvzmO4ziO4+i/chzHcRzH4b9WVVVVVVXVvyDHcRzHcby/IMdxHMdxvD9UVVVVVVXVP3Acx3Ecx+E/OI7jOI7j6D8AAAAAAADwPwAAAAAAAPC/OY7jOI7j6L9yHMdxHMfhv1ZVVVVVVdW/IMdxHMdxvL8gx3Ecx3G8P1RVVVVVVdU/cBzHcRzH4T84juM4juPoPwAAAAAAAPA/AAAAAAAA8L85juM4juPov3Icx3Ecx+G/VlVVVVVV1b8gx3Ecx3G8vyDHcRzHcbw/VFVVVVVV1T9wHMdxHMfhPziO4ziO4+g/AAAAAAAA8D8AAAAAAADwvzmO4ziO4+i/chzHcRzH4b9WVVVVVVXVvyDHcRzHcby/IMdxHMdxvD9UVVVVVVXVP3Acx3Ecx+E/OI7jOI7j6D8AAAAAAADwPwAAAAAAAPC/OY7jOI7j6L9yHMdxHMfhv1ZVVVVVVdW/IMdxHMdxvL8gx3Ecx3G8P1RVVVVVVdU/cBzHcRzH4T84juM4juPoPwAAAAAAAPA/AAAAAAAA8L85juM4juPov3Icx3Ecx+G/VlVVVVVV1b8gx3Ecx3G8vyDHcRzHcbw/VFVVVVVV1T9wHMdxHMfhPziO4ziO4+g/AAAAAAAA8D8AAAAAAADwvzmO4ziO4+i/chzHcRzH4b9WVVVVVVXVvyDHcRzHcby/IMdxHMdxvD9UVVVVVVXVP3Acx3Ecx+E/OI7jOI7j6D8AAAAAAADwPwAAAAAAAPC/OY7jOI7j6L9yHMdxHMfhv1ZVVVVVVdW/IMdxHMdxvL8gx3Ecx3G8P1RVVVVVVdU/cBzHcRzH4T84juM4juPoPwAAAAAAAPA/AAAAAAAA8L85juM4juPov3Icx3Ecx+G/VlVVVVVV1b8gx3Ecx3G8vyDHcRzHcbw/VFVVVVVV1T9wHMdxHMfhPziO4ziO4+g/AAAAAAAA8D8=",
          "dtype": "f8"
         }
        },
        {
         "line": {
          "color": "blue",
          "width": 4
         },
         "marker": {
          "size": 6
         },
         "mode": "lines+markers",
         "name": "Vector",
         "type": "scatter",
         "x": [
          0,
          1
         ],
         "y": [
          0,
          1
         ]
        },
        {
         "line": {
          "color": "black",
          "dash": "dash",
          "width": 3
         },
         "marker": {
          "size": 6
         },
         "mode": "lines+markers",
         "name": "X basis (initial)",
         "type": "scatter",
         "x": [
          0,
          1
         ],
         "y": [
          0,
          0
         ]
        },
        {
         "line": {
          "color": "black",
          "dash": "dash",
          "width": 3
         },
         "marker": {
          "size": 6
         },
         "mode": "lines+markers",
         "name": "Y basis (initial)",
         "type": "scatter",
         "x": [
          0,
          0
         ],
         "y": [
          0,
          1
         ]
        },
        {
         "line": {
          "color": "purple",
          "width": 3
         },
         "marker": {
          "size": 6
         },
         "mode": "lines+markers",
         "name": "Solution",
         "type": "scatter",
         "x": [
          0,
          1
         ],
         "y": [
          0,
          -1
         ]
        }
       ],
       "frames": [
        {
         "data": [
          {
           "marker": {
            "color": "red",
            "size": 5
           },
           "mode": "markers",
           "name": "Grid",
           "type": "scatter",
           "x": {
            "bdata": "AAAAAAAA8L8AAAAAAADwvwAAAAAAAPC/AAAAAAAA8L8AAAAAAADwvwAAAAAAAPC/AAAAAAAA8L8AAAAAAADwvwAAAAAAAPC/AAAAAAAA8L85juM4juPovzmO4ziO4+i/OY7jOI7j6L85juM4juPovzmO4ziO4+i/OY7jOI7j6L85juM4juPovzmO4ziO4+i/OY7jOI7j6L85juM4juPov3Icx3Ecx+G/chzHcRzH4b9yHMdxHMfhv3Icx3Ecx+G/chzHcRzH4b9yHMdxHMfhv3Icx3Ecx+G/chzHcRzH4b9yHMdxHMfhv3Icx3Ecx+G/VlVVVVVV1b9WVVVVVVXVv1ZVVVVVVdW/VlVVVVVV1b9WVVVVVVXVv1ZVVVVVVdW/VlVVVVVV1b9WVVVVVVXVv1ZVVVVVVdW/VlVVVVVV1b8gx3Ecx3G8vyDHcRzHcby/IMdxHMdxvL8gx3Ecx3G8vyDHcRzHcby/IMdxHMdxvL8gx3Ecx3G8vyDHcRzHcby/IMdxHMdxvL8gx3Ecx3G8vyDHcRzHcbw/IMdxHMdxvD8gx3Ecx3G8PyDHcRzHcbw/IMdxHMdxvD8gx3Ecx3G8PyDHcRzHcbw/IMdxHMdxvD8gx3Ecx3G8PyDHcRzHcbw/VFVVVVVV1T9UVVVVVVXVP1RVVVVVVdU/VFVVVVVV1T9UVVVVVVXVP1RVVVVVVdU/VFVVVVVV1T9UVVVVVVXVP1RVVVVVVdU/VFVVVVVV1T9wHMdxHMfhP3Acx3Ecx+E/cBzHcRzH4T9wHMdxHMfhP3Acx3Ecx+E/cBzHcRzH4T9wHMdxHMfhP3Acx3Ecx+E/cBzHcRzH4T9wHMdxHMfhPziO4ziO4+g/OI7jOI7j6D84juM4juPoPziO4ziO4+g/OI7jOI7j6D84juM4juPoPziO4ziO4+g/OI7jOI7j6D84juM4juPoPziO4ziO4+g/AAAAAAAA8D8AAAAAAADwPwAAAAAAAPA/AAAAAAAA8D8AAAAAAADwPwAAAAAAAPA/AAAAAAAA8D8AAAAAAADwPwAAAAAAAPA/AAAAAAAA8D8=",
            "dtype": "f8"
           },
           "y": {
            "bdata": "AAAAAAAA8L85juM4juPov3Icx3Ecx+G/VlVVVVVV1b8gx3Ecx3G8vyDHcRzHcbw/VFVVVVVV1T9wHMdxHMfhPziO4ziO4+g/AAAAAAAA8D8AAAAAAADwvzmO4ziO4+i/chzHcRzH4b9WVVVVVVXVvyDHcRzHcby/IMdxHMdxvD9UVVVVVVXVP3Acx3Ecx+E/OI7jOI7j6D8AAAAAAADwPwAAAAAAAPC/OY7jOI7j6L9yHMdxHMfhv1ZVVVVVVdW/IMdxHMdxvL8gx3Ecx3G8P1RVVVVVVdU/cBzHcRzH4T84juM4juPoPwAAAAAAAPA/AAAAAAAA8L85juM4juPov3Icx3Ecx+G/VlVVVVVV1b8gx3Ecx3G8vyDHcRzHcbw/VFVVVVVV1T9wHMdxHMfhPziO4ziO4+g/AAAAAAAA8D8AAAAAAADwvzmO4ziO4+i/chzHcRzH4b9WVVVVVVXVvyDHcRzHcby/IMdxHMdxvD9UVVVVVVXVP3Acx3Ecx+E/OI7jOI7j6D8AAAAAAADwPwAAAAAAAPC/OY7jOI7j6L9yHMdxHMfhv1ZVVVVVVdW/IMdxHMdxvL8gx3Ecx3G8P1RVVVVVVdU/cBzHcRzH4T84juM4juPoPwAAAAAAAPA/AAAAAAAA8L85juM4juPov3Icx3Ecx+G/VlVVVVVV1b8gx3Ecx3G8vyDHcRzHcbw/VFVVVVVV1T9wHMdxHMfhPziO4ziO4+g/AAAAAAAA8D8AAAAAAADwvzmO4ziO4+i/chzHcRzH4b9WVVVVVVXVvyDHcRzHcby/IMdxHMdxvD9UVVVVVVXVP3Acx3Ecx+E/OI7jOI7j6D8AAAAAAADwPwAAAAAAAPC/OY7jOI7j6L9yHMdxHMfhv1ZVVVVVVdW/IMdxHMdxvL8gx3Ecx3G8P1RVVVVVVdU/cBzHcRzH4T84juM4juPoPwAAAAAAAPA/AAAAAAAA8L85juM4juPov3Icx3Ecx+G/VlVVVVVV1b8gx3Ecx3G8vyDHcRzHcbw/VFVVVVVV1T9wHMdxHMfhPziO4ziO4+g/AAAAAAAA8D8=",
            "dtype": "f8"
           }
          },
          {
           "line": {
            "color": "blue",
            "width": 4
           },
           "marker": {
            "size": 6
           },
           "mode": "lines+markers",
           "name": "Vector",
           "type": "scatter",
           "x": [
            0,
            1
           ],
           "y": [
            0,
            1
           ]
          },
          {
           "line": {
            "color": "black",
            "width": 3
           },
           "marker": {
            "size": 6
           },
           "mode": "lines+markers",
           "name": "X basis (transformed)",
           "type": "scatter",
           "x": [
            0,
            1
           ],
           "y": [
            0,
            0
           ]
          },
          {
           "line": {
            "color": "black",
            "width": 3
           },
           "marker": {
            "size": 6
           },
           "mode": "lines+markers",
           "name": "Y basis (transformed)",
           "type": "scatter",
           "x": [
            0,
            0
           ],
           "y": [
            0,
            1
           ]
          }
         ],
         "name": "frame0.00"
        },
        {
         "data": [
          {
           "marker": {
            "color": "red",
            "size": 5
           },
           "mode": "markers",
           "name": "Grid",
           "type": "scatter",
           "x": {
            "bdata": "AAAAAAAA8L8AAAAAAADwvwAAAAAAAPC/AAAAAAAA8L8AAAAAAADwvwAAAAAAAPC/AAAAAAAA8L8AAAAAAADwvwAAAAAAAPC/AAAAAAAA8L85juM4juPovzmO4ziO4+i/OY7jOI7j6L85juM4juPovzmO4ziO4+i/OY7jOI7j6L85juM4juPovzmO4ziO4+i/OY7jOI7j6L85juM4juPov3Icx3Ecx+G/chzHcRzH4b9yHMdxHMfhv3Icx3Ecx+G/chzHcRzH4b9yHMdxHMfhv3Icx3Ecx+G/chzHcRzH4b9yHMdxHMfhv3Icx3Ecx+G/VlVVVVVV1b9WVVVVVVXVv1ZVVVVVVdW/VlVVVVVV1b9WVVVVVVXVv1ZVVVVVVdW/VlVVVVVV1b9WVVVVVVXVv1ZVVVVVVdW/VlVVVVVV1b8gx3Ecx3G8vyDHcRzHcby/IMdxHMdxvL8gx3Ecx3G8vyDHcRzHcby/IMdxHMdxvL8gx3Ecx3G8vyDHcRzHcby/IMdxHMdxvL8gx3Ecx3G8vyDHcRzHcbw/IMdxHMdxvD8gx3Ecx3G8PyDHcRzHcbw/IMdxHMdxvD8gx3Ecx3G8PyDHcRzHcbw/IMdxHMdxvD8gx3Ecx3G8PyDHcRzHcbw/VFVVVVVV1T9UVVVVVVXVP1RVVVVVVdU/VFVVVVVV1T9UVVVVVVXVP1RVVVVVVdU/VFVVVVVV1T9UVVVVVVXVP1RVVVVVVdU/VFVVVVVV1T9wHMdxHMfhP3Acx3Ecx+E/cBzHcRzH4T9wHMdxHMfhP3Acx3Ecx+E/cBzHcRzH4T9wHMdxHMfhP3Acx3Ecx+E/cBzHcRzH4T9wHMdxHMfhPziO4ziO4+g/OI7jOI7j6D84juM4juPoPziO4ziO4+g/OI7jOI7j6D84juM4juPoPziO4ziO4+g/OI7jOI7j6D84juM4juPoPziO4ziO4+g/AAAAAAAA8D8AAAAAAADwPwAAAAAAAPA/AAAAAAAA8D8AAAAAAADwPwAAAAAAAPA/AAAAAAAA8D8AAAAAAADwPwAAAAAAAPA/AAAAAAAA8D8=",
            "dtype": "f8"
           },
           "y": {
            "bdata": "sdzTCMs97b80jxaVSL7mv7hBWSHGPuC/d+g3W4d+07/2NfXOCf65v/Y19c4J/rk/deg3W4d+0z+2QVkhxj7gPzSPFpVIvuY/sdzTCMs97T+x3NMIyz3tvzSPFpVIvua/uEFZIcY+4L936Ddbh37Tv/Y19c4J/rm/9jX1zgn+uT916Ddbh37TP7ZBWSHGPuA/NI8WlUi+5j+x3NMIyz3tP7Hc0wjLPe2/NI8WlUi+5r+4QVkhxj7gv3foN1uHftO/9jX1zgn+ub/2NfXOCf65P3XoN1uHftM/tkFZIcY+4D80jxaVSL7mP7Hc0wjLPe0/sdzTCMs97b80jxaVSL7mv7hBWSHGPuC/d+g3W4d+07/2NfXOCf65v/Y19c4J/rk/deg3W4d+0z+2QVkhxj7gPzSPFpVIvuY/sdzTCMs97T+x3NMIyz3tvzSPFpVIvua/uEFZIcY+4L936Ddbh37Tv/Y19c4J/rm/9jX1zgn+uT916Ddbh37TP7ZBWSHGPuA/NI8WlUi+5j+x3NMIyz3tP7Hc0wjLPe2/NI8WlUi+5r+4QVkhxj7gv3foN1uHftO/9jX1zgn+ub/2NfXOCf65P3XoN1uHftM/tkFZIcY+4D80jxaVSL7mP7Hc0wjLPe0/sdzTCMs97b80jxaVSL7mv7hBWSHGPuC/d+g3W4d+07/2NfXOCf65v/Y19c4J/rk/deg3W4d+0z+2QVkhxj7gPzSPFpVIvuY/sdzTCMs97T+x3NMIyz3tvzSPFpVIvua/uEFZIcY+4L936Ddbh37Tv/Y19c4J/rm/9jX1zgn+uT916Ddbh37TP7ZBWSHGPuA/NI8WlUi+5j+x3NMIyz3tP7Hc0wjLPe2/NI8WlUi+5r+4QVkhxj7gv3foN1uHftO/9jX1zgn+ub/2NfXOCf65P3XoN1uHftM/tkFZIcY+4D80jxaVSL7mP7Hc0wjLPe0/sdzTCMs97b80jxaVSL7mv7hBWSHGPuC/d+g3W4d+07/2NfXOCf65v/Y19c4J/rk/deg3W4d+0z+2QVkhxj7gPzSPFpVIvuY/sdzTCMs97T8=",
            "dtype": "f8"
           }
          },
          {
           "line": {
            "color": "blue",
            "width": 4
           },
           "marker": {
            "size": 6
           },
           "mode": "lines+markers",
           "name": "Vector",
           "type": "scatter",
           "x": [
            0,
            1
           ],
           "y": [
            0,
            0.9137931034482759
           ]
          },
          {
           "line": {
            "color": "black",
            "width": 3
           },
           "marker": {
            "size": 6
           },
           "mode": "lines+markers",
           "name": "X basis (transformed)",
           "type": "scatter",
           "x": [
            0,
            1
           ],
           "y": [
            0,
            0
           ]
          },
          {
           "line": {
            "color": "black",
            "width": 3
           },
           "marker": {
            "size": 6
           },
           "mode": "lines+markers",
           "name": "Y basis (transformed)",
           "type": "scatter",
           "x": [
            0,
            0
           ],
           "y": [
            0,
            0.9137931034482759
           ]
          }
         ],
         "name": "frame0.03"
        },
        {
         "data": [
          {
           "marker": {
            "color": "red",
            "size": 5
           },
           "mode": "markers",
           "name": "Grid",
           "type": "scatter",
           "x": {
            "bdata": "AAAAAAAA8L8AAAAAAADwvwAAAAAAAPC/AAAAAAAA8L8AAAAAAADwvwAAAAAAAPC/AAAAAAAA8L8AAAAAAADwvwAAAAAAAPC/AAAAAAAA8L85juM4juPovzmO4ziO4+i/OY7jOI7j6L85juM4juPovzmO4ziO4+i/OY7jOI7j6L85juM4juPovzmO4ziO4+i/OY7jOI7j6L85juM4juPov3Icx3Ecx+G/chzHcRzH4b9yHMdxHMfhv3Icx3Ecx+G/chzHcRzH4b9yHMdxHMfhv3Icx3Ecx+G/chzHcRzH4b9yHMdxHMfhv3Icx3Ecx+G/VlVVVVVV1b9WVVVVVVXVv1ZVVVVVVdW/VlVVVVVV1b9WVVVVVVXVv1ZVVVVVVdW/VlVVVVVV1b9WVVVVVVXVv1ZVVVVVVdW/VlVVVVVV1b8gx3Ecx3G8vyDHcRzHcby/IMdxHMdxvL8gx3Ecx3G8vyDHcRzHcby/IMdxHMdxvL8gx3Ecx3G8vyDHcRzHcby/IMdxHMdxvL8gx3Ecx3G8vyDHcRzHcbw/IMdxHMdxvD8gx3Ecx3G8PyDHcRzHcbw/IMdxHMdxvD8gx3Ecx3G8PyDHcRzHcbw/IMdxHMdxvD8gx3Ecx3G8PyDHcRzHcbw/VFVVVVVV1T9UVVVVVVXVP1RVVVVVVdU/VFVVVVVV1T9UVVVVVVXVP1RVVVVVVdU/VFVVVVVV1T9UVVVVVVXVP1RVVVVVVdU/VFVVVVVV1T9wHMdxHMfhP3Acx3Ecx+E/cBzHcRzH4T9wHMdxHMfhP3Acx3Ecx+E/cBzHcRzH4T9wHMdxHMfhP3Acx3Ecx+E/cBzHcRzH4T9wHMdxHMfhPziO4ziO4+g/OI7jOI7j6D84juM4juPoPziO4ziO4+g/OI7jOI7j6D84juM4juPoPziO4ziO4+g/OI7jOI7j6D84juM4juPoPziO4ziO4+g/AAAAAAAA8D8AAAAAAADwPwAAAAAAAPA/AAAAAAAA8D8AAAAAAADwPwAAAAAAAPA/AAAAAAAA8D8AAAAAAADwPwAAAAAAAPA/AAAAAAAA8D8=",
            "dtype": "f8"
           },
           "y": {
            "bdata": "YbmnEZZ76r8vkEnxApnkv/rN1qHfbN2/l3saYbmn0b/LpHiBTIq3v8ukeIFMirc/lXsaYbmn0T/3zdah32zdPy6QSfECmeQ/YbmnEZZ76j9huacRlnvqvy+QSfECmeS/+s3Wod9s3b+XexphuafRv8ukeIFMire/y6R4gUyKtz+VexphuafRP/fN1qHfbN0/LpBJ8QKZ5D9huacRlnvqP2G5pxGWe+q/L5BJ8QKZ5L/6zdah32zdv5d7GmG5p9G/y6R4gUyKt7/LpHiBTIq3P5V7GmG5p9E/983Wod9s3T8ukEnxApnkP2G5pxGWe+o/YbmnEZZ76r8vkEnxApnkv/rN1qHfbN2/l3saYbmn0b/LpHiBTIq3v8ukeIFMirc/lXsaYbmn0T/3zdah32zdPy6QSfECmeQ/YbmnEZZ76j9huacRlnvqvy+QSfECmeS/+s3Wod9s3b+XexphuafRv8ukeIFMire/y6R4gUyKtz+VexphuafRP/fN1qHfbN0/LpBJ8QKZ5D9huacRlnvqP2G5pxGWe+q/L5BJ8QKZ5L/6zdah32zdv5d7GmG5p9G/y6R4gUyKt7/LpHiBTIq3P5V7GmG5p9E/983Wod9s3T8ukEnxApnkP2G5pxGWe+o/YbmnEZZ76r8vkEnxApnkv/rN1qHfbN2/l3saYbmn0b/LpHiBTIq3v8ukeIFMirc/lXsaYbmn0T/3zdah32zdPy6QSfECmeQ/YbmnEZZ76j9huacRlnvqvy+QSfECmeS/+s3Wod9s3b+XexphuafRv8ukeIFMire/y6R4gUyKtz+VexphuafRP/fN1qHfbN0/LpBJ8QKZ5D9huacRlnvqP2G5pxGWe+q/L5BJ8QKZ5L/6zdah32zdv5d7GmG5p9G/y6R4gUyKt7/LpHiBTIq3P5V7GmG5p9E/983Wod9s3T8ukEnxApnkP2G5pxGWe+o/YbmnEZZ76r8vkEnxApnkv/rN1qHfbN2/l3saYbmn0b/LpHiBTIq3v8ukeIFMirc/lXsaYbmn0T/3zdah32zdPy6QSfECmeQ/YbmnEZZ76j8=",
            "dtype": "f8"
           }
          },
          {
           "line": {
            "color": "blue",
            "width": 4
           },
           "marker": {
            "size": 6
           },
           "mode": "lines+markers",
           "name": "Vector",
           "type": "scatter",
           "x": [
            0,
            1
           ],
           "y": [
            0,
            0.8275862068965517
           ]
          },
          {
           "line": {
            "color": "black",
            "width": 3
           },
           "marker": {
            "size": 6
           },
           "mode": "lines+markers",
           "name": "X basis (transformed)",
           "type": "scatter",
           "x": [
            0,
            1
           ],
           "y": [
            0,
            0
           ]
          },
          {
           "line": {
            "color": "black",
            "width": 3
           },
           "marker": {
            "size": 6
           },
           "mode": "lines+markers",
           "name": "Y basis (transformed)",
           "type": "scatter",
           "x": [
            0,
            0
           ],
           "y": [
            0,
            0.8275862068965517
           ]
          }
         ],
         "name": "frame0.07"
        },
        {
         "data": [
          {
           "marker": {
            "color": "red",
            "size": 5
           },
           "mode": "markers",
           "name": "Grid",
           "type": "scatter",
           "x": {
            "bdata": "AAAAAAAA8L8AAAAAAADwvwAAAAAAAPC/AAAAAAAA8L8AAAAAAADwvwAAAAAAAPC/AAAAAAAA8L8AAAAAAADwvwAAAAAAAPC/AAAAAAAA8L85juM4juPovzmO4ziO4+i/OY7jOI7j6L85juM4juPovzmO4ziO4+i/OY7jOI7j6L85juM4juPovzmO4ziO4+i/OY7jOI7j6L85juM4juPov3Icx3Ecx+G/chzHcRzH4b9yHMdxHMfhv3Icx3Ecx+G/chzHcRzH4b9yHMdxHMfhv3Icx3Ecx+G/chzHcRzH4b9yHMdxHMfhv3Icx3Ecx+G/VlVVVVVV1b9WVVVVVVXVv1ZVVVVVVdW/VlVVVVVV1b9WVVVVVVXVv1ZVVVVVVdW/VlVVVVVV1b9WVVVVVVXVv1ZVVVVVVdW/VlVVVVVV1b8gx3Ecx3G8vyDHcRzHcby/IMdxHMdxvL8gx3Ecx3G8vyDHcRzHcby/IMdxHMdxvL8gx3Ecx3G8vyDHcRzHcby/IMdxHMdxvL8gx3Ecx3G8vyDHcRzHcbw/IMdxHMdxvD8gx3Ecx3G8PyDHcRzHcbw/IMdxHMdxvD8gx3Ecx3G8PyDHcRzHcbw/IMdxHMdxvD8gx3Ecx3G8PyDHcRzHcbw/VFVVVVVV1T9UVVVVVVXVP1RVVVVVVdU/VFVVVVVV1T9UVVVVVVXVP1RVVVVVVdU/VFVVVVVV1T9UVVVVVVXVP1RVVVVVVdU/VFVVVVVV1T9wHMdxHMfhP3Acx3Ecx+E/cBzHcRzH4T9wHMdxHMfhP3Acx3Ecx+E/cBzHcRzH4T9wHMdxHMfhP3Acx3Ecx+E/cBzHcRzH4T9wHMdxHMfhPziO4ziO4+g/OI7jOI7j6D84juM4juPoPziO4ziO4+g/OI7jOI7j6D84juM4juPoPziO4ziO4+g/OI7jOI7j6D84juM4juPoPziO4ziO4+g/AAAAAAAA8D8AAAAAAADwPwAAAAAAAPA/AAAAAAAA8D8AAAAAAADwPwAAAAAAAPA/AAAAAAAA8D8AAAAAAADwPwAAAAAAAPA/AAAAAAAA8D8=",
            "dtype": "f8"
           },
           "y": {
            "bdata": "EpZ7GmG5578rkXxNvXPiv4YY+wAzXNq/bh36zdahz7+hE/wzjxa1v6ET/DOPFrU/ax36zdahzz+DGPsAM1zaPyqRfE29c+I/EpZ7GmG55z8SlnsaYbnnvyuRfE29c+K/hhj7ADNc2r9uHfrN1qHPv6ET/DOPFrW/oRP8M48WtT9rHfrN1qHPP4MY+wAzXNo/KpF8Tb1z4j8SlnsaYbnnPxKWexphuee/K5F8Tb1z4r+GGPsAM1zav24d+s3Woc+/oRP8M48Wtb+hE/wzjxa1P2sd+s3Woc8/gxj7ADNc2j8qkXxNvXPiPxKWexphuec/EpZ7GmG5578rkXxNvXPiv4YY+wAzXNq/bh36zdahz7+hE/wzjxa1v6ET/DOPFrU/ax36zdahzz+DGPsAM1zaPyqRfE29c+I/EpZ7GmG55z8SlnsaYbnnvyuRfE29c+K/hhj7ADNc2r9uHfrN1qHPv6ET/DOPFrW/oRP8M48WtT9rHfrN1qHPP4MY+wAzXNo/KpF8Tb1z4j8SlnsaYbnnPxKWexphuee/K5F8Tb1z4r+GGPsAM1zav24d+s3Woc+/oRP8M48Wtb+hE/wzjxa1P2sd+s3Woc8/gxj7ADNc2j8qkXxNvXPiPxKWexphuec/EpZ7GmG5578rkXxNvXPiv4YY+wAzXNq/bh36zdahz7+hE/wzjxa1v6ET/DOPFrU/ax36zdahzz+DGPsAM1zaPyqRfE29c+I/EpZ7GmG55z8SlnsaYbnnvyuRfE29c+K/hhj7ADNc2r9uHfrN1qHPv6ET/DOPFrW/oRP8M48WtT9rHfrN1qHPP4MY+wAzXNo/KpF8Tb1z4j8SlnsaYbnnPxKWexphuee/K5F8Tb1z4r+GGPsAM1zav24d+s3Woc+/oRP8M48Wtb+hE/wzjxa1P2sd+s3Woc8/gxj7ADNc2j8qkXxNvXPiPxKWexphuec/EpZ7GmG5578rkXxNvXPiv4YY+wAzXNq/bh36zdahz7+hE/wzjxa1v6ET/DOPFrU/ax36zdahzz+DGPsAM1zaPyqRfE29c+I/EpZ7GmG55z8=",
            "dtype": "f8"
           }
          },
          {
           "line": {
            "color": "blue",
            "width": 4
           },
           "marker": {
            "size": 6
           },
           "mode": "lines+markers",
           "name": "Vector",
           "type": "scatter",
           "x": [
            0,
            1
           ],
           "y": [
            0,
            0.7413793103448276
           ]
          },
          {
           "line": {
            "color": "black",
            "width": 3
           },
           "marker": {
            "size": 6
           },
           "mode": "lines+markers",
           "name": "X basis (transformed)",
           "type": "scatter",
           "x": [
            0,
            1
           ],
           "y": [
            0,
            0
           ]
          },
          {
           "line": {
            "color": "black",
            "width": 3
           },
           "marker": {
            "size": 6
           },
           "mode": "lines+markers",
           "name": "Y basis (transformed)",
           "type": "scatter",
           "x": [
            0,
            0
           ],
           "y": [
            0,
            0.7413793103448276
           ]
          }
         ],
         "name": "frame0.10"
        },
        {
         "data": [
          {
           "marker": {
            "color": "red",
            "size": 5
           },
           "mode": "markers",
           "name": "Grid",
           "type": "scatter",
           "x": {
            "bdata": "AAAAAAAA8L8AAAAAAADwvwAAAAAAAPC/AAAAAAAA8L8AAAAAAADwvwAAAAAAAPC/AAAAAAAA8L8AAAAAAADwvwAAAAAAAPC/AAAAAAAA8L85juM4juPovzmO4ziO4+i/OY7jOI7j6L85juM4juPovzmO4ziO4+i/OY7jOI7j6L85juM4juPovzmO4ziO4+i/OY7jOI7j6L85juM4juPov3Icx3Ecx+G/chzHcRzH4b9yHMdxHMfhv3Icx3Ecx+G/chzHcRzH4b9yHMdxHMfhv3Icx3Ecx+G/chzHcRzH4b9yHMdxHMfhv3Icx3Ecx+G/VlVVVVVV1b9WVVVVVVXVv1ZVVVVVVdW/VlVVVVVV1b9WVVVVVVXVv1ZVVVVVVdW/VlVVVVVV1b9WVVVVVVXVv1ZVVVVVVdW/VlVVVVVV1b8gx3Ecx3G8vyDHcRzHcby/IMdxHMdxvL8gx3Ecx3G8vyDHcRzHcby/IMdxHMdxvL8gx3Ecx3G8vyDHcRzHcby/IMdxHMdxvL8gx3Ecx3G8vyDHcRzHcbw/IMdxHMdxvD8gx3Ecx3G8PyDHcRzHcbw/IMdxHMdxvD8gx3Ecx3G8PyDHcRzHcbw/IMdxHMdxvD8gx3Ecx3G8PyDHcRzHcbw/VFVVVVVV1T9UVVVVVVXVP1RVVVVVVdU/VFVVVVVV1T9UVVVVVVXVP1RVVVVVVdU/VFVVVVVV1T9UVVVVVVXVP1RVVVVVVdU/VFVVVVVV1T9wHMdxHMfhP3Acx3Ecx+E/cBzHcRzH4T9wHMdxHMfhP3Acx3Ecx+E/cBzHcRzH4T9wHMdxHMfhP3Acx3Ecx+E/cBzHcRzH4T9wHMdxHMfhPziO4ziO4+g/OI7jOI7j6D84juM4juPoPziO4ziO4+g/OI7jOI7j6D84juM4juPoPziO4ziO4+g/OI7jOI7j6D84juM4juPoPziO4ziO4+g/AAAAAAAA8D8AAAAAAADwPwAAAAAAAPA/AAAAAAAA8D8AAAAAAADwPwAAAAAAAPA/AAAAAAAA8D8AAAAAAADwPwAAAAAAAPA/AAAAAAAA8D8=",
            "dtype": "f8"
           },
           "y": {
            "bdata": "wnJPIyz35L8lkq+pd07gvxFjH2CGS9e/rkO/2Tr0y792gn/m0aKyv3aCf+bRorI/rEO/2Tr0yz8OYx9ghkvXPyWSr6l3TuA/wnJPIyz35D/Cck8jLPfkvyWSr6l3TuC/EWMfYIZL17+uQ7/ZOvTLv3aCf+bRorK/doJ/5tGisj+sQ7/ZOvTLPw5jH2CGS9c/JZKvqXdO4D/Cck8jLPfkP8JyTyMs9+S/JZKvqXdO4L8RYx9ghkvXv65Dv9k69Mu/doJ/5tGisr92gn/m0aKyP6xDv9k69Ms/DmMfYIZL1z8lkq+pd07gP8JyTyMs9+Q/wnJPIyz35L8lkq+pd07gvxFjH2CGS9e/rkO/2Tr0y792gn/m0aKyv3aCf+bRorI/rEO/2Tr0yz8OYx9ghkvXPyWSr6l3TuA/wnJPIyz35D/Cck8jLPfkvyWSr6l3TuC/EWMfYIZL17+uQ7/ZOvTLv3aCf+bRorK/doJ/5tGisj+sQ7/ZOvTLPw5jH2CGS9c/JZKvqXdO4D/Cck8jLPfkP8JyTyMs9+S/JZKvqXdO4L8RYx9ghkvXv65Dv9k69Mu/doJ/5tGisr92gn/m0aKyP6xDv9k69Ms/DmMfYIZL1z8lkq+pd07gP8JyTyMs9+Q/wnJPIyz35L8lkq+pd07gvxFjH2CGS9e/rkO/2Tr0y792gn/m0aKyv3aCf+bRorI/rEO/2Tr0yz8OYx9ghkvXPyWSr6l3TuA/wnJPIyz35D/Cck8jLPfkvyWSr6l3TuC/EWMfYIZL17+uQ7/ZOvTLv3aCf+bRorK/doJ/5tGisj+sQ7/ZOvTLPw5jH2CGS9c/JZKvqXdO4D/Cck8jLPfkP8JyTyMs9+S/JZKvqXdO4L8RYx9ghkvXv65Dv9k69Mu/doJ/5tGisr92gn/m0aKyP6xDv9k69Ms/DmMfYIZL1z8lkq+pd07gP8JyTyMs9+Q/wnJPIyz35L8lkq+pd07gvxFjH2CGS9e/rkO/2Tr0y792gn/m0aKyv3aCf+bRorI/rEO/2Tr0yz8OYx9ghkvXPyWSr6l3TuA/wnJPIyz35D8=",
            "dtype": "f8"
           }
          },
          {
           "line": {
            "color": "blue",
            "width": 4
           },
           "marker": {
            "size": 6
           },
           "mode": "lines+markers",
           "name": "Vector",
           "type": "scatter",
           "x": [
            0,
            1
           ],
           "y": [
            0,
            0.6551724137931034
           ]
          },
          {
           "line": {
            "color": "black",
            "width": 3
           },
           "marker": {
            "size": 6
           },
           "mode": "lines+markers",
           "name": "X basis (transformed)",
           "type": "scatter",
           "x": [
            0,
            1
           ],
           "y": [
            0,
            0
           ]
          },
          {
           "line": {
            "color": "black",
            "width": 3
           },
           "marker": {
            "size": 6
           },
           "mode": "lines+markers",
           "name": "Y basis (transformed)",
           "type": "scatter",
           "x": [
            0,
            0
           ],
           "y": [
            0,
            0.6551724137931034
           ]
          }
         ],
         "name": "frame0.14"
        },
        {
         "data": [
          {
           "marker": {
            "color": "red",
            "size": 5
           },
           "mode": "markers",
           "name": "Grid",
           "type": "scatter",
           "x": {
            "bdata": "AAAAAAAA8L8AAAAAAADwvwAAAAAAAPC/AAAAAAAA8L8AAAAAAADwvwAAAAAAAPC/AAAAAAAA8L8AAAAAAADwvwAAAAAAAPC/AAAAAAAA8L85juM4juPovzmO4ziO4+i/OY7jOI7j6L85juM4juPovzmO4ziO4+i/OY7jOI7j6L85juM4juPovzmO4ziO4+i/OY7jOI7j6L85juM4juPov3Icx3Ecx+G/chzHcRzH4b9yHMdxHMfhv3Icx3Ecx+G/chzHcRzH4b9yHMdxHMfhv3Icx3Ecx+G/chzHcRzH4b9yHMdxHMfhv3Icx3Ecx+G/VlVVVVVV1b9WVVVVVVXVv1ZVVVVVVdW/VlVVVVVV1b9WVVVVVVXVv1ZVVVVVVdW/VlVVVVVV1b9WVVVVVVXVv1ZVVVVVVdW/VlVVVVVV1b8gx3Ecx3G8vyDHcRzHcby/IMdxHMdxvL8gx3Ecx3G8vyDHcRzHcby/IMdxHMdxvL8gx3Ecx3G8vyDHcRzHcby/IMdxHMdxvL8gx3Ecx3G8vyDHcRzHcbw/IMdxHMdxvD8gx3Ecx3G8PyDHcRzHcbw/IMdxHMdxvD8gx3Ecx3G8PyDHcRzHcbw/IMdxHMdxvD8gx3Ecx3G8PyDHcRzHcbw/VFVVVVVV1T9UVVVVVVXVP1RVVVVVVdU/VFVVVVVV1T9UVVVVVVXVP1RVVVVVVdU/VFVVVVVV1T9UVVVVVVXVP1RVVVVVVdU/VFVVVVVV1T9wHMdxHMfhP3Acx3Ecx+E/cBzHcRzH4T9wHMdxHMfhP3Acx3Ecx+E/cBzHcRzH4T9wHMdxHMfhP3Acx3Ecx+E/cBzHcRzH4T9wHMdxHMfhPziO4ziO4+g/OI7jOI7j6D84juM4juPoPziO4ziO4+g/OI7jOI7j6D84juM4juPoPziO4ziO4+g/OI7jOI7j6D84juM4juPoPziO4ziO4+g/AAAAAAAA8D8AAAAAAADwPwAAAAAAAPA/AAAAAAAA8D8AAAAAAADwPwAAAAAAAPA/AAAAAAAA8D8AAAAAAADwPwAAAAAAAPA/AAAAAAAA8D8=",
            "dtype": "f8"
           },
           "y": {
            "bdata": "ck8jLPc04r9AJsULZFLcv5utQ7/ZOtS/7mmE5Z5GyL9L8QKZFC+wv0vxApkUL7A/7GmE5Z5GyD+ZrUO/2TrUPz8mxQtkUtw/ck8jLPc04j9yTyMs9zTiv0AmxQtkUty/m61Dv9k61L/uaYTlnkbIv0vxApkUL7C/S/ECmRQvsD/saYTlnkbIP5mtQ7/ZOtQ/PybFC2RS3D9yTyMs9zTiP3JPIyz3NOK/QCbFC2RS3L+brUO/2TrUv+5phOWeRsi/S/ECmRQvsL9L8QKZFC+wP+xphOWeRsg/ma1Dv9k61D8/JsULZFLcP3JPIyz3NOI/ck8jLPc04r9AJsULZFLcv5utQ7/ZOtS/7mmE5Z5GyL9L8QKZFC+wv0vxApkUL7A/7GmE5Z5GyD+ZrUO/2TrUPz8mxQtkUtw/ck8jLPc04j9yTyMs9zTiv0AmxQtkUty/m61Dv9k61L/uaYTlnkbIv0vxApkUL7C/S/ECmRQvsD/saYTlnkbIP5mtQ7/ZOtQ/PybFC2RS3D9yTyMs9zTiP3JPIyz3NOK/QCbFC2RS3L+brUO/2TrUv+5phOWeRsi/S/ECmRQvsL9L8QKZFC+wP+xphOWeRsg/ma1Dv9k61D8/JsULZFLcP3JPIyz3NOI/ck8jLPc04r9AJsULZFLcv5utQ7/ZOtS/7mmE5Z5GyL9L8QKZFC+wv0vxApkUL7A/7GmE5Z5GyD+ZrUO/2TrUPz8mxQtkUtw/ck8jLPc04j9yTyMs9zTiv0AmxQtkUty/m61Dv9k61L/uaYTlnkbIv0vxApkUL7C/S/ECmRQvsD/saYTlnkbIP5mtQ7/ZOtQ/PybFC2RS3D9yTyMs9zTiP3JPIyz3NOK/QCbFC2RS3L+brUO/2TrUv+5phOWeRsi/S/ECmRQvsL9L8QKZFC+wP+xphOWeRsg/ma1Dv9k61D8/JsULZFLcP3JPIyz3NOI/ck8jLPc04r9AJsULZFLcv5utQ7/ZOtS/7mmE5Z5GyL9L8QKZFC+wv0vxApkUL7A/7GmE5Z5GyD+ZrUO/2TrUPz8mxQtkUtw/ck8jLPc04j8=",
            "dtype": "f8"
           }
          },
          {
           "line": {
            "color": "blue",
            "width": 4
           },
           "marker": {
            "size": 6
           },
           "mode": "lines+markers",
           "name": "Vector",
           "type": "scatter",
           "x": [
            0,
            1
           ],
           "y": [
            0,
            0.5689655172413792
           ]
          },
          {
           "line": {
            "color": "black",
            "width": 3
           },
           "marker": {
            "size": 6
           },
           "mode": "lines+markers",
           "name": "X basis (transformed)",
           "type": "scatter",
           "x": [
            0,
            1
           ],
           "y": [
            0,
            0
           ]
          },
          {
           "line": {
            "color": "black",
            "width": 3
           },
           "marker": {
            "size": 6
           },
           "mode": "lines+markers",
           "name": "Y basis (transformed)",
           "type": "scatter",
           "x": [
            0,
            0
           ],
           "y": [
            0,
            0.5689655172413792
           ]
          }
         ],
         "name": "frame0.17"
        },
        {
         "data": [
          {
           "marker": {
            "color": "red",
            "size": 5
           },
           "mode": "markers",
           "name": "Grid",
           "type": "scatter",
           "x": {
            "bdata": "AAAAAAAA8L8AAAAAAADwvwAAAAAAAPC/AAAAAAAA8L8AAAAAAADwvwAAAAAAAPC/AAAAAAAA8L8AAAAAAADwvwAAAAAAAPC/AAAAAAAA8L85juM4juPovzmO4ziO4+i/OY7jOI7j6L85juM4juPovzmO4ziO4+i/OY7jOI7j6L85juM4juPovzmO4ziO4+i/OY7jOI7j6L85juM4juPov3Icx3Ecx+G/chzHcRzH4b9yHMdxHMfhv3Icx3Ecx+G/chzHcRzH4b9yHMdxHMfhv3Icx3Ecx+G/chzHcRzH4b9yHMdxHMfhv3Icx3Ecx+G/VlVVVVVV1b9WVVVVVVXVv1ZVVVVVVdW/VlVVVVVV1b9WVVVVVVXVv1ZVVVVVVdW/VlVVVVVV1b9WVVVVVVXVv1ZVVVVVVdW/VlVVVVVV1b8gx3Ecx3G8vyDHcRzHcby/IMdxHMdxvL8gx3Ecx3G8vyDHcRzHcby/IMdxHMdxvL8gx3Ecx3G8vyDHcRzHcby/IMdxHMdxvL8gx3Ecx3G8vyDHcRzHcbw/IMdxHMdxvD8gx3Ecx3G8PyDHcRzHcbw/IMdxHMdxvD8gx3Ecx3G8PyDHcRzHcbw/IMdxHMdxvD8gx3Ecx3G8PyDHcRzHcbw/VFVVVVVV1T9UVVVVVVXVP1RVVVVVVdU/VFVVVVVV1T9UVVVVVVXVP1RVVVVVVdU/VFVVVVVV1T9UVVVVVVXVP1RVVVVVVdU/VFVVVVVV1T9wHMdxHMfhP3Acx3Ecx+E/cBzHcRzH4T9wHMdxHMfhP3Acx3Ecx+E/cBzHcRzH4T9wHMdxHMfhP3Acx3Ecx+E/cBzHcRzH4T9wHMdxHMfhPziO4ziO4+g/OI7jOI7j6D84juM4juPoPziO4ziO4+g/OI7jOI7j6D84juM4juPoPziO4ziO4+g/OI7jOI7j6D84juM4juPoPziO4ziO4+g/AAAAAAAA8D8AAAAAAADwPwAAAAAAAPA/AAAAAAAA8D8AAAAAAADwPwAAAAAAAPA/AAAAAAAA8D8AAAAAAADwPwAAAAAAAPA/AAAAAAAA8D8=",
            "dtype": "f8"
           },
           "y": {
            "bdata": "R1juaYTl3r83KCvE2AfYvyj4Zx4tKtG/MJBJ8QKZxL9DwAyXrnarv0PADJeudqs/LpBJ8QKZxD8m+GceLSrRPzYoK8TYB9g/R1juaYTl3j9HWO5phOXevzcoK8TYB9i/KPhnHi0q0b8wkEnxApnEv0PADJeudqu/Q8AMl652qz8ukEnxApnEPyb4Zx4tKtE/NigrxNgH2D9HWO5phOXeP0dY7mmE5d6/NygrxNgH2L8o+GceLSrRvzCQSfECmcS/Q8AMl652q79DwAyXrnarPy6QSfECmcQ/JvhnHi0q0T82KCvE2AfYP0dY7mmE5d4/R1juaYTl3r83KCvE2AfYvyj4Zx4tKtG/MJBJ8QKZxL9DwAyXrnarv0PADJeudqs/LpBJ8QKZxD8m+GceLSrRPzYoK8TYB9g/R1juaYTl3j9HWO5phOXevzcoK8TYB9i/KPhnHi0q0b8wkEnxApnEv0PADJeudqu/Q8AMl652qz8ukEnxApnEPyb4Zx4tKtE/NigrxNgH2D9HWO5phOXeP0dY7mmE5d6/NygrxNgH2L8o+GceLSrRvzCQSfECmcS/Q8AMl652q79DwAyXrnarPy6QSfECmcQ/JvhnHi0q0T82KCvE2AfYP0dY7mmE5d4/R1juaYTl3r83KCvE2AfYvyj4Zx4tKtG/MJBJ8QKZxL9DwAyXrnarv0PADJeudqs/LpBJ8QKZxD8m+GceLSrRPzYoK8TYB9g/R1juaYTl3j9HWO5phOXevzcoK8TYB9i/KPhnHi0q0b8wkEnxApnEv0PADJeudqu/Q8AMl652qz8ukEnxApnEPyb4Zx4tKtE/NigrxNgH2D9HWO5phOXeP0dY7mmE5d6/NygrxNgH2L8o+GceLSrRvzCQSfECmcS/Q8AMl652q79DwAyXrnarPy6QSfECmcQ/JvhnHi0q0T82KCvE2AfYP0dY7mmE5d4/R1juaYTl3r83KCvE2AfYvyj4Zx4tKtG/MJBJ8QKZxL9DwAyXrnarv0PADJeudqs/LpBJ8QKZxD8m+GceLSrRPzYoK8TYB9g/R1juaYTl3j8=",
            "dtype": "f8"
           }
          },
          {
           "line": {
            "color": "blue",
            "width": 4
           },
           "marker": {
            "size": 6
           },
           "mode": "lines+markers",
           "name": "Vector",
           "type": "scatter",
           "x": [
            0,
            1
           ],
           "y": [
            0,
            0.4827586206896552
           ]
          },
          {
           "line": {
            "color": "black",
            "width": 3
           },
           "marker": {
            "size": 6
           },
           "mode": "lines+markers",
           "name": "X basis (transformed)",
           "type": "scatter",
           "x": [
            0,
            1
           ],
           "y": [
            0,
            0
           ]
          },
          {
           "line": {
            "color": "black",
            "width": 3
           },
           "marker": {
            "size": 6
           },
           "mode": "lines+markers",
           "name": "Y basis (transformed)",
           "type": "scatter",
           "x": [
            0,
            0
           ],
           "y": [
            0,
            0.4827586206896552
           ]
          }
         ],
         "name": "frame0.21"
        },
        {
         "data": [
          {
           "marker": {
            "color": "red",
            "size": 5
           },
           "mode": "markers",
           "name": "Grid",
           "type": "scatter",
           "x": {
            "bdata": "AAAAAAAA8L8AAAAAAADwvwAAAAAAAPC/AAAAAAAA8L8AAAAAAADwvwAAAAAAAPC/AAAAAAAA8L8AAAAAAADwvwAAAAAAAPC/AAAAAAAA8L85juM4juPovzmO4ziO4+i/OY7jOI7j6L85juM4juPovzmO4ziO4+i/OY7jOI7j6L85juM4juPovzmO4ziO4+i/OY7jOI7j6L85juM4juPov3Icx3Ecx+G/chzHcRzH4b9yHMdxHMfhv3Icx3Ecx+G/chzHcRzH4b9yHMdxHMfhv3Icx3Ecx+G/chzHcRzH4b9yHMdxHMfhv3Icx3Ecx+G/VlVVVVVV1b9WVVVVVVXVv1ZVVVVVVdW/VlVVVVVV1b9WVVVVVVXVv1ZVVVVVVdW/VlVVVVVV1b9WVVVVVVXVv1ZVVVVVVdW/VlVVVVVV1b8gx3Ecx3G8vyDHcRzHcby/IMdxHMdxvL8gx3Ecx3G8vyDHcRzHcby/IMdxHMdxvL8gx3Ecx3G8vyDHcRzHcby/IMdxHMdxvL8gx3Ecx3G8vyDHcRzHcbw/IMdxHMdxvD8gx3Ecx3G8PyDHcRzHcbw/IMdxHMdxvD8gx3Ecx3G8PyDHcRzHcbw/IMdxHMdxvD8gx3Ecx3G8PyDHcRzHcbw/VFVVVVVV1T9UVVVVVVXVP1RVVVVVVdU/VFVVVVVV1T9UVVVVVVXVP1RVVVVVVdU/VFVVVVVV1T9UVVVVVVXVP1RVVVVVVdU/VFVVVVVV1T9wHMdxHMfhP3Acx3Ecx+E/cBzHcRzH4T9wHMdxHMfhP3Acx3Ecx+E/cBzHcRzH4T9wHMdxHMfhP3Acx3Ecx+E/cBzHcRzH4T9wHMdxHMfhPziO4ziO4+g/OI7jOI7j6D84juM4juPoPziO4ziO4+g/OI7jOI7j6D84juM4juPoPziO4ziO4+g/OI7jOI7j6D84juM4juPoPziO4ziO4+g/AAAAAAAA8D8AAAAAAADwPwAAAAAAAPA/AAAAAAAA8D8AAAAAAADwPwAAAAAAAPA/AAAAAAAA8D8AAAAAAADwPwAAAAAAAPA/AAAAAAAA8D8=",
            "dtype": "f8"
           },
           "y": {
            "bdata": "qBGWexph2b8tKpF8Tb3Tv2aFGPsAM8y/cbYO/WbrwL/tnRP8M4+mv+2dE/wzj6Y/b7YO/WbrwD9jhRj7ADPMPy0qkXxNvdM/qBGWexph2T+oEZZ7GmHZvy0qkXxNvdO/ZoUY+wAzzL9xtg79ZuvAv+2dE/wzj6a/7Z0T/DOPpj9vtg79ZuvAP2OFGPsAM8w/LSqRfE290z+oEZZ7GmHZP6gRlnsaYdm/LSqRfE29079mhRj7ADPMv3G2Dv1m68C/7Z0T/DOPpr/tnRP8M4+mP2+2Dv1m68A/Y4UY+wAzzD8tKpF8Tb3TP6gRlnsaYdk/qBGWexph2b8tKpF8Tb3Tv2aFGPsAM8y/cbYO/WbrwL/tnRP8M4+mv+2dE/wzj6Y/b7YO/WbrwD9jhRj7ADPMPy0qkXxNvdM/qBGWexph2T+oEZZ7GmHZvy0qkXxNvdO/ZoUY+wAzzL9xtg79ZuvAv+2dE/wzj6a/7Z0T/DOPpj9vtg79ZuvAP2OFGPsAM8w/LSqRfE290z+oEZZ7GmHZP6gRlnsaYdm/LSqRfE29079mhRj7ADPMv3G2Dv1m68C/7Z0T/DOPpr/tnRP8M4+mP2+2Dv1m68A/Y4UY+wAzzD8tKpF8Tb3TP6gRlnsaYdk/qBGWexph2b8tKpF8Tb3Tv2aFGPsAM8y/cbYO/WbrwL/tnRP8M4+mv+2dE/wzj6Y/b7YO/WbrwD9jhRj7ADPMPy0qkXxNvdM/qBGWexph2T+oEZZ7GmHZvy0qkXxNvdO/ZoUY+wAzzL9xtg79ZuvAv+2dE/wzj6a/7Z0T/DOPpj9vtg79ZuvAP2OFGPsAM8w/LSqRfE290z+oEZZ7GmHZP6gRlnsaYdm/LSqRfE29079mhRj7ADPMv3G2Dv1m68C/7Z0T/DOPpr/tnRP8M4+mP2+2Dv1m68A/Y4UY+wAzzD8tKpF8Tb3TP6gRlnsaYdk/qBGWexph2b8tKpF8Tb3Tv2aFGPsAM8y/cbYO/WbrwL/tnRP8M4+mv+2dE/wzj6Y/b7YO/WbrwD9jhRj7ADPMPy0qkXxNvdM/qBGWexph2T8=",
            "dtype": "f8"
           }
          },
          {
           "line": {
            "color": "blue",
            "width": 4
           },
           "marker": {
            "size": 6
           },
           "mode": "lines+markers",
           "name": "Vector",
           "type": "scatter",
           "x": [
            0,
            1
           ],
           "y": [
            0,
            0.39655172413793105
           ]
          },
          {
           "line": {
            "color": "black",
            "width": 3
           },
           "marker": {
            "size": 6
           },
           "mode": "lines+markers",
           "name": "X basis (transformed)",
           "type": "scatter",
           "x": [
            0,
            1
           ],
           "y": [
            0,
            0
           ]
          },
          {
           "line": {
            "color": "black",
            "width": 3
           },
           "marker": {
            "size": 6
           },
           "mode": "lines+markers",
           "name": "Y basis (transformed)",
           "type": "scatter",
           "x": [
            0,
            0
           ],
           "y": [
            0,
            0.39655172413793105
           ]
          }
         ],
         "name": "frame0.24"
        },
        {
         "data": [
          {
           "marker": {
            "color": "red",
            "size": 5
           },
           "mode": "markers",
           "name": "Grid",
           "type": "scatter",
           "x": {
            "bdata": "AAAAAAAA8L8AAAAAAADwvwAAAAAAAPC/AAAAAAAA8L8AAAAAAADwvwAAAAAAAPC/AAAAAAAA8L8AAAAAAADwvwAAAAAAAPC/AAAAAAAA8L85juM4juPovzmO4ziO4+i/OY7jOI7j6L85juM4juPovzmO4ziO4+i/OY7jOI7j6L85juM4juPovzmO4ziO4+i/OY7jOI7j6L85juM4juPov3Icx3Ecx+G/chzHcRzH4b9yHMdxHMfhv3Icx3Ecx+G/chzHcRzH4b9yHMdxHMfhv3Icx3Ecx+G/chzHcRzH4b9yHMdxHMfhv3Icx3Ecx+G/VlVVVVVV1b9WVVVVVVXVv1ZVVVVVVdW/VlVVVVVV1b9WVVVVVVXVv1ZVVVVVVdW/VlVVVVVV1b9WVVVVVVXVv1ZVVVVVVdW/VlVVVVVV1b8gx3Ecx3G8vyDHcRzHcby/IMdxHMdxvL8gx3Ecx3G8vyDHcRzHcby/IMdxHMdxvL8gx3Ecx3G8vyDHcRzHcby/IMdxHMdxvL8gx3Ecx3G8vyDHcRzHcbw/IMdxHMdxvD8gx3Ecx3G8PyDHcRzHcbw/IMdxHMdxvD8gx3Ecx3G8PyDHcRzHcbw/IMdxHMdxvD8gx3Ecx3G8PyDHcRzHcbw/VFVVVVVV1T9UVVVVVVXVP1RVVVVVVdU/VFVVVVVV1T9UVVVVVVXVP1RVVVVVVdU/VFVVVVVV1T9UVVVVVVXVP1RVVVVVVdU/VFVVVVVV1T9wHMdxHMfhP3Acx3Ecx+E/cBzHcRzH4T9wHMdxHMfhP3Acx3Ecx+E/cBzHcRzH4T9wHMdxHMfhP3Acx3Ecx+E/cBzHcRzH4T9wHMdxHMfhPziO4ziO4+g/OI7jOI7j6D84juM4juPoPziO4ziO4+g/OI7jOI7j6D84juM4juPoPziO4ziO4+g/OI7jOI7j6D84juM4juPoPziO4ziO4+g/AAAAAAAA8D8AAAAAAADwPwAAAAAAAPA/AAAAAAAA8D8AAAAAAADwPwAAAAAAAPA/AAAAAAAA8D8AAAAAAADwPwAAAAAAAPA/AAAAAAAA8D8=",
            "dtype": "f8"
           },
           "y": {
            "bdata": "Ccs9jbDc079HWO5phOXOv3waYbmnEca/YrmnEZZ7ur+Yexphuaehv5h7GmG5p6E/YLmnEZZ7uj96GmG5pxHGP0ZY7mmE5c4/Ccs9jbDc0z8Jyz2NsNzTv0dY7mmE5c6/fBphuacRxr9iuacRlnu6v5h7GmG5p6G/mHsaYbmnoT9guacRlnu6P3oaYbmnEcY/RljuaYTlzj8Jyz2NsNzTPwnLPY2w3NO/R1juaYTlzr98GmG5pxHGv2K5pxGWe7q/mHsaYbmnob+YexphuaehP2C5pxGWe7o/ehphuacRxj9GWO5phOXOPwnLPY2w3NM/Ccs9jbDc079HWO5phOXOv3waYbmnEca/YrmnEZZ7ur+Yexphuaehv5h7GmG5p6E/YLmnEZZ7uj96GmG5pxHGP0ZY7mmE5c4/Ccs9jbDc0z8Jyz2NsNzTv0dY7mmE5c6/fBphuacRxr9iuacRlnu6v5h7GmG5p6G/mHsaYbmnoT9guacRlnu6P3oaYbmnEcY/RljuaYTlzj8Jyz2NsNzTPwnLPY2w3NO/R1juaYTlzr98GmG5pxHGv2K5pxGWe7q/mHsaYbmnob+YexphuaehP2C5pxGWe7o/ehphuacRxj9GWO5phOXOPwnLPY2w3NM/Ccs9jbDc079HWO5phOXOv3waYbmnEca/YrmnEZZ7ur+Yexphuaehv5h7GmG5p6E/YLmnEZZ7uj96GmG5pxHGP0ZY7mmE5c4/Ccs9jbDc0z8Jyz2NsNzTv0dY7mmE5c6/fBphuacRxr9iuacRlnu6v5h7GmG5p6G/mHsaYbmnoT9guacRlnu6P3oaYbmnEcY/RljuaYTlzj8Jyz2NsNzTPwnLPY2w3NO/R1juaYTlzr98GmG5pxHGv2K5pxGWe7q/mHsaYbmnob+YexphuaehP2C5pxGWe7o/ehphuacRxj9GWO5phOXOPwnLPY2w3NM/Ccs9jbDc079HWO5phOXOv3waYbmnEca/YrmnEZZ7ur+Yexphuaehv5h7GmG5p6E/YLmnEZZ7uj96GmG5pxHGP0ZY7mmE5c4/Ccs9jbDc0z8=",
            "dtype": "f8"
           }
          },
          {
           "line": {
            "color": "blue",
            "width": 4
           },
           "marker": {
            "size": 6
           },
           "mode": "lines+markers",
           "name": "Vector",
           "type": "scatter",
           "x": [
            0,
            1
           ],
           "y": [
            0,
            0.3103448275862069
           ]
          },
          {
           "line": {
            "color": "black",
            "width": 3
           },
           "marker": {
            "size": 6
           },
           "mode": "lines+markers",
           "name": "X basis (transformed)",
           "type": "scatter",
           "x": [
            0,
            1
           ],
           "y": [
            0,
            0
           ]
          },
          {
           "line": {
            "color": "black",
            "width": 3
           },
           "marker": {
            "size": 6
           },
           "mode": "lines+markers",
           "name": "Y basis (transformed)",
           "type": "scatter",
           "x": [
            0,
            0
           ],
           "y": [
            0,
            0.3103448275862069
           ]
          }
         ],
         "name": "frame0.28"
        },
        {
         "data": [
          {
           "marker": {
            "color": "red",
            "size": 5
           },
           "mode": "markers",
           "name": "Grid",
           "type": "scatter",
           "x": {
            "bdata": "AAAAAAAA8L8AAAAAAADwvwAAAAAAAPC/AAAAAAAA8L8AAAAAAADwvwAAAAAAAPC/AAAAAAAA8L8AAAAAAADwvwAAAAAAAPC/AAAAAAAA8L85juM4juPovzmO4ziO4+i/OY7jOI7j6L85juM4juPovzmO4ziO4+i/OY7jOI7j6L85juM4juPovzmO4ziO4+i/OY7jOI7j6L85juM4juPov3Icx3Ecx+G/chzHcRzH4b9yHMdxHMfhv3Icx3Ecx+G/chzHcRzH4b9yHMdxHMfhv3Icx3Ecx+G/chzHcRzH4b9yHMdxHMfhv3Icx3Ecx+G/VlVVVVVV1b9WVVVVVVXVv1ZVVVVVVdW/VlVVVVVV1b9WVVVVVVXVv1ZVVVVVVdW/VlVVVVVV1b9WVVVVVVXVv1ZVVVVVVdW/VlVVVVVV1b8gx3Ecx3G8vyDHcRzHcby/IMdxHMdxvL8gx3Ecx3G8vyDHcRzHcby/IMdxHMdxvL8gx3Ecx3G8vyDHcRzHcby/IMdxHMdxvL8gx3Ecx3G8vyDHcRzHcbw/IMdxHMdxvD8gx3Ecx3G8PyDHcRzHcbw/IMdxHMdxvD8gx3Ecx3G8PyDHcRzHcbw/IMdxHMdxvD8gx3Ecx3G8PyDHcRzHcbw/VFVVVVVV1T9UVVVVVVXVP1RVVVVVVdU/VFVVVVVV1T9UVVVVVVXVP1RVVVVVVdU/VFVVVVVV1T9UVVVVVVXVP1RVVVVVVdU/VFVVVVVV1T9wHMdxHMfhP3Acx3Ecx+E/cBzHcRzH4T9wHMdxHMfhP3Acx3Ecx+E/cBzHcRzH4T9wHMdxHMfhP3Acx3Ecx+E/cBzHcRzH4T9wHMdxHMfhPziO4ziO4+g/OI7jOI7j6D84juM4juPoPziO4ziO4+g/OI7jOI7j6D84juM4juPoPziO4ziO4+g/OI7jOI7j6D84juM4juPoPziO4ziO4+g/AAAAAAAA8D8AAAAAAADwPwAAAAAAAPA/AAAAAAAA8D8AAAAAAADwPwAAAAAAAPA/AAAAAAAA8D8AAAAAAADwPwAAAAAAAPA/AAAAAAAA8D8=",
            "dtype": "f8"
           },
           "y": {
            "bdata": "1AjLPY2wzL8zXLrabVDGvyVfU++c4L+/4wUyKV4gs7+HskKMfYCZv4eyQox9gJk/4QUyKV4gsz8hX1PvnOC/PzJcutptUMY/1AjLPY2wzD/UCMs9jbDMvzNcutptUMa/JV9T75zgv7/jBTIpXiCzv4eyQox9gJm/h7JCjH2AmT/hBTIpXiCzPyFfU++c4L8/Mly62m1Qxj/UCMs9jbDMP9QIyz2NsMy/M1y62m1Qxr8lX1PvnOC/v+MFMileILO/h7JCjH2Amb+HskKMfYCZP+EFMileILM/IV9T75zgvz8yXLrabVDGP9QIyz2NsMw/1AjLPY2wzL8zXLrabVDGvyVfU++c4L+/4wUyKV4gs7+HskKMfYCZv4eyQox9gJk/4QUyKV4gsz8hX1PvnOC/PzJcutptUMY/1AjLPY2wzD/UCMs9jbDMvzNcutptUMa/JV9T75zgv7/jBTIpXiCzv4eyQox9gJm/h7JCjH2AmT/hBTIpXiCzPyFfU++c4L8/Mly62m1Qxj/UCMs9jbDMP9QIyz2NsMy/M1y62m1Qxr8lX1PvnOC/v+MFMileILO/h7JCjH2Amb+HskKMfYCZP+EFMileILM/IV9T75zgvz8yXLrabVDGP9QIyz2NsMw/1AjLPY2wzL8zXLrabVDGvyVfU++c4L+/4wUyKV4gs7+HskKMfYCZv4eyQox9gJk/4QUyKV4gsz8hX1PvnOC/PzJcutptUMY/1AjLPY2wzD/UCMs9jbDMvzNcutptUMa/JV9T75zgv7/jBTIpXiCzv4eyQox9gJm/h7JCjH2AmT/hBTIpXiCzPyFfU++c4L8/Mly62m1Qxj/UCMs9jbDMP9QIyz2NsMy/M1y62m1Qxr8lX1PvnOC/v+MFMileILO/h7JCjH2Amb+HskKMfYCZP+EFMileILM/IV9T75zgvz8yXLrabVDGP9QIyz2NsMw/1AjLPY2wzL8zXLrabVDGvyVfU++c4L+/4wUyKV4gs7+HskKMfYCZv4eyQox9gJk/4QUyKV4gsz8hX1PvnOC/PzJcutptUMY/1AjLPY2wzD8=",
            "dtype": "f8"
           }
          },
          {
           "line": {
            "color": "blue",
            "width": 4
           },
           "marker": {
            "size": 6
           },
           "mode": "lines+markers",
           "name": "Vector",
           "type": "scatter",
           "x": [
            0,
            1
           ],
           "y": [
            0,
            0.22413793103448276
           ]
          },
          {
           "line": {
            "color": "black",
            "width": 3
           },
           "marker": {
            "size": 6
           },
           "mode": "lines+markers",
           "name": "X basis (transformed)",
           "type": "scatter",
           "x": [
            0,
            1
           ],
           "y": [
            0,
            0
           ]
          },
          {
           "line": {
            "color": "black",
            "width": 3
           },
           "marker": {
            "size": 6
           },
           "mode": "lines+markers",
           "name": "Y basis (transformed)",
           "type": "scatter",
           "x": [
            0,
            0
           ],
           "y": [
            0,
            0.22413793103448276
           ]
          }
         ],
         "name": "frame0.31"
        },
        {
         "data": [
          {
           "marker": {
            "color": "red",
            "size": 5
           },
           "mode": "markers",
           "name": "Grid",
           "type": "scatter",
           "x": {
            "bdata": "AAAAAAAA8L8AAAAAAADwvwAAAAAAAPC/AAAAAAAA8L8AAAAAAADwvwAAAAAAAPC/AAAAAAAA8L8AAAAAAADwvwAAAAAAAPC/AAAAAAAA8L85juM4juPovzmO4ziO4+i/OY7jOI7j6L85juM4juPovzmO4ziO4+i/OY7jOI7j6L85juM4juPovzmO4ziO4+i/OY7jOI7j6L85juM4juPov3Icx3Ecx+G/chzHcRzH4b9yHMdxHMfhv3Icx3Ecx+G/chzHcRzH4b9yHMdxHMfhv3Icx3Ecx+G/chzHcRzH4b9yHMdxHMfhv3Icx3Ecx+G/VlVVVVVV1b9WVVVVVVXVv1ZVVVVVVdW/VlVVVVVV1b9WVVVVVVXVv1ZVVVVVVdW/VlVVVVVV1b9WVVVVVVXVv1ZVVVVVVdW/VlVVVVVV1b8gx3Ecx3G8vyDHcRzHcby/IMdxHMdxvL8gx3Ecx3G8vyDHcRzHcby/IMdxHMdxvL8gx3Ecx3G8vyDHcRzHcby/IMdxHMdxvL8gx3Ecx3G8vyDHcRzHcbw/IMdxHMdxvD8gx3Ecx3G8PyDHcRzHcbw/IMdxHMdxvD8gx3Ecx3G8PyDHcRzHcbw/IMdxHMdxvD8gx3Ecx3G8PyDHcRzHcbw/VFVVVVVV1T9UVVVVVVXVP1RVVVVVVdU/VFVVVVVV1T9UVVVVVVXVP1RVVVVVVdU/VFVVVVVV1T9UVVVVVVXVP1RVVVVVVdU/VFVVVVVV1T9wHMdxHMfhP3Acx3Ecx+E/cBzHcRzH4T9wHMdxHMfhP3Acx3Ecx+E/cBzHcRzH4T9wHMdxHMfhP3Acx3Ecx+E/cBzHcRzH4T9wHMdxHMfhPziO4ziO4+g/OI7jOI7j6D84juM4juPoPziO4ziO4+g/OI7jOI7j6D84juM4juPoPziO4ziO4+g/OI7jOI7j6D84juM4juPoPziO4ziO4+g/AAAAAAAA8D8AAAAAAADwPwAAAAAAAPA/AAAAAAAA8D8AAAAAAADwPwAAAAAAAPA/AAAAAAAA8D8AAAAAAADwPwAAAAAAAPA/AAAAAAAA8D8=",
            "dtype": "f8"
           },
           "y": {
            "bdata": "lHsaYbmnwb88wAyXrna7v0+J5GvqnbO/xqR4gUyKp7+226CsEGOPv7bboKwQY48/xKR4gUyKpz9NieRr6p2zPzvADJeudrs/lHsaYbmnwT+UexphuafBvzzADJeudru/T4nka+qds7/GpHiBTIqnv7bboKwQY4+/ttugrBBjjz/EpHiBTIqnP02J5GvqnbM/O8AMl652uz+UexphuafBP5R7GmG5p8G/PMAMl652u79PieRr6p2zv8akeIFMiqe/ttugrBBjj7+226CsEGOPP8SkeIFMiqc/TYnka+qdsz87wAyXrna7P5R7GmG5p8E/lHsaYbmnwb88wAyXrna7v0+J5GvqnbO/xqR4gUyKp7+226CsEGOPv7bboKwQY48/xKR4gUyKpz9NieRr6p2zPzvADJeudrs/lHsaYbmnwT+UexphuafBvzzADJeudru/T4nka+qds7/GpHiBTIqnv7bboKwQY4+/ttugrBBjjz/EpHiBTIqnP02J5GvqnbM/O8AMl652uz+UexphuafBP5R7GmG5p8G/PMAMl652u79PieRr6p2zv8akeIFMiqe/ttugrBBjj7+226CsEGOPP8SkeIFMiqc/TYnka+qdsz87wAyXrna7P5R7GmG5p8E/lHsaYbmnwb88wAyXrna7v0+J5GvqnbO/xqR4gUyKp7+226CsEGOPv7bboKwQY48/xKR4gUyKpz9NieRr6p2zPzvADJeudrs/lHsaYbmnwT+UexphuafBvzzADJeudru/T4nka+qds7/GpHiBTIqnv7bboKwQY4+/ttugrBBjjz/EpHiBTIqnP02J5GvqnbM/O8AMl652uz+UexphuafBP5R7GmG5p8G/PMAMl652u79PieRr6p2zv8akeIFMiqe/ttugrBBjj7+226CsEGOPP8SkeIFMiqc/TYnka+qdsz87wAyXrna7P5R7GmG5p8E/lHsaYbmnwb88wAyXrna7v0+J5GvqnbO/xqR4gUyKp7+226CsEGOPv7bboKwQY48/xKR4gUyKpz9NieRr6p2zPzvADJeudrs/lHsaYbmnwT8=",
            "dtype": "f8"
           }
          },
          {
           "line": {
            "color": "blue",
            "width": 4
           },
           "marker": {
            "size": 6
           },
           "mode": "lines+markers",
           "name": "Vector",
           "type": "scatter",
           "x": [
            0,
            1
           ],
           "y": [
            0,
            0.13793103448275856
           ]
          },
          {
           "line": {
            "color": "black",
            "width": 3
           },
           "marker": {
            "size": 6
           },
           "mode": "lines+markers",
           "name": "X basis (transformed)",
           "type": "scatter",
           "x": [
            0,
            1
           ],
           "y": [
            0,
            0
           ]
          },
          {
           "line": {
            "color": "black",
            "width": 3
           },
           "marker": {
            "size": 6
           },
           "mode": "lines+markers",
           "name": "Y basis (transformed)",
           "type": "scatter",
           "x": [
            0,
            0
           ],
           "y": [
            0,
            0.13793103448275856
           ]
          }
         ],
         "name": "frame0.34"
        },
        {
         "data": [
          {
           "marker": {
            "color": "red",
            "size": 5
           },
           "mode": "markers",
           "name": "Grid",
           "type": "scatter",
           "x": {
            "bdata": "AAAAAAAA8L8AAAAAAADwvwAAAAAAAPC/AAAAAAAA8L8AAAAAAADwvwAAAAAAAPC/AAAAAAAA8L8AAAAAAADwvwAAAAAAAPC/AAAAAAAA8L85juM4juPovzmO4ziO4+i/OY7jOI7j6L85juM4juPovzmO4ziO4+i/OY7jOI7j6L85juM4juPovzmO4ziO4+i/OY7jOI7j6L85juM4juPov3Icx3Ecx+G/chzHcRzH4b9yHMdxHMfhv3Icx3Ecx+G/chzHcRzH4b9yHMdxHMfhv3Icx3Ecx+G/chzHcRzH4b9yHMdxHMfhv3Icx3Ecx+G/VlVVVVVV1b9WVVVVVVXVv1ZVVVVVVdW/VlVVVVVV1b9WVVVVVVXVv1ZVVVVVVdW/VlVVVVVV1b9WVVVVVVXVv1ZVVVVVVdW/VlVVVVVV1b8gx3Ecx3G8vyDHcRzHcby/IMdxHMdxvL8gx3Ecx3G8vyDHcRzHcby/IMdxHMdxvL8gx3Ecx3G8vyDHcRzHcby/IMdxHMdxvL8gx3Ecx3G8vyDHcRzHcbw/IMdxHMdxvD8gx3Ecx3G8PyDHcRzHcbw/IMdxHMdxvD8gx3Ecx3G8PyDHcRzHcbw/IMdxHMdxvD8gx3Ecx3G8PyDHcRzHcbw/VFVVVVVV1T9UVVVVVVXVP1RVVVVVVdU/VFVVVVVV1T9UVVVVVVXVP1RVVVVVVdU/VFVVVVVV1T9UVVVVVVXVP1RVVVVVVdU/VFVVVVVV1T9wHMdxHMfhP3Acx3Ecx+E/cBzHcRzH4T9wHMdxHMfhP3Acx3Ecx+E/cBzHcRzH4T9wHMdxHMfhP3Acx3Ecx+E/cBzHcRzH4T9wHMdxHMfhPziO4ziO4+g/OI7jOI7j6D84juM4juPoPziO4ziO4+g/OI7jOI7j6D84juM4juPoPziO4ziO4+g/OI7jOI7j6D84juM4juPoPziO4ziO4+g/AAAAAAAA8D8AAAAAAADwPwAAAAAAAPA/AAAAAAAA8D8AAAAAAADwPwAAAAAAAPA/AAAAAAAA8D8AAAAAAADwPwAAAAAAAPA/AAAAAAAA8D8=",
            "dtype": "f8"
           },
           "y": {
            "bdata": "cLmnEZZ7qr87kEnxApmkvwvO1qHfbJ2/oXsaYbmnkb/YpHiBTIp3v9ikeIFMinc/n3saYbmnkT8Iztah32ydPzqQSfECmaQ/cLmnEZZ7qj9wuacRlnuqvzuQSfECmaS/C87Wod9snb+hexphuaeRv9ikeIFMine/2KR4gUyKdz+fexphuaeRPwjO1qHfbJ0/OpBJ8QKZpD9wuacRlnuqP3C5pxGWe6q/O5BJ8QKZpL8Lztah32ydv6F7GmG5p5G/2KR4gUyKd7/YpHiBTIp3P597GmG5p5E/CM7Wod9snT86kEnxApmkP3C5pxGWe6o/cLmnEZZ7qr87kEnxApmkvwvO1qHfbJ2/oXsaYbmnkb/YpHiBTIp3v9ikeIFMinc/n3saYbmnkT8Iztah32ydPzqQSfECmaQ/cLmnEZZ7qj9wuacRlnuqvzuQSfECmaS/C87Wod9snb+hexphuaeRv9ikeIFMine/2KR4gUyKdz+fexphuaeRPwjO1qHfbJ0/OpBJ8QKZpD9wuacRlnuqP3C5pxGWe6q/O5BJ8QKZpL8Lztah32ydv6F7GmG5p5G/2KR4gUyKd7/YpHiBTIp3P597GmG5p5E/CM7Wod9snT86kEnxApmkP3C5pxGWe6o/cLmnEZZ7qr87kEnxApmkvwvO1qHfbJ2/oXsaYbmnkb/YpHiBTIp3v9ikeIFMinc/n3saYbmnkT8Iztah32ydPzqQSfECmaQ/cLmnEZZ7qj9wuacRlnuqvzuQSfECmaS/C87Wod9snb+hexphuaeRv9ikeIFMine/2KR4gUyKdz+fexphuaeRPwjO1qHfbJ0/OpBJ8QKZpD9wuacRlnuqP3C5pxGWe6q/O5BJ8QKZpL8Lztah32ydv6F7GmG5p5G/2KR4gUyKd7/YpHiBTIp3P597GmG5p5E/CM7Wod9snT86kEnxApmkP3C5pxGWe6o/cLmnEZZ7qr87kEnxApmkvwvO1qHfbJ2/oXsaYbmnkb/YpHiBTIp3v9ikeIFMinc/n3saYbmnkT8Iztah32ydPzqQSfECmaQ/cLmnEZZ7qj8=",
            "dtype": "f8"
           }
          },
          {
           "line": {
            "color": "blue",
            "width": 4
           },
           "marker": {
            "size": 6
           },
           "mode": "lines+markers",
           "name": "Vector",
           "type": "scatter",
           "x": [
            0,
            1
           ],
           "y": [
            0,
            0.051724137931034586
           ]
          },
          {
           "line": {
            "color": "black",
            "width": 3
           },
           "marker": {
            "size": 6
           },
           "mode": "lines+markers",
           "name": "X basis (transformed)",
           "type": "scatter",
           "x": [
            0,
            1
           ],
           "y": [
            0,
            0
           ]
          },
          {
           "line": {
            "color": "black",
            "width": 3
           },
           "marker": {
            "size": 6
           },
           "mode": "lines+markers",
           "name": "Y basis (transformed)",
           "type": "scatter",
           "x": [
            0,
            0
           ],
           "y": [
            0,
            0.051724137931034586
           ]
          }
         ],
         "name": "frame0.38"
        },
        {
         "data": [
          {
           "marker": {
            "color": "red",
            "size": 5
           },
           "mode": "markers",
           "name": "Grid",
           "type": "scatter",
           "x": {
            "bdata": "AAAAAAAA8L8AAAAAAADwvwAAAAAAAPC/AAAAAAAA8L8AAAAAAADwvwAAAAAAAPC/AAAAAAAA8L8AAAAAAADwvwAAAAAAAPC/AAAAAAAA8L85juM4juPovzmO4ziO4+i/OY7jOI7j6L85juM4juPovzmO4ziO4+i/OY7jOI7j6L85juM4juPovzmO4ziO4+i/OY7jOI7j6L85juM4juPov3Icx3Ecx+G/chzHcRzH4b9yHMdxHMfhv3Icx3Ecx+G/chzHcRzH4b9yHMdxHMfhv3Icx3Ecx+G/chzHcRzH4b9yHMdxHMfhv3Icx3Ecx+G/VlVVVVVV1b9WVVVVVVXVv1ZVVVVVVdW/VlVVVVVV1b9WVVVVVVXVv1ZVVVVVVdW/VlVVVVVV1b9WVVVVVVXVv1ZVVVVVVdW/VlVVVVVV1b8gx3Ecx3G8vyDHcRzHcby/IMdxHMdxvL8gx3Ecx3G8vyDHcRzHcby/IMdxHMdxvL8gx3Ecx3G8vyDHcRzHcby/IMdxHMdxvL8gx3Ecx3G8vyDHcRzHcbw/IMdxHMdxvD8gx3Ecx3G8PyDHcRzHcbw/IMdxHMdxvD8gx3Ecx3G8PyDHcRzHcbw/IMdxHMdxvD8gx3Ecx3G8PyDHcRzHcbw/VFVVVVVV1T9UVVVVVVXVP1RVVVVVVdU/VFVVVVVV1T9UVVVVVVXVP1RVVVVVVdU/VFVVVVVV1T9UVVVVVVXVP1RVVVVVVdU/VFVVVVVV1T9wHMdxHMfhP3Acx3Ecx+E/cBzHcRzH4T9wHMdxHMfhP3Acx3Ecx+E/cBzHcRzH4T9wHMdxHMfhP3Acx3Ecx+E/cBzHcRzH4T9wHMdxHMfhPziO4ziO4+g/OI7jOI7j6D84juM4juPoPziO4ziO4+g/OI7jOI7j6D84juM4juPoPziO4ziO4+g/OI7jOI7j6D84juM4juPoPziO4ziO4+g/AAAAAAAA8D8AAAAAAADwPwAAAAAAAPA/AAAAAAAA8D8AAAAAAADwPwAAAAAAAPA/AAAAAAAA8D8AAAAAAADwPwAAAAAAAPA/AAAAAAAA8D8=",
            "dtype": "f8"
           },
           "y": {
            "bdata": "kHsaYbmnoT81wAyXrnabP0uJ5GvqnZM/waR4gUyKhz+v26CsEGNvP6/boKwQY2+/v6R4gUyKh79JieRr6p2TvzTADJeudpu/kHsaYbmnob+QexphuaehPzXADJeudps/S4nka+qdkz/BpHiBTIqHP6/boKwQY28/r9ugrBBjb7+/pHiBTIqHv0mJ5GvqnZO/NMAMl652m7+Qexphuaehv5B7GmG5p6E/NcAMl652mz9LieRr6p2TP8GkeIFMioc/r9ugrBBjbz+v26CsEGNvv7+keIFMioe/SYnka+qdk780wAyXrnabv5B7GmG5p6G/kHsaYbmnoT81wAyXrnabP0uJ5GvqnZM/waR4gUyKhz+v26CsEGNvP6/boKwQY2+/v6R4gUyKh79JieRr6p2TvzTADJeudpu/kHsaYbmnob+QexphuaehPzXADJeudps/S4nka+qdkz/BpHiBTIqHP6/boKwQY28/r9ugrBBjb7+/pHiBTIqHv0mJ5GvqnZO/NMAMl652m7+Qexphuaehv5B7GmG5p6E/NcAMl652mz9LieRr6p2TP8GkeIFMioc/r9ugrBBjbz+v26CsEGNvv7+keIFMioe/SYnka+qdk780wAyXrnabv5B7GmG5p6G/kHsaYbmnoT81wAyXrnabP0uJ5GvqnZM/waR4gUyKhz+v26CsEGNvP6/boKwQY2+/v6R4gUyKh79JieRr6p2TvzTADJeudpu/kHsaYbmnob+QexphuaehPzXADJeudps/S4nka+qdkz/BpHiBTIqHP6/boKwQY28/r9ugrBBjb7+/pHiBTIqHv0mJ5GvqnZO/NMAMl652m7+Qexphuaehv5B7GmG5p6E/NcAMl652mz9LieRr6p2TP8GkeIFMioc/r9ugrBBjbz+v26CsEGNvv7+keIFMioe/SYnka+qdk780wAyXrnabv5B7GmG5p6G/kHsaYbmnoT81wAyXrnabP0uJ5GvqnZM/waR4gUyKhz+v26CsEGNvP6/boKwQY2+/v6R4gUyKh79JieRr6p2TvzTADJeudpu/kHsaYbmnob8=",
            "dtype": "f8"
           }
          },
          {
           "line": {
            "color": "blue",
            "width": 4
           },
           "marker": {
            "size": 6
           },
           "mode": "lines+markers",
           "name": "Vector",
           "type": "scatter",
           "x": [
            0,
            1
           ],
           "y": [
            0,
            -0.03448275862068961
           ]
          },
          {
           "line": {
            "color": "black",
            "width": 3
           },
           "marker": {
            "size": 6
           },
           "mode": "lines+markers",
           "name": "X basis (transformed)",
           "type": "scatter",
           "x": [
            0,
            1
           ],
           "y": [
            0,
            0
           ]
          },
          {
           "line": {
            "color": "black",
            "width": 3
           },
           "marker": {
            "size": 6
           },
           "mode": "lines+markers",
           "name": "Y basis (transformed)",
           "type": "scatter",
           "x": [
            0,
            0
           ],
           "y": [
            0,
            -0.03448275862068961
           ]
          }
         ],
         "name": "frame0.41"
        },
        {
         "data": [
          {
           "marker": {
            "color": "red",
            "size": 5
           },
           "mode": "markers",
           "name": "Grid",
           "type": "scatter",
           "x": {
            "bdata": "AAAAAAAA8L8AAAAAAADwvwAAAAAAAPC/AAAAAAAA8L8AAAAAAADwvwAAAAAAAPC/AAAAAAAA8L8AAAAAAADwvwAAAAAAAPC/AAAAAAAA8L85juM4juPovzmO4ziO4+i/OY7jOI7j6L85juM4juPovzmO4ziO4+i/OY7jOI7j6L85juM4juPovzmO4ziO4+i/OY7jOI7j6L85juM4juPov3Icx3Ecx+G/chzHcRzH4b9yHMdxHMfhv3Icx3Ecx+G/chzHcRzH4b9yHMdxHMfhv3Icx3Ecx+G/chzHcRzH4b9yHMdxHMfhv3Icx3Ecx+G/VlVVVVVV1b9WVVVVVVXVv1ZVVVVVVdW/VlVVVVVV1b9WVVVVVVXVv1ZVVVVVVdW/VlVVVVVV1b9WVVVVVVXVv1ZVVVVVVdW/VlVVVVVV1b8gx3Ecx3G8vyDHcRzHcby/IMdxHMdxvL8gx3Ecx3G8vyDHcRzHcby/IMdxHMdxvL8gx3Ecx3G8vyDHcRzHcby/IMdxHMdxvL8gx3Ecx3G8vyDHcRzHcbw/IMdxHMdxvD8gx3Ecx3G8PyDHcRzHcbw/IMdxHMdxvD8gx3Ecx3G8PyDHcRzHcbw/IMdxHMdxvD8gx3Ecx3G8PyDHcRzHcbw/VFVVVVVV1T9UVVVVVVXVP1RVVVVVVdU/VFVVVVVV1T9UVVVVVVXVP1RVVVVVVdU/VFVVVVVV1T9UVVVVVVXVP1RVVVVVVdU/VFVVVVVV1T9wHMdxHMfhP3Acx3Ecx+E/cBzHcRzH4T9wHMdxHMfhP3Acx3Ecx+E/cBzHcRzH4T9wHMdxHMfhP3Acx3Ecx+E/cBzHcRzH4T9wHMdxHMfhPziO4ziO4+g/OI7jOI7j6D84juM4juPoPziO4ziO4+g/OI7jOI7j6D84juM4juPoPziO4ziO4+g/OI7jOI7j6D84juM4juPoPziO4ziO4+g/AAAAAAAA8D8AAAAAAADwPwAAAAAAAPA/AAAAAAAA8D8AAAAAAADwPwAAAAAAAPA/AAAAAAAA8D8AAAAAAADwPwAAAAAAAPA/AAAAAAAA8D8=",
            "dtype": "f8"
           },
           "y": {
            "bdata": "SFjuaYTlvj84KCvE2Ae4Pyj4Zx4tKrE/MZBJ8QKZpD9DwAyXrnaLP0PADJeudou/L5BJ8QKZpL8m+GceLSqxvzcoK8TYB7i/SFjuaYTlvr9IWO5phOW+PzgoK8TYB7g/KPhnHi0qsT8xkEnxApmkP0PADJeudos/Q8AMl652i78vkEnxApmkvyb4Zx4tKrG/NygrxNgHuL9IWO5phOW+v0hY7mmE5b4/OCgrxNgHuD8o+GceLSqxPzGQSfECmaQ/Q8AMl652iz9DwAyXrnaLvy+QSfECmaS/JvhnHi0qsb83KCvE2Ae4v0hY7mmE5b6/SFjuaYTlvj84KCvE2Ae4Pyj4Zx4tKrE/MZBJ8QKZpD9DwAyXrnaLP0PADJeudou/L5BJ8QKZpL8m+GceLSqxvzcoK8TYB7i/SFjuaYTlvr9IWO5phOW+PzgoK8TYB7g/KPhnHi0qsT8xkEnxApmkP0PADJeudos/Q8AMl652i78vkEnxApmkvyb4Zx4tKrG/NygrxNgHuL9IWO5phOW+v0hY7mmE5b4/OCgrxNgHuD8o+GceLSqxPzGQSfECmaQ/Q8AMl652iz9DwAyXrnaLvy+QSfECmaS/JvhnHi0qsb83KCvE2Ae4v0hY7mmE5b6/SFjuaYTlvj84KCvE2Ae4Pyj4Zx4tKrE/MZBJ8QKZpD9DwAyXrnaLP0PADJeudou/L5BJ8QKZpL8m+GceLSqxvzcoK8TYB7i/SFjuaYTlvr9IWO5phOW+PzgoK8TYB7g/KPhnHi0qsT8xkEnxApmkP0PADJeudos/Q8AMl652i78vkEnxApmkvyb4Zx4tKrG/NygrxNgHuL9IWO5phOW+v0hY7mmE5b4/OCgrxNgHuD8o+GceLSqxPzGQSfECmaQ/Q8AMl652iz9DwAyXrnaLvy+QSfECmaS/JvhnHi0qsb83KCvE2Ae4v0hY7mmE5b6/SFjuaYTlvj84KCvE2Ae4Pyj4Zx4tKrE/MZBJ8QKZpD9DwAyXrnaLP0PADJeudou/L5BJ8QKZpL8m+GceLSqxvzcoK8TYB7i/SFjuaYTlvr8=",
            "dtype": "f8"
           }
          },
          {
           "line": {
            "color": "blue",
            "width": 4
           },
           "marker": {
            "size": 6
           },
           "mode": "lines+markers",
           "name": "Vector",
           "type": "scatter",
           "x": [
            0,
            1
           ],
           "y": [
            0,
            -0.12068965517241381
           ]
          },
          {
           "line": {
            "color": "black",
            "width": 3
           },
           "marker": {
            "size": 6
           },
           "mode": "lines+markers",
           "name": "X basis (transformed)",
           "type": "scatter",
           "x": [
            0,
            1
           ],
           "y": [
            0,
            0
           ]
          },
          {
           "line": {
            "color": "black",
            "width": 3
           },
           "marker": {
            "size": 6
           },
           "mode": "lines+markers",
           "name": "Y basis (transformed)",
           "type": "scatter",
           "x": [
            0,
            0
           ],
           "y": [
            0,
            -0.12068965517241381
           ]
          }
         ],
         "name": "frame0.45"
        },
        {
         "data": [
          {
           "marker": {
            "color": "red",
            "size": 5
           },
           "mode": "markers",
           "name": "Grid",
           "type": "scatter",
           "x": {
            "bdata": "AAAAAAAA8L8AAAAAAADwvwAAAAAAAPC/AAAAAAAA8L8AAAAAAADwvwAAAAAAAPC/AAAAAAAA8L8AAAAAAADwvwAAAAAAAPC/AAAAAAAA8L85juM4juPovzmO4ziO4+i/OY7jOI7j6L85juM4juPovzmO4ziO4+i/OY7jOI7j6L85juM4juPovzmO4ziO4+i/OY7jOI7j6L85juM4juPov3Icx3Ecx+G/chzHcRzH4b9yHMdxHMfhv3Icx3Ecx+G/chzHcRzH4b9yHMdxHMfhv3Icx3Ecx+G/chzHcRzH4b9yHMdxHMfhv3Icx3Ecx+G/VlVVVVVV1b9WVVVVVVXVv1ZVVVVVVdW/VlVVVVVV1b9WVVVVVVXVv1ZVVVVVVdW/VlVVVVVV1b9WVVVVVVXVv1ZVVVVVVdW/VlVVVVVV1b8gx3Ecx3G8vyDHcRzHcby/IMdxHMdxvL8gx3Ecx3G8vyDHcRzHcby/IMdxHMdxvL8gx3Ecx3G8vyDHcRzHcby/IMdxHMdxvL8gx3Ecx3G8vyDHcRzHcbw/IMdxHMdxvD8gx3Ecx3G8PyDHcRzHcbw/IMdxHMdxvD8gx3Ecx3G8PyDHcRzHcbw/IMdxHMdxvD8gx3Ecx3G8PyDHcRzHcbw/VFVVVVVV1T9UVVVVVVXVP1RVVVVVVdU/VFVVVVVV1T9UVVVVVVXVP1RVVVVVVdU/VFVVVVVV1T9UVVVVVVXVP1RVVVVVVdU/VFVVVVVV1T9wHMdxHMfhP3Acx3Ecx+E/cBzHcRzH4T9wHMdxHMfhP3Acx3Ecx+E/cBzHcRzH4T9wHMdxHMfhP3Acx3Ecx+E/cBzHcRzH4T9wHMdxHMfhPziO4ziO4+g/OI7jOI7j6D84juM4juPoPziO4ziO4+g/OI7jOI7j6D84juM4juPoPziO4ziO4+g/OI7jOI7j6D84juM4juPoPziO4ziO4+g/AAAAAAAA8D8AAAAAAADwPwAAAAAAAPA/AAAAAAAA8D8AAAAAAADwPwAAAAAAAPA/AAAAAAAA8D8AAAAAAADwPwAAAAAAAPA/AAAAAAAA8D8=",
            "dtype": "f8"
           },
           "y": {
            "bdata": "XLmnEZZ7yj8rkEnxApnEP/XN1qHfbL0/k3saYbmnsT/GpHiBTIqXP8akeIFMipe/knsaYbmnsb/yzdah32y9vyqQSfECmcS/XLmnEZZ7yr9cuacRlnvKPyuQSfECmcQ/9c3Wod9svT+TexphuaexP8akeIFMipc/xqR4gUyKl7+Sexphuaexv/LN1qHfbL2/KpBJ8QKZxL9cuacRlnvKv1y5pxGWe8o/K5BJ8QKZxD/1zdah32y9P5N7GmG5p7E/xqR4gUyKlz/GpHiBTIqXv5J7GmG5p7G/8s3Wod9svb8qkEnxApnEv1y5pxGWe8q/XLmnEZZ7yj8rkEnxApnEP/XN1qHfbL0/k3saYbmnsT/GpHiBTIqXP8akeIFMipe/knsaYbmnsb/yzdah32y9vyqQSfECmcS/XLmnEZZ7yr9cuacRlnvKPyuQSfECmcQ/9c3Wod9svT+TexphuaexP8akeIFMipc/xqR4gUyKl7+Sexphuaexv/LN1qHfbL2/KpBJ8QKZxL9cuacRlnvKv1y5pxGWe8o/K5BJ8QKZxD/1zdah32y9P5N7GmG5p7E/xqR4gUyKlz/GpHiBTIqXv5J7GmG5p7G/8s3Wod9svb8qkEnxApnEv1y5pxGWe8q/XLmnEZZ7yj8rkEnxApnEP/XN1qHfbL0/k3saYbmnsT/GpHiBTIqXP8akeIFMipe/knsaYbmnsb/yzdah32y9vyqQSfECmcS/XLmnEZZ7yr9cuacRlnvKPyuQSfECmcQ/9c3Wod9svT+TexphuaexP8akeIFMipc/xqR4gUyKl7+Sexphuaexv/LN1qHfbL2/KpBJ8QKZxL9cuacRlnvKv1y5pxGWe8o/K5BJ8QKZxD/1zdah32y9P5N7GmG5p7E/xqR4gUyKlz/GpHiBTIqXv5J7GmG5p7G/8s3Wod9svb8qkEnxApnEv1y5pxGWe8q/XLmnEZZ7yj8rkEnxApnEP/XN1qHfbL0/k3saYbmnsT/GpHiBTIqXP8akeIFMipe/knsaYbmnsb/yzdah32y9vyqQSfECmcS/XLmnEZZ7yr8=",
            "dtype": "f8"
           }
          },
          {
           "line": {
            "color": "blue",
            "width": 4
           },
           "marker": {
            "size": 6
           },
           "mode": "lines+markers",
           "name": "Vector",
           "type": "scatter",
           "x": [
            0,
            1
           ],
           "y": [
            0,
            -0.2068965517241378
           ]
          },
          {
           "line": {
            "color": "black",
            "width": 3
           },
           "marker": {
            "size": 6
           },
           "mode": "lines+markers",
           "name": "X basis (transformed)",
           "type": "scatter",
           "x": [
            0,
            1
           ],
           "y": [
            0,
            0
           ]
          },
          {
           "line": {
            "color": "black",
            "width": 3
           },
           "marker": {
            "size": 6
           },
           "mode": "lines+markers",
           "name": "Y basis (transformed)",
           "type": "scatter",
           "x": [
            0,
            0
           ],
           "y": [
            0,
            -0.2068965517241378
           ]
          }
         ],
         "name": "frame0.48"
        },
        {
         "data": [
          {
           "marker": {
            "color": "red",
            "size": 5
           },
           "mode": "markers",
           "name": "Grid",
           "type": "scatter",
           "x": {
            "bdata": "AAAAAAAA8L8AAAAAAADwvwAAAAAAAPC/AAAAAAAA8L8AAAAAAADwvwAAAAAAAPC/AAAAAAAA8L8AAAAAAADwvwAAAAAAAPC/AAAAAAAA8L85juM4juPovzmO4ziO4+i/OY7jOI7j6L85juM4juPovzmO4ziO4+i/OY7jOI7j6L85juM4juPovzmO4ziO4+i/OY7jOI7j6L85juM4juPov3Icx3Ecx+G/chzHcRzH4b9yHMdxHMfhv3Icx3Ecx+G/chzHcRzH4b9yHMdxHMfhv3Icx3Ecx+G/chzHcRzH4b9yHMdxHMfhv3Icx3Ecx+G/VlVVVVVV1b9WVVVVVVXVv1ZVVVVVVdW/VlVVVVVV1b9WVVVVVVXVv1ZVVVVVVdW/VlVVVVVV1b9WVVVVVVXVv1ZVVVVVVdW/VlVVVVVV1b8gx3Ecx3G8vyDHcRzHcby/IMdxHMdxvL8gx3Ecx3G8vyDHcRzHcby/IMdxHMdxvL8gx3Ecx3G8vyDHcRzHcby/IMdxHMdxvL8gx3Ecx3G8vyDHcRzHcbw/IMdxHMdxvD8gx3Ecx3G8PyDHcRzHcbw/IMdxHMdxvD8gx3Ecx3G8PyDHcRzHcbw/IMdxHMdxvD8gx3Ecx3G8PyDHcRzHcbw/VFVVVVVV1T9UVVVVVVXVP1RVVVVVVdU/VFVVVVVV1T9UVVVVVVXVP1RVVVVVVdU/VFVVVVVV1T9UVVVVVVXVP1RVVVVVVdU/VFVVVVVV1T9wHMdxHMfhP3Acx3Ecx+E/cBzHcRzH4T9wHMdxHMfhP3Acx3Ecx+E/cBzHcRzH4T9wHMdxHMfhP3Acx3Ecx+E/cBzHcRzH4T9wHMdxHMfhPziO4ziO4+g/OI7jOI7j6D84juM4juPoPziO4ziO4+g/OI7jOI7j6D84juM4juPoPziO4ziO4+g/OI7jOI7j6D84juM4juPoPziO4ziO4+g/AAAAAAAA8D8AAAAAAADwPwAAAAAAAPA/AAAAAAAA8D8AAAAAAADwPwAAAAAAAPA/AAAAAAAA8D8AAAAAAADwPwAAAAAAAPA/AAAAAAAA8D8=",
            "dtype": "f8"
           },
           "y": {
            "bdata": "UiMs9zTC0j9HjH2AGS7NP+rRohLJ18Q/GS+QSfECuT+9dLXboKygP710tdugrKC/Fi+QSfECub/n0aISydfEv0aMfYAZLs2/UiMs9zTC0r9SIyz3NMLSP0eMfYAZLs0/6tGiEsnXxD8ZL5BJ8QK5P710tdugrKA/vXS126CsoL8WL5BJ8QK5v+fRohLJ18S/Rox9gBkuzb9SIyz3NMLSv1IjLPc0wtI/R4x9gBkuzT/q0aISydfEPxkvkEnxArk/vXS126CsoD+9dLXboKygvxYvkEnxArm/59GiEsnXxL9GjH2AGS7Nv1IjLPc0wtK/UiMs9zTC0j9HjH2AGS7NP+rRohLJ18Q/GS+QSfECuT+9dLXboKygP710tdugrKC/Fi+QSfECub/n0aISydfEv0aMfYAZLs2/UiMs9zTC0r9SIyz3NMLSP0eMfYAZLs0/6tGiEsnXxD8ZL5BJ8QK5P710tdugrKA/vXS126CsoL8WL5BJ8QK5v+fRohLJ18S/Rox9gBkuzb9SIyz3NMLSv1IjLPc0wtI/R4x9gBkuzT/q0aISydfEPxkvkEnxArk/vXS126CsoD+9dLXboKygvxYvkEnxArm/59GiEsnXxL9GjH2AGS7Nv1IjLPc0wtK/UiMs9zTC0j9HjH2AGS7NP+rRohLJ18Q/GS+QSfECuT+9dLXboKygP710tdugrKC/Fi+QSfECub/n0aISydfEv0aMfYAZLs2/UiMs9zTC0r9SIyz3NMLSP0eMfYAZLs0/6tGiEsnXxD8ZL5BJ8QK5P710tdugrKA/vXS126CsoL8WL5BJ8QK5v+fRohLJ18S/Rox9gBkuzb9SIyz3NMLSv1IjLPc0wtI/R4x9gBkuzT/q0aISydfEPxkvkEnxArk/vXS126CsoD+9dLXboKygvxYvkEnxArm/59GiEsnXxL9GjH2AGS7Nv1IjLPc0wtK/UiMs9zTC0j9HjH2AGS7NP+rRohLJ18Q/GS+QSfECuT+9dLXboKygP710tdugrKC/Fi+QSfECub/n0aISydfEv0aMfYAZLs2/UiMs9zTC0r8=",
            "dtype": "f8"
           }
          },
          {
           "line": {
            "color": "blue",
            "width": 4
           },
           "marker": {
            "size": 6
           },
           "mode": "lines+markers",
           "name": "Vector",
           "type": "scatter",
           "x": [
            0,
            1
           ],
           "y": [
            0,
            -0.2931034482758622
           ]
          },
          {
           "line": {
            "color": "black",
            "width": 3
           },
           "marker": {
            "size": 6
           },
           "mode": "lines+markers",
           "name": "X basis (transformed)",
           "type": "scatter",
           "x": [
            0,
            1
           ],
           "y": [
            0,
            0
           ]
          },
          {
           "line": {
            "color": "black",
            "width": 3
           },
           "marker": {
            "size": 6
           },
           "mode": "lines+markers",
           "name": "Y basis (transformed)",
           "type": "scatter",
           "x": [
            0,
            0
           ],
           "y": [
            0,
            -0.2931034482758622
           ]
          }
         ],
         "name": "frame0.52"
        },
        {
         "data": [
          {
           "marker": {
            "color": "red",
            "size": 5
           },
           "mode": "markers",
           "name": "Grid",
           "type": "scatter",
           "x": {
            "bdata": "AAAAAAAA8L8AAAAAAADwvwAAAAAAAPC/AAAAAAAA8L8AAAAAAADwvwAAAAAAAPC/AAAAAAAA8L8AAAAAAADwvwAAAAAAAPC/AAAAAAAA8L85juM4juPovzmO4ziO4+i/OY7jOI7j6L85juM4juPovzmO4ziO4+i/OY7jOI7j6L85juM4juPovzmO4ziO4+i/OY7jOI7j6L85juM4juPov3Icx3Ecx+G/chzHcRzH4b9yHMdxHMfhv3Icx3Ecx+G/chzHcRzH4b9yHMdxHMfhv3Icx3Ecx+G/chzHcRzH4b9yHMdxHMfhv3Icx3Ecx+G/VlVVVVVV1b9WVVVVVVXVv1ZVVVVVVdW/VlVVVVVV1b9WVVVVVVXVv1ZVVVVVVdW/VlVVVVVV1b9WVVVVVVXVv1ZVVVVVVdW/VlVVVVVV1b8gx3Ecx3G8vyDHcRzHcby/IMdxHMdxvL8gx3Ecx3G8vyDHcRzHcby/IMdxHMdxvL8gx3Ecx3G8vyDHcRzHcby/IMdxHMdxvL8gx3Ecx3G8vyDHcRzHcbw/IMdxHMdxvD8gx3Ecx3G8PyDHcRzHcbw/IMdxHMdxvD8gx3Ecx3G8PyDHcRzHcbw/IMdxHMdxvD8gx3Ecx3G8PyDHcRzHcbw/VFVVVVVV1T9UVVVVVVXVP1RVVVVVVdU/VFVVVVVV1T9UVVVVVVXVP1RVVVVVVdU/VFVVVVVV1T9UVVVVVVXVP1RVVVVVVdU/VFVVVVVV1T9wHMdxHMfhP3Acx3Ecx+E/cBzHcRzH4T9wHMdxHMfhP3Acx3Ecx+E/cBzHcRzH4T9wHMdxHMfhP3Acx3Ecx+E/cBzHcRzH4T9wHMdxHMfhPziO4ziO4+g/OI7jOI7j6D84juM4juPoPziO4ziO4+g/OI7jOI7j6D84juM4juPoPziO4ziO4+g/OI7jOI7j6D84juM4juPoPziO4ziO4+g/AAAAAAAA8D8AAAAAAADwPwAAAAAAAPA/AAAAAAAA8D8AAAAAAADwPwAAAAAAAPA/AAAAAAAA8D8AAAAAAADwPwAAAAAAAPA/AAAAAAAA8D8=",
            "dtype": "f8"
           },
           "y": {
            "bdata": "7mmE5Z5G2D8rxNgHmOHSP9A8WlQi+co/SvECmRQvwD8Pl652G5SlPw+XrnYblKW/SPECmRQvwL/NPFpUIvnKvyrE2AeY4dK/7mmE5Z5G2L/uaYTlnkbYPyvE2AeY4dI/0DxaVCL5yj9K8QKZFC/APw+XrnYblKU/D5eudhuUpb9I8QKZFC/Av808WlQi+cq/KsTYB5jh0r/uaYTlnkbYv+5phOWeRtg/K8TYB5jh0j/QPFpUIvnKP0rxApkUL8A/D5eudhuUpT8Pl652G5Slv0jxApkUL8C/zTxaVCL5yr8qxNgHmOHSv+5phOWeRti/7mmE5Z5G2D8rxNgHmOHSP9A8WlQi+co/SvECmRQvwD8Pl652G5SlPw+XrnYblKW/SPECmRQvwL/NPFpUIvnKvyrE2AeY4dK/7mmE5Z5G2L/uaYTlnkbYPyvE2AeY4dI/0DxaVCL5yj9K8QKZFC/APw+XrnYblKU/D5eudhuUpb9I8QKZFC/Av808WlQi+cq/KsTYB5jh0r/uaYTlnkbYv+5phOWeRtg/K8TYB5jh0j/QPFpUIvnKP0rxApkUL8A/D5eudhuUpT8Pl652G5Slv0jxApkUL8C/zTxaVCL5yr8qxNgHmOHSv+5phOWeRti/7mmE5Z5G2D8rxNgHmOHSP9A8WlQi+co/SvECmRQvwD8Pl652G5SlPw+XrnYblKW/SPECmRQvwL/NPFpUIvnKvyrE2AeY4dK/7mmE5Z5G2L/uaYTlnkbYPyvE2AeY4dI/0DxaVCL5yj9K8QKZFC/APw+XrnYblKU/D5eudhuUpb9I8QKZFC/Av808WlQi+cq/KsTYB5jh0r/uaYTlnkbYv+5phOWeRtg/K8TYB5jh0j/QPFpUIvnKP0rxApkUL8A/D5eudhuUpT8Pl652G5Slv0jxApkUL8C/zTxaVCL5yr8qxNgHmOHSv+5phOWeRti/7mmE5Z5G2D8rxNgHmOHSP9A8WlQi+co/SvECmRQvwD8Pl652G5SlPw+XrnYblKW/SPECmRQvwL/NPFpUIvnKvyrE2AeY4dK/7mmE5Z5G2L8=",
            "dtype": "f8"
           }
          },
          {
           "line": {
            "color": "blue",
            "width": 4
           },
           "marker": {
            "size": 6
           },
           "mode": "lines+markers",
           "name": "Vector",
           "type": "scatter",
           "x": [
            0,
            1
           ],
           "y": [
            0,
            -0.3793103448275862
           ]
          },
          {
           "line": {
            "color": "black",
            "width": 3
           },
           "marker": {
            "size": 6
           },
           "mode": "lines+markers",
           "name": "X basis (transformed)",
           "type": "scatter",
           "x": [
            0,
            1
           ],
           "y": [
            0,
            0
           ]
          },
          {
           "line": {
            "color": "black",
            "width": 3
           },
           "marker": {
            "size": 6
           },
           "mode": "lines+markers",
           "name": "Y basis (transformed)",
           "type": "scatter",
           "x": [
            0,
            0
           ],
           "y": [
            0,
            -0.3793103448275862
           ]
          }
         ],
         "name": "frame0.55"
        },
        {
         "data": [
          {
           "marker": {
            "color": "red",
            "size": 5
           },
           "mode": "markers",
           "name": "Grid",
           "type": "scatter",
           "x": {
            "bdata": "AAAAAAAA8L8AAAAAAADwvwAAAAAAAPC/AAAAAAAA8L8AAAAAAADwvwAAAAAAAPC/AAAAAAAA8L8AAAAAAADwvwAAAAAAAPC/AAAAAAAA8L85juM4juPovzmO4ziO4+i/OY7jOI7j6L85juM4juPovzmO4ziO4+i/OY7jOI7j6L85juM4juPovzmO4ziO4+i/OY7jOI7j6L85juM4juPov3Icx3Ecx+G/chzHcRzH4b9yHMdxHMfhv3Icx3Ecx+G/chzHcRzH4b9yHMdxHMfhv3Icx3Ecx+G/chzHcRzH4b9yHMdxHMfhv3Icx3Ecx+G/VlVVVVVV1b9WVVVVVVXVv1ZVVVVVVdW/VlVVVVVV1b9WVVVVVVXVv1ZVVVVVVdW/VlVVVVVV1b9WVVVVVVXVv1ZVVVVVVdW/VlVVVVVV1b8gx3Ecx3G8vyDHcRzHcby/IMdxHMdxvL8gx3Ecx3G8vyDHcRzHcby/IMdxHMdxvL8gx3Ecx3G8vyDHcRzHcby/IMdxHMdxvL8gx3Ecx3G8vyDHcRzHcbw/IMdxHMdxvD8gx3Ecx3G8PyDHcRzHcbw/IMdxHMdxvD8gx3Ecx3G8PyDHcRzHcbw/IMdxHMdxvD8gx3Ecx3G8PyDHcRzHcbw/VFVVVVVV1T9UVVVVVVXVP1RVVVVVVdU/VFVVVVVV1T9UVVVVVVXVP1RVVVVVVdU/VFVVVVVV1T9UVVVVVVXVP1RVVVVVVdU/VFVVVVVV1T9wHMdxHMfhP3Acx3Ecx+E/cBzHcRzH4T9wHMdxHMfhP3Acx3Ecx+E/cBzHcRzH4T9wHMdxHMfhP3Acx3Ecx+E/cBzHcRzH4T9wHMdxHMfhPziO4ziO4+g/OI7jOI7j6D84juM4juPoPziO4ziO4+g/OI7jOI7j6D84juM4juPoPziO4ziO4+g/OI7jOI7j6D84juM4juPoPziO4ziO4+g/AAAAAAAA8D8AAAAAAADwPwAAAAAAAPA/AAAAAAAA8D8AAAAAAADwPwAAAAAAAPA/AAAAAAAA8D8AAAAAAADwPwAAAAAAAPA/AAAAAAAA8D8=",
            "dtype": "f8"
           },
           "y": {
            "bdata": "irDc0wjL3T8zwnJPIyzXP9vTCMs9jdA/B8s9jbDcwz9iuacRlnuqP2K5pxGWe6q/Bcs9jbDcw7/Z0wjLPY3QvzLCck8jLNe/irDc0wjL3b+KsNzTCMvdPzPCck8jLNc/29MIyz2N0D8Hyz2NsNzDP2K5pxGWe6o/YrmnEZZ7qr8Fyz2NsNzDv9nTCMs9jdC/MsJyTyMs17+KsNzTCMvdv4qw3NMIy90/M8JyTyMs1z/b0wjLPY3QPwfLPY2w3MM/YrmnEZZ7qj9iuacRlnuqvwXLPY2w3MO/2dMIyz2N0L8ywnJPIyzXv4qw3NMIy92/irDc0wjL3T8zwnJPIyzXP9vTCMs9jdA/B8s9jbDcwz9iuacRlnuqP2K5pxGWe6q/Bcs9jbDcw7/Z0wjLPY3QvzLCck8jLNe/irDc0wjL3b+KsNzTCMvdPzPCck8jLNc/29MIyz2N0D8Hyz2NsNzDP2K5pxGWe6o/YrmnEZZ7qr8Fyz2NsNzDv9nTCMs9jdC/MsJyTyMs17+KsNzTCMvdv4qw3NMIy90/M8JyTyMs1z/b0wjLPY3QPwfLPY2w3MM/YrmnEZZ7qj9iuacRlnuqvwXLPY2w3MO/2dMIyz2N0L8ywnJPIyzXv4qw3NMIy92/irDc0wjL3T8zwnJPIyzXP9vTCMs9jdA/B8s9jbDcwz9iuacRlnuqP2K5pxGWe6q/Bcs9jbDcw7/Z0wjLPY3QvzLCck8jLNe/irDc0wjL3b+KsNzTCMvdPzPCck8jLNc/29MIyz2N0D8Hyz2NsNzDP2K5pxGWe6o/YrmnEZZ7qr8Fyz2NsNzDv9nTCMs9jdC/MsJyTyMs17+KsNzTCMvdv4qw3NMIy90/M8JyTyMs1z/b0wjLPY3QPwfLPY2w3MM/YrmnEZZ7qj9iuacRlnuqvwXLPY2w3MO/2dMIyz2N0L8ywnJPIyzXv4qw3NMIy92/irDc0wjL3T8zwnJPIyzXP9vTCMs9jdA/B8s9jbDcwz9iuacRlnuqP2K5pxGWe6q/Bcs9jbDcw7/Z0wjLPY3QvzLCck8jLNe/irDc0wjL3b8=",
            "dtype": "f8"
           }
          },
          {
           "line": {
            "color": "blue",
            "width": 4
           },
           "marker": {
            "size": 6
           },
           "mode": "lines+markers",
           "name": "Vector",
           "type": "scatter",
           "x": [
            0,
            1
           ],
           "y": [
            0,
            -0.46551724137931016
           ]
          },
          {
           "line": {
            "color": "black",
            "width": 3
           },
           "marker": {
            "size": 6
           },
           "mode": "lines+markers",
           "name": "X basis (transformed)",
           "type": "scatter",
           "x": [
            0,
            1
           ],
           "y": [
            0,
            0
           ]
          },
          {
           "line": {
            "color": "black",
            "width": 3
           },
           "marker": {
            "size": 6
           },
           "mode": "lines+markers",
           "name": "Y basis (transformed)",
           "type": "scatter",
           "x": [
            0,
            0
           ],
           "y": [
            0,
            -0.46551724137931016
           ]
          }
         ],
         "name": "frame0.59"
        },
        {
         "data": [
          {
           "marker": {
            "color": "red",
            "size": 5
           },
           "mode": "markers",
           "name": "Grid",
           "type": "scatter",
           "x": {
            "bdata": "AAAAAAAA8L8AAAAAAADwvwAAAAAAAPC/AAAAAAAA8L8AAAAAAADwvwAAAAAAAPC/AAAAAAAA8L8AAAAAAADwvwAAAAAAAPC/AAAAAAAA8L85juM4juPovzmO4ziO4+i/OY7jOI7j6L85juM4juPovzmO4ziO4+i/OY7jOI7j6L85juM4juPovzmO4ziO4+i/OY7jOI7j6L85juM4juPov3Icx3Ecx+G/chzHcRzH4b9yHMdxHMfhv3Icx3Ecx+G/chzHcRzH4b9yHMdxHMfhv3Icx3Ecx+G/chzHcRzH4b9yHMdxHMfhv3Icx3Ecx+G/VlVVVVVV1b9WVVVVVVXVv1ZVVVVVVdW/VlVVVVVV1b9WVVVVVVXVv1ZVVVVVVdW/VlVVVVVV1b9WVVVVVVXVv1ZVVVVVVdW/VlVVVVVV1b8gx3Ecx3G8vyDHcRzHcby/IMdxHMdxvL8gx3Ecx3G8vyDHcRzHcby/IMdxHMdxvL8gx3Ecx3G8vyDHcRzHcby/IMdxHMdxvL8gx3Ecx3G8vyDHcRzHcbw/IMdxHMdxvD8gx3Ecx3G8PyDHcRzHcbw/IMdxHMdxvD8gx3Ecx3G8PyDHcRzHcbw/IMdxHMdxvD8gx3Ecx3G8PyDHcRzHcbw/VFVVVVVV1T9UVVVVVVXVP1RVVVVVVdU/VFVVVVVV1T9UVVVVVVXVP1RVVVVVVdU/VFVVVVVV1T9UVVVVVVXVP1RVVVVVVdU/VFVVVVVV1T9wHMdxHMfhP3Acx3Ecx+E/cBzHcRzH4T9wHMdxHMfhP3Acx3Ecx+E/cBzHcRzH4T9wHMdxHMfhP3Acx3Ecx+E/cBzHcRzH4T9wHMdxHMfhPziO4ziO4+g/OI7jOI7j6D84juM4juPoPziO4ziO4+g/OI7jOI7j6D84juM4juPoPziO4ziO4+g/OI7jOI7j6D84juM4juPoPziO4ziO4+g/AAAAAAAA8D8AAAAAAADwPwAAAAAAAPA/AAAAAAAA8D8AAAAAAADwPwAAAAAAAPA/AAAAAAAA8D8AAAAAAADwPwAAAAAAAPA/AAAAAAAA8D8=",
            "dtype": "f8"
           },
           "y": {
            "bdata": "l3saYbmn4T9AwAyXrnbbP1OJ5GvqndM/yqR4gUyKxz+726CsEGOvP7vboKwQY6+/yKR4gUyKx79QieRr6p3Tvz/ADJeudtu/l3saYbmn4b+XexphuafhP0DADJeudts/U4nka+qd0z/KpHiBTIrHP7vboKwQY68/u9ugrBBjr7/IpHiBTIrHv1CJ5GvqndO/P8AMl65227+Xexphuafhv5d7GmG5p+E/QMAMl6522z9TieRr6p3TP8qkeIFMisc/u9ugrBBjrz+726CsEGOvv8ikeIFMise/UInka+qd078/wAyXrnbbv5d7GmG5p+G/l3saYbmn4T9AwAyXrnbbP1OJ5GvqndM/yqR4gUyKxz+726CsEGOvP7vboKwQY6+/yKR4gUyKx79QieRr6p3Tvz/ADJeudtu/l3saYbmn4b+XexphuafhP0DADJeudts/U4nka+qd0z/KpHiBTIrHP7vboKwQY68/u9ugrBBjr7/IpHiBTIrHv1CJ5GvqndO/P8AMl65227+Xexphuafhv5d7GmG5p+E/QMAMl6522z9TieRr6p3TP8qkeIFMisc/u9ugrBBjrz+726CsEGOvv8ikeIFMise/UInka+qd078/wAyXrnbbv5d7GmG5p+G/l3saYbmn4T9AwAyXrnbbP1OJ5GvqndM/yqR4gUyKxz+726CsEGOvP7vboKwQY6+/yKR4gUyKx79QieRr6p3Tvz/ADJeudtu/l3saYbmn4b+XexphuafhP0DADJeudts/U4nka+qd0z/KpHiBTIrHP7vboKwQY68/u9ugrBBjr7/IpHiBTIrHv1CJ5GvqndO/P8AMl65227+Xexphuafhv5d7GmG5p+E/QMAMl6522z9TieRr6p3TP8qkeIFMisc/u9ugrBBjrz+726CsEGOvv8ikeIFMise/UInka+qd078/wAyXrnbbv5d7GmG5p+G/l3saYbmn4T9AwAyXrnbbP1OJ5GvqndM/yqR4gUyKxz+726CsEGOvP7vboKwQY6+/yKR4gUyKx79QieRr6p3Tvz/ADJeudtu/l3saYbmn4b8=",
            "dtype": "f8"
           }
          },
          {
           "line": {
            "color": "blue",
            "width": 4
           },
           "marker": {
            "size": 6
           },
           "mode": "lines+markers",
           "name": "Vector",
           "type": "scatter",
           "x": [
            0,
            1
           ],
           "y": [
            0,
            -0.5517241379310346
           ]
          },
          {
           "line": {
            "color": "black",
            "width": 3
           },
           "marker": {
            "size": 6
           },
           "mode": "lines+markers",
           "name": "X basis (transformed)",
           "type": "scatter",
           "x": [
            0,
            1
           ],
           "y": [
            0,
            0
           ]
          },
          {
           "line": {
            "color": "black",
            "width": 3
           },
           "marker": {
            "size": 6
           },
           "mode": "lines+markers",
           "name": "Y basis (transformed)",
           "type": "scatter",
           "x": [
            0,
            0
           ],
           "y": [
            0,
            -0.5517241379310346
           ]
          }
         ],
         "name": "frame0.62"
        },
        {
         "data": [
          {
           "marker": {
            "color": "red",
            "size": 5
           },
           "mode": "markers",
           "name": "Grid",
           "type": "scatter",
           "x": {
            "bdata": "AAAAAAAA8L8AAAAAAADwvwAAAAAAAPC/AAAAAAAA8L8AAAAAAADwvwAAAAAAAPC/AAAAAAAA8L8AAAAAAADwvwAAAAAAAPC/AAAAAAAA8L85juM4juPovzmO4ziO4+i/OY7jOI7j6L85juM4juPovzmO4ziO4+i/OY7jOI7j6L85juM4juPovzmO4ziO4+i/OY7jOI7j6L85juM4juPov3Icx3Ecx+G/chzHcRzH4b9yHMdxHMfhv3Icx3Ecx+G/chzHcRzH4b9yHMdxHMfhv3Icx3Ecx+G/chzHcRzH4b9yHMdxHMfhv3Icx3Ecx+G/VlVVVVVV1b9WVVVVVVXVv1ZVVVVVVdW/VlVVVVVV1b9WVVVVVVXVv1ZVVVVVVdW/VlVVVVVV1b9WVVVVVVXVv1ZVVVVVVdW/VlVVVVVV1b8gx3Ecx3G8vyDHcRzHcby/IMdxHMdxvL8gx3Ecx3G8vyDHcRzHcby/IMdxHMdxvL8gx3Ecx3G8vyDHcRzHcby/IMdxHMdxvL8gx3Ecx3G8vyDHcRzHcbw/IMdxHMdxvD8gx3Ecx3G8PyDHcRzHcbw/IMdxHMdxvD8gx3Ecx3G8PyDHcRzHcbw/IMdxHMdxvD8gx3Ecx3G8PyDHcRzHcbw/VFVVVVVV1T9UVVVVVVXVP1RVVVVVVdU/VFVVVVVV1T9UVVVVVVXVP1RVVVVVVdU/VFVVVVVV1T9UVVVVVVXVP1RVVVVVVdU/VFVVVVVV1T9wHMdxHMfhP3Acx3Ecx+E/cBzHcRzH4T9wHMdxHMfhP3Acx3Ecx+E/cBzHcRzH4T9wHMdxHMfhP3Acx3Ecx+E/cBzHcRzH4T9wHMdxHMfhPziO4ziO4+g/OI7jOI7j6D84juM4juPoPziO4ziO4+g/OI7jOI7j6D84juM4juPoPziO4ziO4+g/OI7jOI7j6D84juM4juPoPziO4ziO4+g/AAAAAAAA8D8AAAAAAADwPwAAAAAAAPA/AAAAAAAA8D8AAAAAAADwPwAAAAAAAPA/AAAAAAAA8D8AAAAAAADwPwAAAAAAAPA/AAAAAAAA8D8=",
            "dtype": "f8"
           },
           "y": {
            "bdata": "5Z5GWO5p5D9IvqbeOcHfP8Y+wAyXrtY/iH6zdeg3yz8H/8yjRSWyPwf/zKNFJbK/hX6zdeg3y7/DPsAMl67Wv0e+pt45wd+/5Z5GWO5p5L/lnkZY7mnkP0i+pt45wd8/xj7ADJeu1j+IfrN16DfLPwf/zKNFJbI/B//Mo0Ulsr+FfrN16DfLv8M+wAyXrta/R76m3jnB37/lnkZY7mnkv+WeRljuaeQ/SL6m3jnB3z/GPsAMl67WP4h+s3XoN8s/B//Mo0Ulsj8H/8yjRSWyv4V+s3XoN8u/wz7ADJeu1r9HvqbeOcHfv+WeRljuaeS/5Z5GWO5p5D9IvqbeOcHfP8Y+wAyXrtY/iH6zdeg3yz8H/8yjRSWyPwf/zKNFJbK/hX6zdeg3y7/DPsAMl67Wv0e+pt45wd+/5Z5GWO5p5L/lnkZY7mnkP0i+pt45wd8/xj7ADJeu1j+IfrN16DfLPwf/zKNFJbI/B//Mo0Ulsr+FfrN16DfLv8M+wAyXrta/R76m3jnB37/lnkZY7mnkv+WeRljuaeQ/SL6m3jnB3z/GPsAMl67WP4h+s3XoN8s/B//Mo0Ulsj8H/8yjRSWyv4V+s3XoN8u/wz7ADJeu1r9HvqbeOcHfv+WeRljuaeS/5Z5GWO5p5D9IvqbeOcHfP8Y+wAyXrtY/iH6zdeg3yz8H/8yjRSWyPwf/zKNFJbK/hX6zdeg3y7/DPsAMl67Wv0e+pt45wd+/5Z5GWO5p5L/lnkZY7mnkP0i+pt45wd8/xj7ADJeu1j+IfrN16DfLPwf/zKNFJbI/B//Mo0Ulsr+FfrN16DfLv8M+wAyXrta/R76m3jnB37/lnkZY7mnkv+WeRljuaeQ/SL6m3jnB3z/GPsAMl67WP4h+s3XoN8s/B//Mo0Ulsj8H/8yjRSWyv4V+s3XoN8u/wz7ADJeu1r9HvqbeOcHfv+WeRljuaeS/5Z5GWO5p5D9IvqbeOcHfP8Y+wAyXrtY/iH6zdeg3yz8H/8yjRSWyPwf/zKNFJbK/hX6zdeg3y7/DPsAMl67Wv0e+pt45wd+/5Z5GWO5p5L8=",
            "dtype": "f8"
           }
          },
          {
           "line": {
            "color": "blue",
            "width": 4
           },
           "marker": {
            "size": 6
           },
           "mode": "lines+markers",
           "name": "Vector",
           "type": "scatter",
           "x": [
            0,
            1
           ],
           "y": [
            0,
            -0.6379310344827586
           ]
          },
          {
           "line": {
            "color": "black",
            "width": 3
           },
           "marker": {
            "size": 6
           },
           "mode": "lines+markers",
           "name": "X basis (transformed)",
           "type": "scatter",
           "x": [
            0,
            1
           ],
           "y": [
            0,
            0
           ]
          },
          {
           "line": {
            "color": "black",
            "width": 3
           },
           "marker": {
            "size": 6
           },
           "mode": "lines+markers",
           "name": "Y basis (transformed)",
           "type": "scatter",
           "x": [
            0,
            0
           ],
           "y": [
            0,
            -0.6379310344827586
           ]
          }
         ],
         "name": "frame0.66"
        },
        {
         "data": [
          {
           "marker": {
            "color": "red",
            "size": 5
           },
           "mode": "markers",
           "name": "Grid",
           "type": "scatter",
           "x": {
            "bdata": "AAAAAAAA8L8AAAAAAADwvwAAAAAAAPC/AAAAAAAA8L8AAAAAAADwvwAAAAAAAPC/AAAAAAAA8L8AAAAAAADwvwAAAAAAAPC/AAAAAAAA8L85juM4juPovzmO4ziO4+i/OY7jOI7j6L85juM4juPovzmO4ziO4+i/OY7jOI7j6L85juM4juPovzmO4ziO4+i/OY7jOI7j6L85juM4juPov3Icx3Ecx+G/chzHcRzH4b9yHMdxHMfhv3Icx3Ecx+G/chzHcRzH4b9yHMdxHMfhv3Icx3Ecx+G/chzHcRzH4b9yHMdxHMfhv3Icx3Ecx+G/VlVVVVVV1b9WVVVVVVXVv1ZVVVVVVdW/VlVVVVVV1b9WVVVVVVXVv1ZVVVVVVdW/VlVVVVVV1b9WVVVVVVXVv1ZVVVVVVdW/VlVVVVVV1b8gx3Ecx3G8vyDHcRzHcby/IMdxHMdxvL8gx3Ecx3G8vyDHcRzHcby/IMdxHMdxvL8gx3Ecx3G8vyDHcRzHcby/IMdxHMdxvL8gx3Ecx3G8vyDHcRzHcbw/IMdxHMdxvD8gx3Ecx3G8PyDHcRzHcbw/IMdxHMdxvD8gx3Ecx3G8PyDHcRzHcbw/IMdxHMdxvD8gx3Ecx3G8PyDHcRzHcbw/VFVVVVVV1T9UVVVVVVXVP1RVVVVVVdU/VFVVVVVV1T9UVVVVVVXVP1RVVVVVVdU/VFVVVVVV1T9UVVVVVVXVP1RVVVVVVdU/VFVVVVVV1T9wHMdxHMfhP3Acx3Ecx+E/cBzHcRzH4T9wHMdxHMfhP3Acx3Ecx+E/cBzHcRzH4T9wHMdxHMfhP3Acx3Ecx+E/cBzHcRzH4T9wHMdxHMfhPziO4ziO4+g/OI7jOI7j6D84juM4juPoPziO4ziO4+g/OI7jOI7j6D84juM4juPoPziO4ziO4+g/OI7jOI7j6D84juM4juPoPziO4ziO4+g/AAAAAAAA8D8AAAAAAADwPwAAAAAAAPA/AAAAAAAA8D8AAAAAAADwPwAAAAAAAPA/AAAAAAAA8D8AAAAAAADwPwAAAAAAAPA/AAAAAAAA8D8=",
            "dtype": "f8"
           },
           "y": {
            "bdata": "NsJyTyMs5z8qXiCT4gXiPzz0m61Dv9k/SVjuaYTlzj8zkEnxApm0PzOQSfECmbS/RljuaYTlzr859JutQ7/ZvyleIJPiBeK/NsJyTyMs5782wnJPIyznPypeIJPiBeI/PPSbrUO/2T9JWO5phOXOPzOQSfECmbQ/M5BJ8QKZtL9GWO5phOXOvzn0m61Dv9m/KV4gk+IF4r82wnJPIyznvzbCck8jLOc/Kl4gk+IF4j889JutQ7/ZP0lY7mmE5c4/M5BJ8QKZtD8zkEnxApm0v0ZY7mmE5c6/OfSbrUO/2b8pXiCT4gXivzbCck8jLOe/NsJyTyMs5z8qXiCT4gXiPzz0m61Dv9k/SVjuaYTlzj8zkEnxApm0PzOQSfECmbS/RljuaYTlzr859JutQ7/ZvyleIJPiBeK/NsJyTyMs5782wnJPIyznPypeIJPiBeI/PPSbrUO/2T9JWO5phOXOPzOQSfECmbQ/M5BJ8QKZtL9GWO5phOXOvzn0m61Dv9m/KV4gk+IF4r82wnJPIyznvzbCck8jLOc/Kl4gk+IF4j889JutQ7/ZP0lY7mmE5c4/M5BJ8QKZtD8zkEnxApm0v0ZY7mmE5c6/OfSbrUO/2b8pXiCT4gXivzbCck8jLOe/NsJyTyMs5z8qXiCT4gXiPzz0m61Dv9k/SVjuaYTlzj8zkEnxApm0PzOQSfECmbS/RljuaYTlzr859JutQ7/ZvyleIJPiBeK/NsJyTyMs5782wnJPIyznPypeIJPiBeI/PPSbrUO/2T9JWO5phOXOPzOQSfECmbQ/M5BJ8QKZtL9GWO5phOXOvzn0m61Dv9m/KV4gk+IF4r82wnJPIyznvzbCck8jLOc/Kl4gk+IF4j889JutQ7/ZP0lY7mmE5c4/M5BJ8QKZtD8zkEnxApm0v0ZY7mmE5c6/OfSbrUO/2b8pXiCT4gXivzbCck8jLOe/NsJyTyMs5z8qXiCT4gXiPzz0m61Dv9k/SVjuaYTlzj8zkEnxApm0PzOQSfECmbS/RljuaYTlzr859JutQ7/ZvyleIJPiBeK/NsJyTyMs578=",
            "dtype": "f8"
           }
          },
          {
           "line": {
            "color": "blue",
            "width": 4
           },
           "marker": {
            "size": 6
           },
           "mode": "lines+markers",
           "name": "Vector",
           "type": "scatter",
           "x": [
            0,
            1
           ],
           "y": [
            0,
            -0.7241379310344829
           ]
          },
          {
           "line": {
            "color": "black",
            "width": 3
           },
           "marker": {
            "size": 6
           },
           "mode": "lines+markers",
           "name": "X basis (transformed)",
           "type": "scatter",
           "x": [
            0,
            1
           ],
           "y": [
            0,
            0
           ]
          },
          {
           "line": {
            "color": "black",
            "width": 3
           },
           "marker": {
            "size": 6
           },
           "mode": "lines+markers",
           "name": "Y basis (transformed)",
           "type": "scatter",
           "x": [
            0,
            0
           ],
           "y": [
            0,
            -0.7241379310344829
           ]
          }
         ],
         "name": "frame0.69"
        },
        {
         "data": [
          {
           "marker": {
            "color": "red",
            "size": 5
           },
           "mode": "markers",
           "name": "Grid",
           "type": "scatter",
           "x": {
            "bdata": "AAAAAAAA8L8AAAAAAADwvwAAAAAAAPC/AAAAAAAA8L8AAAAAAADwvwAAAAAAAPC/AAAAAAAA8L8AAAAAAADwvwAAAAAAAPC/AAAAAAAA8L85juM4juPovzmO4ziO4+i/OY7jOI7j6L85juM4juPovzmO4ziO4+i/OY7jOI7j6L85juM4juPovzmO4ziO4+i/OY7jOI7j6L85juM4juPov3Icx3Ecx+G/chzHcRzH4b9yHMdxHMfhv3Icx3Ecx+G/chzHcRzH4b9yHMdxHMfhv3Icx3Ecx+G/chzHcRzH4b9yHMdxHMfhv3Icx3Ecx+G/VlVVVVVV1b9WVVVVVVXVv1ZVVVVVVdW/VlVVVVVV1b9WVVVVVVXVv1ZVVVVVVdW/VlVVVVVV1b9WVVVVVVXVv1ZVVVVVVdW/VlVVVVVV1b8gx3Ecx3G8vyDHcRzHcby/IMdxHMdxvL8gx3Ecx3G8vyDHcRzHcby/IMdxHMdxvL8gx3Ecx3G8vyDHcRzHcby/IMdxHMdxvL8gx3Ecx3G8vyDHcRzHcbw/IMdxHMdxvD8gx3Ecx3G8PyDHcRzHcbw/IMdxHMdxvD8gx3Ecx3G8PyDHcRzHcbw/IMdxHMdxvD8gx3Ecx3G8PyDHcRzHcbw/VFVVVVVV1T9UVVVVVVXVP1RVVVVVVdU/VFVVVVVV1T9UVVVVVVXVP1RVVVVVVdU/VFVVVVVV1T9UVVVVVVXVP1RVVVVVVdU/VFVVVVVV1T9wHMdxHMfhP3Acx3Ecx+E/cBzHcRzH4T9wHMdxHMfhP3Acx3Ecx+E/cBzHcRzH4T9wHMdxHMfhP3Acx3Ecx+E/cBzHcRzH4T9wHMdxHMfhPziO4ziO4+g/OI7jOI7j6D84juM4juPoPziO4ziO4+g/OI7jOI7j6D84juM4juPoPziO4ziO4+g/OI7jOI7j6D84juM4juPoPziO4ziO4+g/AAAAAAAA8D8AAAAAAADwPwAAAAAAAPA/AAAAAAAA8D8AAAAAAADwPwAAAAAAAPA/AAAAAAAA8D8AAAAAAADwPwAAAAAAAPA/AAAAAAAA8D8=",
            "dtype": "f8"
           },
           "y": {
            "bdata": "heWeRlju6T8vXe02KCvkP7Gpd07wz9w/BJkUL5BJ0T9dIcY+wAy3P10hxj7ADLe/ApkUL5BJ0b+tqXdO8M/cvy5d7TYoK+S/heWeRlju6b+F5Z5GWO7pPy9d7TYoK+Q/sal3TvDP3D8EmRQvkEnRP10hxj7ADLc/XSHGPsAMt78CmRQvkEnRv62pd07wz9y/Ll3tNigr5L+F5Z5GWO7pv4XlnkZY7uk/L13tNigr5D+xqXdO8M/cPwSZFC+QSdE/XSHGPsAMtz9dIcY+wAy3vwKZFC+QSdG/ral3TvDP3L8uXe02KCvkv4XlnkZY7um/heWeRlju6T8vXe02KCvkP7Gpd07wz9w/BJkUL5BJ0T9dIcY+wAy3P10hxj7ADLe/ApkUL5BJ0b+tqXdO8M/cvy5d7TYoK+S/heWeRlju6b+F5Z5GWO7pPy9d7TYoK+Q/sal3TvDP3D8EmRQvkEnRP10hxj7ADLc/XSHGPsAMt78CmRQvkEnRv62pd07wz9y/Ll3tNigr5L+F5Z5GWO7pv4XlnkZY7uk/L13tNigr5D+xqXdO8M/cPwSZFC+QSdE/XSHGPsAMtz9dIcY+wAy3vwKZFC+QSdG/ral3TvDP3L8uXe02KCvkv4XlnkZY7um/heWeRlju6T8vXe02KCvkP7Gpd07wz9w/BJkUL5BJ0T9dIcY+wAy3P10hxj7ADLe/ApkUL5BJ0b+tqXdO8M/cvy5d7TYoK+S/heWeRlju6b+F5Z5GWO7pPy9d7TYoK+Q/sal3TvDP3D8EmRQvkEnRP10hxj7ADLc/XSHGPsAMt78CmRQvkEnRv62pd07wz9y/Ll3tNigr5L+F5Z5GWO7pv4XlnkZY7uk/L13tNigr5D+xqXdO8M/cPwSZFC+QSdE/XSHGPsAMtz9dIcY+wAy3vwKZFC+QSdG/ral3TvDP3L8uXe02KCvkv4XlnkZY7um/heWeRlju6T8vXe02KCvkP7Gpd07wz9w/BJkUL5BJ0T9dIcY+wAy3P10hxj7ADLe/ApkUL5BJ0b+tqXdO8M/cvy5d7TYoK+S/heWeRlju6b8=",
            "dtype": "f8"
           }
          },
          {
           "line": {
            "color": "blue",
            "width": 4
           },
           "marker": {
            "size": 6
           },
           "mode": "lines+markers",
           "name": "Vector",
           "type": "scatter",
           "x": [
            0,
            1
           ],
           "y": [
            0,
            -0.810344827586207
           ]
          },
          {
           "line": {
            "color": "black",
            "width": 3
           },
           "marker": {
            "size": 6
           },
           "mode": "lines+markers",
           "name": "X basis (transformed)",
           "type": "scatter",
           "x": [
            0,
            1
           ],
           "y": [
            0,
            0
           ]
          },
          {
           "line": {
            "color": "black",
            "width": 3
           },
           "marker": {
            "size": 6
           },
           "mode": "lines+markers",
           "name": "Y basis (transformed)",
           "type": "scatter",
           "x": [
            0,
            0
           ],
           "y": [
            0,
            -0.810344827586207
           ]
          }
         ],
         "name": "frame0.72"
        },
        {
         "data": [
          {
           "marker": {
            "color": "red",
            "size": 5
           },
           "mode": "markers",
           "name": "Grid",
           "type": "scatter",
           "x": {
            "bdata": "AAAAAAAA8L8AAAAAAADwvwAAAAAAAPC/AAAAAAAA8L8AAAAAAADwvwAAAAAAAPC/AAAAAAAA8L8AAAAAAADwvwAAAAAAAPC/AAAAAAAA8L85juM4juPovzmO4ziO4+i/OY7jOI7j6L85juM4juPovzmO4ziO4+i/OY7jOI7j6L85juM4juPovzmO4ziO4+i/OY7jOI7j6L85juM4juPov3Icx3Ecx+G/chzHcRzH4b9yHMdxHMfhv3Icx3Ecx+G/chzHcRzH4b9yHMdxHMfhv3Icx3Ecx+G/chzHcRzH4b9yHMdxHMfhv3Icx3Ecx+G/VlVVVVVV1b9WVVVVVVXVv1ZVVVVVVdW/VlVVVVVV1b9WVVVVVVXVv1ZVVVVVVdW/VlVVVVVV1b9WVVVVVVXVv1ZVVVVVVdW/VlVVVVVV1b8gx3Ecx3G8vyDHcRzHcby/IMdxHMdxvL8gx3Ecx3G8vyDHcRzHcby/IMdxHMdxvL8gx3Ecx3G8vyDHcRzHcby/IMdxHMdxvL8gx3Ecx3G8vyDHcRzHcbw/IMdxHMdxvD8gx3Ecx3G8PyDHcRzHcbw/IMdxHMdxvD8gx3Ecx3G8PyDHcRzHcbw/IMdxHMdxvD8gx3Ecx3G8PyDHcRzHcbw/VFVVVVVV1T9UVVVVVVXVP1RVVVVVVdU/VFVVVVVV1T9UVVVVVVXVP1RVVVVVVdU/VFVVVVVV1T9UVVVVVVXVP1RVVVVVVdU/VFVVVVVV1T9wHMdxHMfhP3Acx3Ecx+E/cBzHcRzH4T9wHMdxHMfhP3Acx3Ecx+E/cBzHcRzH4T9wHMdxHMfhP3Acx3Ecx+E/cBzHcRzH4T9wHMdxHMfhPziO4ziO4+g/OI7jOI7j6D84juM4juPoPziO4ziO4+g/OI7jOI7j6D84juM4juPoPziO4ziO4+g/OI7jOI7j6D84juM4juPoPziO4ziO4+g/AAAAAAAA8D8AAAAAAADwPwAAAAAAAPA/AAAAAAAA8D8AAAAAAADwPwAAAAAAAPA/AAAAAAAA8D8AAAAAAADwPwAAAAAAAPA/AAAAAAAA8D8=",
            "dtype": "f8"
           },
           "y": {
            "bdata": "0gjLPY2w7D8yXLrabVDmPyNfU++c4N8/4gUyKV4g0z+FskKMfYC5P4WyQox9gLm/4AUyKV4g078fX1PvnODfvzFcutptUOa/0gjLPY2w7L/SCMs9jbDsPzJcutptUOY/I19T75zg3z/iBTIpXiDTP4WyQox9gLk/hbJCjH2Aub/gBTIpXiDTvx9fU++c4N+/MVy62m1Q5r/SCMs9jbDsv9IIyz2NsOw/Mly62m1Q5j8jX1PvnODfP+IFMileINM/hbJCjH2AuT+FskKMfYC5v+AFMileINO/H19T75zg378xXLrabVDmv9IIyz2NsOy/0gjLPY2w7D8yXLrabVDmPyNfU++c4N8/4gUyKV4g0z+FskKMfYC5P4WyQox9gLm/4AUyKV4g078fX1PvnODfvzFcutptUOa/0gjLPY2w7L/SCMs9jbDsPzJcutptUOY/I19T75zg3z/iBTIpXiDTP4WyQox9gLk/hbJCjH2Aub/gBTIpXiDTvx9fU++c4N+/MVy62m1Q5r/SCMs9jbDsv9IIyz2NsOw/Mly62m1Q5j8jX1PvnODfP+IFMileINM/hbJCjH2AuT+FskKMfYC5v+AFMileINO/H19T75zg378xXLrabVDmv9IIyz2NsOy/0gjLPY2w7D8yXLrabVDmPyNfU++c4N8/4gUyKV4g0z+FskKMfYC5P4WyQox9gLm/4AUyKV4g078fX1PvnODfvzFcutptUOa/0gjLPY2w7L/SCMs9jbDsPzJcutptUOY/I19T75zg3z/iBTIpXiDTP4WyQox9gLk/hbJCjH2Aub/gBTIpXiDTvx9fU++c4N+/MVy62m1Q5r/SCMs9jbDsv9IIyz2NsOw/Mly62m1Q5j8jX1PvnODfP+IFMileINM/hbJCjH2AuT+FskKMfYC5v+AFMileINO/H19T75zg378xXLrabVDmv9IIyz2NsOy/0gjLPY2w7D8yXLrabVDmPyNfU++c4N8/4gUyKV4g0z+FskKMfYC5P4WyQox9gLm/4AUyKV4g078fX1PvnODfvzFcutptUOa/0gjLPY2w7L8=",
            "dtype": "f8"
           }
          },
          {
           "line": {
            "color": "blue",
            "width": 4
           },
           "marker": {
            "size": 6
           },
           "mode": "lines+markers",
           "name": "Vector",
           "type": "scatter",
           "x": [
            0,
            1
           ],
           "y": [
            0,
            -0.8965517241379308
           ]
          },
          {
           "line": {
            "color": "black",
            "width": 3
           },
           "marker": {
            "size": 6
           },
           "mode": "lines+markers",
           "name": "X basis (transformed)",
           "type": "scatter",
           "x": [
            0,
            1
           ],
           "y": [
            0,
            0
           ]
          },
          {
           "line": {
            "color": "black",
            "width": 3
           },
           "marker": {
            "size": 6
           },
           "mode": "lines+markers",
           "name": "Y basis (transformed)",
           "type": "scatter",
           "x": [
            0,
            0
           ],
           "y": [
            0,
            -0.8965517241379308
           ]
          }
         ],
         "name": "frame0.76"
        },
        {
         "data": [
          {
           "marker": {
            "color": "red",
            "size": 5
           },
           "mode": "markers",
           "name": "Grid",
           "type": "scatter",
           "x": {
            "bdata": "AAAAAAAA8L8AAAAAAADwvwAAAAAAAPC/AAAAAAAA8L8AAAAAAADwvwAAAAAAAPC/AAAAAAAA8L8AAAAAAADwvwAAAAAAAPC/AAAAAAAA8L85juM4juPovzmO4ziO4+i/OY7jOI7j6L85juM4juPovzmO4ziO4+i/OY7jOI7j6L85juM4juPovzmO4ziO4+i/OY7jOI7j6L85juM4juPov3Icx3Ecx+G/chzHcRzH4b9yHMdxHMfhv3Icx3Ecx+G/chzHcRzH4b9yHMdxHMfhv3Icx3Ecx+G/chzHcRzH4b9yHMdxHMfhv3Icx3Ecx+G/VlVVVVVV1b9WVVVVVVXVv1ZVVVVVVdW/VlVVVVVV1b9WVVVVVVXVv1ZVVVVVVdW/VlVVVVVV1b9WVVVVVVXVv1ZVVVVVVdW/VlVVVVVV1b8gx3Ecx3G8vyDHcRzHcby/IMdxHMdxvL8gx3Ecx3G8vyDHcRzHcby/IMdxHMdxvL8gx3Ecx3G8vyDHcRzHcby/IMdxHMdxvL8gx3Ecx3G8vyDHcRzHcbw/IMdxHMdxvD8gx3Ecx3G8PyDHcRzHcbw/IMdxHMdxvD8gx3Ecx3G8PyDHcRzHcbw/IMdxHMdxvD8gx3Ecx3G8PyDHcRzHcbw/VFVVVVVV1T9UVVVVVVXVP1RVVVVVVdU/VFVVVVVV1T9UVVVVVVXVP1RVVVVVVdU/VFVVVVVV1T9UVVVVVVXVP1RVVVVVVdU/VFVVVVVV1T9wHMdxHMfhP3Acx3Ecx+E/cBzHcRzH4T9wHMdxHMfhP3Acx3Ecx+E/cBzHcRzH4T9wHMdxHMfhP3Acx3Ecx+E/cBzHcRzH4T9wHMdxHMfhPziO4ziO4+g/OI7jOI7j6D84juM4juPoPziO4ziO4+g/OI7jOI7j6D84juM4juPoPziO4ziO4+g/OI7jOI7j6D84juM4juPoPziO4ziO4+g/AAAAAAAA8D8AAAAAAADwPwAAAAAAAPA/AAAAAAAA8D8AAAAAAADwPwAAAAAAAPA/AAAAAAAA8D8AAAAAAADwPwAAAAAAAPA/AAAAAAAA8D8=",
            "dtype": "f8"
           },
           "y": {
            "bdata": "JCz3NMJy7z85W4d+s3XoP02KF8ikeOE/w3JPIyz31D+yQ7/ZOvS7P7JDv9k69Lu/wXJPIyz31L9LihfIpHjhvzhbh36zdei/JCz3NMJy778kLPc0wnLvPzlbh36zdeg/TYoXyKR44T/Dck8jLPfUP7JDv9k69Ls/skO/2Tr0u7/Bck8jLPfUv0uKF8ikeOG/OFuHfrN16L8kLPc0wnLvvyQs9zTCcu8/OVuHfrN16D9NihfIpHjhP8NyTyMs99Q/skO/2Tr0uz+yQ7/ZOvS7v8FyTyMs99S/S4oXyKR44b84W4d+s3XovyQs9zTCcu+/JCz3NMJy7z85W4d+s3XoP02KF8ikeOE/w3JPIyz31D+yQ7/ZOvS7P7JDv9k69Lu/wXJPIyz31L9LihfIpHjhvzhbh36zdei/JCz3NMJy778kLPc0wnLvPzlbh36zdeg/TYoXyKR44T/Dck8jLPfUP7JDv9k69Ls/skO/2Tr0u7/Bck8jLPfUv0uKF8ikeOG/OFuHfrN16L8kLPc0wnLvvyQs9zTCcu8/OVuHfrN16D9NihfIpHjhP8NyTyMs99Q/skO/2Tr0uz+yQ7/ZOvS7v8FyTyMs99S/S4oXyKR44b84W4d+s3XovyQs9zTCcu+/JCz3NMJy7z85W4d+s3XoP02KF8ikeOE/w3JPIyz31D+yQ7/ZOvS7P7JDv9k69Lu/wXJPIyz31L9LihfIpHjhvzhbh36zdei/JCz3NMJy778kLPc0wnLvPzlbh36zdeg/TYoXyKR44T/Dck8jLPfUP7JDv9k69Ls/skO/2Tr0u7/Bck8jLPfUv0uKF8ikeOG/OFuHfrN16L8kLPc0wnLvvyQs9zTCcu8/OVuHfrN16D9NihfIpHjhP8NyTyMs99Q/skO/2Tr0uz+yQ7/ZOvS7v8FyTyMs99S/S4oXyKR44b84W4d+s3XovyQs9zTCcu+/JCz3NMJy7z85W4d+s3XoP02KF8ikeOE/w3JPIyz31D+yQ7/ZOvS7P7JDv9k69Lu/wXJPIyz31L9LihfIpHjhvzhbh36zdei/JCz3NMJy778=",
            "dtype": "f8"
           }
          },
          {
           "line": {
            "color": "blue",
            "width": 4
           },
           "marker": {
            "size": 6
           },
           "mode": "lines+markers",
           "name": "Vector",
           "type": "scatter",
           "x": [
            0,
            1
           ],
           "y": [
            0,
            -0.9827586206896552
           ]
          },
          {
           "line": {
            "color": "black",
            "width": 3
           },
           "marker": {
            "size": 6
           },
           "mode": "lines+markers",
           "name": "X basis (transformed)",
           "type": "scatter",
           "x": [
            0,
            1
           ],
           "y": [
            0,
            0
           ]
          },
          {
           "line": {
            "color": "black",
            "width": 3
           },
           "marker": {
            "size": 6
           },
           "mode": "lines+markers",
           "name": "Y basis (transformed)",
           "type": "scatter",
           "x": [
            0,
            0
           ],
           "y": [
            0,
            -0.9827586206896552
           ]
          }
         ],
         "name": "frame0.79"
        },
        {
         "data": [
          {
           "marker": {
            "color": "red",
            "size": 5
           },
           "mode": "markers",
           "name": "Grid",
           "type": "scatter",
           "x": {
            "bdata": "AAAAAAAA8L8AAAAAAADwvwAAAAAAAPC/AAAAAAAA8L8AAAAAAADwvwAAAAAAAPC/AAAAAAAA8L8AAAAAAADwvwAAAAAAAPC/AAAAAAAA8L85juM4juPovzmO4ziO4+i/OY7jOI7j6L85juM4juPovzmO4ziO4+i/OY7jOI7j6L85juM4juPovzmO4ziO4+i/OY7jOI7j6L85juM4juPov3Icx3Ecx+G/chzHcRzH4b9yHMdxHMfhv3Icx3Ecx+G/chzHcRzH4b9yHMdxHMfhv3Icx3Ecx+G/chzHcRzH4b9yHMdxHMfhv3Icx3Ecx+G/VlVVVVVV1b9WVVVVVVXVv1ZVVVVVVdW/VlVVVVVV1b9WVVVVVVXVv1ZVVVVVVdW/VlVVVVVV1b9WVVVVVVXVv1ZVVVVVVdW/VlVVVVVV1b8gx3Ecx3G8vyDHcRzHcby/IMdxHMdxvL8gx3Ecx3G8vyDHcRzHcby/IMdxHMdxvL8gx3Ecx3G8vyDHcRzHcby/IMdxHMdxvL8gx3Ecx3G8vyDHcRzHcbw/IMdxHMdxvD8gx3Ecx3G8PyDHcRzHcbw/IMdxHMdxvD8gx3Ecx3G8PyDHcRzHcbw/IMdxHMdxvD8gx3Ecx3G8PyDHcRzHcbw/VFVVVVVV1T9UVVVVVVXVP1RVVVVVVdU/VFVVVVVV1T9UVVVVVVXVP1RVVVVVVdU/VFVVVVVV1T9UVVVVVVXVP1RVVVVVVdU/VFVVVVVV1T9wHMdxHMfhP3Acx3Ecx+E/cBzHcRzH4T9wHMdxHMfhP3Acx3Ecx+E/cBzHcRzH4T9wHMdxHMfhP3Acx3Ecx+E/cBzHcRzH4T9wHMdxHMfhPziO4ziO4+g/OI7jOI7j6D84juM4juPoPziO4ziO4+g/OI7jOI7j6D84juM4juPoPziO4ziO4+g/OI7jOI7j6D84juM4juPoPziO4ziO4+g/AAAAAAAA8D8AAAAAAADwPwAAAAAAAPA/AAAAAAAA8D8AAAAAAADwPwAAAAAAAPA/AAAAAAAA8D8AAAAAAADwPwAAAAAAAPA/AAAAAAAA8D8=",
            "dtype": "f8"
           },
           "y": {
            "bdata": "uqcRlnsa8T8+WlQi+ZrqPwhlhRj7AOM/o99sHfrN1j/d1Dsn+Ge+P93UOyf4Z76/od9sHfrN1r8GZYUY+wDjvz1aVCL5muq/uqcRlnsa8b+6pxGWexrxPz5aVCL5muo/CGWFGPsA4z+j32wd+s3WP93UOyf4Z74/3dQ7J/hnvr+h32wd+s3WvwZlhRj7AOO/PVpUIvma6r+6pxGWexrxv7qnEZZ7GvE/PlpUIvma6j8IZYUY+wDjP6PfbB36zdY/3dQ7J/hnvj/d1Dsn+Ge+v6HfbB36zda/BmWFGPsA4789WlQi+Zrqv7qnEZZ7GvG/uqcRlnsa8T8+WlQi+ZrqPwhlhRj7AOM/o99sHfrN1j/d1Dsn+Ge+P93UOyf4Z76/od9sHfrN1r8GZYUY+wDjvz1aVCL5muq/uqcRlnsa8b+6pxGWexrxPz5aVCL5muo/CGWFGPsA4z+j32wd+s3WP93UOyf4Z74/3dQ7J/hnvr+h32wd+s3WvwZlhRj7AOO/PVpUIvma6r+6pxGWexrxv7qnEZZ7GvE/PlpUIvma6j8IZYUY+wDjP6PfbB36zdY/3dQ7J/hnvj/d1Dsn+Ge+v6HfbB36zda/BmWFGPsA4789WlQi+Zrqv7qnEZZ7GvG/uqcRlnsa8T8+WlQi+ZrqPwhlhRj7AOM/o99sHfrN1j/d1Dsn+Ge+P93UOyf4Z76/od9sHfrN1r8GZYUY+wDjvz1aVCL5muq/uqcRlnsa8b+6pxGWexrxPz5aVCL5muo/CGWFGPsA4z+j32wd+s3WP93UOyf4Z74/3dQ7J/hnvr+h32wd+s3WvwZlhRj7AOO/PVpUIvma6r+6pxGWexrxv7qnEZZ7GvE/PlpUIvma6j8IZYUY+wDjP6PfbB36zdY/3dQ7J/hnvj/d1Dsn+Ge+v6HfbB36zda/BmWFGPsA4789WlQi+Zrqv7qnEZZ7GvG/uqcRlnsa8T8+WlQi+ZrqPwhlhRj7AOM/o99sHfrN1j/d1Dsn+Ge+P93UOyf4Z76/od9sHfrN1r8GZYUY+wDjvz1aVCL5muq/uqcRlnsa8b8=",
            "dtype": "f8"
           }
          },
          {
           "line": {
            "color": "blue",
            "width": 4
           },
           "marker": {
            "size": 6
           },
           "mode": "lines+markers",
           "name": "Vector",
           "type": "scatter",
           "x": [
            0,
            1
           ],
           "y": [
            0,
            -1.0689655172413794
           ]
          },
          {
           "line": {
            "color": "black",
            "width": 3
           },
           "marker": {
            "size": 6
           },
           "mode": "lines+markers",
           "name": "X basis (transformed)",
           "type": "scatter",
           "x": [
            0,
            1
           ],
           "y": [
            0,
            0
           ]
          },
          {
           "line": {
            "color": "black",
            "width": 3
           },
           "marker": {
            "size": 6
           },
           "mode": "lines+markers",
           "name": "Y basis (transformed)",
           "type": "scatter",
           "x": [
            0,
            0
           ],
           "y": [
            0,
            -1.0689655172413794
           ]
          }
         ],
         "name": "frame0.83"
        },
        {
         "data": [
          {
           "marker": {
            "color": "red",
            "size": 5
           },
           "mode": "markers",
           "name": "Grid",
           "type": "scatter",
           "x": {
            "bdata": "AAAAAAAA8L8AAAAAAADwvwAAAAAAAPC/AAAAAAAA8L8AAAAAAADwvwAAAAAAAPC/AAAAAAAA8L8AAAAAAADwvwAAAAAAAPC/AAAAAAAA8L85juM4juPovzmO4ziO4+i/OY7jOI7j6L85juM4juPovzmO4ziO4+i/OY7jOI7j6L85juM4juPovzmO4ziO4+i/OY7jOI7j6L85juM4juPov3Icx3Ecx+G/chzHcRzH4b9yHMdxHMfhv3Icx3Ecx+G/chzHcRzH4b9yHMdxHMfhv3Icx3Ecx+G/chzHcRzH4b9yHMdxHMfhv3Icx3Ecx+G/VlVVVVVV1b9WVVVVVVXVv1ZVVVVVVdW/VlVVVVVV1b9WVVVVVVXVv1ZVVVVVVdW/VlVVVVVV1b9WVVVVVVXVv1ZVVVVVVdW/VlVVVVVV1b8gx3Ecx3G8vyDHcRzHcby/IMdxHMdxvL8gx3Ecx3G8vyDHcRzHcby/IMdxHMdxvL8gx3Ecx3G8vyDHcRzHcby/IMdxHMdxvL8gx3Ecx3G8vyDHcRzHcbw/IMdxHMdxvD8gx3Ecx3G8PyDHcRzHcbw/IMdxHMdxvD8gx3Ecx3G8PyDHcRzHcbw/IMdxHMdxvD8gx3Ecx3G8PyDHcRzHcbw/VFVVVVVV1T9UVVVVVVXVP1RVVVVVVdU/VFVVVVVV1T9UVVVVVVXVP1RVVVVVVdU/VFVVVVVV1T9UVVVVVVXVP1RVVVVVVdU/VFVVVVVV1T9wHMdxHMfhP3Acx3Ecx+E/cBzHcRzH4T9wHMdxHMfhP3Acx3Ecx+E/cBzHcRzH4T9wHMdxHMfhP3Acx3Ecx+E/cBzHcRzH4T9wHMdxHMfhPziO4ziO4+g/OI7jOI7j6D84juM4juPoPziO4ziO4+g/OI7jOI7j6D84juM4juPoPziO4ziO4+g/OI7jOI7j6D84juM4juPoPziO4ziO4+g/AAAAAAAA8D8AAAAAAADwPwAAAAAAAPA/AAAAAAAA8D8AAAAAAADwPwAAAAAAAPA/AAAAAAAA8D8AAAAAAADwPwAAAAAAAPA/AAAAAAAA8D8=",
            "dtype": "f8"
           },
           "y": {
            "bdata": "YbmnEZZ78j9CWSHGPsDsP8E/82hRieQ/gkyKF8ik2D8DM1y62m3APwMzXLrabcC/gEyKF8ik2L+/P/NoUYnkv0FZIcY+wOy/YbmnEZZ78r9huacRlnvyP0JZIcY+wOw/wT/zaFGJ5D+CTIoXyKTYPwMzXLrabcA/AzNcutptwL+ATIoXyKTYv78/82hRieS/QVkhxj7A7L9huacRlnvyv2G5pxGWe/I/Qlkhxj7A7D/BP/NoUYnkP4JMihfIpNg/AzNcutptwD8DM1y62m3Av4BMihfIpNi/vz/zaFGJ5L9BWSHGPsDsv2G5pxGWe/K/YbmnEZZ78j9CWSHGPsDsP8E/82hRieQ/gkyKF8ik2D8DM1y62m3APwMzXLrabcC/gEyKF8ik2L+/P/NoUYnkv0FZIcY+wOy/YbmnEZZ78r9huacRlnvyP0JZIcY+wOw/wT/zaFGJ5D+CTIoXyKTYPwMzXLrabcA/AzNcutptwL+ATIoXyKTYv78/82hRieS/QVkhxj7A7L9huacRlnvyv2G5pxGWe/I/Qlkhxj7A7D/BP/NoUYnkP4JMihfIpNg/AzNcutptwD8DM1y62m3Av4BMihfIpNi/vz/zaFGJ5L9BWSHGPsDsv2G5pxGWe/K/YbmnEZZ78j9CWSHGPsDsP8E/82hRieQ/gkyKF8ik2D8DM1y62m3APwMzXLrabcC/gEyKF8ik2L+/P/NoUYnkv0FZIcY+wOy/YbmnEZZ78r9huacRlnvyP0JZIcY+wOw/wT/zaFGJ5D+CTIoXyKTYPwMzXLrabcA/AzNcutptwL+ATIoXyKTYv78/82hRieS/QVkhxj7A7L9huacRlnvyv2G5pxGWe/I/Qlkhxj7A7D/BP/NoUYnkP4JMihfIpNg/AzNcutptwD8DM1y62m3Av4BMihfIpNi/vz/zaFGJ5L9BWSHGPsDsv2G5pxGWe/K/YbmnEZZ78j9CWSHGPsDsP8E/82hRieQ/gkyKF8ik2D8DM1y62m3APwMzXLrabcC/gEyKF8ik2L+/P/NoUYnkv0FZIcY+wOy/YbmnEZZ78r8=",
            "dtype": "f8"
           }
          },
          {
           "line": {
            "color": "blue",
            "width": 4
           },
           "marker": {
            "size": 6
           },
           "mode": "lines+markers",
           "name": "Vector",
           "type": "scatter",
           "x": [
            0,
            1
           ],
           "y": [
            0,
            -1.1551724137931034
           ]
          },
          {
           "line": {
            "color": "black",
            "width": 3
           },
           "marker": {
            "size": 6
           },
           "mode": "lines+markers",
           "name": "X basis (transformed)",
           "type": "scatter",
           "x": [
            0,
            1
           ],
           "y": [
            0,
            0
           ]
          },
          {
           "line": {
            "color": "black",
            "width": 3
           },
           "marker": {
            "size": 6
           },
           "mode": "lines+markers",
           "name": "Y basis (transformed)",
           "type": "scatter",
           "x": [
            0,
            0
           ],
           "y": [
            0,
            -1.1551724137931034
           ]
          }
         ],
         "name": "frame0.86"
        },
        {
         "data": [
          {
           "marker": {
            "color": "red",
            "size": 5
           },
           "mode": "markers",
           "name": "Grid",
           "type": "scatter",
           "x": {
            "bdata": "AAAAAAAA8L8AAAAAAADwvwAAAAAAAPC/AAAAAAAA8L8AAAAAAADwvwAAAAAAAPC/AAAAAAAA8L8AAAAAAADwvwAAAAAAAPC/AAAAAAAA8L85juM4juPovzmO4ziO4+i/OY7jOI7j6L85juM4juPovzmO4ziO4+i/OY7jOI7j6L85juM4juPovzmO4ziO4+i/OY7jOI7j6L85juM4juPov3Icx3Ecx+G/chzHcRzH4b9yHMdxHMfhv3Icx3Ecx+G/chzHcRzH4b9yHMdxHMfhv3Icx3Ecx+G/chzHcRzH4b9yHMdxHMfhv3Icx3Ecx+G/VlVVVVVV1b9WVVVVVVXVv1ZVVVVVVdW/VlVVVVVV1b9WVVVVVVXVv1ZVVVVVVdW/VlVVVVVV1b9WVVVVVVXVv1ZVVVVVVdW/VlVVVVVV1b8gx3Ecx3G8vyDHcRzHcby/IMdxHMdxvL8gx3Ecx3G8vyDHcRzHcby/IMdxHMdxvL8gx3Ecx3G8vyDHcRzHcby/IMdxHMdxvL8gx3Ecx3G8vyDHcRzHcbw/IMdxHMdxvD8gx3Ecx3G8PyDHcRzHcbw/IMdxHMdxvD8gx3Ecx3G8PyDHcRzHcbw/IMdxHMdxvD8gx3Ecx3G8PyDHcRzHcbw/VFVVVVVV1T9UVVVVVVXVP1RVVVVVVdU/VFVVVVVV1T9UVVVVVVXVP1RVVVVVVdU/VFVVVVVV1T9UVVVVVVXVP1RVVVVVVdU/VFVVVVVV1T9wHMdxHMfhP3Acx3Ecx+E/cBzHcRzH4T9wHMdxHMfhP3Acx3Ecx+E/cBzHcRzH4T9wHMdxHMfhP3Acx3Ecx+E/cBzHcRzH4T9wHMdxHMfhPziO4ziO4+g/OI7jOI7j6D84juM4juPoPziO4ziO4+g/OI7jOI7j6D84juM4juPoPziO4ziO4+g/OI7jOI7j6D84juM4juPoPziO4ziO4+g/AAAAAAAA8D8AAAAAAADwPwAAAAAAAPA/AAAAAAAA8D8AAAAAAADwPwAAAAAAAPA/AAAAAAAA8D8AAAAAAADwPwAAAAAAAPA/AAAAAAAA8D8=",
            "dtype": "f8"
           },
           "y": {
            "bdata": "Ccs9jbDc8z9HWO5phOXuP3waYbmnEeY/YrmnEZZ72j+YexphuafBP5h7GmG5p8G/YLmnEZZ72r96GmG5pxHmv0ZY7mmE5e6/Ccs9jbDc878Jyz2NsNzzP0dY7mmE5e4/fBphuacR5j9iuacRlnvaP5h7GmG5p8E/mHsaYbmnwb9guacRlnvav3oaYbmnEea/RljuaYTl7r8Jyz2NsNzzvwnLPY2w3PM/R1juaYTl7j98GmG5pxHmP2K5pxGWe9o/mHsaYbmnwT+YexphuafBv2C5pxGWe9q/ehphuacR5r9GWO5phOXuvwnLPY2w3PO/Ccs9jbDc8z9HWO5phOXuP3waYbmnEeY/YrmnEZZ72j+YexphuafBP5h7GmG5p8G/YLmnEZZ72r96GmG5pxHmv0ZY7mmE5e6/Ccs9jbDc878Jyz2NsNzzP0dY7mmE5e4/fBphuacR5j9iuacRlnvaP5h7GmG5p8E/mHsaYbmnwb9guacRlnvav3oaYbmnEea/RljuaYTl7r8Jyz2NsNzzvwnLPY2w3PM/R1juaYTl7j98GmG5pxHmP2K5pxGWe9o/mHsaYbmnwT+YexphuafBv2C5pxGWe9q/ehphuacR5r9GWO5phOXuvwnLPY2w3PO/Ccs9jbDc8z9HWO5phOXuP3waYbmnEeY/YrmnEZZ72j+YexphuafBP5h7GmG5p8G/YLmnEZZ72r96GmG5pxHmv0ZY7mmE5e6/Ccs9jbDc878Jyz2NsNzzP0dY7mmE5e4/fBphuacR5j9iuacRlnvaP5h7GmG5p8E/mHsaYbmnwb9guacRlnvav3oaYbmnEea/RljuaYTl7r8Jyz2NsNzzvwnLPY2w3PM/R1juaYTl7j98GmG5pxHmP2K5pxGWe9o/mHsaYbmnwT+YexphuafBv2C5pxGWe9q/ehphuacR5r9GWO5phOXuvwnLPY2w3PO/Ccs9jbDc8z9HWO5phOXuP3waYbmnEeY/YrmnEZZ72j+YexphuafBP5h7GmG5p8G/YLmnEZZ72r96GmG5pxHmv0ZY7mmE5e6/Ccs9jbDc878=",
            "dtype": "f8"
           }
          },
          {
           "line": {
            "color": "blue",
            "width": 4
           },
           "marker": {
            "size": 6
           },
           "mode": "lines+markers",
           "name": "Vector",
           "type": "scatter",
           "x": [
            0,
            1
           ],
           "y": [
            0,
            -1.2413793103448276
           ]
          },
          {
           "line": {
            "color": "black",
            "width": 3
           },
           "marker": {
            "size": 6
           },
           "mode": "lines+markers",
           "name": "X basis (transformed)",
           "type": "scatter",
           "x": [
            0,
            1
           ],
           "y": [
            0,
            0
           ]
          },
          {
           "line": {
            "color": "black",
            "width": 3
           },
           "marker": {
            "size": 6
           },
           "mode": "lines+markers",
           "name": "Y basis (transformed)",
           "type": "scatter",
           "x": [
            0,
            0
           ],
           "y": [
            0,
            -1.2413793103448276
           ]
          }
         ],
         "name": "frame0.90"
        },
        {
         "data": [
          {
           "marker": {
            "color": "red",
            "size": 5
           },
           "mode": "markers",
           "name": "Grid",
           "type": "scatter",
           "x": {
            "bdata": "AAAAAAAA8L8AAAAAAADwvwAAAAAAAPC/AAAAAAAA8L8AAAAAAADwvwAAAAAAAPC/AAAAAAAA8L8AAAAAAADwvwAAAAAAAPC/AAAAAAAA8L85juM4juPovzmO4ziO4+i/OY7jOI7j6L85juM4juPovzmO4ziO4+i/OY7jOI7j6L85juM4juPovzmO4ziO4+i/OY7jOI7j6L85juM4juPov3Icx3Ecx+G/chzHcRzH4b9yHMdxHMfhv3Icx3Ecx+G/chzHcRzH4b9yHMdxHMfhv3Icx3Ecx+G/chzHcRzH4b9yHMdxHMfhv3Icx3Ecx+G/VlVVVVVV1b9WVVVVVVXVv1ZVVVVVVdW/VlVVVVVV1b9WVVVVVVXVv1ZVVVVVVdW/VlVVVVVV1b9WVVVVVVXVv1ZVVVVVVdW/VlVVVVVV1b8gx3Ecx3G8vyDHcRzHcby/IMdxHMdxvL8gx3Ecx3G8vyDHcRzHcby/IMdxHMdxvL8gx3Ecx3G8vyDHcRzHcby/IMdxHMdxvL8gx3Ecx3G8vyDHcRzHcbw/IMdxHMdxvD8gx3Ecx3G8PyDHcRzHcbw/IMdxHMdxvD8gx3Ecx3G8PyDHcRzHcbw/IMdxHMdxvD8gx3Ecx3G8PyDHcRzHcbw/VFVVVVVV1T9UVVVVVVXVP1RVVVVVVdU/VFVVVVVV1T9UVVVVVVXVP1RVVVVVVdU/VFVVVVVV1T9UVVVVVVXVP1RVVVVVVdU/VFVVVVVV1T9wHMdxHMfhP3Acx3Ecx+E/cBzHcRzH4T9wHMdxHMfhP3Acx3Ecx+E/cBzHcRzH4T9wHMdxHMfhP3Acx3Ecx+E/cBzHcRzH4T9wHMdxHMfhPziO4ziO4+g/OI7jOI7j6D84juM4juPoPziO4ziO4+g/OI7jOI7j6D84juM4juPoPziO4ziO4+g/OI7jOI7j6D84juM4juPoPziO4ziO4+g/AAAAAAAA8D8AAAAAAADwPwAAAAAAAPA/AAAAAAAA8D8AAAAAAADwPwAAAAAAAPA/AAAAAAAA8D8AAAAAAADwPwAAAAAAAPA/AAAAAAAA8D8=",
            "dtype": "f8"
           },
           "y": {
            "bdata": "sNzTCMs99T+lq90GZYXwPzb1zgn+mec/QSbFC2RS3D8txNgHmOHCPy3E2AeY4cK/PibFC2RS3L8z9c4J/pnnv6Wr3QZlhfC/sNzTCMs99b+w3NMIyz31P6Wr3QZlhfA/NvXOCf6Z5z9BJsULZFLcPy3E2AeY4cI/LcTYB5jhwr8+JsULZFLcvzP1zgn+mee/pavdBmWF8L+w3NMIyz31v7Dc0wjLPfU/pavdBmWF8D829c4J/pnnP0EmxQtkUtw/LcTYB5jhwj8txNgHmOHCvz4mxQtkUty/M/XOCf6Z57+lq90GZYXwv7Dc0wjLPfW/sNzTCMs99T+lq90GZYXwPzb1zgn+mec/QSbFC2RS3D8txNgHmOHCPy3E2AeY4cK/PibFC2RS3L8z9c4J/pnnv6Wr3QZlhfC/sNzTCMs99b+w3NMIyz31P6Wr3QZlhfA/NvXOCf6Z5z9BJsULZFLcPy3E2AeY4cI/LcTYB5jhwr8+JsULZFLcvzP1zgn+mee/pavdBmWF8L+w3NMIyz31v7Dc0wjLPfU/pavdBmWF8D829c4J/pnnP0EmxQtkUtw/LcTYB5jhwj8txNgHmOHCvz4mxQtkUty/M/XOCf6Z57+lq90GZYXwv7Dc0wjLPfW/sNzTCMs99T+lq90GZYXwPzb1zgn+mec/QSbFC2RS3D8txNgHmOHCPy3E2AeY4cK/PibFC2RS3L8z9c4J/pnnv6Wr3QZlhfC/sNzTCMs99b+w3NMIyz31P6Wr3QZlhfA/NvXOCf6Z5z9BJsULZFLcPy3E2AeY4cI/LcTYB5jhwr8+JsULZFLcvzP1zgn+mee/pavdBmWF8L+w3NMIyz31v7Dc0wjLPfU/pavdBmWF8D829c4J/pnnP0EmxQtkUtw/LcTYB5jhwj8txNgHmOHCvz4mxQtkUty/M/XOCf6Z57+lq90GZYXwv7Dc0wjLPfW/sNzTCMs99T+lq90GZYXwPzb1zgn+mec/QSbFC2RS3D8txNgHmOHCPy3E2AeY4cK/PibFC2RS3L8z9c4J/pnnv6Wr3QZlhfC/sNzTCMs99b8=",
            "dtype": "f8"
           }
          },
          {
           "line": {
            "color": "blue",
            "width": 4
           },
           "marker": {
            "size": 6
           },
           "mode": "lines+markers",
           "name": "Vector",
           "type": "scatter",
           "x": [
            0,
            1
           ],
           "y": [
            0,
            -1.3275862068965516
           ]
          },
          {
           "line": {
            "color": "black",
            "width": 3
           },
           "marker": {
            "size": 6
           },
           "mode": "lines+markers",
           "name": "X basis (transformed)",
           "type": "scatter",
           "x": [
            0,
            1
           ],
           "y": [
            0,
            0
           ]
          },
          {
           "line": {
            "color": "black",
            "width": 3
           },
           "marker": {
            "size": 6
           },
           "mode": "lines+markers",
           "name": "Y basis (transformed)",
           "type": "scatter",
           "x": [
            0,
            0
           ],
           "y": [
            0,
            -1.3275862068965516
           ]
          }
         ],
         "name": "frame0.93"
        },
        {
         "data": [
          {
           "marker": {
            "color": "red",
            "size": 5
           },
           "mode": "markers",
           "name": "Grid",
           "type": "scatter",
           "x": {
            "bdata": "AAAAAAAA8L8AAAAAAADwvwAAAAAAAPC/AAAAAAAA8L8AAAAAAADwvwAAAAAAAPC/AAAAAAAA8L8AAAAAAADwvwAAAAAAAPC/AAAAAAAA8L85juM4juPovzmO4ziO4+i/OY7jOI7j6L85juM4juPovzmO4ziO4+i/OY7jOI7j6L85juM4juPovzmO4ziO4+i/OY7jOI7j6L85juM4juPov3Icx3Ecx+G/chzHcRzH4b9yHMdxHMfhv3Icx3Ecx+G/chzHcRzH4b9yHMdxHMfhv3Icx3Ecx+G/chzHcRzH4b9yHMdxHMfhv3Icx3Ecx+G/VlVVVVVV1b9WVVVVVVXVv1ZVVVVVVdW/VlVVVVVV1b9WVVVVVVXVv1ZVVVVVVdW/VlVVVVVV1b9WVVVVVVXVv1ZVVVVVVdW/VlVVVVVV1b8gx3Ecx3G8vyDHcRzHcby/IMdxHMdxvL8gx3Ecx3G8vyDHcRzHcby/IMdxHMdxvL8gx3Ecx3G8vyDHcRzHcby/IMdxHMdxvL8gx3Ecx3G8vyDHcRzHcbw/IMdxHMdxvD8gx3Ecx3G8PyDHcRzHcbw/IMdxHMdxvD8gx3Ecx3G8PyDHcRzHcbw/IMdxHMdxvD8gx3Ecx3G8PyDHcRzHcbw/VFVVVVVV1T9UVVVVVVXVP1RVVVVVVdU/VFVVVVVV1T9UVVVVVVXVP1RVVVVVVdU/VFVVVVVV1T9UVVVVVVXVP1RVVVVVVdU/VFVVVVVV1T9wHMdxHMfhP3Acx3Ecx+E/cBzHcRzH4T9wHMdxHMfhP3Acx3Ecx+E/cBzHcRzH4T9wHMdxHMfhP3Acx3Ecx+E/cBzHcRzH4T9wHMdxHMfhPziO4ziO4+g/OI7jOI7j6D84juM4juPoPziO4ziO4+g/OI7jOI7j6D84juM4juPoPziO4ziO4+g/OI7jOI7j6D84juM4juPoPziO4ziO4+g/AAAAAAAA8D8AAAAAAADwPwAAAAAAAPA/AAAAAAAA8D8AAAAAAADwPwAAAAAAAPA/AAAAAAAA8D8AAAAAAADwPwAAAAAAAPA/AAAAAAAA8D8=",
            "dtype": "f8"
           },
           "y": {
            "bdata": "V+5phOWe9j8nK8TYB5jxP+/PPFpUIuk/IJPiBTIp3j/CDJeudhvEP8IMl652G8S/HZPiBTIp3r/szzxaVCLpvycrxNgHmPG/V+5phOWe9r9X7mmE5Z72PycrxNgHmPE/7888WlQi6T8gk+IFMineP8IMl652G8Q/wgyXrnYbxL8dk+IFMinev+zPPFpUIum/JyvE2AeY8b9X7mmE5Z72v1fuaYTlnvY/JyvE2AeY8T/vzzxaVCLpPyCT4gUyKd4/wgyXrnYbxD/CDJeudhvEvx2T4gUyKd6/7M88WlQi6b8nK8TYB5jxv1fuaYTlnva/V+5phOWe9j8nK8TYB5jxP+/PPFpUIuk/IJPiBTIp3j/CDJeudhvEP8IMl652G8S/HZPiBTIp3r/szzxaVCLpvycrxNgHmPG/V+5phOWe9r9X7mmE5Z72PycrxNgHmPE/7888WlQi6T8gk+IFMineP8IMl652G8Q/wgyXrnYbxL8dk+IFMinev+zPPFpUIum/JyvE2AeY8b9X7mmE5Z72v1fuaYTlnvY/JyvE2AeY8T/vzzxaVCLpPyCT4gUyKd4/wgyXrnYbxD/CDJeudhvEvx2T4gUyKd6/7M88WlQi6b8nK8TYB5jxv1fuaYTlnva/V+5phOWe9j8nK8TYB5jxP+/PPFpUIuk/IJPiBTIp3j/CDJeudhvEP8IMl652G8S/HZPiBTIp3r/szzxaVCLpvycrxNgHmPG/V+5phOWe9r9X7mmE5Z72PycrxNgHmPE/7888WlQi6T8gk+IFMineP8IMl652G8Q/wgyXrnYbxL8dk+IFMinev+zPPFpUIum/JyvE2AeY8b9X7mmE5Z72v1fuaYTlnvY/JyvE2AeY8T/vzzxaVCLpPyCT4gUyKd4/wgyXrnYbxD/CDJeudhvEvx2T4gUyKd6/7M88WlQi6b8nK8TYB5jxv1fuaYTlnva/V+5phOWe9j8nK8TYB5jxP+/PPFpUIuk/IJPiBTIp3j/CDJeudhvEP8IMl652G8S/HZPiBTIp3r/szzxaVCLpvycrxNgHmPG/V+5phOWe9r8=",
            "dtype": "f8"
           }
          },
          {
           "line": {
            "color": "blue",
            "width": 4
           },
           "marker": {
            "size": 6
           },
           "mode": "lines+markers",
           "name": "Vector",
           "type": "scatter",
           "x": [
            0,
            1
           ],
           "y": [
            0,
            -1.4137931034482756
           ]
          },
          {
           "line": {
            "color": "black",
            "width": 3
           },
           "marker": {
            "size": 6
           },
           "mode": "lines+markers",
           "name": "X basis (transformed)",
           "type": "scatter",
           "x": [
            0,
            1
           ],
           "y": [
            0,
            0
           ]
          },
          {
           "line": {
            "color": "black",
            "width": 3
           },
           "marker": {
            "size": 6
           },
           "mode": "lines+markers",
           "name": "Y basis (transformed)",
           "type": "scatter",
           "x": [
            0,
            0
           ],
           "y": [
            0,
            -1.4137931034482756
           ]
          }
         ],
         "name": "frame0.97"
        },
        {
         "data": [
          {
           "marker": {
            "color": "red",
            "size": 5
           },
           "mode": "markers",
           "name": "Grid",
           "type": "scatter",
           "x": {
            "bdata": "AAAAAAAA8L8AAAAAAADwvwAAAAAAAPC/AAAAAAAA8L8AAAAAAADwvwAAAAAAAPC/AAAAAAAA8L8AAAAAAADwvwAAAAAAAPC/AAAAAAAA8L85juM4juPovzmO4ziO4+i/OY7jOI7j6L85juM4juPovzmO4ziO4+i/OY7jOI7j6L85juM4juPovzmO4ziO4+i/OY7jOI7j6L85juM4juPov3Icx3Ecx+G/chzHcRzH4b9yHMdxHMfhv3Icx3Ecx+G/chzHcRzH4b9yHMdxHMfhv3Icx3Ecx+G/chzHcRzH4b9yHMdxHMfhv3Icx3Ecx+G/VlVVVVVV1b9WVVVVVVXVv1ZVVVVVVdW/VlVVVVVV1b9WVVVVVVXVv1ZVVVVVVdW/VlVVVVVV1b9WVVVVVVXVv1ZVVVVVVdW/VlVVVVVV1b8gx3Ecx3G8vyDHcRzHcby/IMdxHMdxvL8gx3Ecx3G8vyDHcRzHcby/IMdxHMdxvL8gx3Ecx3G8vyDHcRzHcby/IMdxHMdxvL8gx3Ecx3G8vyDHcRzHcbw/IMdxHMdxvD8gx3Ecx3G8PyDHcRzHcbw/IMdxHMdxvD8gx3Ecx3G8PyDHcRzHcbw/IMdxHMdxvD8gx3Ecx3G8PyDHcRzHcbw/VFVVVVVV1T9UVVVVVVXVP1RVVVVVVdU/VFVVVVVV1T9UVVVVVVXVP1RVVVVVVdU/VFVVVVVV1T9UVVVVVVXVP1RVVVVVVdU/VFVVVVVV1T9wHMdxHMfhP3Acx3Ecx+E/cBzHcRzH4T9wHMdxHMfhP3Acx3Ecx+E/cBzHcRzH4T9wHMdxHMfhP3Acx3Ecx+E/cBzHcRzH4T9wHMdxHMfhPziO4ziO4+g/OI7jOI7j6D84juM4juPoPziO4ziO4+g/OI7jOI7j6D84juM4juPoPziO4ziO4+g/OI7jOI7j6D84juM4juPoPziO4ziO4+g/AAAAAAAA8D8AAAAAAADwPwAAAAAAAPA/AAAAAAAA8D8AAAAAAADwPwAAAAAAAPA/AAAAAAAA8D8AAAAAAADwPwAAAAAAAPA/AAAAAAAA8D8=",
            "dtype": "f8"
           },
           "y": {
            "bdata": "AAAAAAAA+D+rqqqqqqryP6uqqqqqquo/AAAAAAAA4D9YVVVVVVXFP1hVVVVVVcW//v//////37+oqqqqqqrqv6qqqqqqqvK/AAAAAAAA+L8AAAAAAAD4P6uqqqqqqvI/q6qqqqqq6j8AAAAAAADgP1hVVVVVVcU/WFVVVVVVxb/+///////fv6iqqqqqquq/qqqqqqqq8r8AAAAAAAD4vwAAAAAAAPg/q6qqqqqq8j+rqqqqqqrqPwAAAAAAAOA/WFVVVVVVxT9YVVVVVVXFv/7//////9+/qKqqqqqq6r+qqqqqqqryvwAAAAAAAPi/AAAAAAAA+D+rqqqqqqryP6uqqqqqquo/AAAAAAAA4D9YVVVVVVXFP1hVVVVVVcW//v//////37+oqqqqqqrqv6qqqqqqqvK/AAAAAAAA+L8AAAAAAAD4P6uqqqqqqvI/q6qqqqqq6j8AAAAAAADgP1hVVVVVVcU/WFVVVVVVxb/+///////fv6iqqqqqquq/qqqqqqqq8r8AAAAAAAD4vwAAAAAAAPg/q6qqqqqq8j+rqqqqqqrqPwAAAAAAAOA/WFVVVVVVxT9YVVVVVVXFv/7//////9+/qKqqqqqq6r+qqqqqqqryvwAAAAAAAPi/AAAAAAAA+D+rqqqqqqryP6uqqqqqquo/AAAAAAAA4D9YVVVVVVXFP1hVVVVVVcW//v//////37+oqqqqqqrqv6qqqqqqqvK/AAAAAAAA+L8AAAAAAAD4P6uqqqqqqvI/q6qqqqqq6j8AAAAAAADgP1hVVVVVVcU/WFVVVVVVxb/+///////fv6iqqqqqquq/qqqqqqqq8r8AAAAAAAD4vwAAAAAAAPg/q6qqqqqq8j+rqqqqqqrqPwAAAAAAAOA/WFVVVVVVxT9YVVVVVVXFv/7//////9+/qKqqqqqq6r+qqqqqqqryvwAAAAAAAPi/AAAAAAAA+D+rqqqqqqryP6uqqqqqquo/AAAAAAAA4D9YVVVVVVXFP1hVVVVVVcW//v//////37+oqqqqqqrqv6qqqqqqqvK/AAAAAAAA+L8=",
            "dtype": "f8"
           }
          },
          {
           "line": {
            "color": "blue",
            "width": 4
           },
           "marker": {
            "size": 6
           },
           "mode": "lines+markers",
           "name": "Vector",
           "type": "scatter",
           "x": [
            0,
            1
           ],
           "y": [
            0,
            -1.5
           ]
          },
          {
           "line": {
            "color": "black",
            "width": 3
           },
           "marker": {
            "size": 6
           },
           "mode": "lines+markers",
           "name": "X basis (transformed)",
           "type": "scatter",
           "x": [
            0,
            1
           ],
           "y": [
            0,
            0
           ]
          },
          {
           "line": {
            "color": "black",
            "width": 3
           },
           "marker": {
            "size": 6
           },
           "mode": "lines+markers",
           "name": "Y basis (transformed)",
           "type": "scatter",
           "x": [
            0,
            0
           ],
           "y": [
            0,
            -1.5
           ]
          }
         ],
         "name": "frame1.00"
        }
       ],
       "layout": {
        "showlegend": true,
        "template": {
         "data": {
          "bar": [
           {
            "error_x": {
             "color": "#2a3f5f"
            },
            "error_y": {
             "color": "#2a3f5f"
            },
            "marker": {
             "line": {
              "color": "#E5ECF6",
              "width": 0.5
             },
             "pattern": {
              "fillmode": "overlay",
              "size": 10,
              "solidity": 0.2
             }
            },
            "type": "bar"
           }
          ],
          "barpolar": [
           {
            "marker": {
             "line": {
              "color": "#E5ECF6",
              "width": 0.5
             },
             "pattern": {
              "fillmode": "overlay",
              "size": 10,
              "solidity": 0.2
             }
            },
            "type": "barpolar"
           }
          ],
          "carpet": [
           {
            "aaxis": {
             "endlinecolor": "#2a3f5f",
             "gridcolor": "white",
             "linecolor": "white",
             "minorgridcolor": "white",
             "startlinecolor": "#2a3f5f"
            },
            "baxis": {
             "endlinecolor": "#2a3f5f",
             "gridcolor": "white",
             "linecolor": "white",
             "minorgridcolor": "white",
             "startlinecolor": "#2a3f5f"
            },
            "type": "carpet"
           }
          ],
          "choropleth": [
           {
            "colorbar": {
             "outlinewidth": 0,
             "ticks": ""
            },
            "type": "choropleth"
           }
          ],
          "contour": [
           {
            "colorbar": {
             "outlinewidth": 0,
             "ticks": ""
            },
            "colorscale": [
             [
              0,
              "#0d0887"
             ],
             [
              0.1111111111111111,
              "#46039f"
             ],
             [
              0.2222222222222222,
              "#7201a8"
             ],
             [
              0.3333333333333333,
              "#9c179e"
             ],
             [
              0.4444444444444444,
              "#bd3786"
             ],
             [
              0.5555555555555556,
              "#d8576b"
             ],
             [
              0.6666666666666666,
              "#ed7953"
             ],
             [
              0.7777777777777778,
              "#fb9f3a"
             ],
             [
              0.8888888888888888,
              "#fdca26"
             ],
             [
              1,
              "#f0f921"
             ]
            ],
            "type": "contour"
           }
          ],
          "contourcarpet": [
           {
            "colorbar": {
             "outlinewidth": 0,
             "ticks": ""
            },
            "type": "contourcarpet"
           }
          ],
          "heatmap": [
           {
            "colorbar": {
             "outlinewidth": 0,
             "ticks": ""
            },
            "colorscale": [
             [
              0,
              "#0d0887"
             ],
             [
              0.1111111111111111,
              "#46039f"
             ],
             [
              0.2222222222222222,
              "#7201a8"
             ],
             [
              0.3333333333333333,
              "#9c179e"
             ],
             [
              0.4444444444444444,
              "#bd3786"
             ],
             [
              0.5555555555555556,
              "#d8576b"
             ],
             [
              0.6666666666666666,
              "#ed7953"
             ],
             [
              0.7777777777777778,
              "#fb9f3a"
             ],
             [
              0.8888888888888888,
              "#fdca26"
             ],
             [
              1,
              "#f0f921"
             ]
            ],
            "type": "heatmap"
           }
          ],
          "histogram": [
           {
            "marker": {
             "pattern": {
              "fillmode": "overlay",
              "size": 10,
              "solidity": 0.2
             }
            },
            "type": "histogram"
           }
          ],
          "histogram2d": [
           {
            "colorbar": {
             "outlinewidth": 0,
             "ticks": ""
            },
            "colorscale": [
             [
              0,
              "#0d0887"
             ],
             [
              0.1111111111111111,
              "#46039f"
             ],
             [
              0.2222222222222222,
              "#7201a8"
             ],
             [
              0.3333333333333333,
              "#9c179e"
             ],
             [
              0.4444444444444444,
              "#bd3786"
             ],
             [
              0.5555555555555556,
              "#d8576b"
             ],
             [
              0.6666666666666666,
              "#ed7953"
             ],
             [
              0.7777777777777778,
              "#fb9f3a"
             ],
             [
              0.8888888888888888,
              "#fdca26"
             ],
             [
              1,
              "#f0f921"
             ]
            ],
            "type": "histogram2d"
           }
          ],
          "histogram2dcontour": [
           {
            "colorbar": {
             "outlinewidth": 0,
             "ticks": ""
            },
            "colorscale": [
             [
              0,
              "#0d0887"
             ],
             [
              0.1111111111111111,
              "#46039f"
             ],
             [
              0.2222222222222222,
              "#7201a8"
             ],
             [
              0.3333333333333333,
              "#9c179e"
             ],
             [
              0.4444444444444444,
              "#bd3786"
             ],
             [
              0.5555555555555556,
              "#d8576b"
             ],
             [
              0.6666666666666666,
              "#ed7953"
             ],
             [
              0.7777777777777778,
              "#fb9f3a"
             ],
             [
              0.8888888888888888,
              "#fdca26"
             ],
             [
              1,
              "#f0f921"
             ]
            ],
            "type": "histogram2dcontour"
           }
          ],
          "mesh3d": [
           {
            "colorbar": {
             "outlinewidth": 0,
             "ticks": ""
            },
            "type": "mesh3d"
           }
          ],
          "parcoords": [
           {
            "line": {
             "colorbar": {
              "outlinewidth": 0,
              "ticks": ""
             }
            },
            "type": "parcoords"
           }
          ],
          "pie": [
           {
            "automargin": true,
            "type": "pie"
           }
          ],
          "scatter": [
           {
            "fillpattern": {
             "fillmode": "overlay",
             "size": 10,
             "solidity": 0.2
            },
            "type": "scatter"
           }
          ],
          "scatter3d": [
           {
            "line": {
             "colorbar": {
              "outlinewidth": 0,
              "ticks": ""
             }
            },
            "marker": {
             "colorbar": {
              "outlinewidth": 0,
              "ticks": ""
             }
            },
            "type": "scatter3d"
           }
          ],
          "scattercarpet": [
           {
            "marker": {
             "colorbar": {
              "outlinewidth": 0,
              "ticks": ""
             }
            },
            "type": "scattercarpet"
           }
          ],
          "scattergeo": [
           {
            "marker": {
             "colorbar": {
              "outlinewidth": 0,
              "ticks": ""
             }
            },
            "type": "scattergeo"
           }
          ],
          "scattergl": [
           {
            "marker": {
             "colorbar": {
              "outlinewidth": 0,
              "ticks": ""
             }
            },
            "type": "scattergl"
           }
          ],
          "scattermap": [
           {
            "marker": {
             "colorbar": {
              "outlinewidth": 0,
              "ticks": ""
             }
            },
            "type": "scattermap"
           }
          ],
          "scattermapbox": [
           {
            "marker": {
             "colorbar": {
              "outlinewidth": 0,
              "ticks": ""
             }
            },
            "type": "scattermapbox"
           }
          ],
          "scatterpolar": [
           {
            "marker": {
             "colorbar": {
              "outlinewidth": 0,
              "ticks": ""
             }
            },
            "type": "scatterpolar"
           }
          ],
          "scatterpolargl": [
           {
            "marker": {
             "colorbar": {
              "outlinewidth": 0,
              "ticks": ""
             }
            },
            "type": "scatterpolargl"
           }
          ],
          "scatterternary": [
           {
            "marker": {
             "colorbar": {
              "outlinewidth": 0,
              "ticks": ""
             }
            },
            "type": "scatterternary"
           }
          ],
          "surface": [
           {
            "colorbar": {
             "outlinewidth": 0,
             "ticks": ""
            },
            "colorscale": [
             [
              0,
              "#0d0887"
             ],
             [
              0.1111111111111111,
              "#46039f"
             ],
             [
              0.2222222222222222,
              "#7201a8"
             ],
             [
              0.3333333333333333,
              "#9c179e"
             ],
             [
              0.4444444444444444,
              "#bd3786"
             ],
             [
              0.5555555555555556,
              "#d8576b"
             ],
             [
              0.6666666666666666,
              "#ed7953"
             ],
             [
              0.7777777777777778,
              "#fb9f3a"
             ],
             [
              0.8888888888888888,
              "#fdca26"
             ],
             [
              1,
              "#f0f921"
             ]
            ],
            "type": "surface"
           }
          ],
          "table": [
           {
            "cells": {
             "fill": {
              "color": "#EBF0F8"
             },
             "line": {
              "color": "white"
             }
            },
            "header": {
             "fill": {
              "color": "#C8D4E3"
             },
             "line": {
              "color": "white"
             }
            },
            "type": "table"
           }
          ]
         },
         "layout": {
          "annotationdefaults": {
           "arrowcolor": "#2a3f5f",
           "arrowhead": 0,
           "arrowwidth": 1
          },
          "autotypenumbers": "strict",
          "coloraxis": {
           "colorbar": {
            "outlinewidth": 0,
            "ticks": ""
           }
          },
          "colorscale": {
           "diverging": [
            [
             0,
             "#8e0152"
            ],
            [
             0.1,
             "#c51b7d"
            ],
            [
             0.2,
             "#de77ae"
            ],
            [
             0.3,
             "#f1b6da"
            ],
            [
             0.4,
             "#fde0ef"
            ],
            [
             0.5,
             "#f7f7f7"
            ],
            [
             0.6,
             "#e6f5d0"
            ],
            [
             0.7,
             "#b8e186"
            ],
            [
             0.8,
             "#7fbc41"
            ],
            [
             0.9,
             "#4d9221"
            ],
            [
             1,
             "#276419"
            ]
           ],
           "sequential": [
            [
             0,
             "#0d0887"
            ],
            [
             0.1111111111111111,
             "#46039f"
            ],
            [
             0.2222222222222222,
             "#7201a8"
            ],
            [
             0.3333333333333333,
             "#9c179e"
            ],
            [
             0.4444444444444444,
             "#bd3786"
            ],
            [
             0.5555555555555556,
             "#d8576b"
            ],
            [
             0.6666666666666666,
             "#ed7953"
            ],
            [
             0.7777777777777778,
             "#fb9f3a"
            ],
            [
             0.8888888888888888,
             "#fdca26"
            ],
            [
             1,
             "#f0f921"
            ]
           ],
           "sequentialminus": [
            [
             0,
             "#0d0887"
            ],
            [
             0.1111111111111111,
             "#46039f"
            ],
            [
             0.2222222222222222,
             "#7201a8"
            ],
            [
             0.3333333333333333,
             "#9c179e"
            ],
            [
             0.4444444444444444,
             "#bd3786"
            ],
            [
             0.5555555555555556,
             "#d8576b"
            ],
            [
             0.6666666666666666,
             "#ed7953"
            ],
            [
             0.7777777777777778,
             "#fb9f3a"
            ],
            [
             0.8888888888888888,
             "#fdca26"
            ],
            [
             1,
             "#f0f921"
            ]
           ]
          },
          "colorway": [
           "#636efa",
           "#EF553B",
           "#00cc96",
           "#ab63fa",
           "#FFA15A",
           "#19d3f3",
           "#FF6692",
           "#B6E880",
           "#FF97FF",
           "#FECB52"
          ],
          "font": {
           "color": "#2a3f5f"
          },
          "geo": {
           "bgcolor": "white",
           "lakecolor": "white",
           "landcolor": "#E5ECF6",
           "showlakes": true,
           "showland": true,
           "subunitcolor": "white"
          },
          "hoverlabel": {
           "align": "left"
          },
          "hovermode": "closest",
          "mapbox": {
           "style": "light"
          },
          "paper_bgcolor": "white",
          "plot_bgcolor": "#E5ECF6",
          "polar": {
           "angularaxis": {
            "gridcolor": "white",
            "linecolor": "white",
            "ticks": ""
           },
           "bgcolor": "#E5ECF6",
           "radialaxis": {
            "gridcolor": "white",
            "linecolor": "white",
            "ticks": ""
           }
          },
          "scene": {
           "xaxis": {
            "backgroundcolor": "#E5ECF6",
            "gridcolor": "white",
            "gridwidth": 2,
            "linecolor": "white",
            "showbackground": true,
            "ticks": "",
            "zerolinecolor": "white"
           },
           "yaxis": {
            "backgroundcolor": "#E5ECF6",
            "gridcolor": "white",
            "gridwidth": 2,
            "linecolor": "white",
            "showbackground": true,
            "ticks": "",
            "zerolinecolor": "white"
           },
           "zaxis": {
            "backgroundcolor": "#E5ECF6",
            "gridcolor": "white",
            "gridwidth": 2,
            "linecolor": "white",
            "showbackground": true,
            "ticks": "",
            "zerolinecolor": "white"
           }
          },
          "shapedefaults": {
           "line": {
            "color": "#2a3f5f"
           }
          },
          "ternary": {
           "aaxis": {
            "gridcolor": "white",
            "linecolor": "white",
            "ticks": ""
           },
           "baxis": {
            "gridcolor": "white",
            "linecolor": "white",
            "ticks": ""
           },
           "bgcolor": "#E5ECF6",
           "caxis": {
            "gridcolor": "white",
            "linecolor": "white",
            "ticks": ""
           }
          },
          "title": {
           "x": 0.05
          },
          "xaxis": {
           "automargin": true,
           "gridcolor": "white",
           "linecolor": "white",
           "ticks": "",
           "title": {
            "standoff": 15
           },
           "zerolinecolor": "white",
           "zerolinewidth": 2
          },
          "yaxis": {
           "automargin": true,
           "gridcolor": "white",
           "linecolor": "white",
           "ticks": "",
           "title": {
            "standoff": 15
           },
           "zerolinecolor": "white",
           "zerolinewidth": 2
          }
         }
        },
        "title": {
         "text": "Matrix Transformation with Basis Vectors"
        },
        "updatemenus": [
         {
          "buttons": [
           {
            "args": [
             null,
             {
              "frame": {
               "duration": 50,
               "redraw": true
              },
              "fromcurrent": true,
              "transition": {
               "duration": 0
              }
             }
            ],
            "label": "Play",
            "method": "animate"
           }
          ],
          "showactive": false,
          "type": "buttons"
         }
        ],
        "xaxis": {
         "range": [
          -3,
          3
         ],
         "zeroline": true
        },
        "yaxis": {
         "range": [
          -3,
          3
         ],
         "scaleanchor": "x",
         "zeroline": true
        }
       }
      }
     },
     "metadata": {},
     "output_type": "display_data"
    }
   ],
   "source": [
    "import numpy as np\n",
    "import plotly.graph_objects as go\n",
    "\n",
    "\n",
    "x_vals = np.linspace(-1, 1, 10)\n",
    "y_vals = np.linspace(-1, 1, 10)\n",
    "grid_points = np.array([[x, y] for x in x_vals for y in y_vals])\n",
    "\n",
    "\n",
    "A = np.array([\n",
    "    [1, 0],\n",
    "    [0, -1.5]\n",
    "])\n",
    "\n",
    "v = np.array([1, 1])\n",
    "basis_x = np.array([1, 0])\n",
    "basis_y = np.array([0, 1])\n",
    "solution_vector = np.array([1, -1])\n",
    "\n",
    "\n",
    "n_frames = 30\n",
    "alphas = np.linspace(0, 1, n_frames)\n",
    "\n",
    "frames = []\n",
    "for alpha in alphas:\n",
    "    T = (1 - alpha) * np.eye(2) + alpha * A\n",
    "\n",
    "    transformed_grid = grid_points @ T.T\n",
    "    transformed_vector = T @ v\n",
    "    transformed_basis_x = T @ basis_x\n",
    "    transformed_basis_y = T @ basis_y\n",
    "\n",
    "    frame = go.Frame(\n",
    "        data=[\n",
    "            go.Scatter(\n",
    "                x=transformed_grid[:, 0],\n",
    "                y=transformed_grid[:, 1],\n",
    "                mode='markers',\n",
    "                marker=dict(size=5, color='red'),\n",
    "                name='Grid'\n",
    "            ),\n",
    "\n",
    "            go.Scatter(\n",
    "                x=[0, transformed_vector[0]],\n",
    "                y=[0, transformed_vector[1]],\n",
    "                mode='lines+markers',\n",
    "                line=dict(color='blue', width=4),\n",
    "                marker=dict(size=6),\n",
    "                name='Vector'\n",
    "            ),\n",
    "            go.Scatter(\n",
    "                x=[0, transformed_basis_x[0]],\n",
    "                y=[0, transformed_basis_x[1]],\n",
    "                mode='lines+markers',\n",
    "                line=dict(color='black', width=3),\n",
    "                marker=dict(size=6),\n",
    "                name='X basis (transformed)'\n",
    "            ),\n",
    "            go.Scatter(\n",
    "                x=[0, transformed_basis_y[0]],\n",
    "                y=[0, transformed_basis_y[1]],\n",
    "                mode='lines+markers',\n",
    "                line=dict(color='black', width=3),\n",
    "                marker=dict(size=6),\n",
    "                name='Y basis (transformed)'\n",
    "            )\n",
    "        ],\n",
    "        name=f'frame{alpha:.2f}'\n",
    "    )\n",
    "    frames.append(frame)\n",
    "\n",
    "layout = go.Layout(\n",
    "    title=\"Matrix Transformation with Basis Vectors\",\n",
    "    xaxis=dict(range=[-3, 3], zeroline=True),\n",
    "    yaxis=dict(range=[-3, 3], zeroline=True, scaleanchor='x'),\n",
    "    updatemenus=[dict(\n",
    "        type=\"buttons\",\n",
    "        showactive=False,\n",
    "        buttons=[dict(label=\"Play\",\n",
    "                      method=\"animate\",\n",
    "                      args=[None, {\n",
    "                          \"frame\": {\"duration\": 50, \"redraw\": True},\n",
    "                          \"fromcurrent\": True,\n",
    "                          \"transition\": {\"duration\": 0}}])]\n",
    "    )],\n",
    "    showlegend=True\n",
    ")\n",
    "\n",
    "# t_o values \n",
    "initial_grid = grid_points\n",
    "initial_vector = v\n",
    "\n",
    "fig = go.Figure(\n",
    "    data=[\n",
    "\n",
    "        go.Scatter(\n",
    "            x=initial_grid[:, 0],\n",
    "            y=initial_grid[:, 1],\n",
    "            mode='markers',\n",
    "            marker=dict(size=5, color='red'),\n",
    "            name='Grid'\n",
    "        ),\n",
    "        go.Scatter(\n",
    "            x=[0, initial_vector[0]],\n",
    "            y=[0, initial_vector[1]],\n",
    "            mode='lines+markers',\n",
    "            line=dict(color='blue', width=4),\n",
    "            marker=dict(size=6),\n",
    "            name='Vector'\n",
    "        ),\n",
    "        go.Scatter(\n",
    "            x=[0, basis_x[0]],\n",
    "            y=[0, basis_x[1]],\n",
    "            mode='lines+markers',\n",
    "            line=dict(color='black', width=3, dash='dash'),\n",
    "            marker=dict(size=6),\n",
    "            name='X basis (initial)'\n",
    "        ),\n",
    "        go.Scatter(\n",
    "            x=[0, basis_y[0]],\n",
    "            y=[0, basis_y[1]],\n",
    "            mode='lines+markers',\n",
    "            line=dict(color='black', width=3, dash='dash'),\n",
    "            marker=dict(size=6),\n",
    "            name='Y basis (initial)'\n",
    "        ),\n",
    "        go.Scatter(\n",
    "            x=[0, solution_vector[0]],\n",
    "            y=[0, solution_vector[1]],\n",
    "            mode='lines+markers',\n",
    "            line=dict(color='purple', width=3),\n",
    "            marker=dict(size=6),\n",
    "            name='Solution'\n",
    "        )\n",
    "    ],\n",
    "    layout=layout,\n",
    "    frames=frames\n",
    ")\n",
    "\n",
    "fig.show()\n"
   ]
  }
 ],
 "metadata": {
  "kernelspec": {
   "display_name": "cosmos",
   "language": "python",
   "name": "python3"
  },
  "language_info": {
   "codemirror_mode": {
    "name": "ipython",
    "version": 3
   },
   "file_extension": ".py",
   "mimetype": "text/x-python",
   "name": "python",
   "nbconvert_exporter": "python",
   "pygments_lexer": "ipython3",
   "version": "3.12.11"
  }
 },
 "nbformat": 4,
 "nbformat_minor": 5
}
